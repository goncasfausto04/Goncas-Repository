{
 "cells": [
  {
   "cell_type": "markdown",
   "id": "bda1bedb-4c6d-483d-9b04-6710c3f93bdd",
   "metadata": {},
   "source": [
    "# __COMPUTATION II: ALGORITHMS & DATA STRUCTURES__\n",
    "\n",
    "# PROJECT"
   ]
  },
  {
   "cell_type": "markdown",
   "id": "2b273d57-f3b8-4aaf-8847-0ff962cee792",
   "metadata": {},
   "source": [
    "Group Name:Group 21\n",
    "\n",
    "Group Members: Gonçalo Faustino, Miguel Pires, Bernardo Coelho\n",
    "\n",
    "Student Numbers: 20231721,20231736,20231718"
   ]
  },
  {
   "cell_type": "markdown",
   "id": "9ce748cd-28aa-4dc3-84dc-2ddfd778f595",
   "metadata": {},
   "source": [
    "--------------------------\n",
    "**Don't change or modify the order and titles of this notebook.** However, feel free to add as many cells as you want between sections. \n",
    "\n",
    "Good luck!"
   ]
  },
  {
   "cell_type": "markdown",
   "id": "ed95cb92-5eef-4a2c-950b-7689bde07e77",
   "metadata": {},
   "source": [
    "# Section 1: Dataset\n",
    "\n",
    "Read and store the dataset file provided to you (`sales_dataset_group_<X>.pkl`).\n",
    "\n",
    "Store the dataset under the variable name `dataset`."
   ]
  },
  {
   "cell_type": "code",
   "execution_count": 1,
   "id": "2ce0716e-cd52-42fc-874c-19feb9514802",
   "metadata": {},
   "outputs": [],
   "source": [
    "import pickle\n",
    "from datetime import datetime\n",
    "import matplotlib.pyplot as plt\n",
    "\n",
    "with open(\"sales_dataset_group_21.pkl\", \"rb\") as data:\n",
    "    dataset = pickle.load(data)\n"
   ]
  },
  {
   "cell_type": "markdown",
   "id": "6aba194c-6332-4dac-9791-4d1c2fc124bb",
   "metadata": {},
   "source": [
    "# Section 2: Fixing problems in the dataset\n",
    "\n",
    "Fix here any problems you may find in the dataset while you're developing the project. \n",
    "\n",
    "**Do not modify the dataset anywhere else except in this section!**"
   ]
  },
  {
   "cell_type": "code",
   "execution_count": 3,
   "id": "a9600e13-c2ad-4577-b1d4-60af8e61b718",
   "metadata": {},
   "outputs": [],
   "source": [
    "# creating a name list for the purpose of seeing errors in name spelling and sorted in alphabetical order\n",
    "def get_names(data_list):\n",
    "    unique_names = []\n",
    "    for data in data_list:\n",
    "        name = data[\"Name\"]\n",
    "        if name not in unique_names:\n",
    "            unique_names.append(name)\n",
    "    return sorted(unique_names)\n",
    "# nomes mal escrito é erro?\n",
    "\n",
    "# creating a price list for purposes of fixing errors in price setting\n",
    "def price_list(dataset):\n",
    "    price_list = {}\n",
    "    for data in dataset:\n",
    "        item = data[\"Item\"]\n",
    "        unit_price = data[\"Unit Price\"]\n",
    "        if isinstance(unit_price, (int, float)):\n",
    "            if not isinstance(item, (int, float)):\n",
    "                if item not in price_list:\n",
    "                    price_list[item] = unit_price\n",
    "    return price_list"
   ]
  },
  {
   "cell_type": "markdown",
   "id": "e067093a-83d4-43f4-b35d-4646dc1b8b87",
   "metadata": {},
   "source": [
    "# Section 3: Extraction of Information"
   ]
  },
  {
   "cell_type": "markdown",
   "id": "b511abb0-c75f-477f-8c84-c25147de2c6f",
   "metadata": {},
   "source": [
    "### Extraction of recency, frequency and monetary values"
   ]
  },
  {
   "cell_type": "code",
   "execution_count": 39,
   "id": "63cad48a-9bfd-4086-abe0-811536465eb7",
   "metadata": {},
   "outputs": [],
   "source": [
    "#function that retrieves a list of the data for each costumer, input the name as a string\n",
    "def costumer_data_function(name):\n",
    "    costumer_data = []\n",
    "    for i in dataset:\n",
    "        if i[\"Name\"].lower() == name.lower():\n",
    "            costumer_data.append(i)\n",
    "    return costumer_data\n",
    "\n",
    "#function that retrieves the last purchase date and the number of days since the last purchase, input the name as a string\n",
    "def lastpurchasedate(name):\n",
    "    costumer_data = costumer_data_function(name)\n",
    "    last_purchase_date = costumer_data[0][\"Date\"]\n",
    "    for data in costumer_data:\n",
    "        if data[\"Date\"] > last_purchase_date:\n",
    "            last_purchase_date = data[\"Date\"]\n",
    "    \n",
    "    last_purchase_datetime = datetime.strptime(last_purchase_date, '%Y-%m-%d')\n",
    "    reference_datetime = datetime.strptime('2024-03-01', '%Y-%m-%d')\n",
    "    days_passed = (reference_datetime - last_purchase_datetime).days\n",
    "    \n",
    "    return last_purchase_date, days_passed\n",
    "\n",
    "# dictionary with costumer name as key and days since last purchase as value\n",
    "recency = {}\n",
    "for data in dataset:\n",
    "    name = data[\"Name\"]\n",
    "    last_purchase_date, days_passed = lastpurchasedate(name)\n",
    "    recency[name] = days_passed\n",
    "\n",
    "#function that retrieves the number of purchases for each student, input the name as a string\n",
    "def numberofpurchases(name):\n",
    "    costumer_data = costumer_data_function(name)\n",
    "    return len(costumer_data)\n",
    "\n",
    "#dictionary to store the number of purchases for each student\n",
    "frequency = {}\n",
    "for data in dataset:\n",
    "    name = data[\"Name\"]\n",
    "    if name in frequency:\n",
    "        frequency[name] += 1\n",
    "    else:\n",
    "        frequency[name] = 1\n",
    "        \n",
    "#function that retrieves the total amount spent by each student, input the name as a string\n",
    "def totalamountspent(name):\n",
    "    costumer_data = costumer_data_function(name)\n",
    "    total = 0\n",
    "    error = 0\n",
    "    for i in costumer_data:\n",
    "        unit_price = i[\"Unit Price\"]\n",
    "        item = i[\"Item\"]\n",
    "        if isinstance(unit_price, (int, float)):\n",
    "            total += unit_price * i[\"Quantity\"]\n",
    "        elif isinstance(unit_price, str) and unit_price in price_list(dataset):\n",
    "            total += price_list(dataset)[unit_price] * i[\"Quantity\"]\n",
    "        else:\n",
    "            error += 1\n",
    "            print(f\"Error: Invalid unit price '{unit_price}' for item '{i['Item']}'\")\n",
    "\n",
    "    print(f\"There were {error} errors found in the data.\")\n",
    "    return total\n",
    "\n",
    "#dictionary to store the total amount spent by each student\n",
    "monetary_value = {}\n",
    "\n",
    "for data in dataset:\n",
    "    name = data[\"Name\"]\n",
    "    unit_price = data[\"Unit Price\"]\n",
    "    quantity = data[\"Quantity\"]\n",
    "    \n",
    "    if isinstance(unit_price, (int, float)):\n",
    "        value = unit_price * quantity\n",
    "    elif isinstance(unit_price, str) and unit_price in price_list(dataset):\n",
    "        value = price_list(dataset)[unit_price] * quantity\n",
    "    else:\n",
    "        value = 0\n",
    "    if name in monetary_value:\n",
    "        monetary_value[name] += value\n",
    "    else:\n",
    "        monetary_value[name] = value\n",
    "\n",
    "\n"
   ]
  },
  {
   "cell_type": "code",
   "execution_count": 40,
   "id": "a4a16a25",
   "metadata": {},
   "outputs": [],
   "source": [
    "#Test Cell\n"
   ]
  },
  {
   "cell_type": "markdown",
   "id": "9da21110-57e0-493b-84e5-7a3a9e907d19",
   "metadata": {},
   "source": [
    "### Histograms"
   ]
  },
  {
   "cell_type": "code",
   "execution_count": 99,
   "id": "16fd109c-a35e-4fff-89b3-9f2ac6fdfb84",
   "metadata": {},
   "outputs": [
    {
     "data": {
      "image/png": "[encoded data removed]",
      "text/plain": [
       "<Figure size 1000x400 with 3 Axes>"
      ]
     },
     "metadata": {},
     "output_type": "display_data"
    }
   ],
   "source": [
    "\n",
    "# Plot recency\n",
    "plt.figure(figsize=(10, 4))\n",
    "plt.subplot(1, 3, 1)\n",
    "plt.hist(list(recency.values()), bins=len(recency.values()), edgecolor='black')  # Adjust the number of bins as needed\n",
    "plt.xlabel('Days since last purchase')\n",
    "plt.ylabel('Number of customers')\n",
    "plt.title('Recency')\n",
    "\n",
    "# Plot frequency\n",
    "plt.subplot(1, 3, 2)\n",
    "plt.hist(list(frequency.values()), bins=len(recency.values()), edgecolor='black')  # Adjust the number of bins as needed\n",
    "plt.xlabel('Number of purchases')\n",
    "plt.ylabel('Number of customers')\n",
    "plt.title('Frequency')\n",
    "\n",
    "# Plot monetary value\n",
    "plt.subplot(1, 3, 3)\n",
    "plt.hist(list(monetary_value.values()), bins=len(recency.values()), edgecolor='black')  # Adjust the number of bins as needed\n",
    "plt.xlabel('Total amount spent')\n",
    "plt.ylabel('Number of customers')\n",
    "plt.title('Monetary Value')\n",
    "\n",
    "plt.tight_layout()\n",
    "plt.show()\n"
   ]
  },
  {
   "cell_type": "markdown",
   "id": "9c8c70ab-b982-4e01-b31e-b3bcf98fa878",
   "metadata": {},
   "source": [
    "# Section 4: Sorting"
   ]
  },
  {
   "cell_type": "markdown",
   "id": "9d0c06e3-2dc3-4ef6-b4b9-33eaa7e961fb",
   "metadata": {},
   "source": [
    "### First RFM scores (RFM)"
   ]
  },
  {
   "cell_type": "code",
   "execution_count": 94,
   "id": "4d331bac-b0c7-4a29-871b-e9ffd5de7775",
   "metadata": {},
   "outputs": [],
   "source": [
    "# Sorting the recency\n",
    "sorted_recency = sorted(recency.items(), key=lambda x: x[1], reverse=False)\n",
    "length = len(sorted_recency)\n",
    "third_size = length // 3\n",
    "#atributing scores\n",
    "recency_scores = {}\n",
    "for i, (student, _) in enumerate(sorted_recency):\n",
    "    if i < third_size:\n",
    "        recency_scores[student] = 3\n",
    "    elif i < 2 * third_size:\n",
    "        recency_scores[student] = 2\n",
    "    else:\n",
    "        recency_scores[student] = 1\n",
    "\n",
    "# Sorting the frequency\n",
    "sorted_frequency = sorted(frequency.items(), key=lambda x: x[1], reverse=True)\n",
    "#atributing scores\n",
    "frequency_scores = {}\n",
    "for i, (student, _) in enumerate(sorted_frequency):\n",
    "    if i < third_size:\n",
    "        frequency_scores[student] = 3\n",
    "    elif i < 2 * third_size:\n",
    "        frequency_scores[student] = 2\n",
    "    else:\n",
    "        frequency_scores[student] = 1\n",
    "\n",
    "# Sorting the monetary value\n",
    "sorted_monetary_value = sorted(monetary_value.items(), key=lambda x: x[1], reverse=True)\n",
    "#atributing scores\n",
    "monetary_value_scores = {}\n",
    "for i, (student, _) in enumerate(sorted_monetary_value):\n",
    "    if i < third_size:\n",
    "        monetary_value_scores[student] = 3\n",
    "    elif i < 2 * third_size:\n",
    "        monetary_value_scores[student] = 2\n",
    "    else:\n",
    "        monetary_value_scores[student] = 1\n",
    "\n"
   ]
  },
  {
   "cell_type": "markdown",
   "id": "f305809b-fcc9-4619-99d6-3f47583a2e54",
   "metadata": {},
   "source": [
    "- Can you determine which students are most valuable to our SU, considering that our\n",
    "organization is evil and values students solely based on their purchase history?"
   ]
  },
  {
   "cell_type": "markdown",
   "id": "39d9eb87-f9b9-4a07-bf92-781f8aa0a681",
   "metadata": {},
   "source": [
    "Answer: "
   ]
  },
  {
   "cell_type": "code",
   "execution_count": null,
   "id": "26634713-30c4-4a62-a318-30a12ca13b29",
   "metadata": {},
   "outputs": [],
   "source": []
  },
  {
   "cell_type": "markdown",
   "id": "5e9dd07d-0625-470b-856c-4bc824c75817",
   "metadata": {},
   "source": [
    "### Second RFM Scores (RFM')"
   ]
  },
  {
   "cell_type": "code",
   "execution_count": 87,
   "id": "3d82cfdc-b44c-40b1-ba9b-922f49dccf4b",
   "metadata": {},
   "outputs": [],
   "source": [
    "\n",
    "# function that takes as input the desired score and retrives a dictionary with the people with that score\n",
    "def recency_scores_func(num):\n",
    "    recency_scores_var = {}\n",
    "    if num == 1:\n",
    "        for key, value in recency_scores.items():\n",
    "            if value == 1:\n",
    "                recency_scores_var[key] = value\n",
    "    if num == 2:\n",
    "        for key, value in recency_scores.items():\n",
    "            if value == 2:\n",
    "                recency_scores_var[key] = value\n",
    "    if num == 3:\n",
    "        for key, value in recency_scores.items():\n",
    "            if value == 3:\n",
    "                recency_scores_var[key] = value\n",
    "    return recency_scores_var\n",
    "\n",
    "# function that takes as input num1 the desired recency_scores_func() dictionary and as num2 the desired frequency dictionary inside that dictionary\n",
    "def recency_frequency_func(num1,num2):\n",
    "    recency_scores_var = recency_scores_func(num1)\n",
    "    \n",
    "        "
   ]
  },
  {
   "cell_type": "markdown",
   "id": "c84266d7-7339-4cf2-bb05-ab10fea79aae",
   "metadata": {},
   "source": [
    "### Correlation"
   ]
  },
  {
   "cell_type": "code",
   "execution_count": null,
   "id": "0c9c2825-ac97-442a-bb46-49e1ed0c8260",
   "metadata": {},
   "outputs": [],
   "source": []
  },
  {
   "cell_type": "markdown",
   "id": "f0396d53-66c4-47d0-872a-8ade091553a8",
   "metadata": {},
   "source": [
    "# Section 5: Searching"
   ]
  },
  {
   "cell_type": "markdown",
   "id": "ea7350d4-7b06-4c44-8266-92fb2a4588ac",
   "metadata": {},
   "source": [
    "### Linear Search"
   ]
  },
  {
   "cell_type": "code",
   "execution_count": null,
   "id": "866065ab-26f1-45dd-85df-24e6c17e430e",
   "metadata": {},
   "outputs": [],
   "source": []
  },
  {
   "cell_type": "markdown",
   "id": "4bceb325-9dac-4b5a-85b7-bfda825e8fd0",
   "metadata": {},
   "source": [
    "- Who do you think is the best student/customer among your group?"
   ]
  },
  {
   "cell_type": "markdown",
   "id": "b7f82741-4572-4514-8274-fc5c73721b42",
   "metadata": {},
   "source": [
    "Answer:"
   ]
  },
  {
   "cell_type": "code",
   "execution_count": null,
   "id": "b15f8f44-9826-4c9b-909d-87a0e3923db3",
   "metadata": {},
   "outputs": [],
   "source": []
  },
  {
   "cell_type": "markdown",
   "id": "0d9063f8-29c8-4c78-a816-c94f8f0ee3ef",
   "metadata": {},
   "source": [
    "### Alphabetical Sorting"
   ]
  },
  {
   "cell_type": "code",
   "execution_count": null,
   "id": "27123ced-cbe1-4b48-863d-d701360ba6a8",
   "metadata": {},
   "outputs": [],
   "source": []
  },
  {
   "cell_type": "markdown",
   "id": "2ad70231-bbd3-4001-828f-c01c6cc0a347",
   "metadata": {},
   "source": [
    "### Binary Search"
   ]
  },
  {
   "cell_type": "code",
   "execution_count": null,
   "id": "7b21c6e8-32cf-4292-a432-4713c5a8d31f",
   "metadata": {},
   "outputs": [],
   "source": []
  },
  {
   "cell_type": "markdown",
   "id": "1786173d-c0ca-4595-ac92-c77a364b4d40",
   "metadata": {},
   "source": [
    "- How much time, in terms of seconds, did it take to find a name using linear search and\n",
    "binary search? Compare the results. (You can use the timeit module.)"
   ]
  },
  {
   "cell_type": "markdown",
   "id": "7b560d89-e132-4d9a-9abc-37bf30a2940f",
   "metadata": {},
   "source": [
    "Answer:"
   ]
  },
  {
   "cell_type": "code",
   "execution_count": null,
   "id": "13c8e643-6450-4db0-bdc1-4a442079e0e7",
   "metadata": {},
   "outputs": [],
   "source": []
  },
  {
   "cell_type": "markdown",
   "id": "0ff35bf2-fe9c-4073-b68d-b1514ca8f68f",
   "metadata": {},
   "source": [
    "---------------------\n",
    "\n",
    "Great job, congrats!"
   ]
  }
 ],
 "metadata": {
  "kernelspec": {
   "display_name": "Python 3 (ipykernel)",
   "language": "python",
   "name": "python3"
  },
  "language_info": {
   "codemirror_mode": {
    "name": "ipython",
    "version": 3
   },
   "file_extension": ".py",
   "mimetype": "text/x-python",
   "name": "python",
   "nbconvert_exporter": "python",
   "pygments_lexer": "ipython3",
   "version": "3.11.8"
  }
 },
 "nbformat": 4,
 "nbformat_minor": 5
}
