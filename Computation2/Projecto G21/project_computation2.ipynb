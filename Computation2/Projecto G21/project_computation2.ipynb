{
 "cells": [
  {
   "cell_type": "markdown",
   "id": "bda1bedb-4c6d-483d-9b04-6710c3f93bdd",
   "metadata": {},
   "source": [
    "# __COMPUTATION II: ALGORITHMS & DATA STRUCTURES__\n",
    "\n",
    "# PROJECT"
   ]
  },
  {
   "cell_type": "markdown",
   "id": "2b273d57-f3b8-4aaf-8847-0ff962cee792",
   "metadata": {},
   "source": [
    "Group Name:\n",
    "\n",
    "Group Members:\n",
    "\n",
    "Student Numbers:"
   ]
  },
  {
   "cell_type": "markdown",
   "id": "9ce748cd-28aa-4dc3-84dc-2ddfd778f595",
   "metadata": {},
   "source": [
    "--------------------------\n",
    "**Don't change or modify the order and titles of this notebook.** However, feel free to add as many cells as you want between sections. \n",
    "\n",
    "Good luck!"
   ]
  },
  {
   "cell_type": "markdown",
   "id": "ed95cb92-5eef-4a2c-950b-7689bde07e77",
   "metadata": {},
   "source": [
    "# Section 1: Dataset\n",
    "\n",
    "Read and store the dataset file provided to you (`sales_dataset_group_<X>.pkl`).\n",
    "\n",
    "Store the dataset under the variable name `dataset`."
   ]
  },
  {
   "cell_type": "code",
   "execution_count": null,
   "id": "2ce0716e-cd52-42fc-874c-19feb9514802",
   "metadata": {},
   "outputs": [],
   "source": []
  },
  {
   "cell_type": "markdown",
   "id": "6aba194c-6332-4dac-9791-4d1c2fc124bb",
   "metadata": {},
   "source": [
    "# Section 2: Fixing problems in the dataset\n",
    "\n",
    "Fix here any problems you may find in the dataset while you're developing the project. \n",
    "\n",
    "**Do not modify the dataset anywhere else except in this section!**"
   ]
  },
  {
   "cell_type": "code",
   "execution_count": null,
   "id": "a9600e13-c2ad-4577-b1d4-60af8e61b718",
   "metadata": {},
   "outputs": [],
   "source": []
  },
  {
   "cell_type": "markdown",
   "id": "e067093a-83d4-43f4-b35d-4646dc1b8b87",
   "metadata": {},
   "source": [
    "# Section 3: Extraction of Information"
   ]
  },
  {
   "cell_type": "markdown",
   "id": "b511abb0-c75f-477f-8c84-c25147de2c6f",
   "metadata": {},
   "source": [
    "### Extraction of recency, frequency and monetary values"
   ]
  },
  {
   "cell_type": "code",
   "execution_count": null,
   "id": "63cad48a-9bfd-4086-abe0-811536465eb7",
   "metadata": {},
   "outputs": [],
   "source": []
  },
  {
   "cell_type": "markdown",
   "id": "9da21110-57e0-493b-84e5-7a3a9e907d19",
   "metadata": {},
   "source": [
    "### Histograms"
   ]
  },
  {
   "cell_type": "code",
   "execution_count": null,
   "id": "16fd109c-a35e-4fff-89b3-9f2ac6fdfb84",
   "metadata": {},
   "outputs": [],
   "source": []
  },
  {
   "cell_type": "markdown",
   "id": "9c8c70ab-b982-4e01-b31e-b3bcf98fa878",
   "metadata": {},
   "source": [
    "# Section 4: Sorting"
   ]
  },
  {
   "cell_type": "markdown",
   "id": "9d0c06e3-2dc3-4ef6-b4b9-33eaa7e961fb",
   "metadata": {},
   "source": [
    "### First RFM scores (RFM)"
   ]
  },
  {
   "cell_type": "code",
   "execution_count": null,
   "id": "4d331bac-b0c7-4a29-871b-e9ffd5de7775",
   "metadata": {},
   "outputs": [],
   "source": []
  },
  {
   "cell_type": "markdown",
   "id": "f305809b-fcc9-4619-99d6-3f47583a2e54",
   "metadata": {},
   "source": [
    "- Can you determine which students are most valuable to our SU, considering that our\n",
    "organization is evil and values students solely based on their purchase history?"
   ]
  },
  {
   "cell_type": "markdown",
   "id": "39d9eb87-f9b9-4a07-bf92-781f8aa0a681",
   "metadata": {},
   "source": [
    "Answer: "
   ]
  },
  {
   "cell_type": "code",
   "execution_count": null,
   "id": "26634713-30c4-4a62-a318-30a12ca13b29",
   "metadata": {},
   "outputs": [],
   "source": []
  },
  {
   "cell_type": "markdown",
   "id": "5e9dd07d-0625-470b-856c-4bc824c75817",
   "metadata": {},
   "source": [
    "### Second RFM Scores (RFM')"
   ]
  },
  {
   "cell_type": "code",
   "execution_count": null,
   "id": "3d82cfdc-b44c-40b1-ba9b-922f49dccf4b",
   "metadata": {},
   "outputs": [],
   "source": []
  },
  {
   "cell_type": "markdown",
   "id": "c84266d7-7339-4cf2-bb05-ab10fea79aae",
   "metadata": {},
   "source": [
    "### Correlation"
   ]
  },
  {
   "cell_type": "code",
   "execution_count": null,
   "id": "0c9c2825-ac97-442a-bb46-49e1ed0c8260",
   "metadata": {},
   "outputs": [],
   "source": []
  },
  {
   "cell_type": "markdown",
   "id": "f0396d53-66c4-47d0-872a-8ade091553a8",
   "metadata": {},
   "source": [
    "# Section 5: Searching"
   ]
  },
  {
   "cell_type": "markdown",
   "id": "ea7350d4-7b06-4c44-8266-92fb2a4588ac",
   "metadata": {},
   "source": [
    "### Linear Search"
   ]
  },
  {
   "cell_type": "code",
   "execution_count": null,
   "id": "866065ab-26f1-45dd-85df-24e6c17e430e",
   "metadata": {},
   "outputs": [],
   "source": []
  },
  {
   "cell_type": "markdown",
   "id": "4bceb325-9dac-4b5a-85b7-bfda825e8fd0",
   "metadata": {},
   "source": [
    "- Who do you think is the best student/customer among your group?"
   ]
  },
  {
   "cell_type": "markdown",
   "id": "b7f82741-4572-4514-8274-fc5c73721b42",
   "metadata": {},
   "source": [
    "Answer:"
   ]
  },
  {
   "cell_type": "code",
   "execution_count": null,
   "id": "b15f8f44-9826-4c9b-909d-87a0e3923db3",
   "metadata": {},
   "outputs": [],
   "source": []
  },
  {
   "cell_type": "markdown",
   "id": "0d9063f8-29c8-4c78-a816-c94f8f0ee3ef",
   "metadata": {},
   "source": [
    "### Alphabetical Sorting"
   ]
  },
  {
   "cell_type": "code",
   "execution_count": null,
   "id": "27123ced-cbe1-4b48-863d-d701360ba6a8",
   "metadata": {},
   "outputs": [],
   "source": []
  },
  {
   "cell_type": "markdown",
   "id": "2ad70231-bbd3-4001-828f-c01c6cc0a347",
   "metadata": {},
   "source": [
    "### Binary Search"
   ]
  },
  {
   "cell_type": "code",
   "execution_count": null,
   "id": "7b21c6e8-32cf-4292-a432-4713c5a8d31f",
   "metadata": {},
   "outputs": [],
   "source": []
  },
  {
   "cell_type": "markdown",
   "id": "1786173d-c0ca-4595-ac92-c77a364b4d40",
   "metadata": {},
   "source": [
    "- How much time, in terms of seconds, did it take to find a name using linear search and\n",
    "binary search? Compare the results. (You can use the timeit module.)"
   ]
  },
  {
   "cell_type": "markdown",
   "id": "7b560d89-e132-4d9a-9abc-37bf30a2940f",
   "metadata": {},
   "source": [
    "Answer:"
   ]
  },
  {
   "cell_type": "code",
   "execution_count": null,
   "id": "13c8e643-6450-4db0-bdc1-4a442079e0e7",
   "metadata": {},
   "outputs": [],
   "source": []
  },
  {
   "cell_type": "markdown",
   "id": "0ff35bf2-fe9c-4073-b68d-b1514ca8f68f",
   "metadata": {},
   "source": [
    "---------------------\n",
    "\n",
    "Great job, congrats!"
   ]
  }
 ],
 "metadata": {
  "kernelspec": {
   "display_name": "Python 3 (ipykernel)",
   "language": "python",
   "name": "python3"
  },
  "language_info": {
   "codemirror_mode": {
    "name": "ipython",
    "version": 3
   },
   "file_extension": ".py",
   "mimetype": "text/x-python",
   "name": "python",
   "nbconvert_exporter": "python",
   "pygments_lexer": "ipython3",
   "version": "3.11.0"
  }
 },
 "nbformat": 4,
 "nbformat_minor": 5
}
