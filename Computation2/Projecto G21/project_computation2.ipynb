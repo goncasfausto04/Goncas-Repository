{
 "cells": [
  {
   "cell_type": "markdown",
   "id": "bda1bedb-4c6d-483d-9b04-6710c3f93bdd",
   "metadata": {},
   "source": [
    "# __COMPUTATION II: ALGORITHMS & DATA STRUCTURES__\n",
    "\n",
    "# PROJECT"
   ]
  },
  {
   "cell_type": "markdown",
   "id": "00e45925",
   "metadata": {},
   "source": []
  },
  {
   "cell_type": "markdown",
   "id": "2b273d57-f3b8-4aaf-8847-0ff962cee792",
   "metadata": {},
   "source": [
    "Group Name:Group 21\n",
    "\n",
    "Group Members: Gonçalo Faustino, Miguel Pires, Bernardo Coelho\n",
    "\n",
    "Student Numbers: 20231721 , 20231736 , 20231718"
   ]
  },
  {
   "cell_type": "markdown",
   "id": "9ce748cd-28aa-4dc3-84dc-2ddfd778f595",
   "metadata": {},
   "source": [
    "--------------------------\n",
    "**Don't change or modify the order and titles of this notebook.** However, feel free to add as many cells as you want between sections. \n",
    "\n",
    "Good luck!"
   ]
  },
  {
   "cell_type": "markdown",
   "id": "ed95cb92-5eef-4a2c-950b-7689bde07e77",
   "metadata": {},
   "source": [
    "# Section 1: Dataset\n",
    "\n",
    "Read and store the dataset file provided to you (`sales_dataset_group_<X>.pkl`).\n",
    "\n",
    "Store the dataset under the variable name `dataset`."
   ]
  },
  {
   "cell_type": "code",
   "execution_count": 6,
   "id": "2ce0716e-cd52-42fc-874c-19feb9514802",
   "metadata": {},
   "outputs": [],
   "source": [
    "import pickle\n",
    "import timeit\n",
    "import numpy as np\n",
    "from datetime import datetime\n",
    "import matplotlib.pyplot as plt\n",
    "from scipy.stats import spearmanr\n",
    "\n",
    "\n",
    "with open(\"sales_dataset_group_21.pkl\", \"rb\") as data:\n",
    "    dataset = pickle.load(data)\n"
   ]
  },
  {
   "cell_type": "markdown",
   "id": "6aba194c-6332-4dac-9791-4d1c2fc124bb",
   "metadata": {},
   "source": [
    "# Section 2: Fixing problems in the dataset\n",
    "\n",
    "Fix here any problems you may find in the dataset while you're developing the project. \n",
    "\n",
    "**Do not modify the dataset anywhere else except in this section!**"
   ]
  },
  {
   "cell_type": "code",
   "execution_count": 8,
   "id": "a9600e13-c2ad-4577-b1d4-60af8e61b718",
   "metadata": {},
   "outputs": [
    {
     "name": "stdout",
     "output_type": "stream",
     "text": [
      "{'donation_voucher': 7, 'beer': 1.2, 'pen': 2.5, 'flash_drive': 5, 'notebook': 3, 'tshirt': 15, 'hoodie': 27, 'party_ticket': 9, 'chocolate': 1.5, 'game_ticket': 6.5, 'coffee': 0.6, 'water': 0.3, 'snack_pack': 1.3, 'water_bottle': 0.8, 'printing': 0.2, 'lecture_notes': 2.3, 'photocopy': 0.3, 'concert_ticket': 10}\n"
     ]
    }
   ],
   "source": [
    "# creating a name list for the purpose of seeing errors in name spelling\n",
    "def get_names(data_list):\n",
    "    unique_names = []\n",
    "    for data in data_list:\n",
    "        name = data[\"Name\"]\n",
    "        if name not in unique_names:\n",
    "            unique_names.append(name)\n",
    "    return unique_names\n",
    "\n",
    "# creating a price list for purposes of fixing errors in price setting\n",
    "def price_list(dataset):\n",
    "    price_list = {}\n",
    "    for data in dataset:\n",
    "        item = data[\"Item\"]\n",
    "        unit_price = data[\"Unit Price\"]\n",
    "        if isinstance(unit_price, (int, float)):\n",
    "            if not isinstance(item, (int, float)):\n",
    "                if item not in price_list:\n",
    "                    price_list[item] = unit_price\n",
    "    return price_list\n",
    "\n",
    "print(price_list(dataset))\n",
    "#reference prices for each article for error purpose"
   ]
  },
  {
   "cell_type": "markdown",
   "id": "e067093a-83d4-43f4-b35d-4646dc1b8b87",
   "metadata": {},
   "source": [
    "# Section 3: Extraction of Information"
   ]
  },
  {
   "cell_type": "markdown",
   "id": "b511abb0-c75f-477f-8c84-c25147de2c6f",
   "metadata": {},
   "source": [
    "### Extraction of recency, frequency and monetary values"
   ]
  },
  {
   "cell_type": "code",
   "execution_count": 9,
   "id": "63cad48a-9bfd-4086-abe0-811536465eb7",
   "metadata": {},
   "outputs": [],
   "source": [
    "#function that retrieves a list of the data for each costumer, input the name as a string\n",
    "def costumer_data_function(name):\n",
    "    costumer_data = []\n",
    "    for i in dataset:\n",
    "        if i[\"Name\"].lower() == name.lower():\n",
    "            costumer_data.append(i)\n",
    "    return costumer_data\n",
    "\n",
    "#function that retrieves the last purchase date and the number of days since the last purchase, input the name as a string\n",
    "def lastpurchasedate(name):\n",
    "    costumer_data = costumer_data_function(name)\n",
    "    last_purchase_date = costumer_data[0][\"Date\"]\n",
    "    for data in costumer_data:\n",
    "        if data[\"Date\"] > last_purchase_date:\n",
    "            last_purchase_date = data[\"Date\"]\n",
    "    \n",
    "    last_purchase_datetime = datetime.strptime(last_purchase_date, '%Y-%m-%d')\n",
    "    reference_datetime = datetime.strptime('2024-03-01', '%Y-%m-%d')\n",
    "    days_passed = (reference_datetime - last_purchase_datetime).days\n",
    "    \n",
    "    return last_purchase_date, days_passed\n",
    "\n",
    "# dictionary with costumer name as key and days since last purchase as value\n",
    "recency = {}\n",
    "for data in dataset:\n",
    "    name = data[\"Name\"]\n",
    "    last_purchase_date, days_passed = lastpurchasedate(name)\n",
    "    recency[name] = days_passed\n",
    "\n",
    "#function that retrieves the number of purchases for each student, input the name as a string\n",
    "def numberofpurchases(name):\n",
    "    costumer_data = costumer_data_function(name)\n",
    "    return len(costumer_data)\n",
    "\n",
    "#dictionary to store the number of purchases for each student\n",
    "frequency = {}\n",
    "for data in dataset:\n",
    "    name = data[\"Name\"]\n",
    "    if name in frequency:\n",
    "        frequency[name] += 1\n",
    "    else:\n",
    "        frequency[name] = 1\n",
    "        \n",
    "#function that retrieves the total amount spent by each student, input the name as a string\n",
    "def totalamountspent(name):\n",
    "    costumer_data = costumer_data_function(name)\n",
    "    total = 0\n",
    "    error = 0\n",
    "    for i in costumer_data:\n",
    "        unit_price = i[\"Unit Price\"]\n",
    "        item = i[\"Item\"]\n",
    "        if isinstance(unit_price, (int, float)):\n",
    "            total += unit_price * i[\"Quantity\"]\n",
    "        elif isinstance(unit_price, str) and unit_price in price_list(dataset):\n",
    "            total += price_list(dataset)[unit_price] * i[\"Quantity\"]\n",
    "        else:\n",
    "            error += 1\n",
    "            print(f\"Error: Invalid unit price '{unit_price}' for item '{i['Item']}'\")\n",
    "\n",
    "    print(f\"There were {error} errors found in the data.\")\n",
    "    return total\n",
    "\n",
    "#dictionary to store the total amount spent by each student\n",
    "monetary_value = {}\n",
    "\n",
    "for data in dataset:\n",
    "    name = data[\"Name\"]\n",
    "    unit_price = data[\"Unit Price\"]\n",
    "    quantity = data[\"Quantity\"]\n",
    "    \n",
    "    if isinstance(unit_price, (int, float)):\n",
    "        value = unit_price * quantity\n",
    "    elif isinstance(unit_price, str) and unit_price in price_list(dataset):\n",
    "        value = price_list(dataset)[unit_price] * quantity\n",
    "    else:\n",
    "        value = 0\n",
    "    if name in monetary_value:\n",
    "        monetary_value[name] += value\n",
    "    else:\n",
    "        monetary_value[name] = value\n"
   ]
  },
  {
   "cell_type": "markdown",
   "id": "9da21110-57e0-493b-84e5-7a3a9e907d19",
   "metadata": {},
   "source": [
    "### Histograms"
   ]
  },
  {
   "cell_type": "code",
   "execution_count": 15,
   "id": "16fd109c-a35e-4fff-89b3-9f2ac6fdfb84",
   "metadata": {},
   "outputs": [
    {
     "data": {
      "image/png": "[encoded data removed]",
      "text/plain": [
       "<Figure size 1000x400 with 3 Axes>"
      ]
     },
     "metadata": {},
     "output_type": "display_data"
    }
   ],
   "source": [
    "\n",
    "#recency graph\n",
    "plt.figure(figsize=(10, 4))\n",
    "plt.subplot(1, 3, 1)\n",
    "plt.hist(list(recency.values()), bins=len(recency.values())//5, edgecolor='black') \n",
    "plt.xlabel('Days since last purchase')\n",
    "plt.ylabel('Number of customers')\n",
    "plt.title('Recency')\n",
    "\n",
    "#frequency graph\n",
    "plt.subplot(1, 3, 2)\n",
    "plt.hist(list(frequency.values()), bins=len(recency.values())//5, edgecolor='black')  \n",
    "plt.xlabel('Number of purchases')\n",
    "plt.ylabel('Number of customers')\n",
    "plt.title('Frequency')\n",
    "\n",
    "#monetary value graph\n",
    "plt.subplot(1, 3, 3)\n",
    "plt.hist(list(monetary_value.values()), bins=len(recency.values())//5, edgecolor='black')\n",
    "plt.xlabel('Total amount spent')\n",
    "plt.ylabel('Number of customers')\n",
    "plt.title('Monetary Value')\n",
    "\n",
    "plt.tight_layout()\n",
    "plt.show()"
   ]
  },
  {
   "cell_type": "markdown",
   "id": "9c8c70ab-b982-4e01-b31e-b3bcf98fa878",
   "metadata": {},
   "source": [
    "# Section 4: Sorting"
   ]
  },
  {
   "cell_type": "markdown",
   "id": "9d0c06e3-2dc3-4ef6-b4b9-33eaa7e961fb",
   "metadata": {},
   "source": [
    "### First RFM scores (RFM)"
   ]
  },
  {
   "cell_type": "code",
   "execution_count": 16,
   "id": "4d331bac-b0c7-4a29-871b-e9ffd5de7775",
   "metadata": {},
   "outputs": [],
   "source": [
    "def merge(left, right): #merge function for merge sort\n",
    "    output = []\n",
    "    i = j = 0\n",
    "    while i < len(left) and j < len(right):\n",
    "        if left[i][1] < right[j][1]:  # compare second element of tupple\n",
    "            output.append(left[i])\n",
    "            i += 1\n",
    "        else:\n",
    "            output.append(right[j])\n",
    "            j += 1\n",
    "    return [*output, *left[i:], *right[j:]]\n",
    "\n",
    "def merge_sort(seq):\n",
    "    if len(seq) == 1:\n",
    "        return seq\n",
    "    \n",
    "    idx_half = len(seq) // 2\n",
    "    right = merge_sort(seq[idx_half:])\n",
    "    left = merge_sort(seq[:idx_half])\n",
    "    return merge(left, right)\n",
    "\n",
    "\n",
    "#function that gives scores to the students based on the sorted items\n",
    "#adding 2 because of errors in the division of the length\n",
    "def give_scores(sorted_items):\n",
    "    length = len(sorted_items)\n",
    "    third_size = (length + 2) // 3 \n",
    "    \n",
    "    scores = {}\n",
    "    for i, (student, _) in enumerate(sorted_items):\n",
    "        if i < third_size:\n",
    "            scores[student] = 3\n",
    "        elif i < 2 * third_size:\n",
    "            scores[student] = 2\n",
    "        else:\n",
    "            scores[student] = 1\n",
    "    return scores\n",
    "\n",
    "\n",
    "#sorting recency\n",
    "itemsrecency = list(recency.items())\n",
    "sorted_recency = merge_sort(itemsrecency)\n",
    "sorted_recency = sorted_recency[::-1]\n",
    "#giving score\n",
    "recency_scores = give_scores(sorted_recency)\n",
    "\n",
    "\n",
    "#sorting frequency\n",
    "itemsfrequency = list(frequency.items())\n",
    "sorted_frequency = merge_sort(itemsfrequency)\n",
    "sorted_frequency = sorted_frequency[::-1]\n",
    "#giving score\n",
    "frequency_scores = give_scores(sorted_frequency)\n",
    "\n",
    "\n",
    "#sorting monetary value\n",
    "itemsmonetary_value = list(monetary_value.items())\n",
    "sorted_monetary_value = merge_sort(itemsmonetary_value)\n",
    "sorted_monetary_value = sorted_monetary_value[::-1]\n",
    "#giving score\n",
    "monetary_value_scores = give_scores(sorted_monetary_value)\n"
   ]
  },
  {
   "cell_type": "markdown",
   "id": "f305809b-fcc9-4619-99d6-3f47583a2e54",
   "metadata": {},
   "source": [
    "- Can you determine which students are most valuable to our SU, considering that our\n",
    "organization is evil and values students solely based on their purchase history?"
   ]
  },
  {
   "cell_type": "markdown",
   "id": "39d9eb87-f9b9-4a07-bf92-781f8aa0a681",
   "metadata": {},
   "source": [
    "Answer: "
   ]
  },
  {
   "cell_type": "code",
   "execution_count": 32,
   "id": "26634713-30c4-4a62-a318-30a12ca13b29",
   "metadata": {},
   "outputs": [],
   "source": [
    "final_scores = {}\n",
    "\n",
    "for student in recency_scores:\n",
    "    final_scores[student] = str(recency_scores[student]) + str(frequency_scores[student]) + str(monetary_value_scores[student])\n",
    "\n",
    "items = list(final_scores.items())\n",
    "final_scores_sorted = merge_sort(items)\n",
    "\n",
    "final_scores_sorted = final_scores_sorted[::-1]\n",
    "\n",
    "#tranlaste to dictionary\n",
    "rfm1 = {}\n",
    "for i in final_scores_sorted:\n",
    "    rfm1[i[0]] = i[1]\n",
    "\n",
    "#The most valuable customers are the ones with the highest score (333),\n",
    "# the least valuable are the ones with the lowest score(111)."
   ]
  },
  {
   "cell_type": "markdown",
   "id": "5e9dd07d-0625-470b-856c-4bc824c75817",
   "metadata": {},
   "source": [
    "### Second RFM Scores (RFM')"
   ]
  },
  {
   "cell_type": "code",
   "execution_count": 34,
   "id": "aa3693ca",
   "metadata": {
    "vscode": {
     "languageId": "ruby"
    }
   },
   "outputs": [],
   "source": [
    "def nested_bucket_sort(recency_scores, frequency_scores, monetary_value_scores):\n",
    "    all_scores = {}\n",
    "    for recency_score in [3, 2, 1]:\n",
    "        current_bucket = [student for student in recency_scores if recency_scores[student] == recency_score]\n",
    "        \n",
    "        frequency_sorted_bucket = merge_sort(current_bucket)[::-1] \n",
    "        frequency_scores_current = give_scores([(student, frequency_scores[student]) for student in frequency_sorted_bucket])\n",
    "        \n",
    "        for frequency_score in [3, 2, 1]:\n",
    "            current_frequency_bucket = [student for student in frequency_scores_current if frequency_scores_current[student] == frequency_score]\n",
    "            \n",
    "            monetary_sorted_bucket = merge_sort(current_frequency_bucket)[::-1] \n",
    "            monetary_scores_current = give_scores([(student, monetary_value_scores[student]) for student in monetary_sorted_bucket])\n",
    "            \n",
    "            for student in monetary_scores_current:\n",
    "                r = recency_scores[student]\n",
    "                f = frequency_scores_current[student]\n",
    "                m = monetary_scores_current[student]\n",
    "                all_scores[student] = f\"{r}{f}{m}\"\n",
    "                \n",
    "    return all_scores\n",
    "\n",
    "#genrate RFM scores\n",
    "rfm_scores = nested_bucket_sort(recency_scores, frequency_scores, monetary_value_scores)\n",
    "\n",
    "#sort rfm 2\n",
    "rfm2 = [(student, score) for student, score in rfm_scores.items()]\n",
    "sorted_rfm2 = merge_sort(rfm2)[::-1] "
   ]
  },
  {
   "cell_type": "markdown",
   "id": "c84266d7-7339-4cf2-bb05-ab10fea79aae",
   "metadata": {},
   "source": [
    "### Correlation"
   ]
  },
  {
   "cell_type": "code",
   "execution_count": 35,
   "id": "0c9c2825-ac97-442a-bb46-49e1ed0c8260",
   "metadata": {},
   "outputs": [
    {
     "name": "stdout",
     "output_type": "stream",
     "text": [
      "Spearman Rank Correlation Coefficient: 0.994747005021128\n"
     ]
    }
   ],
   "source": [
    "# extract scores from final_scores_sorted and sorted_rfm2\n",
    "rfm_scores_list = [int(score) for _, score in final_scores_sorted]\n",
    "rfm2_scores_list = [int(score) for _, score in sorted_rfm2]\n",
    "\n",
    "# calculate Spearman coefficient\n",
    "correlation_coefficient, p_value = spearmanr(rfm_scores_list, rfm2_scores_list)\n",
    "\n",
    "print(f\"Spearman Rank Correlation Coefficient: {correlation_coefficient}\")\n",
    "\n",
    "#spearman is 0,9947 which is very close to 1, which means that the two lists are very similar\n",
    "\n"
   ]
  },
  {
   "cell_type": "markdown",
   "id": "f0396d53-66c4-47d0-872a-8ade091553a8",
   "metadata": {},
   "source": [
    "# Section 5: Searching"
   ]
  },
  {
   "cell_type": "markdown",
   "id": "ea7350d4-7b06-4c44-8266-92fb2a4588ac",
   "metadata": {},
   "source": [
    "### Linear Search"
   ]
  },
  {
   "cell_type": "code",
   "execution_count": 36,
   "id": "866065ab-26f1-45dd-85df-24e6c17e430e",
   "metadata": {},
   "outputs": [
    {
     "data": {
      "text/plain": [
       "{'Gonçalo': '233', 'Bernardo': '323', 'Miguel': '221'}"
      ]
     },
     "execution_count": 36,
     "metadata": {},
     "output_type": "execute_result"
    }
   ],
   "source": [
    "group_scores = {}\n",
    "group = [\"Gonçalo\",\"Bernardo\",\"Miguel\"]\n",
    "\n",
    "def linear_search(list, target):\n",
    "   for student, score in final_scores_sorted:\n",
    "         if student == target:\n",
    "            return score\n",
    "         \n",
    "for student in group:\n",
    "      group_scores[student] = linear_search(final_scores_sorted, student)\n",
    "\n",
    "group_scores"
   ]
  },
  {
   "cell_type": "markdown",
   "id": "4bceb325-9dac-4b5a-85b7-bfda825e8fd0",
   "metadata": {},
   "source": [
    "- Who do you think is the best student/customer among your group?"
   ]
  },
  {
   "cell_type": "markdown",
   "id": "b7f82741-4572-4514-8274-fc5c73721b42",
   "metadata": {},
   "source": [
    "Answer:"
   ]
  },
  {
   "cell_type": "code",
   "execution_count": 37,
   "id": "b15f8f44-9826-4c9b-909d-87a0e3923db3",
   "metadata": {},
   "outputs": [],
   "source": [
    "#The best student is Bernardo as he has the highest score, the worst student is Miguel as he has the lowest score."
   ]
  },
  {
   "cell_type": "markdown",
   "id": "0d9063f8-29c8-4c78-a816-c94f8f0ee3ef",
   "metadata": {},
   "source": [
    "### Alphabetical Sorting"
   ]
  },
  {
   "cell_type": "code",
   "execution_count": 40,
   "id": "27123ced-cbe1-4b48-863d-d701360ba6a8",
   "metadata": {},
   "outputs": [],
   "source": [
    "def merge_sort_dict(dictionary):\n",
    "    if len(dictionary) <= 1:\n",
    "        return dictionary\n",
    "    \n",
    "    mid = len(dictionary) // 2\n",
    "    left_dict = merge_sort_dict(dict(list(dictionary.items())[:mid]))\n",
    "    right_dict = merge_sort_dict(dict(list(dictionary.items())[mid:]))\n",
    "    \n",
    "    return merge_dicts(left_dict, right_dict)\n",
    "\n",
    "def merge_dicts(left_dict, right_dict):\n",
    "    merged_dict = {}\n",
    "    left_keys = list(left_dict.keys())\n",
    "    right_keys = list(right_dict.keys())\n",
    "    i = j = 0\n",
    "    \n",
    "    while i < len(left_keys) and j < len(right_keys):\n",
    "        if left_keys[i] < right_keys[j]:\n",
    "            merged_dict[left_keys[i]] = left_dict[left_keys[i]]\n",
    "            i += 1\n",
    "        else:\n",
    "            merged_dict[right_keys[j]] = right_dict[right_keys[j]]\n",
    "            j += 1\n",
    "    \n",
    "    while i < len(left_keys):\n",
    "        merged_dict[left_keys[i]] = left_dict[left_keys[i]]\n",
    "        i += 1\n",
    "    \n",
    "    while j < len(right_keys):\n",
    "        merged_dict[right_keys[j]] = right_dict[right_keys[j]]\n",
    "        j += 1\n",
    "    \n",
    "    return merged_dict\n",
    "\n",
    "sorted_dictionary = merge_sort_dict(final_scores)"
   ]
  },
  {
   "cell_type": "markdown",
   "id": "2ad70231-bbd3-4001-828f-c01c6cc0a347",
   "metadata": {},
   "source": [
    "### Binary Search"
   ]
  },
  {
   "cell_type": "code",
   "execution_count": 41,
   "id": "7b21c6e8-32cf-4292-a432-4713c5a8d31f",
   "metadata": {},
   "outputs": [],
   "source": [
    "def binary_search(names, target):\n",
    "    left, right = 0, len(names) - 1\n",
    "    while left <= right:\n",
    "        mid = (left + right) // 2\n",
    "        if names[mid] == target:\n",
    "            return mid\n",
    "        elif names[mid] < target:\n",
    "            left = mid + 1\n",
    "        else:\n",
    "            right = mid - 1\n",
    "    return -1\n",
    "\n",
    "\n",
    "dictionary = list(sorted_dictionary.items())\n",
    "group_scores_binary = []    \n",
    "\n",
    "for student in group:\n",
    "    binary_search([student for student, _ in dictionary], student)\n",
    "    group_scores_binary.append(dictionary[binary_search([student for student, _ in dictionary], student)])\n",
    "\n"
   ]
  },
  {
   "cell_type": "markdown",
   "id": "1786173d-c0ca-4595-ac92-c77a364b4d40",
   "metadata": {},
   "source": [
    "- How much time, in terms of seconds, did it take to find a name using linear search and\n",
    "binary search? Compare the results. (You can use the timeit module.)"
   ]
  },
  {
   "cell_type": "markdown",
   "id": "7b560d89-e132-4d9a-9abc-37bf30a2940f",
   "metadata": {},
   "source": [
    "Answer:"
   ]
  },
  {
   "cell_type": "code",
   "execution_count": 42,
   "id": "13c8e643-6450-4db0-bdc1-4a442079e0e7",
   "metadata": {},
   "outputs": [
    {
     "name": "stdout",
     "output_type": "stream",
     "text": [
      "0.20397949987091124\n",
      "0.08502699993550777\n"
     ]
    }
   ],
   "source": [
    "print(timeit.timeit('binary_search([student for student, _ in dictionary], \"Miguel\")', globals=globals(), number=20000)) # binary search\n",
    "print(timeit.timeit('linear_search(final_scores_sorted, \"Miguel\")', globals=globals(), number=20000)) # linear search\n",
    "\n",
    "\n",
    "#The binary search is faster than the linear search as it has a time complexity of O(log n) while the linear search has a time complexity of O(n)."
   ]
  },
  {
   "cell_type": "markdown",
   "id": "0ff35bf2-fe9c-4073-b68d-b1514ca8f68f",
   "metadata": {},
   "source": [
    "---------------------\n",
    "\n",
    "Great job, congrats!"
   ]
  },
  {
   "cell_type": "markdown",
   "id": "da201da2",
   "metadata": {},
   "source": []
  }
 ],
 "metadata": {
  "kernelspec": {
   "display_name": "Python 3 (ipykernel)",
   "language": "python",
   "name": "python3"
  },
  "language_info": {
   "codemirror_mode": {
    "name": "ipython",
    "version": 3
   },
   "file_extension": ".py",
   "mimetype": "text/x-python",
   "name": "python",
   "nbconvert_exporter": "python",
   "pygments_lexer": "ipython3",
   "version": "3.11.8"
  }
 },
 "nbformat": 4,
 "nbformat_minor": 5
}
