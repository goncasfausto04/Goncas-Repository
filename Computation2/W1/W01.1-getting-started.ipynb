{
 "cells": [
  {
   "cell_type": "markdown",
   "id": "51d6e032-b577-4b77-974f-ff597b2800c6",
   "metadata": {},
   "source": [
    "# **Computation II** <br/>\n",
    "**Bachelor's Degree Programs in Data Science and Information Systems**<br/>\n",
    "**NOVA IMS**<br/>\n",
    "\n",
    "**NOTE:** Some of the practical class materials were adapted from Prof. Dr. Illya Bakurov's class materials."
   ]
  },
  {
   "cell_type": "markdown",
   "id": "cbfeebd1-726e-4e5a-8cf4-2922624d45c5",
   "metadata": {},
   "source": [
    "# Introduction"
   ]
  },
  {
   "cell_type": "markdown",
   "id": "6c3532fd-6b05-4473-8b2c-e28a0bf6ca43",
   "metadata": {},
   "source": [
    "Jupyter notebooks contain executable cells, i.e., code snippets that can be run at any time and output results. You can also include Markdown cells in notebooks (such as this one), to document your code and comment on results.\n",
    "\n",
    "Google Colab, provides you with an interactive environment called a Colab notebook that lets you write, execute and document Python code in the form of ipythoon notebooks: it does not require configuration, it is free and easy to use. Jupyter Notebook and Jupyter Lab serve the same purpose except they need to be installed and configured on your PC. \n",
    "\n",
    "Students are recommended to use [Anaconda distribution](https://www.anaconda.com/download).\n",
    "\n",
    "Parts of this notebook were adapted with permission from Illya Bakurov's class materials."
   ]
  },
  {
   "cell_type": "markdown",
   "id": "46aaffa8-7b8f-4b72-9c2e-e986187fdf7e",
   "metadata": {},
   "source": [
    "____________\n",
    "\n",
    "You can execute cells using ``Shift + Enter``, or ``Ctrl + Enter`` (for Mac users ``Cmd + Enter``) if you don't want to proceed to the next cell.\n",
    "\n",
    "You can try this out below:"
   ]
  },
  {
   "cell_type": "code",
   "execution_count": 1,
   "id": "0acc39f3-e430-4b89-b74d-578d1b674abd",
   "metadata": {},
   "outputs": [
    {
     "name": "stdout",
     "output_type": "stream",
     "text": [
      "Hello, World!\n"
     ]
    }
   ],
   "source": [
    "print(\"Hello, World!\")"
   ]
  },
  {
   "cell_type": "markdown",
   "id": "29361197-fda6-4c04-a322-f0c7fe5de98c",
   "metadata": {},
   "source": [
    "Cells can be converted to Markdown (or to code, or raw, but we won't be using the latter type), in the toolbar on top of this file. You can do all sorts of interesting things with markdown, even use simple HTML snippets:\n",
    "\n",
    "<div style=\"padding: 15px; border: 1px solid transparent; border-color: transparent; margin-bottom: 20px; border-radius: 4px; color: #3c763d; background-color: #dff0d8; border-color: #d6e9c6;\">\n",
    "     <b>Tip:</b> You can learn more about using Jupyter Notebooks in the <a href=\"https://github.com/joaopfonseca/python-essentials/blob/master/00_introduction_to_jupyter_notebooks.ipynb\">Python Essentials GitHub repository - Notebook 0</a>.\n",
    "</div>\n"
   ]
  },
  {
   "cell_type": "markdown",
   "id": "2b56d8bf-c6d8-4760-a35c-1e036a6792ce",
   "metadata": {
    "jp-MarkdownHeadingCollapsed": true
   },
   "source": [
    "# 1. Variables"
   ]
  },
  {
   "cell_type": "markdown",
   "id": "18f71038-fb0b-4d1c-81f2-9cfdf6360e6d",
   "metadata": {},
   "source": [
    "Variables allow you to easily assign, reference and modify a given value throughout execution of your program. They can be seen as containers for storing data. For example, a variable can be used to **store result** of some (hypothetically) time-consuming (therefore expensive) operation, such as customers' churn prediction, so that it does not need to be performed again whenever you need to use its result. Moreover, it **gives numbers' a meaning**.\n",
    "\n",
    "Values are assigned to a variable using the ``=`` operator. The value is placed after the assignment operator and are also called literal.\n",
    "\n",
    "Ideally, **variable names should be short and meaningful**. By convention, a variable name is written in lowercase letters, and each word is separated by an underscore (aka **snake convention**): ``nova_ims``, ``python_revisions_class``, etc. Variable names can only contain letters (A–Z, a–z), digits (0–9), and underscores (_). However, **variable names cannot begin with a digit**.\n",
    "The official style guide for writing Python can be found [here](https://peps.python.org/pep-0008/)."
   ]
  },
  {
   "cell_type": "code",
   "execution_count": 2,
   "id": "c9644ab3-3d83-4645-befd-c8fee35bfe94",
   "metadata": {},
   "outputs": [],
   "source": [
    "candidate_name = \"John Smith\"\n",
    "company, position = \"NOVA IMS\", \"Data Scientist\"  # Declare several variables in one line\n",
    "daily_wage = 66.66666\n",
    "daily_working_hours = 8"
   ]
  },
  {
   "cell_type": "markdown",
   "id": "0a92e678-ab3a-4f7c-9f96-c58376848d9e",
   "metadata": {},
   "source": [
    "You can change the value of a variable at any point:"
   ]
  },
  {
   "cell_type": "code",
   "execution_count": 3,
   "id": "b564b799-a75b-4586-b3ae-ac9bf49700ad",
   "metadata": {},
   "outputs": [
    {
     "name": "stdout",
     "output_type": "stream",
     "text": [
      "Value of ``candidate_name`` before assigning a new value: John Smith\n",
      "Value of ``candidate_name`` after assigning a new value: Jane Doe\n"
     ]
    }
   ],
   "source": [
    "# printing the variable before assigning the new value:\n",
    "print(f\"Value of ``candidate_name`` before assigning a new value: {candidate_name}\")\n",
    "\n",
    "# Assign a new value\n",
    "candidate_name = \"Jane Doe\"\n",
    "\n",
    "# printing the variable after assigning the new value:\n",
    "print(f\"Value of ``candidate_name`` after assigning a new value: {candidate_name}\")"
   ]
  },
  {
   "cell_type": "markdown",
   "id": "615c7ddc-6ddf-45fc-a1c6-b2042b265733",
   "metadata": {},
   "source": [
    "You cannot assign variable names that are also Python keywords:"
   ]
  },
  {
   "cell_type": "code",
   "execution_count": 5,
   "id": "d81e17aa-b426-4db2-a5b9-0170b858edb7",
   "metadata": {},
   "outputs": [
    {
     "ename": "SyntaxError",
     "evalue": "invalid syntax (223120202.py, line 1)",
     "output_type": "error",
     "traceback": [
      "\u001b[0;36m  Cell \u001b[0;32mIn[5], line 1\u001b[0;36m\u001b[0m\n\u001b[0;31m    for = \"test\"\u001b[0m\n\u001b[0m        ^\u001b[0m\n\u001b[0;31mSyntaxError\u001b[0m\u001b[0;31m:\u001b[0m invalid syntax\n"
     ]
    }
   ],
   "source": [
    "for = \"test\""
   ]
  },
  {
   "cell_type": "markdown",
   "id": "8cec1c85-9f59-4c48-bc44-cfcca37e6071",
   "metadata": {},
   "source": [
    "You can see the full list of Python keywords here:"
   ]
  },
  {
   "cell_type": "code",
   "execution_count": 6,
   "id": "d4d27837-5208-434e-ab9a-b646cd408779",
   "metadata": {},
   "outputs": [
    {
     "name": "stdout",
     "output_type": "stream",
     "text": [
      "\n",
      "Here is a list of the Python keywords.  Enter any keyword to get more help.\n",
      "\n",
      "False               class               from                or\n",
      "None                continue            global              pass\n",
      "True                def                 if                  raise\n",
      "and                 del                 import              return\n",
      "as                  elif                in                  try\n",
      "assert              else                is                  while\n",
      "async               except              lambda              with\n",
      "await               finally             nonlocal            yield\n",
      "break               for                 not                 \n",
      "\n",
      "None\n"
     ]
    }
   ],
   "source": [
    "# Prints Python keywords\n",
    "print(help(\"keywords\"))"
   ]
  },
  {
   "cell_type": "code",
   "execution_count": 4,
   "id": "4781f37d",
   "metadata": {},
   "outputs": [],
   "source": [
    "print(\"GAY\")"
   ]
  },
  {
   "cell_type": "markdown",
   "id": "988c6eb8-c39a-4a92-9b2c-afc55ced3c76",
   "metadata": {},
   "source": [
    "### NameError\n",
    "\n",
    "There is one common error when using variables, that you have almost certainly encountered at some point. Take a look at this code, and see if you can figure out why it causes an error."
   ]
  },
  {
   "cell_type": "code",
   "execution_count": 2,
   "id": "a5b78514-a003-46a9-af24-5f7975a8f049",
   "metadata": {},
   "outputs": [
    {
     "ename": "NameError",
     "evalue": "name 'mesage' is not defined",
     "output_type": "error",
     "traceback": [
      "\u001b[1;31m---------------------------------------------------------------------------\u001b[0m",
      "\u001b[1;31mNameError\u001b[0m                                 Traceback (most recent call last)",
      "Cell \u001b[1;32mIn[2], line 2\u001b[0m\n\u001b[0;32m      1\u001b[0m message \u001b[38;5;241m=\u001b[39m \u001b[38;5;124m\"\u001b[39m\u001b[38;5;124mThank you for sharing Python with the world, Guido!\u001b[39m\u001b[38;5;124m\"\u001b[39m\n\u001b[1;32m----> 2\u001b[0m \u001b[38;5;28mprint\u001b[39m(\u001b[43mmesage\u001b[49m)\n",
      "\u001b[1;31mNameError\u001b[0m: name 'mesage' is not defined"
     ]
    }
   ],
   "source": [
    "message = \"Thank you for sharing Python with the world, Guido!\"\n",
    "print(mesage)"
   ]
  },
  {
   "cell_type": "markdown",
   "id": "ee6fcb5a-6bfa-48ff-981d-6bab7100abcb",
   "metadata": {},
   "source": [
    "### Naming Rules\n",
    "\n",
    "To sum up, the naming rules you should follow to define variables are:\n",
    "\n",
    "1. Variables can only be named containing letters, numbers, and underscores. Variable names can start with a letter or an underscore, but can not start with a number.\n",
    "2. Spaces are not allowed in variable names, so we use underscores instead of spaces. For example, use student_name instead of \"student name\".\n",
    "3. You cannot use [Python keywords](http://docs.python.org/3/reference/lexical_analysis.html#keywords) as variable names.\n",
    "4. Variable names should be descriptive, without being too long. For example mc_wheels is better than just \"wheels\", and number_of_wheels_on_a_motorycle.\n",
    "\n",
    "<div style=\"padding: 15px; border: 1px solid transparent; border-color: transparent; margin-bottom: 20px; border-radius: 4px; color: #a94442; background-color: #f2dede; border-color: #ebccd1;\">\n",
    "<b>Warning:</b> Although you can technically override the value of a built-in function, <b>you should never, ever do it</b>.\n",
    "</div>\n"
   ]
  },
  {
   "cell_type": "markdown",
   "id": "05d12099-1f91-40da-9e33-83c2ae5cdd49",
   "metadata": {
    "jp-MarkdownHeadingCollapsed": true
   },
   "source": [
    "# 2. Data Types"
   ]
  },
  {
   "cell_type": "markdown",
   "id": "9dd2a689-f79f-4c9f-bfbc-d40edb87518d",
   "metadata": {},
   "source": [
    "__Data type__: classification of the data which tells the compiler or interpreter how the information will be used\n",
    "\n",
    "5 commonly used scalar data types:\n",
    "1. Strings\n",
    "1. Numbers: int, long, float and complex\n",
    "1. Booleans\n",
    "1. NoneType\n",
    "1. Datetime"
   ]
  },
  {
   "cell_type": "markdown",
   "id": "182e7f0d-b5b8-4470-91e9-ffe47c15bce9",
   "metadata": {},
   "source": [
    "Use the function type to check the type of an object:"
   ]
  },
  {
   "cell_type": "code",
   "execution_count": null,
   "id": "010e9b8c-6c3b-495d-aa7c-75a4093c75cd",
   "metadata": {},
   "outputs": [
    {
     "name": "stdout",
     "output_type": "stream",
     "text": [
      "A string has the type:  <class 'str'>\n",
      "An integer has the type: <class 'int'>\n",
      "An float has the type: <class 'float'>\n",
      "A boolean has the type: <class 'bool'>\n"
     ]
    }
   ],
   "source": [
    "print(\"A string has the type: \", type(candidate_name))\n",
    "print(\"An integer has the type:\", type(daily_working_hours))\n",
    "print(\"An float has the type:\", type(daily_wage))\n",
    "print(\"A boolean has the type:\", type(True))"
   ]
  },
  {
   "cell_type": "markdown",
   "id": "ed509d27-1827-466f-b401-241bfa07619a",
   "metadata": {},
   "source": [
    "### 2.1. Numeric data types\n",
    "\n",
    "Python has three built-in numeric data types: integers, floating-point numbers, and complex numbers.\n",
    "\n",
    "An integer (aka ``int``) is a whole number without a decimal point.\n",
    "\n",
    "The function ``isinstance`` verifies whether a given object (the first argument) is of a given type (the second argument)."
   ]
  },
  {
   "cell_type": "code",
   "execution_count": null,
   "id": "c03d24a0-3c5a-4896-b3c8-49b1dfaf15f2",
   "metadata": {},
   "outputs": [
    {
     "name": "stdout",
     "output_type": "stream",
     "text": [
      "The value of x is 4\n",
      "The type of x is <class 'int'>\n",
      "Is x an instance of int? True\n"
     ]
    }
   ],
   "source": [
    "x = 4  \n",
    "print(\"The value of x is\", x)  \n",
    "print(\"The type of x is\", type(x)) \n",
    "print(\"Is x an instance of int?\", isinstance(x, int))  # Verifies whether x is of type int"
   ]
  },
  {
   "cell_type": "markdown",
   "id": "54b60824-7f7c-4017-bb49-93dccca4c99f",
   "metadata": {},
   "source": [
    "A floating-point (aka float), is a number with a decimal point."
   ]
  },
  {
   "cell_type": "code",
   "execution_count": null,
   "id": "706ea598-9d5e-40b5-9453-93a9ad756b4d",
   "metadata": {},
   "outputs": [
    {
     "name": "stdout",
     "output_type": "stream",
     "text": [
      "``a`` is of type <class 'int'> and contains the value 7\n",
      "``b`` is of type <class 'float'> and contains the value 7.12\n",
      "``c`` is of type <class 'float'> and contains the value 7.0\n",
      "\n",
      "Is a of the same type as b? \tR: False\n"
     ]
    }
   ],
   "source": [
    "a, b, c = 7, 7.12, 7.0\n",
    "print(f\"``a`` is of type {type(a)} and contains the value {a}\")\n",
    "print(f\"``b`` is of type {type(b)} and contains the value {b}\")\n",
    "print(f\"``c`` is of type {type(c)} and contains the value {c}\")\n",
    "print(\"\\nIs a of the same type as b? \\tR:\", isinstance(a, type(b)))  "
   ]
  },
  {
   "cell_type": "markdown",
   "id": "6b9bac04-33b0-402c-bb2f-aae2aa88dd83",
   "metadata": {},
   "source": [
    "A few notes about exponents:\n",
    "1.  raising a number to a negative power is the same as dividing 1 by the number raised to the positive power\n",
    "2.  the ** operator returns an integer if both operands are integers, and a float if any one of the operands is a floating-point number."
   ]
  },
  {
   "cell_type": "code",
   "execution_count": null,
   "id": "c162e8aa-da57-4420-a155-8db293f3b5ba",
   "metadata": {},
   "outputs": [
    {
     "name": "stdout",
     "output_type": "stream",
     "text": [
      "4\n",
      "0.25\n",
      "0.25\n",
      "3.0\n"
     ]
    }
   ],
   "source": [
    "print(2**2)\n",
    "print(2**-2)  # Equivalent to 1 / (2**2)\n",
    "print(1/2**2)\n",
    "print(9**0.5)  # Equivalent to a squared root"
   ]
  },
  {
   "cell_type": "markdown",
   "id": "479168a6-39cf-404b-b1c5-939c487d5a94",
   "metadata": {},
   "source": [
    "The ``*``, ``/``, ``//``, and ``%``  operators all have equal precedence in an expression, and each of these has a higher precedence than the ``+`` and ``-`` operators. To make things clearer, you can always add a whitespace around the operators with the lowest priority(ies) if operators with different priorities are used."
   ]
  },
  {
   "cell_type": "code",
   "execution_count": null,
   "id": "7a07ed48-2f22-432e-8e8a-1d5a0192dc57",
   "metadata": {},
   "outputs": [
    {
     "name": "stdout",
     "output_type": "stream",
     "text": [
      "6\n",
      "8\n"
     ]
    }
   ],
   "source": [
    "print(2 + 2*2)\n",
    "print((2 + 2)*2)"
   ]
  },
  {
   "cell_type": "markdown",
   "id": "89963ce0-81ec-4185-b1a2-9c7a87603c34",
   "metadata": {},
   "source": [
    "### 2.2. Booleans"
   ]
  },
  {
   "cell_type": "markdown",
   "id": "5ad05612-fa39-4d3f-bb2a-14c72bc2f2ea",
   "metadata": {},
   "source": [
    "Python  comes with Booleans (with predefined True and False displays that are basically just the integers 1 and 0). It also has a placeholder object called None."
   ]
  },
  {
   "cell_type": "code",
   "execution_count": null,
   "id": "e4c1715b-c0cd-458d-b932-cdaa5b1fee0f",
   "metadata": {},
   "outputs": [
    {
     "name": "stdout",
     "output_type": "stream",
     "text": [
      "<class 'bool'> True\n",
      "<class 'bool'> False\n"
     ]
    }
   ],
   "source": [
    "# Set object to be a boolean\n",
    "a, b = True, False\n",
    "print(type(a), a)\n",
    "print(type(b), b)"
   ]
  },
  {
   "cell_type": "code",
   "execution_count": null,
   "id": "466da79b-5093-47fd-96dc-8c12b5fec07f",
   "metadata": {},
   "outputs": [
    {
     "name": "stdout",
     "output_type": "stream",
     "text": [
      "False\n",
      "True\n"
     ]
    }
   ],
   "source": [
    "print(1 > 2)\n",
    "print(1 < 2)"
   ]
  },
  {
   "cell_type": "code",
   "execution_count": null,
   "id": "7d3fc6da-380a-476b-bb86-6ce924b23667",
   "metadata": {},
   "outputs": [
    {
     "name": "stdout",
     "output_type": "stream",
     "text": [
      "True\n",
      "True\n",
      "False\n"
     ]
    }
   ],
   "source": [
    "print(bool(1))\n",
    "print(bool(1234))\n",
    "print(bool(0))"
   ]
  },
  {
   "cell_type": "markdown",
   "id": "0490a7c8-061c-49b5-974a-bcbb55e184a3",
   "metadata": {},
   "source": [
    "### 2.3. Strings\n",
    "\n",
    "At this point, you are probably very familiar with all of this already. So let's keep this short."
   ]
  },
  {
   "cell_type": "code",
   "execution_count": null,
   "id": "fb127975-7e24-4293-97ba-8c3d9bea1ca7",
   "metadata": {},
   "outputs": [
    {
     "name": "stdout",
     "output_type": "stream",
     "text": [
      "Jane Doe is a Data Scientist at NOVA IMS.\n",
      "Jane Doe works 8 hours per day and earns 66.66666€ daily.\n",
      "Jane Doe enjoys working at NOVA IMS, and she likes her duties as a Data Scientist.\n"
     ]
    }
   ],
   "source": [
    "# You can insert variables within strings in multiple different ways\n",
    "# Here's an example using %-formatting (can get messy):\n",
    "print(\"%s is a %s at %s.\" % (candidate_name, position, company))\n",
    "\n",
    "# Here's an example using str.format() \n",
    "# (it's a little bit better; you can pass positional arguments to help, but gets very verbose)\n",
    "print(\"{name} works {hours} hours per day and earns {wage}€ daily.\".format(name=candidate_name, hours=daily_working_hours, wage=daily_wage))\n",
    "\n",
    "# Here's an example using an f-string (much easier to use):\n",
    "print(f\"{candidate_name} enjoys working at {company}, and she likes her duties as a {position}.\")"
   ]
  },
  {
   "cell_type": "markdown",
   "id": "f117223f-93cb-42ad-8b82-ab49c3b28a38",
   "metadata": {},
   "source": [
    "You can add and multiply strings, and apply different types of useful functions:"
   ]
  },
  {
   "cell_type": "code",
   "execution_count": null,
   "id": "a8574760-6789-46c2-9771-b2def334a41a",
   "metadata": {},
   "outputs": [
    {
     "name": "stdout",
     "output_type": "stream",
     "text": [
      "# add and multiply\n",
      "Jane DoeNOVA IMSNOVA IMS\n",
      "\n",
      "# replace string subsets\n",
      "Jane DoeCool uniCool uni\n",
      "\n",
      "# remove string subsets\n",
      "Jane  uni\n",
      "\n",
      "# split a string using another pattern\n",
      "['Jane', '', 'uni']\n",
      "\n",
      "# remove trailing spaces\n",
      "|      Jane  uni     |\n",
      "|Jane  uni|\n",
      "\n",
      "# Set everything to upper or lower case\n",
      "JANE  UNI | jane  uni\n"
     ]
    }
   ],
   "source": [
    "# add and multiply\n",
    "print(\"# add and multiply\")\n",
    "weird_text = candidate_name + company * 2\n",
    "print(weird_text)\n",
    "\n",
    "# replace string subsets\n",
    "print(\"\\n# replace string subsets\")\n",
    "weird_text = weird_text.replace(\"NOVA IMS\", \"Cool uni\")\n",
    "print(weird_text)\n",
    "\n",
    "# remove string subsets\n",
    "print(\"\\n# remove string subsets\")\n",
    "weird_text = weird_text.replace(\"DoeCool uniCool\", \"\")\n",
    "print(weird_text)\n",
    "\n",
    "# split a string using another pattern\n",
    "print(\"\\n# split a string using another pattern\")\n",
    "print(weird_text.split(\" \"))\n",
    "\n",
    "# remove trailing spaces\n",
    "print(\"\\n# remove trailing spaces\")\n",
    "print(\"|\"+f\"      {weird_text}     \"+\"|\")\n",
    "print(\"|\"+f\"      {weird_text}     \".strip()+\"|\")\n",
    "\n",
    "# Set everything to upper or lower case\n",
    "print(\"\\n# Set everything to upper or lower case\")\n",
    "print(weird_text.upper(), \"|\", weird_text.lower())"
   ]
  },
  {
   "cell_type": "markdown",
   "id": "83a8de08-3112-496c-9ca3-3a339933352e",
   "metadata": {},
   "source": [
    "However, keep in mind there are many more ways to modify strings that are not listed above."
   ]
  },
  {
   "cell_type": "markdown",
   "id": "6b7ff9c5-8c1b-48c3-9856-f0b4f3fa6c5f",
   "metadata": {
    "jp-MarkdownHeadingCollapsed": true
   },
   "source": [
    "# 3. Operators"
   ]
  },
  {
   "cell_type": "markdown",
   "id": "dd1936d1-2516-4a60-ad53-8d2debca3b0c",
   "metadata": {},
   "source": [
    "### Arithmetic Operators\n",
    "\n",
    "Python supports all the basic arithmetic operators just like any other programming language. <br>\n",
    "\n",
    "<table>\n",
    "<tr>\n",
    "    <th>Operator</th> \n",
    "    <th style=\"text-align:left\">Description</th>\n",
    "</tr>\n",
    "<tr>\n",
    "    <td style=\"text-align:center\">+</td> \n",
    "    <td style=\"text-align:left\">Adds two values together.</td> \n",
    "</tr>\n",
    "<tr>\n",
    "    <td style=\"text-align:center\">-</td> \n",
    "    <td style=\"text-align:left\">Subtracts the right‐hand operand from left operand.</td> \n",
    "</tr>\n",
    "    <tr>\n",
    "    <td style=\"text-align:center\">*</td> \n",
    "    <td style=\"text-align:left\">Multiplies the right‐hand operand by the left operand.</td> \n",
    "</tr>\n",
    "<tr>\n",
    "    <td style=\"text-align:center\">/</td> \n",
    "    <td style=\"text-align:left\">Divides the left‐hand operand by the right operand.</td> \n",
    "</tr>\n",
    "<tr>\n",
    "    <td style=\"text-align:center\">%</td> \n",
    "    <td style=\"text-align:left\">Divides the left‐hand operand by the right operand and returns the remainder.</td> \n",
    "</tr>\n",
    "<tr>\n",
    "    <td style=\"text-align:center\">**</td> \n",
    "    <td style=\"text-align:left\">Calculates the exponential value of the right operand by the left operand.</td> \n",
    "</tr>\n",
    "<tr>\n",
    "    <td style=\"text-align:center\">//</td> \n",
    "    <td style=\"text-align:left\">Performs integer division, in which the left operand is divided by the right operand and only the whole number is returned (also called floor division).</td> \n",
    "</tr>\n",
    " </table>"
   ]
  },
  {
   "cell_type": "code",
   "execution_count": null,
   "id": "33a146a8-6e57-456e-b70b-da5000b70951",
   "metadata": {},
   "outputs": [],
   "source": [
    "# Try out some arithmetic operations here"
   ]
  },
  {
   "cell_type": "markdown",
   "id": "f0584ae9-133e-441f-ad02-12e5a7e7f95d",
   "metadata": {},
   "source": [
    "Several arithmetic operators can be applied on integers."
   ]
  },
  {
   "cell_type": "code",
   "execution_count": null,
   "id": "6aef1612-bd6f-4218-8626-2271f3a7ab5b",
   "metadata": {},
   "outputs": [
    {
     "name": "stdout",
     "output_type": "stream",
     "text": [
      "x - 1 = -0.5\n",
      "1.5\n",
      "3.375\n",
      "1.0\n",
      "1.0\n",
      "0.5\n"
     ]
    }
   ],
   "source": [
    "x = 0.5\n",
    "\n",
    "x = x - 1  # Subtracts 1 to x\n",
    "print(\"x - 1 =\", x)\n",
    "\n",
    "x += 2  # Equivalent to x = x + 2\n",
    "print(x)\n",
    "\n",
    "x **= 3  # Equivalent to x = x**3\n",
    "print(x)\n",
    "\n",
    "x = x // 2  # Quotient in which the decimal points are removed\n",
    "print(x)\n",
    "\n",
    "x = x % 3  # Remainder after dividing x by 2 (aka modulus)\n",
    "print(x) \n",
    "\n",
    "x = x / 2 # Equivalent to x = x + (2/2)\n",
    "print(x)"
   ]
  },
  {
   "cell_type": "markdown",
   "id": "29787fc8-5368-441b-af02-042e959d711f",
   "metadata": {},
   "source": [
    "Notice that dividing two integers yields a floating-point, and adding a floating-point to an integer yields a floating-point."
   ]
  },
  {
   "cell_type": "code",
   "execution_count": null,
   "id": "1f2e1948-e67f-4cff-af44-607a918453dc",
   "metadata": {},
   "outputs": [
    {
     "name": "stdout",
     "output_type": "stream",
     "text": [
      "1.0\n",
      "2.0\n"
     ]
    }
   ],
   "source": [
    "print(2 / 2)\n",
    "print(1 + 1.0)"
   ]
  },
  {
   "cell_type": "markdown",
   "id": "a5d29504-ab9e-42ea-a004-197675c36621",
   "metadata": {},
   "source": [
    "### Relational / Comparison Operators\n",
    "\n",
    "\n",
    "The comparison operators will allow us to compare variables and output a Boolean value (``True`` or ``False``).\n",
    "\n",
    "<table>\n",
    "<tr>\n",
    "    <th>Operator</th> \n",
    "    <th style=\"text-align:left\">Description</th>\n",
    "</tr>\n",
    "<tr>\n",
    "    <td style=\"text-align:center\">==</td> \n",
    "    <td style=\"text-align:left\"> Is equal to - Determines whether two values are equal. Notice that the relational operator uses two equals signs.\n",
    "A mistake many developers make is using just one equals sign, which results in one value being assigned to another.</td> \n",
    "</tr>\n",
    "<tr>\n",
    "    <td style=\"text-align:center\">!=</td> \n",
    "    <td style=\"text-align:left\"> Is not equal to - Determines whether two values are not equal.</td> \n",
    "</tr>\n",
    "    <tr>\n",
    "    <td style=\"text-align:center\">></td> \n",
    "    <td style=\"text-align:left\"> Is greater than - Verifies that the left operand value is greater than the right operand value.</td> \n",
    "</tr>\n",
    "<tr>\n",
    "    <td style=\"text-align:center\"><</td> \n",
    "    <td style=\"text-align:left\"> Is less than - Verifies that the left operand value is less than the right operand value.</td> \n",
    "</tr>\n",
    "<tr>\n",
    "    <td style=\"text-align:center\">>=</td> \n",
    "    <td style=\"text-align:left\"> Is greater than or equal to - Verifies that the left operand value is greater than or equal to the right operand value.</td> \n",
    "</tr>\n",
    "<tr>\n",
    "    <td style=\"text-align:center\"><=</td> \n",
    "    <td style=\"text-align:left\"> Is less than or equal to - Verifies that the left operand value is less than or equal to the right operand value.</td> \n",
    "</tr>\n",
    " </table>"
   ]
  },
  {
   "cell_type": "code",
   "execution_count": null,
   "id": "04e12972-9932-4f2e-812b-20bf5db9f247",
   "metadata": {},
   "outputs": [],
   "source": [
    "# Try out some comparison operations here"
   ]
  },
  {
   "cell_type": "markdown",
   "id": "0af2ff38-0cf0-4406-a036-5e8360e53d4c",
   "metadata": {},
   "source": [
    "### Logical Operators\n",
    "\n",
    "There are three logical operators in Python: ``not``, ``and`` and ``or``. Typically, these operate upon boolean arguments and return a boolean value. \n",
    "\n",
    "<table>\n",
    "<tr>\n",
    "    <th>Operator</th> \n",
    "    <th style=\"text-align:left\">Description</th>\n",
    "</tr>\n",
    "<tr>\n",
    "    <td style=\"text-align:center\">and</td> \n",
    "    <td style=\"text-align:left\"> Determines whether both operands are true.</td> \n",
    "</tr>\n",
    "<tr>\n",
    "    <td style=\"text-align:center\">or</td> \n",
    "    <td style=\"text-align:left\"> Determines when one of two operands is true.</td> \n",
    "</tr>\n",
    "    <tr>\n",
    "    <td style=\"text-align:center\">not</td> \n",
    "    <td style=\"text-align:left\">Negates the truth value of a single operand. A true value becomes false and a false value becomes true.</td> \n",
    "</tr>\n",
    " </table>"
   ]
  },
  {
   "cell_type": "code",
   "execution_count": null,
   "id": "04046a62-d5cc-416d-86a4-06101dee40af",
   "metadata": {},
   "outputs": [],
   "source": [
    "# Try out some logical operations here"
   ]
  },
  {
   "cell_type": "markdown",
   "id": "ef6df9a6-acd8-4da2-bce9-cc806be39937",
   "metadata": {},
   "source": [
    "### Membership Operators\n",
    "\n",
    "<table>\n",
    "<tr>\n",
    "    <th>Operator</th> \n",
    "    <th style=\"text-align:left\">Description</th>\n",
    "</tr>\n",
    "<tr>\n",
    "    <td style=\"text-align:center\">in</td> \n",
    "    <td style=\"text-align:left\"> Determines whether the value in the left operand appears in the sequence found in the right operand.</td> \n",
    "</tr>\n",
    "<tr>\n",
    "    <td style=\"text-align:center\">not in</td> \n",
    "    <td style=\"text-align:left\"> Determines whether the value in the left operand is missing from the sequence found in the right operand.</td> \n",
    "</tr>\n",
    " </table>"
   ]
  },
  {
   "cell_type": "code",
   "execution_count": null,
   "id": "6141f402-bc69-40e5-ace3-0c931f11f651",
   "metadata": {},
   "outputs": [],
   "source": [
    "# Try out some membership operations here"
   ]
  },
  {
   "cell_type": "markdown",
   "id": "a5ff6ea4-ad4a-4877-a773-d0f387206bc4",
   "metadata": {},
   "source": [
    "### Identity Operators\n",
    "\n",
    "<table>\n",
    "<tr>\n",
    "    <th>Operator</th> \n",
    "    <th style=\"text-align:left\">Description</th>\n",
    "</tr>\n",
    "<tr>\n",
    "    <td style=\"text-align:center\">is</td> \n",
    "    <td style=\"text-align:left\"> Evaluates to true when the type of the value or expression in the right operand points to the same type in the left operand.</td> \n",
    "</tr>\n",
    "<tr>\n",
    "    <td style=\"text-align:center\">is not</td> \n",
    "    <td style=\"text-align:left\"> Evaluates to true when the type of the value or expression in the right operand points to a different type than the value or expression in the left operand.</td> \n",
    "</tr>\n",
    " </table>"
   ]
  },
  {
   "cell_type": "code",
   "execution_count": null,
   "id": "5fa35479-083e-4023-bbff-f34d67430824",
   "metadata": {},
   "outputs": [],
   "source": [
    "# Try out some identity operations here"
   ]
  },
  {
   "cell_type": "markdown",
   "id": "9460f0f7-c1f1-4c8f-8a3e-c16b9cbf385e",
   "metadata": {},
   "source": [
    "### Mixing comparison and logical operators\n",
    "\n",
    "An interesting feature of Python is the ability to chain multiple comparisons to perform a more complex test. \n",
    "\n",
    "<div align=\"center\">\n",
    "<img src='https://i.postimg.cc/0Qnm4fPL/operators-mix.png'>\n",
    "</div>\n",
    "\n",
    "In the case above, for example, the computer will evaluate the left expression first, and then it will evaluate the right expression. When it knows the Boolean values for each, it will then evaluate the whole expression down to one Boolean value.\n",
    "<br>\n",
    "\n",
    "The Boolean operatoes have an order of operations just like the math operators do. After any math and comparion operators evaluate, Python evaluates the __not__ operators first, then the __and__ operators and then the __or__ operators."
   ]
  },
  {
   "cell_type": "code",
   "execution_count": null,
   "id": "68380d0f-321d-465e-bdbc-70ce254c281a",
   "metadata": {},
   "outputs": [],
   "source": []
  }
 ],
 "metadata": {
  "kernelspec": {
   "display_name": "Python 3 (ipykernel)",
   "language": "python",
   "name": "python3"
  },
  "language_info": {
   "codemirror_mode": {
    "name": "ipython",
    "version": 3
   },
   "file_extension": ".py",
   "mimetype": "text/x-python",
   "name": "python",
   "nbconvert_exporter": "python",
   "pygments_lexer": "ipython3",
   "version": "3.11.5"
  }
 },
 "nbformat": 4,
 "nbformat_minor": 5
}
