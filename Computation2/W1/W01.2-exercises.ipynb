{
 "cells": [
  {
   "cell_type": "markdown",
   "id": "a8cfa654-7c14-4069-b17c-4187a017521f",
   "metadata": {},
   "source": [
    "# **Computation II** <br/>\n",
    "**Bachelor's Degree Programs in Data Science and Information Systems**<br/>\n",
    "**NOVA IMS**<br/>"
   ]
  },
  {
   "cell_type": "markdown",
   "id": "b2d332ae-72e1-451f-ae4c-a2fe8515b529",
   "metadata": {},
   "source": [
    "# Exercises"
   ]
  },
  {
   "cell_type": "markdown",
   "id": "33a44838-c8c9-4698-84ca-1266b7eb5c33",
   "metadata": {
    "jp-MarkdownHeadingCollapsed": true
   },
   "source": [
    "**Exercise 1** : Someone Said\n",
    "\n",
    "Find a quote that you like. Store the quote in a variable. Print the quote."
   ]
  },
  {
   "cell_type": "code",
   "execution_count": null,
   "id": "cf8e77a0-6588-4842-ad17-5bd6f909678c",
   "metadata": {},
   "outputs": [],
   "source": [
    "# Write your solution here"
   ]
  },
  {
   "cell_type": "markdown",
   "id": "5b0b28f8-b97c-49d1-a656-7798dc602767",
   "metadata": {},
   "source": [
    "**Exercise 2** : Full Name\n",
    "\n",
    "Store your first name and last name in separate variables, and then combine them to print out your full name."
   ]
  },
  {
   "cell_type": "code",
   "execution_count": null,
   "id": "78ab6897-996f-4d98-be5d-c5004f2b0ea8",
   "metadata": {},
   "outputs": [],
   "source": [
    "# Write your solution here"
   ]
  },
  {
   "cell_type": "markdown",
   "id": "476219f9-7b2d-48fa-a050-ae6cddbb58bf",
   "metadata": {},
   "source": [
    "**Exercise 3** : Summing up\n",
    "\n",
    "Display the sum of 150 + 10, using two variables: x and y."
   ]
  },
  {
   "cell_type": "code",
   "execution_count": null,
   "id": "a7a07188-41ab-4279-81e9-0badc0569493",
   "metadata": {},
   "outputs": [],
   "source": [
    "# Write your solution here"
   ]
  },
  {
   "cell_type": "markdown",
   "id": "6b06ba0f-11b8-4450-a8a2-a84908264882",
   "metadata": {},
   "source": [
    "**Exercise 4** : Times\n",
    "\n",
    "Print the result of 5 x 5, like this: 'Five times five is 25'."
   ]
  },
  {
   "cell_type": "code",
   "execution_count": null,
   "id": "fbfc8899-e14e-4b8a-8916-84cae5bb89fb",
   "metadata": {},
   "outputs": [],
   "source": [
    "# Write your solution here"
   ]
  },
  {
   "cell_type": "markdown",
   "id": "bbe68c59-3571-4f48-9bcd-e9f04a102c78",
   "metadata": {},
   "source": [
    "**Exercise 5** : Full Names\n",
    "\n",
    "Write a program that takes in a first name and a last name, and prints out a nicely formatted full name, in a sentence. Your sentence could be as simple as, \"Hello, full_name.\""
   ]
  },
  {
   "cell_type": "code",
   "execution_count": null,
   "id": "c249a131-7b3a-4c2d-a4cc-772b5c95e85d",
   "metadata": {},
   "outputs": [],
   "source": [
    "# Write your solution here"
   ]
  },
  {
   "cell_type": "markdown",
   "id": "50bfa6a5-020c-45e3-bbcf-5c9f8f9f236a",
   "metadata": {},
   "source": [
    "**Exercise 6** : Temperature\n",
    "\n",
    "Write a Python program to convert temperatures to and from celsius, fahrenheit.\n",
    "\n",
    "<code>Formula :</code><br>\n",
    "C = (F - 32) x 5/9  (where C = temperature in celsius and F = temperature in fahrenheit)\n",
    "\n",
    "<code>Expected Output :</code><br>\n",
    "60°C is 140 in Fahrenheit<br>\n",
    "45°F is 7 in Celsius"
   ]
  },
  {
   "cell_type": "code",
   "execution_count": null,
   "id": "09e77fd1-822c-42c7-a4c9-898c418db064",
   "metadata": {},
   "outputs": [],
   "source": [
    "# Write your solution here"
   ]
  },
  {
   "cell_type": "markdown",
   "id": "26186b77-302a-4fd0-9b35-18ef5bd7cf33",
   "metadata": {},
   "source": [
    "**Exercise 7:** Cats\n",
    "\n",
    "Write a Python program to calculate a cat's age in cat's years.<br>\n",
    "Note: For the first two years, a cat year is equal to 12.5 human years. After that, each cat year equals 6 human years.\n",
    "\n",
    "<code>Expected Output:</code><br>\n",
    "Input a cat's age in human years: 6<br>\n",
    "The cat's age in cat's years is 49"
   ]
  },
  {
   "cell_type": "code",
   "execution_count": null,
   "id": "a008fb33-1368-4123-a1fa-b046611b86ec",
   "metadata": {},
   "outputs": [],
   "source": [
    "# Write your solution here"
   ]
  }
 ],
 "metadata": {
  "kernelspec": {
   "display_name": "Python 3 (ipykernel)",
   "language": "python",
   "name": "python3"
  },
  "language_info": {
   "codemirror_mode": {
    "name": "ipython",
    "version": 3
   },
   "file_extension": ".py",
   "mimetype": "text/x-python",
   "name": "python",
   "nbconvert_exporter": "python",
   "pygments_lexer": "ipython3",
   "version": "3.12.0"
  }
 },
 "nbformat": 4,
 "nbformat_minor": 5
}
