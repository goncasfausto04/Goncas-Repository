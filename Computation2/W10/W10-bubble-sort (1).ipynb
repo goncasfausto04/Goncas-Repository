{
 "cells": [
  {
   "cell_type": "markdown",
   "id": "bb4aad86-0d3c-4b7b-8a9f-496be07b1557",
   "metadata": {
    "tags": []
   },
   "source": [
    "# **Computação II** <br/>\n",
    "**Bachelor's Degree Programs in Data Science and Information Systems**<br/>\n",
    "**NOVA IMS**<br/>\n",
    "\n",
    "## References\n",
    "1. Data Structures and Algorithms Using Python (2011), by R. D. Necaise\n",
    "2. https://www.programiz.com/dsa/bubble-sort"
   ]
  },
  {
   "cell_type": "markdown",
   "id": "d4012790-e6fa-4203-8096-ba8fe34ad8b2",
   "metadata": {},
   "source": [
    "# Sorting\n",
    "Searching and sorting are two of the most common applications found in computer science. Following [1]:\n",
    "\n",
    "\"*Sorting is the process of arranging or ordering a collection of items such that each item and its successor satisfy a prescribed relationship. (...) the ordering of the items is based on the value of a sort key.*\"\n",
    "\n",
    "The effciency of some applications, like searching algorithms, can be significantly improved when working with sorted data structures.\n",
    "\n",
    "Common examples include sorting:\n",
    "- students by name\n",
    "- cities by population size\n",
    "- list entries on a bank statement by date\n",
    "- etc.\n",
    "\n",
    "\"*Sorting is one of the most studied problems in computer science and extensive research has been done in this area, resulting in many different algorithms*\" [1]."
   ]
  },
  {
   "cell_type": "markdown",
   "id": "bb1d2514-7450-44f2-b53c-5bc690a8ac36",
   "metadata": {},
   "source": [
    "# 1. Bubble Sort"
   ]
  },
  {
   "cell_type": "markdown",
   "id": "accda6c3-29bc-45c8-9561-15cc31b7b3cf",
   "metadata": {},
   "source": [
    "Bubble sort is a sorting algorithm that compares two adjacent elements and swaps them until they are in the intended order.\n",
    "\n",
    "Just like the movement of air bubbles in the water that rise up to the surface, each element of the array move to the end in each iteration. Therefore, it is called a bubble sort.\n",
    "\n",
    "Let's take a look at how bubble sort works:"
   ]
  },
  {
   "cell_type": "markdown",
   "id": "cef42309-daea-4b2e-bda0-7c8b5e6c80c1",
   "metadata": {},
   "source": [
    "<center><img src=\"https://www.programiz.com/sites/tutorial2program/files/Bubble-sort-0.png\" width=350/></center>"
   ]
  },
  {
   "cell_type": "markdown",
   "id": "93d183cf-b149-4c6c-a189-321d2c59c517",
   "metadata": {},
   "source": [
    "After ``step=0``, we have the guarantee that the last element in the sequence is the largest value. \n",
    "Now, we will apply this process again until ``n-1``:"
   ]
  },
  {
   "cell_type": "markdown",
   "id": "883d84fc-208a-4c76-8517-13c39fa2a868",
   "metadata": {},
   "source": [
    "<center><img src=\"https://www.programiz.com/sites/tutorial2program/files/Bubble-sort-1.png\" width=350/></center>"
   ]
  },
  {
   "cell_type": "markdown",
   "id": "ab8f7292-9602-4c1b-b437-e30c44635bd9",
   "metadata": {},
   "source": [
    "In each iteration, the comparison takes place up to the last unsorted element:"
   ]
  },
  {
   "cell_type": "markdown",
   "id": "1c37bb59-17ea-478c-be9a-055d0bac150a",
   "metadata": {},
   "source": [
    "<center><img src=\"https://www.programiz.com/sites/tutorial2program/files/Bubble-sort-2.png\" width=350/></center>"
   ]
  },
  {
   "cell_type": "markdown",
   "id": "2fd2c5c0-e1e4-4d14-b089-b38f0aa2e010",
   "metadata": {},
   "source": [
    "Finally, ``step=3`` will result into the sorted sequence:"
   ]
  },
  {
   "cell_type": "markdown",
   "id": "edc92b87-abe5-4351-856c-b9ba3cd1b949",
   "metadata": {},
   "source": [
    "<center><img src=\"https://www.programiz.com/sites/tutorial2program/files/Bubble-sort-3.png\" width=350/></center>"
   ]
  },
  {
   "cell_type": "markdown",
   "id": "bbbb9e16-91c5-494d-80a4-a8e30f1eb497",
   "metadata": {},
   "source": [
    "Let's implement this algorithm:"
   ]
  },
  {
   "cell_type": "code",
   "execution_count": 18,
   "id": "9273351a-ca02-4d5d-bba9-355d4cd99f37",
   "metadata": {},
   "outputs": [],
   "source": [
    "from copy import deepcopy\n",
    "\n",
    "\n",
    "def bubble_sort(seq):\n",
    "    seq = deepcopy(seq)\n",
    "    for i in range(len(seq)):\n",
    "        for j in range(len(seq)-i-1):\n",
    "            if seq[j] > seq[j+1]:\n",
    "                seq[j], seq[j+1] = seq[j+1], seq[j]\n",
    "    return seq"
   ]
  },
  {
   "cell_type": "code",
   "execution_count": 19,
   "id": "98d57137-aefe-4ec3-a541-71e86477c34b",
   "metadata": {},
   "outputs": [
    {
     "data": {
      "text/plain": [
       "array([4, 4, 3, 3, 4])"
      ]
     },
     "execution_count": 19,
     "metadata": {},
     "output_type": "execute_result"
    }
   ],
   "source": [
    "import numpy as np\n",
    "seq = np.random.randint(0, 5, size=5)\n",
    "seq"
   ]
  },
  {
   "cell_type": "markdown",
   "id": "1a1d7344-9a2e-48a8-b37f-36c27c97b81b",
   "metadata": {},
   "source": [
    "Test the algorithm:"
   ]
  },
  {
   "cell_type": "code",
   "execution_count": 20,
   "id": "e7462238-2c23-4c43-ac7f-a938273704a2",
   "metadata": {},
   "outputs": [
    {
     "data": {
      "text/plain": [
       "[3, 3, 4, 4, 4]"
      ]
     },
     "execution_count": 20,
     "metadata": {},
     "output_type": "execute_result"
    }
   ],
   "source": [
    "example1 = seq.copy().tolist()\n",
    "bubble_sort(example1)"
   ]
  },
  {
   "cell_type": "code",
   "execution_count": 15,
   "id": "178a858a-6706-41d5-b26d-cea9ba7b27aa",
   "metadata": {},
   "outputs": [
    {
     "data": {
      "text/plain": [
       "[3, 3, 3, 2, 3]"
      ]
     },
     "execution_count": 15,
     "metadata": {},
     "output_type": "execute_result"
    }
   ],
   "source": [
    "example1"
   ]
  },
  {
   "cell_type": "markdown",
   "id": "0fa77ccd-5c43-4d6f-acff-a0bddd5bee0c",
   "metadata": {},
   "source": [
    "# 1.2. Optimized Bubble Sort Algorithm"
   ]
  },
  {
   "cell_type": "markdown",
   "id": "1de1d2a5-2589-4083-ab0b-7482bf4908f4",
   "metadata": {},
   "source": [
    "In the above algorithm, all the comparisons are made even if the array is already sorted, which increases the execution time.\n",
    "\n",
    "To solve this, we can add a variable, we will name it ``swapped``. ``swapped`` will be set to ``True`` if any element is swapped at a given step. Otherwise, it should be ``False``.\n",
    "\n",
    "After a step, if there is no swapping, we expect to have ``swapped=False``. This means elements are sorted and there is no need to continue.\n",
    "\n",
    "This will reduce the execution time and helps to optimize the bubble sort.\n",
    "\n",
    "Let's implement this:"
   ]
  },
  {
   "cell_type": "code",
   "execution_count": 15,
   "id": "c24709fd-e2af-44f8-a4b7-c5f89c3099ba",
   "metadata": {},
   "outputs": [],
   "source": [
    "from copy import deepcopy\n",
    "\n",
    "def bubble_sort(seq, inplace=False):\n",
    "    if not inplace:\n",
    "        seq = deepcopy(seq)\n",
    "    \n",
    "    for i in range(len(seq)):\n",
    "        \n",
    "        # Helper variable to track whether swaps were done\n",
    "        swapped = False\n",
    "\n",
    "        # Partial sort\n",
    "        for j in range(len(seq)-i-1):\n",
    "            if seq[j] > seq[j+1]:\n",
    "                seq[j], seq[j+1] = seq[j+1], seq[j]\n",
    "                swapped = True\n",
    "        \n",
    "        # If no value swaps were done, early stop\n",
    "        if not swapped:\n",
    "            break\n",
    "    \n",
    "    if not inplace:\n",
    "        return seq"
   ]
  },
  {
   "cell_type": "code",
   "execution_count": 19,
   "id": "e8ff0017-7c38-4350-8981-b818872a7eff",
   "metadata": {},
   "outputs": [],
   "source": [
    "bubble_sort(example1, True)"
   ]
  },
  {
   "cell_type": "code",
   "execution_count": 20,
   "id": "b7a4e2c5-ec30-4a61-9121-15955cf5472b",
   "metadata": {},
   "outputs": [
    {
     "data": {
      "text/plain": [
       "[0, 2, 2, 3, 4]"
      ]
     },
     "execution_count": 20,
     "metadata": {},
     "output_type": "execute_result"
    }
   ],
   "source": [
    "example1"
   ]
  },
  {
   "cell_type": "markdown",
   "id": "c24cba94-7fe1-4e9c-b04f-acdde91eec06",
   "metadata": {},
   "source": [
    "# 1.3. Time and space complexity of Bubble Sort"
   ]
  },
  {
   "cell_type": "markdown",
   "id": "56cccd7b-b352-43b6-ac29-d64698a91784",
   "metadata": {},
   "source": [
    "To understand the time complexity of this algorithm, we can look into the number of comparisons done in the best, average and worst case scenarios:"
   ]
  },
  {
   "cell_type": "raw",
   "id": "b2f23b99-c343-4ab7-b1fb-bbeaeadbc41e",
   "metadata": {},
   "source": [
    "Analyze time complexity here:\n",
    "O(n^2)"
   ]
  },
  {
   "cell_type": "markdown",
   "id": "dd7b42de-82ac-449f-b5fc-ca077c8f17a5",
   "metadata": {},
   "source": [
    "Understanding the space complexity of Bubble sort is quite simple:"
   ]
  },
  {
   "cell_type": "raw",
   "id": "c20dc766-26f8-49d7-8276-cfc775d8cbda",
   "metadata": {},
   "source": [
    "Analyze space complexity here:\n",
    "O(1)"
   ]
  }
 ],
 "metadata": {
  "kernelspec": {
   "display_name": "Python 3 (ipykernel)",
   "language": "python",
   "name": "python3"
  },
  "language_info": {
   "codemirror_mode": {
    "name": "ipython",
    "version": 3
   },
   "file_extension": ".py",
   "mimetype": "text/x-python",
   "name": "python",
   "nbconvert_exporter": "python",
   "pygments_lexer": "ipython3",
   "version": "3.11.9"
  }
 },
 "nbformat": 4,
 "nbformat_minor": 5
}
