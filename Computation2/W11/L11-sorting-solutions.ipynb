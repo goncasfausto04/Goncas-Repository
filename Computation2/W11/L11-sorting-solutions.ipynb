{
 "cells": [
  {
   "cell_type": "markdown",
   "id": "7c2562ee-8187-40c5-a7ba-9e9fbc41be78",
   "metadata": {
    "tags": []
   },
   "source": [
    "# **Computation II: Algorithms & Data Structures** <br/>\n",
    "**Bachelor's Degree Programs in Data Science and Information Systems**<br/>\n",
    "**NOVA IMS**<br/>\n",
    "\n",
    "**NOTE:** Adapted from Prof. Dr. Illya Bakurov's class materials.\n",
    "\n",
    "\n",
    "## References\n",
    "1. Data Structures and Algorithms with Python (2015), by K. D. Lee and S. Hubbard"
   ]
  },
  {
   "cell_type": "markdown",
   "id": "02c4ed4f-f028-49af-b7bb-2cd34a4c99d8",
   "metadata": {},
   "source": [
    "# 1. Sorting\n",
    "Searching and sorting are two of the most common applications found in computer science. Following [1]:\n",
    "\n",
    "\"*Sorting is the process of arranging or ordering a collection of items such that each item and its successor satisfy a prescribed relationship. (...) the ordering of the items is based on the value of a sort key.*\"\n",
    "\n",
    "The effciency of some applications, like searching algorithms, can be significantly improved when working with sorted data structures.\n",
    "\n",
    "Common examples include sorting:\n",
    "- students by name\n",
    "- cities by population size\n",
    "- list entries on a bank statement by date\n",
    "- etc.\n",
    "\n",
    "\"*Sorting is one of the most studied problems in computer science and extensive research has been done in this area, resulting in many different algorithms*\" [1]."
   ]
  },
  {
   "cell_type": "markdown",
   "id": "b22cd9cb-538b-4dd2-8b29-356ef590c36c",
   "metadata": {},
   "source": [
    "Imports ``numpy`` to generate random values and manipulate arrays."
   ]
  },
  {
   "cell_type": "code",
   "execution_count": 7,
   "id": "f13a2871-0b25-4b8d-b7ac-9d15831d8657",
   "metadata": {},
   "outputs": [],
   "source": [
    "import numpy as np"
   ]
  },
  {
   "cell_type": "markdown",
   "id": "94dc4c35-e32c-4fe4-99ed-5f815e060029",
   "metadata": {},
   "source": [
    "Generates an example."
   ]
  },
  {
   "cell_type": "code",
   "execution_count": 8,
   "id": "d1c0414e-04a7-45aa-b32d-b15f8d293576",
   "metadata": {},
   "outputs": [
    {
     "name": "stdout",
     "output_type": "stream",
     "text": [
      "Example of an unsorted array:\t [99 25 17 40 42 89  2 29 38 82]\n",
      "Example of a sorted array:\t [ 0 10 20 30 40 50 60 70 80 90]\n"
     ]
    }
   ],
   "source": [
    "vec_unsorted = np.random.randint(0, 100, 10)\n",
    "print(\"Example of an unsorted array:\\t\", vec_unsorted)\n",
    "vec_sorted = np.arange(0, 100, 10)\n",
    "print(\"Example of a sorted array:\\t\", vec_sorted)"
   ]
  },
  {
   "cell_type": "markdown",
   "id": "16c48d4a-b44a-45ea-9760-f2270185186a",
   "metadata": {},
   "source": [
    "# 1.1. Insertion sort (ascending order) \n",
    "Consider an unsorted input 1D array $a$ of size $n$. Imagine $a$ is made of two sub-arrays (parts):\n",
    "1. includes index $i=0$ and represents the sorted sub-array\n",
    "2. includes indices $i=\\{1, 2,\\ ...,\\ n\\}$ and represents the unsorted sub-array\n",
    "\n",
    "For each index $i$, starting at $i=1$, the algorithm *inserts* $a[i]$ within the sorted sub-array at the *correct* index (preserving the order in the sorted sub-array). Specifically:\n",
    "- For each value $a[i]$, in the *unsorted* sub-array (starting at $i=1$):\n",
    "- For each value $a[j]$, in the *sorted* array (starting from the bottom, at $j=i$)\n",
    "    - Compare $a[j]$ to $a[j-1]$\n",
    "    - If $a[j] < a[j-1]$, swap $a[j]$ with $a[j-1]$        \n",
    "\n",
    "Consider the following visual example:\n",
    "<center><img src=\"https://www.pythonpool.com/wp-content/uploads/2020/02/insertion-sort.gif\" width=350/></center>\n",
    "\n",
    "The time complexity for this algorithm can be defined as $O(n^2)$."
   ]
  },
  {
   "cell_type": "markdown",
   "id": "a351aa35-d620-41ea-9afb-317400a0170c",
   "metadata": {},
   "source": [
    "**The purpose of this exercise is to manually implement the insertion sort algorithm.**\n",
    "\n",
    "The implementation below also counts the number of comparisons and swaps."
   ]
  },
  {
   "cell_type": "code",
   "execution_count": 50,
   "id": "43d8c3b6-23b2-4b90-87fa-d1b2d03db476",
   "metadata": {},
   "outputs": [],
   "source": [
    "def swap (a, i, j):\n",
    "    temp = a[i]\n",
    "    a[i] = a[j]\n",
    "    a[j] = temp\n",
    "    \n",
    "def sort_insertion(a):    \n",
    "    # Creates a copy of a\n",
    "    a_sorted = a.copy()\n",
    "    # Initialize counters for compares and swaps\n",
    "    compares, swaps = 0, 0\n",
    "    for i in range(1, len(a)):\n",
    "        for j in range(i, 0, -1):  \n",
    "            # Count compares\n",
    "            compares += 1\n",
    "            if a_sorted[j] < a_sorted[j-1]:\n",
    "                # Count swaps\n",
    "                swaps += 1\n",
    "                swap(a_sorted, j, j-1)\n",
    "    \n",
    "    return a_sorted, compares, swaps"
   ]
  },
  {
   "cell_type": "markdown",
   "id": "86171988-ad2b-49b4-90d9-3066f99f8304",
   "metadata": {},
   "source": [
    "Tests ``sort_insertion()``. The test is carried ``n_tests`` times, each with a different randomly initialized array. "
   ]
  },
  {
   "cell_type": "code",
   "execution_count": 87,
   "id": "ea6ad817-462c-4403-a9ac-d92b2e165ae6",
   "metadata": {},
   "outputs": [
    {
     "name": "stdout",
     "output_type": "stream",
     "text": [
      "Example of an unsorted array:\t [8 7 2 6 4 7 1 1 1 7]\n",
      "Example of a sorted array:\t [1 1 1 2 4 6 7 7 7 8]\n",
      "Total: compares=34 \t swaps=28\n",
      "\n",
      "Example of an unsorted array:\t [5 1 9 1 0 9 8 4 2 4]\n",
      "Example of a sorted array:\t [0 1 1 2 4 4 5 8 9 9]\n",
      "Total: compares=29 \t swaps=22\n",
      "\n",
      "Example of an unsorted array:\t [1 0 4 5 8 3 0 3 6 5]\n",
      "Example of a sorted array:\t [0 0 1 3 3 4 5 5 6 8]\n",
      "Total: compares=23 \t swaps=15\n",
      "\n"
     ]
    }
   ],
   "source": [
    "n_tests = 3\n",
    "for a in range(n_tests):\n",
    "    array = np.random.randint(0, 10, 10)\n",
    "    print(\"Example of an unsorted array:\\t\", array)\n",
    "    a_sorted, compares, swaps = sort_insertion(array)\n",
    "    print(\"Example of a sorted array:\\t\", a_sorted)\n",
    "    print(\"Total: compares={} \\t swaps={}\".format(compares, swaps), end=\"\\n\\n\")"
   ]
  },
  {
   "cell_type": "markdown",
   "id": "ae36f71f-d3b4-42ab-89ec-f96194f0524e",
   "metadata": {},
   "source": [
    "Note that the number of comparisons is the same regardless of the input array and is the largest possible value: $\\frac{n(n-1)}{2}=\\frac{10\\times 9}{2}=45$. The function ``sort_insertion()`` does not avoid unnecessary comparisons when some of the values do not need to be swapped. In other words, if the largest (outermost) value in the *sorted* array is smaller than the first value in the *unsorted* array, then one can simply *expand* the *sorted* array by including that value. **This becomes particularly clear when the input array is nearly sorted.** Consider a more efficient version - ``sort_insertion_()``, where the inner ``for`` loop was replaced with a ``while`` loop in order to embed the ``if`` statement."
   ]
  },
  {
   "cell_type": "code",
   "execution_count": 220,
   "id": "18c171a9-4965-4b37-9d30-501135cb2047",
   "metadata": {},
   "outputs": [],
   "source": [
    "def sort_insertion_while(a):\n",
    "    a_sorted = a.copy()\n",
    "    compares, swaps = 0, 0\n",
    "    for i in range(1, len(a)):\n",
    "        j = i  # aka key   \n",
    "        # Count compares (for the first pair of values)\n",
    "        compares += 1\n",
    "        while a[j] < a[j-1] and j > 0:\n",
    "            # Count swaps\n",
    "            swaps += 1\n",
    "            swap(a, j, j-1)\n",
    "            j = j - 1\n",
    "            # Count compares (for the remaining pairs)\n",
    "            compares += 1\n",
    "    return a, compares, swaps"
   ]
  },
  {
   "cell_type": "markdown",
   "id": "3d9a4542-ccb9-4319-9be8-f25f05ca05f6",
   "metadata": {},
   "source": [
    "Tests ``sort_insertion_while()``. The test is carried out using a *nearly* sorted array. Note that the number of comparisons was significantly reduced."
   ]
  },
  {
   "cell_type": "code",
   "execution_count": 221,
   "id": "212565a0-2160-4708-9408-28f129857cd6",
   "metadata": {},
   "outputs": [
    {
     "name": "stdout",
     "output_type": "stream",
     "text": [
      "Example of an unsorted array:\t [1 2 3 4 3 4 6 8 7]\n",
      "Example of a sorted array:\t [1 2 3 3 4 4 6 7 8]\n",
      "Total: compares=10 \t swaps=2\n",
      "\n"
     ]
    }
   ],
   "source": [
    "array = np.array([1, 2, 3, 4, 3, 4, 6, 8, 7])\n",
    "print(\"Example of an unsorted array:\\t\", array)\n",
    "a_sorted, compares, swaps = sort_insertion_while(array)\n",
    "print(\"Example of a sorted array:\\t\", a_sorted)\n",
    "print(\"Total: compares={} \\t swaps={}\".format(compares, swaps), end=\"\\n\\n\")"
   ]
  },
  {
   "cell_type": "markdown",
   "id": "9f96cd19-028e-459d-8d65-fb2a9c0c2183",
   "metadata": {},
   "source": [
    "Consider an alternative (efficient) version where the ``if`` statement was extended with an ``else`` case that breaks the inner loop when more swaps are necessary."
   ]
  },
  {
   "cell_type": "code",
   "execution_count": 227,
   "id": "f18c546d-cca9-4cc2-a6ff-0da27cda0069",
   "metadata": {},
   "outputs": [],
   "source": [
    "def sort_insertion_break(a):    \n",
    "    a_sorted = a.copy()\n",
    "    compares, swaps = 0, 0\n",
    "    for i in range(1, len(a)):\n",
    "        for j in range(i, 0, -1):  \n",
    "            compares += 1\n",
    "            if a_sorted[j] < a_sorted[j-1]:\n",
    "                swaps += 1\n",
    "                swap(a_sorted, j, j-1)\n",
    "            else:\n",
    "                break\n",
    "    \n",
    "    return a_sorted, compares, swaps"
   ]
  },
  {
   "cell_type": "markdown",
   "id": "c12e1caa-aa4d-4181-8d96-1d5582ece2b8",
   "metadata": {},
   "source": [
    "Tests ``sort_insertion_break()``. The test is carried out using a *nearly* sorted array. Note that the number of comparisons was significantly reduced."
   ]
  },
  {
   "cell_type": "code",
   "execution_count": 228,
   "id": "7dad74d5-18b5-4a7a-94a6-c635010853b5",
   "metadata": {},
   "outputs": [
    {
     "name": "stdout",
     "output_type": "stream",
     "text": [
      "Example of an unsorted array:\t [1 2 3 4 3 4 6 8 7]\n",
      "Example of a sorted array:\t [1 2 3 3 4 4 6 7 8]\n",
      "Total: compares=10 \t swaps=2\n",
      "\n"
     ]
    }
   ],
   "source": [
    "array = np.array([1, 2, 3, 4, 3, 4, 6, 8, 7])\n",
    "print(\"Example of an unsorted array:\\t\", array)\n",
    "a_sorted, compares, swaps = sort_insertion_break(array)\n",
    "print(\"Example of a sorted array:\\t\", a_sorted)\n",
    "print(\"Total: compares={} \\t swaps={}\".format(compares, swaps), end=\"\\n\\n\")"
   ]
  },
  {
   "cell_type": "markdown",
   "id": "ef9a56f1-38eb-45bf-9411-cb1e5b3ed6af",
   "metadata": {
    "tags": []
   },
   "source": [
    "## 1.2. Merge sort\n",
    "The merge sort algorithm is an instance of the so-called *divide and conquer algorithms*. The basic premise is that we divide a problem into two pieces. Each of the two pieces is easier to solve than trying to tackle the whole problem at once because the two pieces are each smaller [1].\n",
    "\n",
    "Divide and conquer algorithms are usually written recursively, but don't necessarily have to be. Recall that: \n",
    "\n",
    "\"*A recurrence relation defines a function by means of an expression that includes one or more (smaller) instances of itself.*\"\n",
    "\n",
    "Merge sort divides the list in two parts, then divides each resulting part again and again, until the lists are no longer divisible (i.e., of size 1). Notice that a sublist of length 1 is already sorted (similarly to the starting point of the insertion sort). Two sorted sublists can be easily merged into one sorted list. In visual terms: \n",
    "\n",
    "<center><img src=\"https://upload.wikimedia.org/wikipedia/commons/thumb/e/e6/Merge_sort_algorithm_diagram.svg/800px-Merge_sort_algorithm_diagram.svg.png\" width=350/></center>\n",
    "\n",
    "Consider the following pseudo-code for the ``sort_merge()`` function:\n",
    "- given an input array $a$ of length $n$\n",
    "- if the number of elements in $a$ equals to 1, terminate by returning $a$ (sorted array)\n",
    "- alternatively:\n",
    "    - call ``sort_merge()`` on the first half of $a$\n",
    "    - call ``sort_merge()`` on the second half of $a$\n",
    "    - merge the two resulting halves into a single sorted array. For this purpose, use an auxiliary function called ``merge()`` that encapsulates this procedure.\n",
    "\n",
    "Following K. D. Lee and S. Hubbard [1]:\n",
    "\n",
    "\"*A list can be divided into lists of size 1 by repeatedly splitting in $O(log(n))$ time. Each of the split lists are then merged together in $O(n)$ time. This results in a complexity of $O(n\\ log(n))$ for merge sort.*\""
   ]
  },
  {
   "cell_type": "markdown",
   "id": "2b9dcf24-10c3-408c-9638-2636f319506a",
   "metadata": {},
   "source": [
    "Implements ``sort_merge()`` following the pseudo-code."
   ]
  },
  {
   "cell_type": "code",
   "execution_count": 235,
   "id": "af172366-b1df-4cde-9cb0-5078bfa7892f",
   "metadata": {},
   "outputs": [],
   "source": [
    "def sort_merge(a):\n",
    "    if len(a) == 1:\n",
    "        return a\n",
    "    \n",
    "    idx_half = len(a) // 2\n",
    "    a_left = sort_merge(a[: idx_half])\n",
    "    a_right = sort_merge(a[idx_half: ])    \n",
    "    return merge(a_left, a_right)"
   ]
  },
  {
   "cell_type": "markdown",
   "id": "12bc52d3-0094-49c5-8557-6a6671979c05",
   "metadata": {},
   "source": [
    "Implements the auxiliary function ``merge()`` that merges two arrays (representing two sorted halves), in sorted manner."
   ]
  },
  {
   "cell_type": "code",
   "execution_count": 236,
   "id": "355e62b7-75a6-4147-8c28-dfbdad9c10b7",
   "metadata": {},
   "outputs": [],
   "source": [
    "def merge(a_left, a_right):\n",
    "    a_sorted = []\n",
    "    i = j = 0\n",
    "    while i < len(a_left) and j < len(a_right):\n",
    "        if a_left[i] < a_right[j]:\n",
    "            a_sorted.append(a_left[i])\n",
    "            i += 1\n",
    "        else:\n",
    "            a_sorted.append(a_right[j])\n",
    "            j += 1\n",
    "        \n",
    "    if i < len(a_left):\n",
    "        a_sorted.extend(a_left[i:])\n",
    "    if j < len(a_right):\n",
    "        a_sorted.extend(a_right[j:])    \n",
    "    return a_sorted"
   ]
  },
  {
   "cell_type": "markdown",
   "id": "7b69a91c-d4ec-4199-877d-6cf4a66f73e5",
   "metadata": {},
   "source": [
    "Tests ``sort_merge()``."
   ]
  },
  {
   "cell_type": "code",
   "execution_count": 239,
   "id": "484ed39f-c18e-4910-b344-1466ea91a0fd",
   "metadata": {},
   "outputs": [
    {
     "name": "stdout",
     "output_type": "stream",
     "text": [
      "Example of an unsorted array:\t [2 7 0 4 2 1 8 3 9 7]\n",
      "Example of a sorted array:\t [0, 1, 2, 2, 3, 4, 7, 7, 8, 9]\n"
     ]
    }
   ],
   "source": [
    "array = np.random.randint(0, 10, 10)\n",
    "print(\"Example of an unsorted array:\\t\", array)\n",
    "sorted_array = sort_merge(array)\n",
    "print(\"Example of a sorted array:\\t\", sorted_array)"
   ]
  }
 ],
 "metadata": {
  "kernelspec": {
   "display_name": "Python 3 (ipykernel)",
   "language": "python",
   "name": "python3"
  },
  "language_info": {
   "codemirror_mode": {
    "name": "ipython",
    "version": 3
   },
   "file_extension": ".py",
   "mimetype": "text/x-python",
   "name": "python",
   "nbconvert_exporter": "python",
   "pygments_lexer": "ipython3",
   "version": "3.9.12"
  }
 },
 "nbformat": 4,
 "nbformat_minor": 5
}
