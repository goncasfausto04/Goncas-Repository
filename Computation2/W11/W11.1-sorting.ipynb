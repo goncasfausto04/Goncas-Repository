{
 "cells": [
  {
   "cell_type": "markdown",
   "id": "c95a7657-8f32-43dc-8c9a-2a75636a249a",
   "metadata": {},
   "source": [
    "## __COMPUTATION II: ALGORITHMS & DATA STRUCTURES__\n",
    "\n",
    "## Practical Classes\n",
    "\n",
    "## Week 11: Sorting Algorithms"
   ]
  },
  {
   "cell_type": "markdown",
   "id": "94e70df0-e788-47c9-a714-e013c14c2eba",
   "metadata": {},
   "source": [
    "# Swap Function"
   ]
  },
  {
   "cell_type": "code",
   "execution_count": 61,
   "id": "4f9a827f-6f9d-4db6-b65d-bc331568a5f6",
   "metadata": {},
   "outputs": [],
   "source": [
    "def swap(seq,first,second):\n",
    "    temp = seq[first]\n",
    "    seq[first] = seq[second]\n",
    "    seq[second] = temp\n",
    "    return seq "
   ]
  },
  {
   "cell_type": "markdown",
   "id": "86622a3e-a1fe-46e2-b521-31a37400a8e5",
   "metadata": {},
   "source": [
    "- In Python, you can perform swap without the temporary variable:"
   ]
  },
  {
   "cell_type": "code",
   "execution_count": null,
   "id": "348feb64-41d7-4a2d-a16f-33078a5c9b2a",
   "metadata": {},
   "outputs": [],
   "source": []
  },
  {
   "cell_type": "markdown",
   "id": "6752ffcc-8d7c-4d33-81e7-c5a8bc221f7b",
   "metadata": {},
   "source": [
    "# Insertion Sort"
   ]
  },
  {
   "cell_type": "code",
   "execution_count": 62,
   "id": "15c43b73-3ef8-414d-9a9c-e477ac115c20",
   "metadata": {},
   "outputs": [],
   "source": [
    "def insertion_sort(list):\n",
    "    for i in range(1, len(list)):\n",
    "        for j in range(i,0,-1):\n",
    "            if list[j] < list[j-1]:\n",
    "                swap(list, j, j-1)\n",
    "    return list"
   ]
  },
  {
   "cell_type": "code",
   "execution_count": 63,
   "id": "0b9c8670-9a39-4786-b62d-7a15e1a62955",
   "metadata": {},
   "outputs": [
    {
     "data": {
      "text/plain": [
       "[0, 2, 3, 4, 6]"
      ]
     },
     "execution_count": 63,
     "metadata": {},
     "output_type": "execute_result"
    }
   ],
   "source": [
    "insertion_sort([4,6,2,3,0])"
   ]
  },
  {
   "cell_type": "markdown",
   "id": "7d109c0c-3332-4677-9d6d-0977c9ab615b",
   "metadata": {},
   "source": [
    "- A possible improvement for insertion sort:"
   ]
  },
  {
   "cell_type": "code",
   "execution_count": null,
   "id": "eaa6c2d2-9f2a-457f-989f-2f22ad3aa619",
   "metadata": {},
   "outputs": [],
   "source": []
  },
  {
   "cell_type": "code",
   "execution_count": 25,
   "id": "54be8ec9-9f0f-4a58-a119-b30fed8178c9",
   "metadata": {},
   "outputs": [],
   "source": [
    "# insertion_sort([4,6,2,3,0])"
   ]
  },
  {
   "cell_type": "markdown",
   "id": "103830cd-3610-41ab-8732-36340eda70ec",
   "metadata": {},
   "source": [
    "# Selection Sort\n",
    "[See explanation here](https://www.geeksforgeeks.org/selection-sort/)"
   ]
  },
  {
   "cell_type": "code",
   "execution_count": 68,
   "id": "85f4a877-5aea-478f-a289-da24734bf9c5",
   "metadata": {},
   "outputs": [],
   "source": [
    "def selection_sort(list):\n",
    "    for idx_curr in range(len(list)):\n",
    "        idx_min = idx_curr\n",
    "        for i in range(idx_curr, len(list)):\n",
    "            if list[i] < list[idx_min]:\n",
    "                idx_min = i\n",
    "        swap(list, idx_curr, idx_min)\n",
    "    \n",
    "    return list"
   ]
  },
  {
   "cell_type": "code",
   "execution_count": 69,
   "id": "92f40683-66bd-43de-a19a-5d5e2d1bbeb2",
   "metadata": {},
   "outputs": [
    {
     "data": {
      "text/plain": [
       "[0, 2, 3, 4, 6]"
      ]
     },
     "execution_count": 69,
     "metadata": {},
     "output_type": "execute_result"
    }
   ],
   "source": [
    "selection_sort([4,6,2,3,0])"
   ]
  },
  {
   "cell_type": "code",
   "execution_count": null,
   "id": "ed24d998-c18f-4cb7-a570-ac38df2d79b2",
   "metadata": {},
   "outputs": [],
   "source": []
  },
  {
   "cell_type": "markdown",
   "id": "a20ad1a5",
   "metadata": {},
   "source": [
    "# Merge Sort\n",
    "\n",
    "**Revisiting the explanation from the theory class:**\n",
    "\n",
    "<center><img src=\"https://upload.wikimedia.org/wikipedia/commons/thumb/e/e6/Merge_sort_algorithm_diagram.svg/800px-Merge_sort_algorithm_diagram.svg.png\" width=350/></center>\n",
    "\n",
    "Consider the following pseudo-code for the ``sort_merge()`` function:\n",
    "- given an input array $a$ of length $n$\n",
    "- if the number of elements in $a$ equals to 1, terminate by returning $a$ (sorted array)\n",
    "- alternatively:\n",
    "    - call ``sort_merge()`` on the first half of $a$\n",
    "    - call ``sort_merge()`` on the second half of $a$\n",
    "    - merge the two resulting halves into a single sorted array. For this purpose, use an auxiliary function called ``merge()`` that encapsulates this procedure.\n",
    "\n",
    "Following K. D. Lee and S. Hubbard [1]:\n",
    "\n",
    "\"*A list can be divided into lists of size 1 by repeatedly splitting in $O(log(n))$ time. Each of the split lists are then merged together in $O(n)$ time. This results in a complexity of $O(n\\ log(n))$ for merge sort.*\""
   ]
  },
  {
   "cell_type": "code",
   "execution_count": 79,
   "id": "1dd260a9",
   "metadata": {},
   "outputs": [],
   "source": [
    "def merge(left,right):\n",
    "    i=0\n",
    "    j=0\n",
    "    output = []\n",
    "    while i < len(left) and j < len(right):\n",
    "        if left[i] < right[j]:\n",
    "            output.append(left[i])\n",
    "            i += 1\n",
    "        else:\n",
    "            output.append(right[j])\n",
    "            j += 1\n",
    "    output.extend(left[i:])\n",
    "    output.extend(right[j:])\n",
    "    return output\n",
    "\n",
    "def merge_sort(list):\n",
    "    if len(list) == 1:\n",
    "        return list\n",
    "    idx_half = len(list) // 2\n",
    "    left = list[:idx_half]\n",
    "    right = list[idx_half:]\n",
    "    return merge(merge_sort(left), merge_sort(right))"
   ]
  },
  {
   "cell_type": "code",
   "execution_count": 80,
   "id": "e8708166",
   "metadata": {},
   "outputs": [
    {
     "data": {
      "text/plain": [
       "[0, 2, 3, 4, 6]"
      ]
     },
     "execution_count": 80,
     "metadata": {},
     "output_type": "execute_result"
    }
   ],
   "source": [
    "merge_sort([4,6,2,3,0])"
   ]
  },
  {
   "cell_type": "code",
   "execution_count": null,
   "id": "6f8f88b3",
   "metadata": {},
   "outputs": [],
   "source": []
  },
  {
   "cell_type": "markdown",
   "id": "686ef017-231b-4176-a39f-7b2c746303b5",
   "metadata": {},
   "source": [
    "# Bubble Sort"
   ]
  },
  {
   "cell_type": "markdown",
   "id": "8b788be3",
   "metadata": {},
   "source": [
    "- If there's time: Reimplement the Bubble sort algorithm (using the ``swap`` function)."
   ]
  },
  {
   "cell_type": "code",
   "execution_count": null,
   "id": "ed0650e6-039f-4ba8-820c-9d8a34c0f264",
   "metadata": {},
   "outputs": [],
   "source": []
  },
  {
   "cell_type": "markdown",
   "id": "33b07ab8-5c49-4df7-ae7d-eae9ffef770e",
   "metadata": {},
   "source": [
    "- A possible improvement for bubble sort:"
   ]
  },
  {
   "cell_type": "code",
   "execution_count": null,
   "id": "a5fed6ae-d07c-406e-a228-f83c74c7ffa1",
   "metadata": {},
   "outputs": [],
   "source": []
  },
  {
   "cell_type": "code",
   "execution_count": 23,
   "id": "37470005-4305-4beb-8479-e9acaa53f04a",
   "metadata": {},
   "outputs": [],
   "source": [
    "# bubble_sort([4,6,2,3,0])"
   ]
  }
 ],
 "metadata": {
  "kernelspec": {
   "display_name": "Python 3 (ipykernel)",
   "language": "python",
   "name": "python3"
  },
  "language_info": {
   "codemirror_mode": {
    "name": "ipython",
    "version": 3
   },
   "file_extension": ".py",
   "mimetype": "text/x-python",
   "name": "python",
   "nbconvert_exporter": "python",
   "pygments_lexer": "ipython3",
   "version": "3.11.8"
  }
 },
 "nbformat": 4,
 "nbformat_minor": 5
}
