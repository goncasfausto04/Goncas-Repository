{
 "cells": [
  {
   "cell_type": "markdown",
   "id": "71213a97-2ac6-4469-b60c-15d9ca4218d2",
   "metadata": {},
   "source": [
    "## __COMPUTATION II: ALGORITHMS & DATA STRUCTURES__\n",
    "\n",
    "## Practical Classes\n",
    "\n",
    "## Week 11: Sorting Algorithms & Exercises"
   ]
  },
  {
   "cell_type": "code",
   "execution_count": 2,
   "id": "c65fd49f",
   "metadata": {},
   "outputs": [],
   "source": [
    "import numpy as np\n",
    "\n",
    "def swap(seq,first,second):\n",
    "    temp = seq[first]\n",
    "    seq[first] = seq[second]\n",
    "    seq[second] = temp\n",
    "    return seq "
   ]
  },
  {
   "cell_type": "markdown",
   "id": "d90e2b69-be35-48a0-aa00-e0555d8f2dd4",
   "metadata": {},
   "source": [
    "## Shell Sort\n",
    "[See explanation here](https://www.programiz.com/dsa/shell-sort)"
   ]
  },
  {
   "cell_type": "code",
   "execution_count": 7,
   "id": "74b22a48-d370-4766-bacf-ed1a53c0d183",
   "metadata": {},
   "outputs": [
    {
     "name": "stdout",
     "output_type": "stream",
     "text": [
      "[2, 4, 7, 7, 12, 12, 12, 13, 15, 20, 23, 34, 42, 42, 45, 56, 68, 356]\n"
     ]
    }
   ],
   "source": [
    "def shell_sort(array):\n",
    "    gap = len(array)//2\n",
    "    while gap > 0:\n",
    "        for j in range(gap,len(array)):\n",
    "            while j>=gap and array[j] < array[j-gap]:\n",
    "                array = swap(array,j,j-gap)\n",
    "                j -= gap\n",
    "        gap = gap//2\n",
    "    return array\n",
    "\n",
    "\n",
    "print(shell_sort([34,12,20,7,12,13,15,2,23,45,42,42,68,4,7,12,56,356]))"
   ]
  },
  {
   "cell_type": "code",
   "execution_count": null,
   "id": "6fbc78e1",
   "metadata": {},
   "outputs": [],
   "source": [
    "\n",
    "\n"
   ]
  },
  {
   "cell_type": "markdown",
   "id": "2ef485f4-cc14-43b2-967e-112f3c445070",
   "metadata": {},
   "source": [
    "## Running Time Visualization"
   ]
  },
  {
   "cell_type": "markdown",
   "id": "b02f8d5d-f922-425d-85a2-99eadd31b6e8",
   "metadata": {},
   "source": [
    "Running time is how long it takes a program to run\n",
    "\n",
    "Time complexity is a description of the asymptotic behavior of running time as input size tends to infinity.\n",
    "\n",
    "They are two different things!!!"
   ]
  },
  {
   "cell_type": "code",
   "execution_count": 82,
   "id": "7754e86b-2b36-4caa-b851-b0eb4c1788b6",
   "metadata": {},
   "outputs": [],
   "source": [
    "import timeit\n",
    "import numpy as np\n",
    "import matplotlib.pyplot as plt\n",
    "import random"
   ]
  },
  {
   "cell_type": "code",
   "execution_count": 85,
   "id": "fc513352-d7a9-4397-8ae8-d81a5dba99ca",
   "metadata": {},
   "outputs": [],
   "source": [
    "def insertion_sort(array):\n",
    "    for i in range(1,len(array)):\n",
    "        for j in range(i,0,-1):\n",
    "            if array[j] < array[j-1]:\n",
    "                array[j], array[j-1] = array[j-1], array[j]\n",
    "    return array\n",
    "\n",
    "def bubble_sort(array):\n",
    "    for i in range(0,len(array)):\n",
    "        for j in range(0,len(array)-i-1):\n",
    "            if array[j] > array[j+1]:\n",
    "                array[j], array[j+1] = array[j+1], array[j]\n",
    "    return array\n",
    "\n",
    "def selection_sort(array):\n",
    "    for i in range(0,len(array)):\n",
    "        index_of_min = i\n",
    "        for j in range(i+1,len(array)):\n",
    "            if array[j] < array[index_of_min]:\n",
    "                index_of_min = j\n",
    "        array[i], array[index_of_min] = array[index_of_min], array[i]\n",
    "    return array\n",
    "\n",
    "# ------------------------------------------------------------------------------------------\n",
    "# Where is ``merge_sort``? If we didn't implement it last class, we might have to do it now! \n",
    "# ------------------------------------------------------------------------------------------\n",
    "\n",
    "def merge(left,right):\n",
    "    output = []\n",
    "    i = 0\n",
    "    j = 0\n",
    "    while i < len(left) and j < len(right):\n",
    "        if left[i] < right[j]:\n",
    "            output.append(left[i])\n",
    "            i += 1\n",
    "        else:\n",
    "            output.append(right[j])\n",
    "            j += 1\n",
    "    output.extend(left[i:])\n",
    "    output.extend(right[j:])\n",
    "    return output\n",
    "\n",
    "def merge_sort(array):\n",
    "    if len(array) == 1:\n",
    "        return array\n",
    "    else:\n",
    "        mid = len(array)//2\n",
    "        left = merge_sort(array[:mid])\n",
    "        right = merge_sort(array[mid:])\n",
    "        return merge(left,right)\n",
    "    \n",
    "merge_sort([34,12,20,7,12,13,15,2,23,45,42,42,68,4,7,12,56,356])\n",
    "lista = [34,12,20,7,12,13,15,2,23,45,42,42,68,4,7,12,56,356]\n",
    "    "
   ]
  },
  {
   "cell_type": "code",
   "execution_count": 93,
   "id": "0994e0cb-932d-41f0-bcff-71dbb40d70b5",
   "metadata": {},
   "outputs": [
    {
     "data": {
      "text/plain": [
       "0.002659899997524917"
      ]
     },
     "execution_count": 93,
     "metadata": {},
     "output_type": "execute_result"
    }
   ],
   "source": [
    "\n",
    "timeit.timeit(lambda: insertion_sort(lista), number=100)"
   ]
  },
  {
   "cell_type": "code",
   "execution_count": 94,
   "id": "7a952fcd",
   "metadata": {},
   "outputs": [
    {
     "data": {
      "text/plain": [
       "0.0035698999417945743"
      ]
     },
     "execution_count": 94,
     "metadata": {},
     "output_type": "execute_result"
    }
   ],
   "source": [
    "timeit.timeit(lambda: bubble_sort(lista), number=100)"
   ]
  },
  {
   "cell_type": "code",
   "execution_count": 95,
   "id": "6de83937-fa62-4025-a37c-53f5176c9f47",
   "metadata": {},
   "outputs": [
    {
     "data": {
      "text/plain": [
       "0.0029495999915525317"
      ]
     },
     "execution_count": 95,
     "metadata": {},
     "output_type": "execute_result"
    }
   ],
   "source": [
    "timeit.timeit(lambda: selection_sort(lista), number=100)"
   ]
  },
  {
   "cell_type": "code",
   "execution_count": 96,
   "id": "7c987af0",
   "metadata": {},
   "outputs": [
    {
     "data": {
      "text/plain": [
       "0.004844099981710315"
      ]
     },
     "execution_count": 96,
     "metadata": {},
     "output_type": "execute_result"
    }
   ],
   "source": [
    "timeit.timeit(lambda: merge_sort(lista), number=100)"
   ]
  }
 ],
 "metadata": {
  "kernelspec": {
   "display_name": "Python 3 (ipykernel)",
   "language": "python",
   "name": "python3"
  },
  "language_info": {
   "codemirror_mode": {
    "name": "ipython",
    "version": 3
   },
   "file_extension": ".py",
   "mimetype": "text/x-python",
   "name": "python",
   "nbconvert_exporter": "python",
   "pygments_lexer": "ipython3",
   "version": "3.11.9"
  }
 },
 "nbformat": 4,
 "nbformat_minor": 5
}
