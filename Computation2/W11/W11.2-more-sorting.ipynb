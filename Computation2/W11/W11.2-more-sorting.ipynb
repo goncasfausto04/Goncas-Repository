{
 "cells": [
  {
   "cell_type": "markdown",
   "id": "71213a97-2ac6-4469-b60c-15d9ca4218d2",
   "metadata": {},
   "source": [
    "## __COMPUTATION II: ALGORITHMS & DATA STRUCTURES__\n",
    "\n",
    "## Practical Classes\n",
    "\n",
    "## Week 11: Sorting Algorithms & Exercises"
   ]
  },
  {
   "cell_type": "markdown",
   "id": "d90e2b69-be35-48a0-aa00-e0555d8f2dd4",
   "metadata": {},
   "source": [
    "## Shell Sort\n",
    "[See explanation here](https://www.programiz.com/dsa/shell-sort)"
   ]
  },
  {
   "cell_type": "code",
   "execution_count": 40,
   "id": "74b22a48-d370-4766-bacf-ed1a53c0d183",
   "metadata": {},
   "outputs": [],
   "source": [
    "def shell_sort(array):\n",
    "\n",
    "#shell_sort([34,12,20,7,13,15,2,23])"
   ]
  },
  {
   "cell_type": "markdown",
   "id": "2ef485f4-cc14-43b2-967e-112f3c445070",
   "metadata": {},
   "source": [
    "## Running Time Visualization"
   ]
  },
  {
   "cell_type": "markdown",
   "id": "b02f8d5d-f922-425d-85a2-99eadd31b6e8",
   "metadata": {},
   "source": [
    "Running time is how long it takes a program to run\n",
    "\n",
    "Time complexity is a description of the asymptotic behavior of running time as input size tends to infinity.\n",
    "\n",
    "They are two different things!!!"
   ]
  },
  {
   "cell_type": "code",
   "execution_count": 50,
   "id": "7754e86b-2b36-4caa-b851-b0eb4c1788b6",
   "metadata": {},
   "outputs": [],
   "source": [
    "import timeit\n",
    "import numpy as np\n",
    "import matplotlib.pyplot as plt\n",
    "import random"
   ]
  },
  {
   "cell_type": "code",
   "execution_count": 28,
   "id": "fc513352-d7a9-4397-8ae8-d81a5dba99ca",
   "metadata": {},
   "outputs": [],
   "source": [
    "def insertion_sort(array):\n",
    "    for i in range(1,len(array)):\n",
    "        for j in range(i,0,-1):\n",
    "            if array[j] < array[j-1]:\n",
    "                array[j], array[j-1] = array[j-1], array[j]\n",
    "    return array\n",
    "\n",
    "def bubble_sort(array):\n",
    "    for i in range(0,len(array)):\n",
    "        for j in range(0,len(array)-i-1):\n",
    "            if array[j] > array[j+1]:\n",
    "                array[j], array[j+1] = array[j+1], array[j]\n",
    "    return array\n",
    "\n",
    "def selection_sort(array):\n",
    "    for i in range(0,len(array)):\n",
    "        index_of_min = i\n",
    "        for j in range(i+1,len(array)):\n",
    "            if array[j] < array[index_of_min]:\n",
    "                index_of_min = j\n",
    "        array[i], array[index_of_min] = array[index_of_min], array[i]\n",
    "    return array\n",
    "\n",
    "# ------------------------------------------------------------------------------------------\n",
    "# Where is ``merge_sort``? If we didn't implement it last class, we might have to do it now! \n",
    "# ------------------------------------------------------------------------------------------"
   ]
  },
  {
   "cell_type": "markdown",
   "id": "0994e0cb-932d-41f0-bcff-71dbb40d70b5",
   "metadata": {},
   "source": [
    "We will use this notation: \n",
    "\n",
    "timeit.timeit(lambda: algorithm(input), number=1)"
   ]
  },
  {
   "cell_type": "code",
   "execution_count": null,
   "id": "6de83937-fa62-4025-a37c-53f5176c9f47",
   "metadata": {},
   "outputs": [],
   "source": []
  },
  {
   "cell_type": "code",
   "execution_count": null,
   "id": "ea499443-b55a-4763-9a16-5b64b9d67c91",
   "metadata": {},
   "outputs": [],
   "source": []
  }
 ],
 "metadata": {
  "kernelspec": {
   "display_name": "Python 3 (ipykernel)",
   "language": "python",
   "name": "python3"
  },
  "language_info": {
   "codemirror_mode": {
    "name": "ipython",
    "version": 3
   },
   "file_extension": ".py",
   "mimetype": "text/x-python",
   "name": "python",
   "nbconvert_exporter": "python",
   "pygments_lexer": "ipython3",
   "version": "3.9.12"
  }
 },
 "nbformat": 4,
 "nbformat_minor": 5
}
