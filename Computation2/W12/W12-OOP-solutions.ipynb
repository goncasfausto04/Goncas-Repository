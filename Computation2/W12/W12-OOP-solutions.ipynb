{
 "cells": [
  {
   "cell_type": "markdown",
   "id": "4aa58a45-38a3-4ffc-a223-bee7b0dafd9a",
   "metadata": {},
   "source": [
    "## __COMPUTATION II: ALGORITHMS & DATA STRUCTURES__\n",
    "\n",
    "## Practical Classes\n",
    "\n",
    "## Week 12: Object Oriented Programming in Python"
   ]
  },
  {
   "cell_type": "markdown",
   "id": "6ff56345-a67b-488f-92f1-7dcac787f273",
   "metadata": {},
   "source": [
    "In object-oriented programming you write classes that represent real-world things and situations, and you\n",
    "\n",
    "create objects based on these classes. Making an object from a class is called instantiation,\n",
    "\n",
    "and you work with instances of a class."
   ]
  },
  {
   "cell_type": "markdown",
   "id": "f6606b5c-5226-4035-8af4-273ac67fe0d5",
   "metadata": {},
   "source": [
    "## Exercise: \n",
    "\n",
    "- Let's create the dog class that represents a dog. Not one dog in particular, but any dog."
   ]
  },
  {
   "cell_type": "code",
   "execution_count": 1,
   "id": "79abe278-9432-4723-8c55-dc2eff5658bc",
   "metadata": {},
   "outputs": [
    {
     "name": "stdout",
     "output_type": "stream",
     "text": [
      "pink\n",
      "Name is max, age is 3, color is pink\n"
     ]
    }
   ],
   "source": [
    "class Dog:\n",
    "    \n",
    "    # set object's initial state\n",
    "    def __init__(self, name, age, color):\n",
    "        self.name = name\n",
    "        self.age = age\n",
    "        self.color = color\n",
    "        \n",
    "    # method = function = action\n",
    "    def sleep(self):\n",
    "        return \"zzz...\"\n",
    "        \n",
    "    # method with input\n",
    "    def sit(self, where):\n",
    "        print(f\"I'm sitting on a {where}\")\n",
    "        \n",
    "    # method without an input    \n",
    "    def print_dog_info(self):\n",
    "        print(f\"Name is {self.name}, age is {self.age}, color is {self.color}\")\n"
   ]
  },
  {
   "cell_type": "markdown",
   "id": "d39da572-6d64-4830-a818-76d81a9ec5f9",
   "metadata": {},
   "source": [
    "- Now, lets make an instance representing a specific dog"
   ]
  },
  {
   "cell_type": "code",
   "execution_count": 3,
   "id": "a07e6c36-8499-41f9-a45d-a189c17e465e",
   "metadata": {},
   "outputs": [
    {
     "name": "stdout",
     "output_type": "stream",
     "text": [
      "pink\n",
      "Name is max, age is 3, color is pink\n"
     ]
    }
   ],
   "source": [
    "my_obj = Dog(\"max\",3,\"pink\")\n",
    "print(my_obj.color)\n",
    "my_obj.print_dog_info()"
   ]
  },
  {
   "cell_type": "markdown",
   "id": "53716575-24a3-44c2-836d-323133e39693",
   "metadata": {},
   "source": [
    "- Let's create several instances of our class Dog using a list and then iterate through that list"
   ]
  },
  {
   "cell_type": "code",
   "execution_count": 4,
   "id": "b3380e9d-6119-4ed5-879e-845d48164411",
   "metadata": {},
   "outputs": [
    {
     "name": "stdout",
     "output_type": "stream",
     "text": [
      "zzz...\n",
      "zzz...\n",
      "zzz...\n",
      "zzz...\n",
      "zzz...\n"
     ]
    }
   ],
   "source": [
    "dogs = [Dog(\"spyke\",5,\"black\"), Dog(\"cleo\",0.5,\"black\"),Dog(\"amore\",0.5,\"caramel\"),Dog(\"rex\",5,\"brown\"),Dog(\"kilu\",1,\"brown\")]\n",
    "for cutie in dogs:\n",
    "    print(cutie.sleep())"
   ]
  },
  {
   "cell_type": "markdown",
   "id": "1261ca6b-78da-4f54-9dae-5d1f14a1e2b1",
   "metadata": {},
   "source": [
    "## Exercise: \n",
    "\n",
    "- Create a class called User. Create two attributes called first_name and last_name, \n",
    "\n",
    "and then create several other attributes that are typically stored in a user profile. "
   ]
  },
  {
   "cell_type": "markdown",
   "id": "ffed2a59-a60f-4119-8a81-00a76051e5ae",
   "metadata": {},
   "source": [
    "- Define a method called describe_user() that prints a summary of the user’s information. \n",
    "\n",
    "Create another method called greet_user() that prints a personalized greeting to the user. "
   ]
  },
  {
   "cell_type": "code",
   "execution_count": 10,
   "id": "48bc07f8-493e-4148-817f-2abd9e2bbd40",
   "metadata": {},
   "outputs": [],
   "source": [
    "class User:\n",
    "    \n",
    "    def __init__(self, first_name, last_name, age, nationality):\n",
    "        self.first_name = first_name\n",
    "        self.last_name = last_name\n",
    "        self.age = age\n",
    "        self.nationality = nationality\n",
    "\n",
    "    def describe_user(self):\n",
    "        return f\"Hello {self.first_name} {self.last_name}. You are {self.age} \"\n",
    "    \n",
    "    def greet_user(self):\n",
    "        return f\"Greetings dear {self.first_name}\""
   ]
  },
  {
   "cell_type": "markdown",
   "id": "d2cf8bd8-bf65-4f39-aa13-91c60ee9e779",
   "metadata": {},
   "source": [
    "- Create several instances representing different users, and call both methods for each user."
   ]
  },
  {
   "cell_type": "code",
   "execution_count": 11,
   "id": "fbacf6ee-96ec-46c3-a27f-7230d06b8052",
   "metadata": {},
   "outputs": [
    {
     "name": "stdout",
     "output_type": "stream",
     "text": [
      "Greetings dear Pedro\n",
      "Hello Pedro Botelho. You are 19 \n",
      "Greetings dear Berfin\n",
      "Hello Berfin S. You are 25 \n",
      "Greetings dear Isabel\n",
      "Hello Isabel Liu. You are 19 \n"
     ]
    }
   ],
   "source": [
    "my_list = [User(\"Pedro\",\"Botelho\",19,\"Portuguese\"),User(\"Berfin\",\"S\",25,\"Turkish\"),User(\"Isabel\",\"Liu\",19,\"Chinese\")]\n",
    "for person in my_list:\n",
    "    print(person.greet_user())\n",
    "    print(person.describe_user())"
   ]
  },
  {
   "cell_type": "markdown",
   "id": "837ac592-29ac-46d2-aae0-f5da65cc4821",
   "metadata": {},
   "source": [
    "## Working with classses and instances\n",
    "\n",
    "We can set a default value for the attributes and modify the values of those attributes"
   ]
  },
  {
   "cell_type": "markdown",
   "id": "4816c4e2-4b17-44cd-8a63-22a014268112",
   "metadata": {},
   "source": [
    "- Modify the previous update_odometer() method to make sure no one tries to roll back the odometer reading.\n",
    "\n",
    "If somebody tries to roll back the odometer, print a message saying that is not allowed"
   ]
  },
  {
   "cell_type": "code",
   "execution_count": 12,
   "id": "a7bba1be-7f55-4e6c-80ad-9b6f93983992",
   "metadata": {},
   "outputs": [],
   "source": [
    "class Car:\n",
    "    def __init__(self, brand, model, year):\n",
    "        self.brand = brand\n",
    "        self.model = model\n",
    "        self.year = year\n",
    "        \n",
    "        # this attribute has a default value\n",
    "        self.odometer_reading = 0\n",
    "\n",
    "    # This method reads the odometer\n",
    "    def read_odometer(self):\n",
    "        print(\"This car has \" + str(self.odometer_reading) + \" kilometers on it.\")\n",
    "\n",
    "    # This methods updates the odometer\n",
    "    def update_odometer(self, kilometers):\n",
    "        if kilometers < self.odometer_reading:\n",
    "            print(\"No.\")\n",
    "        else:\n",
    "            self.odometer_reading = kilometers\n",
    "            \n",
    "    def fill_gas_tank(self):\n",
    "        print(\"filling...\")\n"
   ]
  },
  {
   "cell_type": "code",
   "execution_count": 13,
   "id": "3bc4c8af-15c4-4e94-a7f8-30c5438ad582",
   "metadata": {},
   "outputs": [
    {
     "data": {
      "text/plain": [
       "0"
      ]
     },
     "execution_count": 13,
     "metadata": {},
     "output_type": "execute_result"
    }
   ],
   "source": [
    "my_car = Car(\"toyota\",\"yaris\",2018)\n",
    "my_car.odometer_reading"
   ]
  },
  {
   "cell_type": "code",
   "execution_count": 14,
   "id": "d8ed0a65-e719-4029-8979-3539aad97251",
   "metadata": {},
   "outputs": [
    {
     "name": "stdout",
     "output_type": "stream",
     "text": [
      "This car has 120000 kilometers on it.\n"
     ]
    }
   ],
   "source": [
    "my_car.update_odometer(120000)\n",
    "my_car.read_odometer()"
   ]
  },
  {
   "cell_type": "code",
   "execution_count": 15,
   "id": "cc3f2744-de6d-422b-a7be-c363bce2a9cc",
   "metadata": {},
   "outputs": [
    {
     "name": "stdout",
     "output_type": "stream",
     "text": [
      "No.\n"
     ]
    }
   ],
   "source": [
    "my_car.update_odometer(120)"
   ]
  },
  {
   "cell_type": "code",
   "execution_count": 16,
   "id": "379742ea-fb95-49a3-92c6-b8521319b58d",
   "metadata": {},
   "outputs": [
    {
     "name": "stdout",
     "output_type": "stream",
     "text": [
      "This car has 120999 kilometers on it.\n"
     ]
    }
   ],
   "source": [
    "my_car.update_odometer(120999)\n",
    "my_car.read_odometer()"
   ]
  },
  {
   "cell_type": "markdown",
   "id": "412030b1-a6db-4b38-a293-f977d0ecf71b",
   "metadata": {},
   "source": [
    "### Child Class"
   ]
  },
  {
   "cell_type": "code",
   "execution_count": 17,
   "id": "35c27d17-84c1-4fa4-82e1-252b6906a583",
   "metadata": {},
   "outputs": [],
   "source": [
    "class ElectricCar(Car):\n",
    "    def __init__(self,brand,model,year,battery_size):\n",
    "        # super() -> get a method from the superclass/parent class\n",
    "        # get the attributes from the parent class\n",
    "        super().__init__(brand,model,year)\n",
    "        self.battery_size = battery_size\n",
    "    \n",
    "    # overwrite the method\n",
    "    def fill_gas_tank(self):\n",
    "        print(\"i cannot\")"
   ]
  },
  {
   "cell_type": "code",
   "execution_count": 18,
   "id": "d286ce4b-3e32-41bb-a964-877f1719b14b",
   "metadata": {},
   "outputs": [
    {
     "data": {
      "text/plain": [
       "0"
      ]
     },
     "execution_count": 18,
     "metadata": {},
     "output_type": "execute_result"
    }
   ],
   "source": [
    "car = ElectricCar(\"renault\",\"zoe\",2023,75)\n",
    "car.odometer_reading"
   ]
  },
  {
   "cell_type": "code",
   "execution_count": 20,
   "id": "61b1e72d-9a5b-4007-8467-08a0b4bb64f0",
   "metadata": {},
   "outputs": [
    {
     "name": "stdout",
     "output_type": "stream",
     "text": [
      "i cannot\n"
     ]
    }
   ],
   "source": [
    "car.fill_gas_tank()"
   ]
  },
  {
   "cell_type": "markdown",
   "id": "90214e78-a56f-433e-8c0e-712213f9d10a",
   "metadata": {},
   "source": [
    "## Exercise: \n",
    "    \n",
    "Write a Python class BankAccount with attributes like account_number, balance, customer_name.\n",
    "\n",
    "Create methods for deposit, withdraw, check_balance and print_customer_details."
   ]
  },
  {
   "cell_type": "code",
   "execution_count": 22,
   "id": "1ab8274d-0c94-4a65-afc5-4c3f1648aae8",
   "metadata": {},
   "outputs": [],
   "source": [
    "class BankAccount:\n",
    "    # class attributes\n",
    "    bank = \"santander\"\n",
    "    \n",
    "    # instance attributes\n",
    "    def __init__(self,account_number,balance,customer_name):\n",
    "        self.account_number = account_number\n",
    "        self.balance = balance\n",
    "        self.customer_name = customer_name\n",
    "    \n",
    "    def print_customer_details(self):\n",
    "        return f\"Account number {self.account_number} with {self.balance} belongs to {self.customer_name}\"\n",
    "    \n",
    "    def check_balance(self):\n",
    "        print(f\"You have {self.balance} €\")\n",
    "        \n",
    "    def deposit(self,value):\n",
    "        self.balance += value \n",
    "        print(f\"You managed to deposit {value}€. Current balance is {self.balance}\")\n",
    "        \n",
    "    def withdraw(self,value):\n",
    "        if value>self.balance:\n",
    "            print(\"Error\")\n",
    "        else:\n",
    "            self.balance -= value\n",
    "            print(f\"Here's your {value}€. Remaining balance is {self.balance}\")"
   ]
  },
  {
   "cell_type": "code",
   "execution_count": 23,
   "id": "8c7b7b05-a829-4828-ae96-3b53d32907fe",
   "metadata": {},
   "outputs": [
    {
     "data": {
      "text/plain": [
       "'santander'"
      ]
     },
     "execution_count": 23,
     "metadata": {},
     "output_type": "execute_result"
    }
   ],
   "source": [
    "customer = BankAccount(\"1111\",300,\"danny\")\n",
    "customer.bank"
   ]
  },
  {
   "cell_type": "code",
   "execution_count": 24,
   "id": "f61f612b-a8a9-48f1-9338-48195bd51694",
   "metadata": {},
   "outputs": [
    {
     "name": "stdout",
     "output_type": "stream",
     "text": [
      "Error\n"
     ]
    }
   ],
   "source": [
    "customer.withdraw(400)"
   ]
  },
  {
   "cell_type": "code",
   "execution_count": 25,
   "id": "97bf83de-7258-4a11-a674-9200c0fbc747",
   "metadata": {},
   "outputs": [
    {
     "name": "stdout",
     "output_type": "stream",
     "text": [
      "You managed to deposit 1000€. Current balance is 1300\n"
     ]
    }
   ],
   "source": [
    "customer.deposit(1000)"
   ]
  },
  {
   "cell_type": "code",
   "execution_count": 26,
   "id": "c0a75d8b-7498-41a3-b2b8-b7f36109edb4",
   "metadata": {},
   "outputs": [
    {
     "name": "stdout",
     "output_type": "stream",
     "text": [
      "Here's your 400€. Remaining balance is 900\n"
     ]
    }
   ],
   "source": [
    "customer.withdraw(400)"
   ]
  },
  {
   "cell_type": "markdown",
   "id": "59dc1dfa-d59f-4429-9fc9-a4f08fe9a32e",
   "metadata": {},
   "source": [
    "## Exercise\n",
    "\n",
    "Create a ``Boy`` class by inheriting attributes and methods from a ``Human`` class."
   ]
  },
  {
   "cell_type": "code",
   "execution_count": 27,
   "id": "4c7f80cb-1831-4047-a312-ca9c4921afe1",
   "metadata": {},
   "outputs": [],
   "source": [
    "# parent class\n",
    "class Human:\n",
    "    species = \"homo sapiens\"\n",
    "    def __init__(self,name,age):\n",
    "        self.name = name\n",
    "        self.age = age\n",
    "        \n",
    "    def sleep(self):\n",
    "        print(\"zzz...\")\n",
    "        \n",
    "# child class: inherit/receive the properties of parent\n",
    "class Boy(Human):\n",
    "    def go_to_school(self):\n",
    "        print(\"i'm going...\")\n",
    "        \n",
    "    def take_a_nap(self):\n",
    "        # copy the method from the superclass-parent class\n",
    "        super().sleep()\n",
    "        \n",
    "    # overwriting the method    \n",
    "    def sleep(self):\n",
    "        print(\"i dont wanna\")"
   ]
  },
  {
   "cell_type": "code",
   "execution_count": 28,
   "id": "25ecaa98-27a7-4849-8de0-3eaca6dc7579",
   "metadata": {},
   "outputs": [
    {
     "name": "stdout",
     "output_type": "stream",
     "text": [
      "i dont wanna\n"
     ]
    }
   ],
   "source": [
    "person = Boy(\"francisco\",19)\n",
    "person.sleep()"
   ]
  }
 ],
 "metadata": {
  "kernelspec": {
   "display_name": "Python 3 (ipykernel)",
   "language": "python",
   "name": "python3"
  },
  "language_info": {
   "codemirror_mode": {
    "name": "ipython",
    "version": 3
   },
   "file_extension": ".py",
   "mimetype": "text/x-python",
   "name": "python",
   "nbconvert_exporter": "python",
   "pygments_lexer": "ipython3",
   "version": "3.9.12"
  }
 },
 "nbformat": 4,
 "nbformat_minor": 5
}
