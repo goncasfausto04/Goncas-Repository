{
 "cells": [
  {
   "cell_type": "markdown",
   "id": "4aa58a45-38a3-4ffc-a223-bee7b0dafd9a",
   "metadata": {},
   "source": [
    "## __COMPUTATION II: ALGORITHMS & DATA STRUCTURES__\n",
    "\n",
    "## Practical Classes\n",
    "\n",
    "## Week 12: Object Oriented Programming in Python"
   ]
  },
  {
   "cell_type": "markdown",
   "id": "6ff56345-a67b-488f-92f1-7dcac787f273",
   "metadata": {},
   "source": [
    "In object-oriented programming you write classes that represent real-world things and situations, and you\n",
    "\n",
    "create objects based on these classes. Making an object from a class is called instantiation,\n",
    "\n",
    "and you work with instances of a class."
   ]
  },
  {
   "cell_type": "markdown",
   "id": "f6606b5c-5226-4035-8af4-273ac67fe0d5",
   "metadata": {},
   "source": [
    "## Exercise: \n",
    "\n",
    "- Let's create the dog class that represents a dog. Not one dog in particular, but any dog."
   ]
  },
  {
   "cell_type": "code",
   "execution_count": 14,
   "id": "79abe278-9432-4723-8c55-dc2eff5658bc",
   "metadata": {},
   "outputs": [],
   "source": [
    "class Dog:\n",
    "    # __init__() is a special method that Python runs automatically\n",
    "    # whenever we create a new instance based on the Dog class.\n",
    "\n",
    "    # The self parameter is required in the method definition, and it\n",
    "    # must come first before the other parameters.\n",
    "    def __init__(self, name, age):\n",
    "        self.name = name\n",
    "        self.age = age\n",
    "        self.hunger = 100\n",
    "\n",
    "    def feed(self):\n",
    "        self.hunger -= 10\n",
    "        print(f\"{self.name} is eating.\")\n"
   ]
  },
  {
   "cell_type": "code",
   "execution_count": 19,
   "id": "b3380e9d-6119-4ed5-879e-845d48164411",
   "metadata": {},
   "outputs": [
    {
     "name": "stdout",
     "output_type": "stream",
     "text": [
      "100\n",
      "Rex is eating.\n",
      "Rex is eating.\n",
      "Rex is eating.\n",
      "Rex is eating.\n",
      "Rex is eating.\n",
      "Rex is eating.\n",
      "40\n"
     ]
    }
   ],
   "source": []
  },
  {
   "cell_type": "markdown",
   "id": "d39da572-6d64-4830-a818-76d81a9ec5f9",
   "metadata": {},
   "source": [
    "- Now, lets make an instance representing a specific dog"
   ]
  },
  {
   "cell_type": "code",
   "execution_count": null,
   "id": "71ba4616-cbf4-4eef-957a-666c5182bea7",
   "metadata": {},
   "outputs": [],
   "source": []
  },
  {
   "cell_type": "markdown",
   "id": "53716575-24a3-44c2-836d-323133e39693",
   "metadata": {},
   "source": [
    "- Let's create several instances of our class Dog using a list and then iterate through that list"
   ]
  },
  {
   "cell_type": "code",
   "execution_count": null,
   "id": "e4f41930-8dac-4252-bc76-f015d08623cc",
   "metadata": {},
   "outputs": [],
   "source": []
  },
  {
   "cell_type": "markdown",
   "id": "1261ca6b-78da-4f54-9dae-5d1f14a1e2b1",
   "metadata": {},
   "source": [
    "## Exercise: \n",
    "\n",
    "- Create a class called User. Create two attributes called first_name and last_name, \n",
    "\n",
    "and then create several other attributes that are typically stored in a user profile. "
   ]
  },
  {
   "cell_type": "code",
   "execution_count": null,
   "id": "48bc07f8-493e-4148-817f-2abd9e2bbd40",
   "metadata": {},
   "outputs": [],
   "source": []
  },
  {
   "cell_type": "markdown",
   "id": "ffed2a59-a60f-4119-8a81-00a76051e5ae",
   "metadata": {},
   "source": [
    "- Define a method called describe_user() that prints a summary of the user’s information. \n",
    "\n",
    "Create another method called greet_user() that prints a personalized greeting to the user. "
   ]
  },
  {
   "cell_type": "code",
   "execution_count": null,
   "id": "fbacf6ee-96ec-46c3-a27f-7230d06b8052",
   "metadata": {},
   "outputs": [],
   "source": []
  },
  {
   "cell_type": "markdown",
   "id": "d2cf8bd8-bf65-4f39-aa13-91c60ee9e779",
   "metadata": {},
   "source": [
    "- Create several instances representing different users, and call both methods for each user."
   ]
  },
  {
   "cell_type": "code",
   "execution_count": null,
   "id": "de6b118a-6b9d-4623-bb2c-1a2b3133fb7f",
   "metadata": {},
   "outputs": [],
   "source": []
  },
  {
   "cell_type": "markdown",
   "id": "837ac592-29ac-46d2-aae0-f5da65cc4821",
   "metadata": {},
   "source": [
    "## Working with classses and instances\n",
    "\n",
    "We can set a default value for the attributes and modify the values of those attributes"
   ]
  },
  {
   "cell_type": "code",
   "execution_count": 2,
   "id": "a7bba1be-7f55-4e6c-80ad-9b6f93983992",
   "metadata": {},
   "outputs": [],
   "source": [
    "class Car:\n",
    "    def __init__(self, make, model, year):\n",
    "        self.make = make\n",
    "        self.model = model\n",
    "        self.year = year\n",
    "        self.odometer_reading = 0\n",
    "\n",
    "    # This method reads the odometer\n",
    "    def read_odometer(self):\n",
    "        print(\"This car has \" + str(self.odometer_reading) + \" kilometers on it.\")\n",
    "\n",
    "    # This methods updates de odometer\n",
    "    def update_odometer(self, kilometers):\n",
    "        if kilometers >= self.odometer_reading:\n",
    "            self.odometer_reading = kilometers\n",
    "        else:\n",
    "            print(\"You can't roll back an odometer!\")\n",
    "\n",
    "    def fill_gas_tank(self):\n",
    "        print(\"The gas tank was filled\")"
   ]
  },
  {
   "cell_type": "markdown",
   "id": "4259e695-645d-4188-b347-c1ba187898ed",
   "metadata": {},
   "source": [
    "Let's test it:"
   ]
  },
  {
   "cell_type": "code",
   "execution_count": 3,
   "id": "d419a34d-a4b6-4d01-96d2-7b680fb48f16",
   "metadata": {},
   "outputs": [
    {
     "name": "stdout",
     "output_type": "stream",
     "text": [
      "This car has 0 kilometers on it.\n",
      "The gas tank was filled\n"
     ]
    }
   ],
   "source": [
    "car1 = Car('Audi', 'A4', 2016)\n",
    "\n",
    "\n",
    "car1.read_odometer()\n",
    "car1.update_odometer(600)\n",
    "car1.fill_gas_tank()"
   ]
  },
  {
   "cell_type": "markdown",
   "id": "4816c4e2-4b17-44cd-8a63-22a014268112",
   "metadata": {},
   "source": [
    "- Modify the previous update_odometer() method to make sure no one tries to roll back the odometer reading.\n",
    "\n",
    "If somebody tries to roll back the odometer, print a message saying that is not allowed"
   ]
  },
  {
   "cell_type": "code",
   "execution_count": null,
   "id": "1802bb22-8156-444e-88ee-60c979c44085",
   "metadata": {},
   "outputs": [],
   "source": []
  },
  {
   "cell_type": "code",
   "execution_count": null,
   "id": "cda64a5e-9c70-43fa-9ab6-0bda7d551b8b",
   "metadata": {},
   "outputs": [],
   "source": []
  },
  {
   "cell_type": "markdown",
   "id": "2b079864",
   "metadata": {},
   "source": [
    "### Child Class"
   ]
  },
  {
   "cell_type": "code",
   "execution_count": 4,
   "id": "2c74ba49",
   "metadata": {},
   "outputs": [],
   "source": [
    "# Implement a class for electric cars\n",
    "class electriccar(Car):\n",
    "    def __init__(self, make, model, year,battery):\n",
    "        super().__init__(make, model, year)\n",
    "        self.battery = battery\n",
    "\n",
    "    def read_battery(self):\n",
    "        print(\"This car has a \" + str(self.battery) + \" kWh battery.\")\n",
    "    \n",
    "    def fill_gas_tank(self):\n",
    "        print(\"This car doesn't have a gas tank you dumb twat!\")\n",
    "\n",
    "    def charge(self):\n",
    "        self.battery = 100"
   ]
  },
  {
   "cell_type": "code",
   "execution_count": 5,
   "id": "a745a71c",
   "metadata": {},
   "outputs": [
    {
     "name": "stdout",
     "output_type": "stream",
     "text": [
      "This car has 100 kilometers on it.\n",
      "This car doesn't have a gas tank you dumb twat!\n"
     ]
    },
    {
     "data": {
      "text/plain": [
       "75"
      ]
     },
     "execution_count": 5,
     "metadata": {},
     "output_type": "execute_result"
    }
   ],
   "source": [
    "car2 = electriccar(\"renault\",\"zoe\",2023,75)\n",
    "car2.update_odometer(100)\n",
    "car2.read_odometer()\n",
    "car2.fill_gas_tank()\n",
    "car2.battery\n"
   ]
  },
  {
   "cell_type": "code",
   "execution_count": null,
   "id": "80e7df4d",
   "metadata": {},
   "outputs": [],
   "source": []
  },
  {
   "cell_type": "markdown",
   "id": "283d05dc",
   "metadata": {},
   "source": [
    "## Exercise: \n",
    "    \n",
    "Write a Python class BankAccount with attributes like account_number, balance, customer_name.\n",
    "\n",
    "Create methods for deposit, withdraw, check_balance and print_customer_details."
   ]
  },
  {
   "cell_type": "code",
   "execution_count": 175,
   "id": "9281ffa2",
   "metadata": {},
   "outputs": [],
   "source": [
    "class bankaccount:\n",
    "    def __init__(self,account_number,balance,costumer_name):\n",
    "        self.account_number = account_number\n",
    "        self.balance = balance\n",
    "        self.costumer_name = costumer_name\n",
    "        \n",
    "    def check_balance(self):\n",
    "        print(\"The balance of the account is \" + str(self.balance) + \"€\")\n",
    "        return self\n",
    "\n",
    "    def deposit(self,value):\n",
    "        if value < 0:\n",
    "            print(\"És burro, não dá para depositar numeros negativos.\")\n",
    "        else:\n",
    "            self.balance += value\n",
    "        return self\n",
    "\n",
    "    def withdraw(self,value):\n",
    "        if value < 0:\n",
    "            print(\"Burro, não podes retirar valores negativos da tua conta.\")\n",
    "        elif value > self.balance:\n",
    "            print(\"Burro de merda, és pobre e não tens dinheiro para retirar.\") \n",
    "        else:\n",
    "            self.balance -= value\n",
    "        return self\n",
    "    \n",
    "    def print_costumer_details(self):\n",
    "        print(f\"Your account number is {self.account_number}\")\n",
    "        print(f\"Your balace is {self.balance}\")\n",
    "        print(f\"Your name is {self.costumer_name}\")\n",
    "\n",
    "goncalo = bankaccount(9677,10000,\"Gonçalo\")\n"
   ]
  },
  {
   "cell_type": "code",
   "execution_count": 176,
   "id": "6ff8fbc6",
   "metadata": {},
   "outputs": [
    {
     "name": "stdout",
     "output_type": "stream",
     "text": [
      "The balance of the account is 10000€\n",
      "The balance of the account is 9990€\n"
     ]
    },
    {
     "data": {
      "text/plain": [
       "<__main__.bankaccount at 0x2d5a62275d0>"
      ]
     },
     "execution_count": 176,
     "metadata": {},
     "output_type": "execute_result"
    }
   ],
   "source": [
    "goncalo.check_balance().withdraw(10).check_balance()\n"
   ]
  },
  {
   "cell_type": "code",
   "execution_count": null,
   "id": "bc8b2975",
   "metadata": {},
   "outputs": [],
   "source": []
  },
  {
   "cell_type": "code",
   "execution_count": null,
   "id": "ed347cbe",
   "metadata": {},
   "outputs": [],
   "source": []
  },
  {
   "cell_type": "code",
   "execution_count": null,
   "id": "f07da0c5",
   "metadata": {},
   "outputs": [],
   "source": []
  },
  {
   "cell_type": "markdown",
   "id": "5006825d",
   "metadata": {},
   "source": [
    "## Exercise\n",
    "\n",
    "Create a ``Boy`` class by inheriting attributes and methods from a ``Human`` class."
   ]
  },
  {
   "cell_type": "code",
   "execution_count": null,
   "id": "9e1bdb25",
   "metadata": {},
   "outputs": [],
   "source": []
  },
  {
   "cell_type": "code",
   "execution_count": null,
   "id": "2eddfca5",
   "metadata": {},
   "outputs": [
    {
     "name": "stdout",
     "output_type": "stream",
     "text": [
      "i dont wanna\n"
     ]
    }
   ],
   "source": [
    "person = Boy(\"francisco\",19)\n",
    "person.sleep()"
   ]
  }
 ],
 "metadata": {
  "kernelspec": {
   "display_name": "Python 3 (ipykernel)",
   "language": "python",
   "name": "python3"
  },
  "language_info": {
   "codemirror_mode": {
    "name": "ipython",
    "version": 3
   },
   "file_extension": ".py",
   "mimetype": "text/x-python",
   "name": "python",
   "nbconvert_exporter": "python",
   "pygments_lexer": "ipython3",
   "version": "3.11.9"
  }
 },
 "nbformat": 4,
 "nbformat_minor": 5
}
