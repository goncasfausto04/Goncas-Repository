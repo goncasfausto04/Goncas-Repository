{
 "cells": [
  {
   "cell_type": "markdown",
   "id": "7c2562ee-8187-40c5-a7ba-9e9fbc41be78",
   "metadata": {
    "tags": []
   },
   "source": [
    "# **Computation II: Algorithms & Data Structures** <br/>\n",
    "**Bachelor's Degree Programs in Data Science and Information Systems**<br/>\n",
    "**NOVA IMS**<br/>\n",
    "\n",
    "**NOTE:** Adapted from Prof. Dr. Illya Bakurov's class materials.\n",
    "\n",
    "\n",
    "## References\n",
    "1. Data Structures and Algorithms with Python (2015), by K. D. Lee and S. Hubbard\n",
    "2. Data Structures and Algorithms using Python (2011), by R. D. Necaise. John Wiley & Sons, Inc.\n",
    "3. [Python's official documentation: Design and History FAQ](https://docs.python.org/3.7/faq/design.html#how-are-lists-implemented-in-cpython)\n",
    "4. [NumPy's official documentation: ``numpy.append()``](https://docs.python.org/3.7/faq/design.html#how-are-lists-implemented-in-cpython)\n",
    "5. [NumPy's official documentation: ``numpy.ndarray``](https://numpy.org/doc/stable/reference/generated/numpy.ndarray.html)"
   ]
  },
  {
   "cell_type": "markdown",
   "id": "b22cd9cb-538b-4dd2-8b29-356ef590c36c",
   "metadata": {},
   "source": [
    "Imports ``numpy`` to generate random values and manipulate arrays."
   ]
  },
  {
   "cell_type": "code",
   "execution_count": 1,
   "id": "f13a2871-0b25-4b8d-b7ac-9d15831d8657",
   "metadata": {},
   "outputs": [],
   "source": [
    "import sys\n",
    "import timeit\n",
    "import random\n",
    "import numpy as np"
   ]
  },
  {
   "cell_type": "markdown",
   "id": "f7667446-16d8-4741-b197-2b334ee4ac4a",
   "metadata": {},
   "source": [
    "# 1. Arrays\n",
    "\"*A one-dimensional array (...) is composed of multiple sequential elements stored in contiguous bytes of memory and allows for random access to the individual elements*\" [2]. In other words, this data structure is implemented at the hardware level. In visual terms:\n",
    "\n",
    "<center><img src=\"https://beginnersbook.com/wp-content/uploads/2018/10/array.jpg\" width=400/></center>\n",
    "\n",
    "Individual elements within the array can be accessed directly by using an integer index value, which indicates an offset from the start of the array. When creating an array, the user must know the maximum number of elements a-priori. Adding or removing (i.e., appending) an element to an array implies creating a copy of the source array added/removed a given element. This makes the array best suited for problems requiring a sequence in which the maximum number of elements is known a-priori. Moreover:\n",
    "- \"An array object represents a multidimensional, homogeneous array of fixed-size items.\" [5]\n",
    "- NumPy arrays can directly work with arithmetic operations without additional overhead\n",
    "- Working with ``numpy.ndarray`` requires installing and importing the NumPy library "
   ]
  },
  {
   "cell_type": "markdown",
   "id": "440d36d5-4ae5-4fe3-a977-157ef10a9b56",
   "metadata": {},
   "source": [
    "# 2. Lists\n",
    "Technically, a Python ``list`` type is also a collection of contiguous memory locations, similarly to an array. In fact, a ``list`` type is implemented as a dynamic array in CPython (the default and the most widely used software implementation or the default Python interpreter). In visual terms:\n",
    "\n",
    "<center><img src=\"https://www.interviewcake.com/images/svgs/dynamic_array__preview.svg?bust=210\" width=400/></center>\n",
    "\n",
    "\n",
    "Following the official documentation [3]:\n",
    "\n",
    "\"*CPython's lists are really variable-length arrays (...). The implementation uses a contiguous array (...). This makes indexing a list ``a[i]`` an operation whose cost is independent of the size of the list or the value of the index. When items are appended or inserted, the array of references is resized. Some cleverness is applied to improve the performance of appending (...) some extra space is allocated so the next few times don’t require an actual resize.*\"\n",
    "\n",
    "Specifically: \"*(...) a list contains more storage space than is needed to store the items currently in the list. This extra space, the size of which can be up to twice the necessary capacity, allows for quick and easy expansion as new items are added to the list.*\" [2].\n",
    "\n",
    "In this sense, when compared to arrays, lists are more useful when the size of the sequence needs to frequently change after its creation. "
   ]
  },
  {
   "cell_type": "markdown",
   "id": "21b35cef-591b-4ac6-85d1-d25450acc559",
   "metadata": {},
   "source": [
    "# 3. Linked list\n",
    "Following [1]:\n",
    "\n",
    "\"*If a programmer wants to insert a large number of items towards the beginning of a list, a different organization for a sequence might be better suited to their needs. A linked list is an organization of a list where each item in the list is in a separate node. Linked lists look like the links in a chain. Each\n",
    "link is attached to the next link by a reference that points to the next link in the chain. When working with a linked list, each link in the chain is called a Node. Each node consists of two pieces of information, an item, which is the data associated with the node, and a link to the next node in the linked list, often called next.*\"\n",
    "\n",
    "In visual terms:\n",
    "\n",
    "<center><img src=\"https://static.javatpoint.com/ds/images/ds-linked-list.png\" width=400/></center>"
   ]
  },
  {
   "cell_type": "markdown",
   "id": "adb9c5aa-6dd5-4656-b61a-2e1b6d1b2a8e",
   "metadata": {},
   "source": [
    "Creates a class ``Node``."
   ]
  },
  {
   "cell_type": "code",
   "execution_count": 1,
   "id": "9dced09c-4393-46d8-b8cc-0b6e8b1f2be2",
   "metadata": {},
   "outputs": [],
   "source": [
    "class Node:\n",
    "    def __init__(self, data, link=None):\n",
    "        self.data = data\n",
    "        self.link = link"
   ]
  },
  {
   "cell_type": "code",
   "execution_count": 2,
   "id": "654bc176-aed7-4ce9-96f2-55aeb349cc3e",
   "metadata": {},
   "outputs": [
    {
     "name": "stdout",
     "output_type": "stream",
     "text": [
      "a\n",
      "None\n"
     ]
    }
   ],
   "source": [
    "my_node = Node(\"a\")\n",
    "print(my_node.data)\n",
    "print(my_node.link)"
   ]
  },
  {
   "cell_type": "markdown",
   "id": "02ea8948-72d9-42f1-b02a-71ff065535bc",
   "metadata": {},
   "source": [
    "Tests the ``Node`` type."
   ]
  },
  {
   "cell_type": "code",
   "execution_count": 3,
   "id": "a4520a57-ae41-46bc-bfde-95cd5c2dedfd",
   "metadata": {},
   "outputs": [
    {
     "name": "stdout",
     "output_type": "stream",
     "text": [
      "Data: {'anything': 123, 'you': 987, 'want': 0}\n",
      "Link to the next node: None\n"
     ]
    }
   ],
   "source": [
    "node_object = Node({\"anything\": 123, \"you\": 987, \"want\": 0})\n",
    "print(\"Data:\", node_object.data)                   \n",
    "print(\"Link to the next node:\", node_object.link)"
   ]
  },
  {
   "cell_type": "markdown",
   "id": "034a95eb-9cac-4735-a2f9-caa316ccd2ff",
   "metadata": {},
   "source": [
    "Creates a class called ``LinkedList``."
   ]
  },
  {
   "cell_type": "code",
   "execution_count": 4,
   "id": "cfe82a84-7661-48ba-bfc6-deb063f43f98",
   "metadata": {},
   "outputs": [],
   "source": [
    "class LinkedList:\n",
    "    def __init__(self, data):        \n",
    "        self.head = Node(data)\n",
    "    \n",
    "    def print(self):\n",
    "        temp = self.head\n",
    "        while temp:\n",
    "            print(temp.data, end=' ')\n",
    "            temp = temp.link"
   ]
  },
  {
   "cell_type": "code",
   "execution_count": 5,
   "id": "819c740c-d72b-424f-a9d3-6d910c0fe188",
   "metadata": {},
   "outputs": [
    {
     "name": "stdout",
     "output_type": "stream",
     "text": [
      "<__main__.Node object at 0x0000020274ECB410>\n",
      "Hello\n",
      "None\n"
     ]
    }
   ],
   "source": [
    "llist = LinkedList(\"Hello\")\n",
    "print(llist.head)\n",
    "print(llist.head.data)\n",
    "print(llist.head.link)"
   ]
  },
  {
   "cell_type": "markdown",
   "id": "06674fb1-f7dc-46ce-90c3-b76e56437bf1",
   "metadata": {},
   "source": [
    "Tests ``LinkedList`` and ``print()``."
   ]
  },
  {
   "cell_type": "code",
   "execution_count": 6,
   "id": "cf8ee8f5-7f72-48f9-b1b4-70e0fc6581aa",
   "metadata": {},
   "outputs": [
    {
     "name": "stdout",
     "output_type": "stream",
     "text": [
      "Hello "
     ]
    }
   ],
   "source": [
    "llist = LinkedList(\"Hello\")\n",
    "node1 = Node(\"world\")\n",
    "node2 = Node(\",\")\n",
    "node3 = Node(\"students!\")\n",
    "llist.print()"
   ]
  },
  {
   "cell_type": "markdown",
   "id": "772859e1-d303-42c7-ac44-a632f625890e",
   "metadata": {},
   "source": [
    "Testing ``print()`` after connecting the nodes."
   ]
  },
  {
   "cell_type": "code",
   "execution_count": 8,
   "id": "abda64a8-25db-4c2a-90d4-9f04744a5c4a",
   "metadata": {},
   "outputs": [
    {
     "name": "stdout",
     "output_type": "stream",
     "text": [
      "Hello world , students! "
     ]
    }
   ],
   "source": [
    "llist.head.link = node1\n",
    "node1.link = node2\n",
    "node2.link = node3\n",
    "llist.print()"
   ]
  },
  {
   "cell_type": "markdown",
   "id": "4d65ee00-49b0-4ed8-a50a-9015ce2554ae",
   "metadata": {},
   "source": [
    "## 3.1. Initialize from a sequence"
   ]
  },
  {
   "cell_type": "code",
   "execution_count": 9,
   "id": "137aa5ed-bf4b-4599-989d-71d63704dd63",
   "metadata": {},
   "outputs": [],
   "source": [
    "class LinkedList:\n",
    "    def __init__(self, data=None):        \n",
    "        self.head= Node(data) if data else None\n",
    "    \n",
    "    def init_from_list(self, lst):\n",
    "        self.head = Node(lst[0])\n",
    "        temp = self.head\n",
    "        for data in lst[1:]:\n",
    "            temp.link = Node(data)\n",
    "            temp = temp.link  \n",
    "    \n",
    "    def print(self):\n",
    "        temp = self.head\n",
    "        while temp:\n",
    "            print(temp.data, end=\" \")\n",
    "            temp = temp.link  "
   ]
  },
  {
   "cell_type": "markdown",
   "id": "473e7b1e-ea44-4035-a1ae-bb6ea72e035f",
   "metadata": {},
   "source": [
    "Tests ``init_from_list()``."
   ]
  },
  {
   "cell_type": "code",
   "execution_count": 10,
   "id": "7821ab73-2e99-4be4-8e53-543314ba9909",
   "metadata": {},
   "outputs": [
    {
     "data": {
      "text/plain": [
       "'a'"
      ]
     },
     "execution_count": 10,
     "metadata": {},
     "output_type": "execute_result"
    }
   ],
   "source": [
    "llist = LinkedList()\n",
    "llist.init_from_list([\"a\", \"b\", \"c\", \"d\"])\n",
    "llist.head.data"
   ]
  },
  {
   "cell_type": "markdown",
   "id": "13370366-13be-42f7-abaa-e5375cf21dcf",
   "metadata": {
    "tags": []
   },
   "source": [
    "## 3.2. Searching\n",
    "The search operation requires $O(n)$ in the worst case, which happens when the target item is not in the list or is in the last position."
   ]
  },
  {
   "cell_type": "code",
   "execution_count": 11,
   "id": "fb1fa24b-2ca6-4859-a11f-780fb6ba687b",
   "metadata": {},
   "outputs": [],
   "source": [
    "class LinkedList:\n",
    "    def __init__(self, data=None):        \n",
    "        self.head= Node(data) if data else None\n",
    "    \n",
    "    def init_from_list(self, lst):\n",
    "        self.head = Node(lst[0])\n",
    "        temp = self.head\n",
    "        for data in lst[1:]:\n",
    "            temp.link = Node(data)\n",
    "            temp = temp.link  \n",
    "    \n",
    "    def print(self):\n",
    "        temp = self.head\n",
    "        while temp:\n",
    "            print(temp.data, end=\" \")\n",
    "            temp = temp.link  \n",
    "            \n",
    "    def search(self,value):\n",
    "        index = 0\n",
    "        temp = self.head\n",
    "        while temp:\n",
    "            if temp.data == value:\n",
    "                return index\n",
    "            temp = temp.link\n",
    "            index += 1 "
   ]
  },
  {
   "cell_type": "markdown",
   "id": "61be786f-8c1f-4864-bfb6-5f58804a5506",
   "metadata": {},
   "source": [
    "Tests the ``search()`` method."
   ]
  },
  {
   "cell_type": "code",
   "execution_count": 12,
   "id": "bf926e6a-e19c-4f85-a82f-a3edce33eaa4",
   "metadata": {},
   "outputs": [
    {
     "data": {
      "text/plain": [
       "2"
      ]
     },
     "execution_count": 12,
     "metadata": {},
     "output_type": "execute_result"
    }
   ],
   "source": [
    "llist = LinkedList()\n",
    "llist.init_from_list([\"a\", \"b\", \"c\", \"d\"])\n",
    "llist.search(\"c\")"
   ]
  },
  {
   "cell_type": "markdown",
   "id": "dc8f3b3b-696c-4a08-b7ec-39dffa527c2b",
   "metadata": {
    "tags": []
   },
   "source": [
    "## 3.3. Adding a new value\n",
    "When working with an unordered sequence, the addition of new data values to it can be done anywhere. Given that linked list maintains a reference to the head of the list, if one does not care where to add new data, we can simply add a new node at the head (aka *push*) with little effort - this would require just $O(1)$. Consider the following visualization:\n",
    "\n",
    "<center><img src=\"https://www.alphacodingskills.com/imgfiles/linked-list-add-node-at-start.PNG\" width=400/></center>\n",
    "\n",
    "If one is interested in appending a new node at the bottom of the linked list, one can either:\n",
    "1. traverse all the list to arrive at the tail, and then append a new node. This would require $O(n) + O(1) = O(n)$, respectively.\n",
    "1. create a pointer to the tail and append in $O(1)$.\n",
    "\n",
    "Consider the following visualization:\n",
    "\n",
    "<center><img src=\"https://www.alphacodingskills.com/imgfiles/linked-list-add-node-at-end.PNG\" width=400/></center>\n"
   ]
  },
  {
   "cell_type": "markdown",
   "id": "71a3e854-80e3-4b9e-a5ab-8f1835e6a36b",
   "metadata": {},
   "source": [
    "Consider the following implementation of ``push()`` and ``append()``. The latter is implemented in $O(n)$ time."
   ]
  },
  {
   "cell_type": "code",
   "execution_count": 13,
   "id": "1f4f77e1-e770-4a36-b8c1-5c66b47cc6c1",
   "metadata": {},
   "outputs": [],
   "source": [
    "class LinkedList:\n",
    "    def __init__(self, data=None):        \n",
    "        self.head= Node(data) if data else None\n",
    "    \n",
    "    def init_from_list(self, lst):\n",
    "        self.head = Node(lst[0])\n",
    "        temp = self.head\n",
    "        for data in lst[1:]:\n",
    "            temp.link = Node(data)\n",
    "            temp = temp.link  \n",
    "    \n",
    "    def print(self):\n",
    "        temp = self.head\n",
    "        while temp:\n",
    "            print(temp.data, end=\" \")\n",
    "            temp = temp.link  \n",
    "            \n",
    "    def search(self,value):\n",
    "        index = 0\n",
    "        temp = self.head\n",
    "        while temp:\n",
    "            if temp.data == value:\n",
    "                return index\n",
    "            temp = temp.link\n",
    "            index += 1 \n",
    "            \n",
    "    def push(self,data):\n",
    "        new_node = Node(data)\n",
    "        new_node.link = self.head\n",
    "        self.head = new_node\n",
    "        \n",
    "    def append(self,data):\n",
    "        current = self.head\n",
    "        while current.link:\n",
    "            current = current.link\n",
    "        current.link = Node(data)"
   ]
  },
  {
   "cell_type": "markdown",
   "id": "f5b8d4cd-92c2-4241-9379-6d6bec3feca0",
   "metadata": {},
   "source": [
    "Tests the ``push()`` and ``append()`` methods."
   ]
  },
  {
   "cell_type": "code",
   "execution_count": 14,
   "id": "d6dc3419-1770-4294-ab3f-03df5deff01d",
   "metadata": {},
   "outputs": [
    {
     "name": "stdout",
     "output_type": "stream",
     "text": [
      "x a b c d y "
     ]
    }
   ],
   "source": [
    "llist = LinkedList()\n",
    "llist.init_from_list([\"a\", \"b\", \"c\", \"d\"])\n",
    "llist.push(\"x\")\n",
    "llist.append(\"y\")\n",
    "llist.print()"
   ]
  },
  {
   "cell_type": "markdown",
   "id": "8366cfd5-2c7b-465d-b9bd-b129c7d8dc8b",
   "metadata": {},
   "source": [
    "Adds a tail to the linked list and modifies the ``append()`` function to render it $O(1)$."
   ]
  },
  {
   "cell_type": "code",
   "execution_count": 15,
   "id": "03524b92-3ff4-4246-b0bc-deff9a8eaa03",
   "metadata": {},
   "outputs": [],
   "source": [
    "class LinkedList:\n",
    "    def __init__(self, data=None):        \n",
    "        self.head= Node(data) if data else None\n",
    "        self.tail = None\n",
    "    \n",
    "    def init_from_list(self, lst):\n",
    "        self.head = Node(lst[0])\n",
    "        temp = self.head\n",
    "        for data in lst[1:]:\n",
    "            temp.link = Node(data)\n",
    "            temp = temp.link\n",
    "        self.tail = temp\n",
    "    \n",
    "    def print(self):\n",
    "        temp = self.head\n",
    "        while temp:\n",
    "            print(temp.data, end=\" \")\n",
    "            temp = temp.link  \n",
    "            \n",
    "    def search(self,value):\n",
    "        index = 0\n",
    "        temp = self.head\n",
    "        while temp:\n",
    "            if temp.data == value:\n",
    "                return index\n",
    "            temp = temp.link\n",
    "            index += 1 \n",
    "            \n",
    "    def push(self,data):\n",
    "        new_node = Node(data)\n",
    "        new_node.link = self.head\n",
    "        self.head = new_node\n",
    "        \n",
    "    def append(self,data):\n",
    "        new_node = Node(data)\n",
    "        self.tail.link = new_node\n",
    "        self.tail = new_node"
   ]
  },
  {
   "cell_type": "markdown",
   "id": "f4ebe781-1419-4233-bdb2-5dfddfe23b7f",
   "metadata": {},
   "source": [
    "Tests the new ``append()`` method."
   ]
  },
  {
   "cell_type": "code",
   "execution_count": 16,
   "id": "cba114cb-7a59-490b-a17a-51234eeaefb4",
   "metadata": {},
   "outputs": [
    {
     "name": "stdout",
     "output_type": "stream",
     "text": [
      "a b c d y "
     ]
    }
   ],
   "source": [
    "llist = LinkedList()\n",
    "llist.init_from_list([\"a\", \"b\", \"c\", \"d\"])\n",
    "llist.append(\"y\")\n",
    "llist.print()"
   ]
  },
  {
   "cell_type": "markdown",
   "id": "90df0002-fce0-4057-9162-13ca02a6cd69",
   "metadata": {},
   "source": [
    "## 3.4. Removing elements\n",
    "An item can be removed from a linked list by removing or unlinking the node\n",
    "containing that item. When removing from head or tail (assuming tail is also being tracked), the required time complexity is $O(1)$. Alternatively, if one is interested in removing some node with a given value, one needs to find that value in the linked list and then remove it: $O(n) + O(1) = O(n)$.\n",
    "\n",
    "\n",
    "Consider the following visualization:\n",
    "\n",
    "<center><img src=\"https://www.alphacodingskills.com/imgfiles/linked-list-delete-first-node.PNG\" width=400/></center>"
   ]
  },
  {
   "cell_type": "code",
   "execution_count": 17,
   "id": "416774e0-24f3-4c09-a320-0ce76cb70d4d",
   "metadata": {},
   "outputs": [],
   "source": [
    "class LinkedList:\n",
    "    def __init__(self, data=None):        \n",
    "        self.head= Node(data) if data else None\n",
    "        self.tail = None\n",
    "    \n",
    "    def init_from_list(self, lst):\n",
    "        self.head = Node(lst[0])\n",
    "        temp = self.head\n",
    "        for data in lst[1:]:\n",
    "            temp.link = Node(data)\n",
    "            temp = temp.link\n",
    "        self.tail = temp\n",
    "    \n",
    "    def print(self):\n",
    "        temp = self.head\n",
    "        while temp:\n",
    "            print(temp.data, end=\" \")\n",
    "            temp = temp.link  \n",
    "            \n",
    "    def search(self,value):\n",
    "        index = 0\n",
    "        temp = self.head\n",
    "        while temp:\n",
    "            if temp.data == value:\n",
    "                return index\n",
    "            temp = temp.link\n",
    "            index += 1 \n",
    "            \n",
    "    def push(self,data):\n",
    "        new_node = Node(data)\n",
    "        new_node.link = self.head\n",
    "        self.head = new_node\n",
    "        \n",
    "    def append(self,data):\n",
    "        new_node = Node(data)\n",
    "        self.tail.link = new_node\n",
    "        self.tail = new_node\n",
    "    \n",
    "    def remove_value(self,value):\n",
    "        previous = None\n",
    "        current = self.head\n",
    "        while current:\n",
    "            if current.data == value:\n",
    "                if previous:\n",
    "                    previous.link = current.link\n",
    "                    current.link = None\n",
    "                else:\n",
    "                    self.head = current.link\n",
    "                    current.link = None\n",
    "            previous = current\n",
    "            current = current.link "
   ]
  },
  {
   "cell_type": "markdown",
   "id": "668e9acf-7d1d-4cfd-8e6e-0eebd2863c31",
   "metadata": {},
   "source": [
    "Tests the ``remove_value()`` method."
   ]
  },
  {
   "cell_type": "code",
   "execution_count": 18,
   "id": "c047befb-54a6-4fec-853d-8bd4c79f05d0",
   "metadata": {},
   "outputs": [
    {
     "name": "stdout",
     "output_type": "stream",
     "text": [
      "a c d "
     ]
    }
   ],
   "source": [
    "llist = LinkedList()\n",
    "llist.init_from_list([\"a\", \"b\", \"c\", \"d\"])\n",
    "llist.remove_value(\"b\")\n",
    "llist.print()"
   ]
  },
  {
   "cell_type": "markdown",
   "id": "a0a55b14-ed8d-42cd-947e-81c0a279bfba",
   "metadata": {},
   "source": [
    "One can also remove elements by index. This operation is known as ``pop()``."
   ]
  },
  {
   "cell_type": "code",
   "execution_count": 19,
   "id": "c39ac7e2-8d7f-4231-905b-579f65e39aa5",
   "metadata": {},
   "outputs": [],
   "source": [
    "class LinkedList:\n",
    "    def __init__(self, data=None):        \n",
    "        self.head= Node(data) if data else None\n",
    "        self.tail = None\n",
    "    \n",
    "    def init_from_list(self, lst):\n",
    "        self.head = Node(lst[0])\n",
    "        temp = self.head\n",
    "        for data in lst[1:]:\n",
    "            temp.link = Node(data)\n",
    "            temp = temp.link\n",
    "        self.tail = temp\n",
    "    \n",
    "    def print(self):\n",
    "        temp = self.head\n",
    "        while temp:\n",
    "            print(temp.data, end=\" \")\n",
    "            temp = temp.link  \n",
    "            \n",
    "    def search(self,value):\n",
    "        index = 0\n",
    "        temp = self.head\n",
    "        while temp:\n",
    "            if temp.data == value:\n",
    "                return index\n",
    "            temp = temp.link\n",
    "            index += 1 \n",
    "            \n",
    "    def push(self,data):\n",
    "        new_node = Node(data)\n",
    "        new_node.link = self.head\n",
    "        self.head = new_node\n",
    "        \n",
    "    def append(self,data):\n",
    "        new_node = Node(data)\n",
    "        self.tail.link = new_node\n",
    "        self.tail = new_node\n",
    "    \n",
    "    def remove_value(self,value):\n",
    "        previous = None\n",
    "        current = self.head\n",
    "        while current:\n",
    "            if current.data == value:\n",
    "                if previous:\n",
    "                    previous.link = current.link\n",
    "                    current.link = None\n",
    "                else:\n",
    "                    self.head = current.link\n",
    "                    current.link = None\n",
    "            previous = current\n",
    "            current = current.link \n",
    "        \n",
    "    def pop(self,index):\n",
    "        index_count = 0\n",
    "        current = self.head\n",
    "        # if you are erasing the head\n",
    "        if index_count == index:\n",
    "            # assign the new head\n",
    "            self.head = self.head.link\n",
    "            # cut the connection\n",
    "            current.link = None\n",
    "        previous = current\n",
    "        current = self.head.link\n",
    "        index_count += 1\n",
    "        while current:\n",
    "            if index_count == index:\n",
    "                previous.link = current.link\n",
    "                current.link = None\n",
    "            previous = current\n",
    "            current = current.link\n",
    "            index_count += 1"
   ]
  },
  {
   "cell_type": "markdown",
   "id": "48c838d7-2a48-45ae-9dbf-d6c89dbea1ef",
   "metadata": {},
   "source": [
    "Tests ``pop()``."
   ]
  },
  {
   "cell_type": "code",
   "execution_count": 20,
   "id": "b049f0a7-d0d2-409f-acbf-7daa6d0de18b",
   "metadata": {},
   "outputs": [
    {
     "name": "stdout",
     "output_type": "stream",
     "text": [
      "a c d "
     ]
    }
   ],
   "source": [
    "llist = LinkedList()\n",
    "llist.init_from_list([\"a\", \"b\", \"c\", \"d\"])\n",
    "llist.pop(1)\n",
    "llist.print()"
   ]
  }
 ],
 "metadata": {
  "kernelspec": {
   "display_name": "Python 3 (ipykernel)",
   "language": "python",
   "name": "python3"
  },
  "language_info": {
   "codemirror_mode": {
    "name": "ipython",
    "version": 3
   },
   "file_extension": ".py",
   "mimetype": "text/x-python",
   "name": "python",
   "nbconvert_exporter": "python",
   "pygments_lexer": "ipython3",
   "version": "3.11.8"
  }
 },
 "nbformat": 4,
 "nbformat_minor": 5
}
