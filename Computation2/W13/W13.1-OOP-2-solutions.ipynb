{
 "cells": [
  {
   "cell_type": "markdown",
   "id": "d3e46839-b24a-43fd-9adc-7db9ea2a7449",
   "metadata": {},
   "source": [
    "## __COMPUTATION II: ALGORITHMS & DATA STRUCTURES__\n",
    "\n",
    "## Practical Classes\n",
    "\n",
    "## Week 13: OOP II"
   ]
  },
  {
   "cell_type": "markdown",
   "id": "c40940a1-4b13-4579-ae2d-162373098d05",
   "metadata": {},
   "source": [
    "### Exercise:\n",
    "    \n",
    "  \n",
    "An administrator is a special kind of user. Write a class called\n",
    "Admin that inherits from the User class.\n",
    "\n",
    "\n",
    "Add an attribute (privileges) in both User and Admin, that stores a list\n",
    "of strings like \"can change user details\", \"can delete user\", \"can suspend user\",\n",
    "the strings for User should be different than for Admin.\n",
    "\n",
    "\n",
    "Write a method called show_privileges() for User class that\n",
    "prints the list of privileges\n",
    "Create an instance of User and Admin, and call your method."
   ]
  },
  {
   "cell_type": "code",
   "execution_count": 1,
   "id": "25725f09-9672-4503-aae2-5712b93f03bf",
   "metadata": {},
   "outputs": [],
   "source": [
    "class User:\n",
    "    def __init__(self, first, last, password='', email=''):\n",
    "        self.first = first\n",
    "        self.last = last\n",
    "        self.password = password\n",
    "        self.email = email\n",
    "        self.privileges = [\"can change user details\"]\n",
    "        \n",
    "\n",
    "    def describe_user(self):\n",
    "        print(\"First name: \", self.first, self.last)\n",
    "\n",
    "    def greet_user(self):\n",
    "        print(\"Hello \", self.first, self.last)\n",
    "        \n",
    "    def show_privileges(self):\n",
    "        print(f\"You {self.privileges}\")\n",
    "        \n",
    "        \n",
    "class Admin(User):\n",
    "    def __init__(self,first,last,email,password):\n",
    "        super().__init__(first,last,email,password)\n",
    "        self.privileges = [\"can change user details\", \"can delete any user\",\"can suspend user\"]\n",
    "        "
   ]
  },
  {
   "cell_type": "code",
   "execution_count": 2,
   "id": "6a828df1-d68a-46cb-b1e3-034459bc3320",
   "metadata": {},
   "outputs": [
    {
     "data": {
      "text/plain": [
       "['can change user details', 'can delete any user', 'can suspend user']"
      ]
     },
     "execution_count": 2,
     "metadata": {},
     "output_type": "execute_result"
    }
   ],
   "source": [
    "pedro = Admin(\"pedro\",\"botelho\",\"asdfg\",21345)\n",
    "pedro.privileges"
   ]
  },
  {
   "cell_type": "markdown",
   "id": "69ef5d58-99fa-4bed-a751-ee6cddabd6b0",
   "metadata": {},
   "source": [
    "### Exercise:\n",
    "\n",
    "\n",
    "When modeling something from the real world in code, you may find that\n",
    "you’re adding more and more detail to a class. In these situations,\n",
    "you might recognize that part of one class can\n",
    "be written as a separate class (NOT inheritance).\n",
    "You can break your large class into smaller\n",
    "classes that work together."
   ]
  },
  {
   "cell_type": "markdown",
   "id": "614463be-3488-4377-ad49-306655cf5f4c",
   "metadata": {},
   "source": [
    "We can have the attributes and methods in a separate\n",
    "class called Battery. Then we can use a\n",
    "Battery instance as an attribute in the ElectricCar class"
   ]
  },
  {
   "cell_type": "code",
   "execution_count": 3,
   "id": "38b83d92-b5d3-4fa7-b526-b6c163922b6c",
   "metadata": {},
   "outputs": [],
   "source": [
    "class Battery:\n",
    "    # A simple attempt to model a battery for an electric car\n",
    "    def __init__(self, battery_size=75):\n",
    "        # Initialize the battery's attributes\n",
    "        self.battery_size = battery_size\n",
    "\n",
    "    def describe_battery(self):\n",
    "        # Print a statement describing the battery size\n",
    "        return f\"This car has a {self.battery_size}-kWh battery.\"\n",
    "\n",
    "\n",
    "# This time we do not inherit from Car class\n",
    "class ElectricCar:\n",
    "    # Represent aspects of a car, specific to electric vehicles\n",
    "    def __init__(self, make, model, year):\n",
    "        self.make = make\n",
    "        self.model = model\n",
    "        self.year = year\n",
    "        self.battery = Battery()    # attribute battery is an instance of Battery class\n",
    "\n",
    "    def get_descriptive_name(self):\n",
    "        print(f\"{self.year} {self.make}  {self.model}\")"
   ]
  },
  {
   "cell_type": "code",
   "execution_count": 4,
   "id": "4abad139-795f-4023-ac0c-efe7ab6bfa27",
   "metadata": {},
   "outputs": [
    {
     "name": "stdout",
     "output_type": "stream",
     "text": [
      "This car has a 75-kWh battery.\n",
      "75\n"
     ]
    }
   ],
   "source": [
    "car = ElectricCar(\"tesla\",\"model s\",2020)\n",
    "print(car.battery.describe_battery())\n",
    "print(car.battery.battery_size)"
   ]
  },
  {
   "cell_type": "markdown",
   "id": "c862140d",
   "metadata": {},
   "source": [
    "### Exercise:\n",
    "\n",
    "Write a class ``Rectangle`` with parameters ``x``, ``y``, ``width=1``, ``height=1``, which calculates the coordinates of all vertices of a rectangle in the ``__init__`` function. Add a method to calculate its area, another to check whether a given rectangle overlaps with the other, and another that outputs a new object of type ``Rectangle`` corresponding to the intersection of a rectangle versus another."
   ]
  },
  {
   "cell_type": "code",
   "execution_count": 5,
   "id": "ba27ea1d",
   "metadata": {},
   "outputs": [],
   "source": [
    "from itertools import product\n",
    "\n",
    "class Rectangle:\n",
    "    def __init__(self, x, y, width=1, height=1):\n",
    "        # x, y are bottom left coordinates\n",
    "        self.x = x\n",
    "        self.y = y\n",
    "        self.width = width\n",
    "        self.height = height\n",
    "        self.x_coords = [x, x+width]\n",
    "        self.y_coords = [y, y+height]\n",
    "        self.all_coords = list(product(self.x_coords, self.y_coords))\n",
    "\n",
    "    def area(self):\n",
    "        return self.width * self.height\n",
    "\n",
    "    def overlaps(self, rectangle):\n",
    "        not_overlapping = (\n",
    "            self.x_coords[1] <= rectangle.x_coords[0]\n",
    "            or self.x_coords[0] >= rectangle.x_coords[1]\n",
    "            or self.y_coords[1] <= rectangle.y_coords[0]\n",
    "            or self.y_coords[0] >= rectangle.y_coords[1]\n",
    "        )\n",
    "        return not not_overlapping\n",
    "    \n",
    "    def intersection(self, rectangle):\n",
    "        x_bl = max(self.x_coords[0], rectangle.x_coords[0])\n",
    "        y_bl = max(self.y_coords[0], rectangle.y_coords[0])\n",
    "        x_tr = min(self.x_coords[1], rectangle.x_coords[1])\n",
    "        y_tr = min(self.y_coords[1], rectangle.y_coords[1])\n",
    "        width = x_tr-x_bl\n",
    "        height = y_tr-y_bl\n",
    "        if width > 0 and height > 0:\n",
    "            return Rectangle(x_bl, y_bl, width, height)\n",
    "        else:\n",
    "            return Rectangle(0, 0, 0, 0)\n",
    "\n",
    "    def __repr__(self):\n",
    "        return f\"{self.__class__.__name__}({self.x}, {self.y}, {self.width}, {self.height})\""
   ]
  },
  {
   "cell_type": "markdown",
   "id": "be1bf6d6",
   "metadata": {},
   "source": [
    "Tests ``Rectangle``:"
   ]
  },
  {
   "cell_type": "code",
   "execution_count": 6,
   "id": "4f620087",
   "metadata": {},
   "outputs": [
    {
     "name": "stdout",
     "output_type": "stream",
     "text": [
      "4 1\n",
      "Do they intersect? True\n"
     ]
    },
    {
     "data": {
      "text/plain": [
       "Rectangle(1.5, 1.1, 1.0, 1.0)"
      ]
     },
     "execution_count": 6,
     "metadata": {},
     "output_type": "execute_result"
    }
   ],
   "source": [
    "rect1 = Rectangle(1, 1, 2, 2)\n",
    "rect2 = Rectangle(1.5, 1.1, 1, 1)\n",
    "\n",
    "print(rect1.area(), rect2.area())\n",
    "print(\"Do they intersect?\", rect1.overlaps(rect2))\n",
    "rect1.intersection(rect2)"
   ]
  },
  {
   "cell_type": "code",
   "execution_count": 7,
   "id": "fac48421",
   "metadata": {},
   "outputs": [
    {
     "name": "stdout",
     "output_type": "stream",
     "text": [
      "4 1\n",
      "Do they intersect? False\n"
     ]
    },
    {
     "data": {
      "text/plain": [
       "Rectangle(0, 0, 0, 0)"
      ]
     },
     "execution_count": 7,
     "metadata": {},
     "output_type": "execute_result"
    }
   ],
   "source": [
    "rect1 = Rectangle(1, 1, 2, 2)\n",
    "rect2 = Rectangle(1.5, 0, 1, 1)\n",
    "\n",
    "print(rect1.area(), rect2.area())\n",
    "print(\"Do they intersect?\", rect1.overlaps(rect2))\n",
    "rect1.intersection(rect2)"
   ]
  }
 ],
 "metadata": {
  "kernelspec": {
   "display_name": "Python 3 (ipykernel)",
   "language": "python",
   "name": "python3"
  },
  "language_info": {
   "codemirror_mode": {
    "name": "ipython",
    "version": 3
   },
   "file_extension": ".py",
   "mimetype": "text/x-python",
   "name": "python",
   "nbconvert_exporter": "python",
   "pygments_lexer": "ipython3",
   "version": "3.12.2"
  }
 },
 "nbformat": 4,
 "nbformat_minor": 5
}
