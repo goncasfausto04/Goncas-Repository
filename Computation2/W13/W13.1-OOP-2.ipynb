{
 "cells": [
  {
   "cell_type": "markdown",
   "id": "d3e46839-b24a-43fd-9adc-7db9ea2a7449",
   "metadata": {},
   "source": [
    "## __COMPUTATION II: ALGORITHMS & DATA STRUCTURES__\n",
    "\n",
    "## Practical Classes\n",
    "\n",
    "## Week 13: OOP II"
   ]
  },
  {
   "cell_type": "markdown",
   "id": "c40940a1-4b13-4579-ae2d-162373098d05",
   "metadata": {},
   "source": [
    "### Exercise:\n",
    "    \n",
    "  \n",
    "An administrator is a special kind of user. Write a class called\n",
    "Admin that inherits from the User class.\n",
    "\n",
    "\n",
    "Add an attribute (privileges) in both User and Admin, that stores a list\n",
    "of strings like \"can change user details\", \"can delete user\", \"can suspend user\",\n",
    "the strings for User should be different than for Admin.\n",
    "\n",
    "\n",
    "Write a method called show_privileges() for User class that\n",
    "prints the list of privileges\n",
    "Create an instance of User and Admin, and call your method."
   ]
  },
  {
   "cell_type": "code",
   "execution_count": 13,
   "id": "25725f09-9672-4503-aae2-5712b93f03bf",
   "metadata": {},
   "outputs": [],
   "source": [
    "class User():\n",
    "    def __init__(self, first_name, last_name,password,user_id):\n",
    "        self.first_name = first_name\n",
    "        self.last_name = last_name\n",
    "        self.password = password\n",
    "        self.user_id = user_id\n",
    "        self.privileges = [\"can change user details\"]\n",
    "                           \n",
    "    def privileges(self):\n",
    "        print(self.privileges)\n",
    "\n",
    "class Admin(User):\n",
    "    def __init__(self, first_name, last_name,password,user_id):\n",
    "        super().__init__(first_name, last_name,password,user_id)\n",
    "        self.privileges += [\"can add post\",\"can delete post\",\"can ban user\"]\n",
    "\n"
   ]
  },
  {
   "cell_type": "code",
   "execution_count": 14,
   "id": "6a828df1-d68a-46cb-b1e3-034459bc3320",
   "metadata": {},
   "outputs": [
    {
     "data": {
      "text/plain": [
       "['can change user details', 'can add post', 'can delete post', 'can ban user']"
      ]
     },
     "execution_count": 14,
     "metadata": {},
     "output_type": "execute_result"
    }
   ],
   "source": [
    "pedro = Admin(\"pedro\",\"botelho\",\"asdfg\",21345)\n",
    "pedro.privileges"
   ]
  },
  {
   "cell_type": "markdown",
   "id": "69ef5d58-99fa-4bed-a751-ee6cddabd6b0",
   "metadata": {},
   "source": [
    "### Exercise:\n",
    "\n",
    "\n",
    "When modeling something from the real world in code, you may find that\n",
    "you’re adding more and more detail to a class. In these situations,\n",
    "you might recognize that part of one class can\n",
    "be written as a separate class (NOT inheritance).\n",
    "You can break your large class into smaller\n",
    "classes that work together."
   ]
  },
  {
   "cell_type": "markdown",
   "id": "614463be-3488-4377-ad49-306655cf5f4c",
   "metadata": {},
   "source": [
    "We can have the attributes and methods in a separate\n",
    "class called Battery. Then we can use a\n",
    "Battery instance as an attribute in the ElectricCar class"
   ]
  },
  {
   "cell_type": "code",
   "execution_count": 27,
   "id": "38b83d92-b5d3-4fa7-b526-b6c163922b6c",
   "metadata": {},
   "outputs": [],
   "source": [
    "class ElectricCar():\n",
    "    def __init__(self,make,model,year):\n",
    "        self.make = make\n",
    "        self.model = model\n",
    "        self.year = year\n",
    "        self.Battery = Battery(70)\n",
    "\n",
    "\n",
    "\n",
    "class Battery():\n",
    "    def __init__(self,battery_size):\n",
    "        self.battery_size = battery_size\n",
    "    \n",
    "    def describe_battery(self):\n",
    "        print(f\"This car has a {self.battery_size}-kWh battery.\")\n",
    "        "
   ]
  },
  {
   "cell_type": "code",
   "execution_count": 28,
   "id": "4abad139-795f-4023-ac0c-efe7ab6bfa27",
   "metadata": {},
   "outputs": [
    {
     "name": "stdout",
     "output_type": "stream",
     "text": [
      "This car has a 70-kWh battery.\n",
      "None\n",
      "70\n"
     ]
    }
   ],
   "source": [
    "car = ElectricCar(\"tesla\",\"model s\",2020)\n",
    "print(car.Battery.describe_battery())\n",
    "print(car.Battery.battery_size)"
   ]
  },
  {
   "cell_type": "markdown",
   "id": "c862140d",
   "metadata": {},
   "source": [
    "### Exercise:\n",
    "\n",
    "Write a class ``Rectangle`` with parameters ``x``, ``y``, ``width=1``, ``height=1``, which calculates the coordinates of all vertices of a rectangle in the ``__init__`` function. Add a method to calculate its area, another to check whether a given rectangle overlaps with the other, and another that outputs a new object of type ``Rectangle`` corresponding to the intersection of a rectangle versus another."
   ]
  },
  {
   "cell_type": "code",
   "execution_count": 52,
   "id": "ba27ea1d",
   "metadata": {},
   "outputs": [],
   "source": [
    "class Rectangle():\n",
    "    def __init__(self,x,y,widht=1,height=1):\n",
    "        self.x = x\n",
    "        self.y = y\n",
    "        self.widht = widht\n",
    "        self.height = height\n",
    "        self.coord = ((self.x,self.y),(self.x+self.widht,self.y),(self.x+self.widht,self.y+self.height),(self.x,self.y+self.height))    \n",
    "\n",
    "    def area(self):\n",
    "        print(self.widht*self.height)\n",
    "\n",
    "    def overlap(self,Rectangle):\n",
    "        if self.coord[0][0] < Rectangle.coord[2][0] and self.coord[2][0] > Rectangle.coord[0][0] and self.coord[0][1] < Rectangle.coord[2][1] and self.coord[2][1] > Rectangle.coord[0][1]:\n",
    "            return True\n",
    "        else:\n",
    "            return False\n"
   ]
  },
  {
   "cell_type": "markdown",
   "id": "be1bf6d6",
   "metadata": {},
   "source": [
    "Tests ``Rectangle``:"
   ]
  },
  {
   "cell_type": "code",
   "execution_count": 56,
   "id": "4f620087",
   "metadata": {},
   "outputs": [
    {
     "data": {
      "text/plain": [
       "True"
      ]
     },
     "execution_count": 56,
     "metadata": {},
     "output_type": "execute_result"
    }
   ],
   "source": [
    "rectangle1 = Rectangle(1,1,2,2)\n",
    "rectangle2 = Rectangle(2,2,2,2)\n",
    "\n",
    "rectangle1.overlap(rectangle2)"
   ]
  },
  {
   "cell_type": "code",
   "execution_count": null,
   "id": "fac48421",
   "metadata": {},
   "outputs": [],
   "source": []
  }
 ],
 "metadata": {
  "kernelspec": {
   "display_name": "Python 3 (ipykernel)",
   "language": "python",
   "name": "python3"
  },
  "language_info": {
   "codemirror_mode": {
    "name": "ipython",
    "version": 3
   },
   "file_extension": ".py",
   "mimetype": "text/x-python",
   "name": "python",
   "nbconvert_exporter": "python",
   "pygments_lexer": "ipython3",
   "version": "3.11.8"
  }
 },
 "nbformat": 4,
 "nbformat_minor": 5
}
