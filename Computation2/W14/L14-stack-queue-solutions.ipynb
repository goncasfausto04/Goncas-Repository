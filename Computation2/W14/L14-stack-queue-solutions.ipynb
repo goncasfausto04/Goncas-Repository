{
 "cells": [
  {
   "cell_type": "markdown",
   "id": "7c2562ee-8187-40c5-a7ba-9e9fbc41be78",
   "metadata": {
    "tags": []
   },
   "source": [
    "# **Computation II: Algorithms & Data Structures** <br/>\n",
    "**Bachelor's Degree Programs in Data Science and Information Systems**<br/>\n",
    "**NOVA IMS**<br/>\n",
    "\n",
    "**NOTE:** Adapted from Prof. Dr. Illya Bakurov's class materials.\n",
    "\n",
    "## References\n",
    "1. Data Structures and Algorithms with Python (2015), by K. D. Lee and S. Hubbard\n",
    "2. Data Structures and Algorithms using Python (2011), by R. D. Necaise. John Wiley & Sons, Inc.\n",
    "3. [Python's official documentation: Data model](https://docs.python.org/3/reference/datamodel.html)"
   ]
  },
  {
   "cell_type": "markdown",
   "id": "b22cd9cb-538b-4dd2-8b29-356ef590c36c",
   "metadata": {},
   "source": [
    "Imports ``numpy`` to generate random values and manipulate arrays."
   ]
  },
  {
   "cell_type": "code",
   "execution_count": 1,
   "id": "f13a2871-0b25-4b8d-b7ac-9d15831d8657",
   "metadata": {},
   "outputs": [],
   "source": [
    "import sys\n",
    "import timeit\n",
    "import random\n",
    "import numpy as np"
   ]
  },
  {
   "cell_type": "markdown",
   "id": "b8034804-d962-40c9-9437-e1aec0ff7b3a",
   "metadata": {},
   "source": [
    "# 1. Stacks\n",
    "\n",
    "\"*A stack is a data structure where access is only at one end of the sequence. New values are pushed onto the stack to add them to the sequence and popped off the stack to remove them from the sequence*\" [1]. In the lingo of computer science, the term *push* means appending/adding/inserting an element/value/node into a sequence. The term *pop* means removing/deleting/dropping a given element/value/node.\n",
    "Visually:\n",
    "\n",
    "<center><img src=\"https://lh5.googleusercontent.com/YXJkNIUjUJoi3BuI7BKp17dLM_lt0QO2kjbbm34tdYGNjVZS4qk_vEIeuQ6B7BmiAwrJPovZPin_ZPyOdFAkIYcnfs8yD4ctcpop8BCINIStY9LzawvUyMdwFv_5YVGvbGRfSvhx\" width=400/></center>\n",
    "\n",
    "A stack is an example of the so-called last in/first out (LIFO) data structures. That is, the last item pushed (inserted) is the first item popped (removed).\n",
    "\n",
    "In this section, an implementation of a Stack using linked lists will be provided."
   ]
  },
  {
   "cell_type": "markdown",
   "id": "3b5732e0-9069-48b3-a0ab-f67d7d42805e",
   "metadata": {},
   "source": [
    "Creates a class ``Node``."
   ]
  },
  {
   "cell_type": "code",
   "execution_count": 2,
   "id": "cfe0cb7a-4f9d-4759-b2a2-c8766b2d0b11",
   "metadata": {},
   "outputs": [],
   "source": [
    "class Node:\n",
    "    def __init__(self, data, link=None):\n",
    "        self.data = data\n",
    "        self.link = link"
   ]
  },
  {
   "cell_type": "markdown",
   "id": "26d92b0d-f773-4a13-8b76-6a21dc61a33c",
   "metadata": {},
   "source": [
    "Creates a class called ``Stack`` which implements the following methods: ``__init__()``, ``__str__()``, ``is_empty()``, ``peek()``, ``push()``, ``pop()`` and ``clear()``.\n",
    "\n",
    "Note that this class implements another *dunder* method called ``__str__()``. The methods having two prefix and suffix underscores in the method name are known as *dunder* methods, where *dunder* stands for *double underscore*. These are commonly used to modify or extend the *meaning* of some operators beyond their predefined defaults. Visit the official documentation [3] for more details. \n",
    "\n",
    "The *dunder* methods will be covered deeply in *Computação 3*. Here, we will take a look at ``__str__()`` only. From the official documentation [3] ``__str__()`` is called \"*(...) by ``str(object)`` and the built-in functions ``format()`` and ``print()`` to compute the 'informal' or nicely printable string representation of an object. The return value must be a string object*\". Moreover, \"*For string objects, this is the string itself. If an object does not have a ``__str__()`` method, then ``str()`` falls back to returning ``__repr__(object)``*\". "
   ]
  },
  {
   "cell_type": "code",
   "execution_count": 3,
   "id": "b7f434ab-0740-4621-ba37-0a786ea0fb8a",
   "metadata": {},
   "outputs": [],
   "source": [
    "class Stack:\n",
    "    def __init__(self, data=None):        \n",
    "        self.head = Node(data) if data else None\n",
    "        self.size = 1 if self.head else 0\n",
    "    \n",
    "    def print(self):\n",
    "        temp = self.head\n",
    "        while temp:\n",
    "            print(temp.data, end=\" -> \" if temp.link else \"\\n\")\n",
    "            temp = temp.link\n",
    "    \n",
    "    def __str__(self):\n",
    "        representation = \"[\"\n",
    "        temp = self.head\n",
    "        while temp:\n",
    "            representation += str(temp.data) + (\" -> \" if temp.link else \"\")\n",
    "            temp = temp.link \n",
    "        representation += \"]\"\n",
    "        return representation\n",
    "    \n",
    "    def is_empty(self):\n",
    "        return self.size==0\n",
    "    \n",
    "    def peek(self):\n",
    "        if self.is_empty(): \n",
    "            print(\"The stack is empty!\")\n",
    "        else:\n",
    "            return self.head.data\n",
    "    \n",
    "    def push(self, data):\n",
    "        new_node = Node(data, self.head)\n",
    "        self.head = new_node\n",
    "        self.size += 1 \n",
    "        \n",
    "    def pop(self):\n",
    "        if self.is_empty(): \n",
    "            print(\"The stack is empty!\")\n",
    "        else:        \n",
    "            removed_value = self.head.data\n",
    "            self.head = self.head.link\n",
    "            self.size -= 1 \n",
    "            return removed_value\n",
    "    \n",
    "    def clear(self):\n",
    "        self.head = None\n",
    "        self.size = 0"
   ]
  },
  {
   "cell_type": "markdown",
   "id": "97daac0b-becb-4e60-ab78-c652b2a52bec",
   "metadata": {},
   "source": [
    "Tests ``Stack``."
   ]
  },
  {
   "cell_type": "code",
   "execution_count": 4,
   "id": "7116826c-7d05-4ec4-a295-b06b9d934da1",
   "metadata": {},
   "outputs": [
    {
     "name": "stdout",
     "output_type": "stream",
     "text": [
      "555 -> 444 -> 333 -> 222 -> 111\n",
      "[555 -> 444 -> 333 -> 222 -> 111]\n",
      "[555 -> 444 -> 333 -> 222 -> 111]\n",
      "[444 -> 333 -> 222 -> 111]\n",
      "[]\n"
     ]
    }
   ],
   "source": [
    "stack = Stack(111)\n",
    "stack.push(222)\n",
    "stack.push(333)\n",
    "stack.push(444)\n",
    "stack.push(555)\n",
    "stack.print()\n",
    "print(stack)\n",
    "stack.peek()\n",
    "print(stack)\n",
    "stack.pop()\n",
    "print(stack)\n",
    "stack.clear()\n",
    "print(stack)"
   ]
  },
  {
   "cell_type": "markdown",
   "id": "5b960a41-3bd2-4399-b874-c16efcf8e818",
   "metadata": {},
   "source": [
    "Another test."
   ]
  },
  {
   "cell_type": "code",
   "execution_count": 5,
   "id": "937859d4-5175-4f8a-bc3a-369d8c5753f4",
   "metadata": {},
   "outputs": [
    {
     "name": "stdout",
     "output_type": "stream",
     "text": [
      "[555 -> 444 -> 333 -> 222]\n",
      "The stack is empty!\n"
     ]
    }
   ],
   "source": [
    "stack = Stack()\n",
    "stack.push(222)\n",
    "stack.push(333)\n",
    "stack.push(444)\n",
    "stack.push(555)\n",
    "print(stack)\n",
    "stack.pop()\n",
    "stack.pop()\n",
    "stack.pop()\n",
    "stack.pop()\n",
    "stack.pop()"
   ]
  },
  {
   "cell_type": "markdown",
   "id": "5f684a23-39eb-480d-b9b7-2b083f0ec5d3",
   "metadata": {},
   "source": [
    "Note that the computational complexity for each one of the implemented operations is $O(1)$, except when traversing the stack (which happens at linear time)."
   ]
  },
  {
   "cell_type": "markdown",
   "id": "1c41fa23-5d13-434c-bbe3-4eca62d4ccef",
   "metadata": {},
   "source": [
    "Note that the term *stack* is also used to refer to stack memory. Following [1]:\n",
    "\n",
    "\"***Python splits the RAM up into two parts called the Run-time Stack and the Heap.** (...) The run-time stack is a stack of Activation Records. **The Python interpreter pushes an activation record onto the run-time stack when a function is called.** When a function returns the Python interpreter pops the corresponding activation record off the run-time stack. Python stores the identifiers defined in the local scope in an activation record. When a function is called, a new scope becomes the local scope. At the same time a new activation record is pushed onto the run-time stack. This new activation record\n",
    "holds all the variables that are defined within the new local scope. When a function returns its corresponding activation record is popped from the run-time stack. **The Heap is the area of RAM where all objects are stored**. When an object is created it resides in the heap. The run-time stack never contains objects. **References to objects are stored within the run-time stack and those references point to objects in the heap**.*\" \n",
    "\n",
    "In visual terms:\n",
    "\n",
    "<center><img src=\"https://res.cloudinary.com/endjin/image/upload/f_auto/q_80/assets/images/blog/2022/07/example-with-method-drawio.png\" width=400/></center>"
   ]
  },
  {
   "cell_type": "markdown",
   "id": "94d0eeb1-688a-41b4-8b27-8dbc1f14e3be",
   "metadata": {},
   "source": [
    "# 2. Queue\n",
    "\"*A queue is like a stack in many ways except that instead of being a LIFO data structure, queues are FIFO or First In/First Out data structures. The first item pushed, is the first item popped. When we are working with a queue we talk of enqueueing an item, instead of pushing it. When removing an item from the queue we talk of dequeueing the item instead of popping it as we did from a stack.*\" [1]. In visual terms:\n",
    "\n",
    "<center><img src=\"https://cafedev.vn/wp-content/uploads/2020/07/cafedev_queue_c.png\" width=400/></center>"
   ]
  },
  {
   "cell_type": "markdown",
   "id": "f47a3a74-4868-424c-8eda-4c502489c458",
   "metadata": {},
   "source": [
    "Creates a class called ``Queue`` which implements the following methods: ``__init__()``, ``__str__()``, ``is_empty()``, ``peek()``, ``push()``, ``pop()`` and ``clear()``."
   ]
  },
  {
   "cell_type": "code",
   "execution_count": 6,
   "id": "fc4384ac-3454-4145-951c-5c9b7c4da698",
   "metadata": {},
   "outputs": [],
   "source": [
    "class Queue:\n",
    "    def __init__(self, data=None):        \n",
    "        self.head = Node(data) if data else None\n",
    "        self.tail = self.head\n",
    "        self.size = 1 if self.head else 0\n",
    "    \n",
    "    def __str__(self):\n",
    "        representation = \"[\"\n",
    "        temp = self.head\n",
    "        while temp:\n",
    "            representation += str(temp.data) + (\" -> \" if temp.link else \"\")\n",
    "            temp = temp.link \n",
    "        representation += \" ]\"\n",
    "        return representation\n",
    "    \n",
    "    def is_empty(self):\n",
    "        return self.size==0\n",
    "    \n",
    "    def peek(self):\n",
    "        if self.is_empty(): \n",
    "            print(\"The queue is empty!\")\n",
    "        else:\n",
    "            return self.head.data\n",
    "    \n",
    "    def enqueue(self, data):\n",
    "        new_node = Node(data)\n",
    "        if self.tail:\n",
    "            self.tail.link = new_node\n",
    "            self.tail = self.tail.link\n",
    "            self.size += 1 \n",
    "        else:\n",
    "            self.tail = new_node\n",
    "            self.head = self.tail\n",
    "        \n",
    "    def dequeue(self):\n",
    "        if self.is_empty(): \n",
    "            print(\"The queue is empty!\")\n",
    "        else:        \n",
    "            removed_value = self.head.data\n",
    "            self.head = self.head.link\n",
    "            self.size -= 1 \n",
    "            return removed_value"
   ]
  },
  {
   "cell_type": "markdown",
   "id": "4896cf20-41dd-4cfa-b3b2-475c00309aea",
   "metadata": {},
   "source": [
    "Tests ``Queue``."
   ]
  },
  {
   "cell_type": "code",
   "execution_count": 7,
   "id": "eb6ab89a-ba92-4841-ae1d-9ab8bf0a7721",
   "metadata": {},
   "outputs": [
    {
     "name": "stdout",
     "output_type": "stream",
     "text": [
      "[1 -> 1 -> 2 -> 3 -> 4 ]\n",
      "[1 -> 2 -> 3 -> 4 ]\n"
     ]
    },
    {
     "data": {
      "text/plain": [
       "1"
      ]
     },
     "execution_count": 7,
     "metadata": {},
     "output_type": "execute_result"
    }
   ],
   "source": [
    "queue = Queue(1)\n",
    "for i in range(1, 5):\n",
    "    queue.enqueue(i)\n",
    "print(queue)\n",
    "queue.dequeue()\n",
    "print(queue)\n",
    "queue.peek()"
   ]
  },
  {
   "cell_type": "markdown",
   "id": "4431e0e5-8e66-426e-aacb-3cca7404ac78",
   "metadata": {},
   "source": [
    "Note that the computational complexity for each one of the implemented operations is $O(1)$, except when traversing the queue (which happens at linear time)."
   ]
  },
  {
   "cell_type": "markdown",
   "id": "f74b2cb6-221b-459b-bc9e-09142530f4a9",
   "metadata": {},
   "source": [
    "# 3. Abstract Data Type (ADT):\n",
    "\n",
    "- An abstract data type (ADT) is the realization of a data type as a software component. \n",
    "    - The *interface* of the ADT is deﬁned in terms of a type and a set of operations on that type. \n",
    "    - The behavior of each operation is determined by its inputs and outputs, and possibly by some documentation describing it. \n",
    "\n",
    "- An ADT does not specify how the data type is implemented. \n",
    "    - These implementation details are hidden from the user of the ADT and protected from outside access, a concept referred to as **encapsulation**.\n",
    "\n",
    "- The distinction between the logical concept of a data type and its physical implementation in a computer program is very important;\n",
    "    - Typically, there are many possible ways of implementing an ADT. \n",
    "\n",
    "- The concept of an ADT is one instance of an important principle that must be understood by any successful technology professional: **managing complexity through abstraction**. \n",
    "\n",
    "- A central theme of informatics is complexity and techniques for handling it. A way of doing it is to:\n",
    "    1. Focus on important issues (how it works);\n",
    "    2. Ignore unnecessary details (how it is implemented), that typically someone else has already solved.\n",
    "\n",
    "- Interfaces provide linguistic support to the notion of “contract” between who uses the objects of a class, and who implements the class itself.\n",
    "\n",
    "- Whoever writes the portion of the program that uses the objects of the class has an abstract view of it. The user only knows:\n",
    "    1. The inputs-outputs of the methods to be used \n",
    "    2. An (informal) description of the operations, regardless of the implementation.\n",
    "\n",
    "- Whoever implements a class must also provide an implementation of the interface methods, with a concrete representation of the objects.\n",
    "    - This allows you to proceed in parallel with the writing of the two parts, and to integrate them at the end.\n",
    "    - Furthermore, the class that implements the interface can be replaced with another more efficient (or more convenient ...), without modifying the program that uses it."
   ]
  },
  {
   "cell_type": "code",
   "execution_count": 8,
   "id": "4d420350-f492-4716-97ae-c937974c456f",
   "metadata": {},
   "outputs": [],
   "source": [
    "class QueueList:\n",
    "    def __init__(self,data=None):\n",
    "        # the data type of self.queue->list\n",
    "        self.queue = []\n",
    "        self.size = 0\n",
    "        if data:\n",
    "            self.queue.append(data)\n",
    "            self.size = 1\n",
    "            \n",
    "    def __str__(self):\n",
    "        representation = \"[ \"\n",
    "        for i in range(self.size):\n",
    "            representation += str(self.queue[i]) + (\" -> \" if i != (self.size-1) else \"\")\n",
    "        representation += \" ]\"\n",
    "        return representation\n",
    "    \n",
    "    def is_empty(self):\n",
    "        return self.size == 0\n",
    "    \n",
    "    def peek(self):\n",
    "        if self.is_empty():\n",
    "            print(\"nothing to peek\")\n",
    "        else:\n",
    "            return self.queue[0]\n",
    "    \n",
    "    def enqueue(self,data):\n",
    "        self.queue.append(data)\n",
    "        self.size += 1\n",
    "        \n",
    "    def dequeue(self):\n",
    "        if self.is_empty():\n",
    "            print(\"nothing to dequeue\")\n",
    "        else:\n",
    "            self.size -= 1\n",
    "            return self.queue.pop(0)"
   ]
  },
  {
   "cell_type": "markdown",
   "id": "f88cfc9c-21be-49d2-84f6-314a0c95bcd7",
   "metadata": {},
   "source": [
    "Tests ``QueueList``. As you can see, the interface between ``Queue`` and ``QueueList`` is the same."
   ]
  },
  {
   "cell_type": "code",
   "execution_count": 9,
   "id": "3c1cbe51-1fdf-44f7-acf4-906d38bc5425",
   "metadata": {},
   "outputs": [
    {
     "name": "stdout",
     "output_type": "stream",
     "text": [
      "[ 1 -> 2 -> 3 -> 4 ]\n",
      "1\n",
      "[ 2 -> 3 -> 4 ]\n"
     ]
    }
   ],
   "source": [
    "Q = QueueList()\n",
    "for i in range(1,5):\n",
    "    Q.enqueue(i)\n",
    "print(Q)\n",
    "print(Q.dequeue())\n",
    "print(Q)"
   ]
  }
 ],
 "metadata": {
  "kernelspec": {
   "display_name": "Python 3 (ipykernel)",
   "language": "python",
   "name": "python3"
  },
  "language_info": {
   "codemirror_mode": {
    "name": "ipython",
    "version": 3
   },
   "file_extension": ".py",
   "mimetype": "text/x-python",
   "name": "python",
   "nbconvert_exporter": "python",
   "pygments_lexer": "ipython3",
   "version": "3.9.12"
  }
 },
 "nbformat": 4,
 "nbformat_minor": 5
}
