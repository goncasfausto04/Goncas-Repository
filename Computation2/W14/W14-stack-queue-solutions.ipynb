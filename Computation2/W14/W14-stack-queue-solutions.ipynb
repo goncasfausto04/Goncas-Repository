{
 "cells": [
  {
   "cell_type": "markdown",
   "id": "f09657e1-28f7-4bcf-9fb5-cfb80508338e",
   "metadata": {},
   "source": [
    "## __COMPUTATION II: ALGORITHMS & DATA STRUCTURES__\n",
    "\n",
    "## Practical Classes\n",
    "\n",
    "## Week 14: Linked List & Stack & Queues"
   ]
  },
  {
   "cell_type": "markdown",
   "id": "6cddac90-90ec-4938-adc7-64bac1ee0459",
   "metadata": {},
   "source": [
    "# Stacks\n",
    "\n",
    "Data structure where the data elements are\n",
    "arranged in a stack. The items are added\n",
    "at one end and removed form the same end.\n",
    "A stack is called a “LIFO” list,\n",
    "which stands for “Last-In, First-Out.”.\n",
    "\n",
    "Main operations:\n",
    "Push, which adds an element to the collection,\n",
    "Pop, which removes the most recently added element,\n",
    "Peek, which returns/prints the most recently added element"
   ]
  },
  {
   "cell_type": "markdown",
   "id": "9416b423-130b-45ae-b55a-be7e07774121",
   "metadata": {},
   "source": [
    "- Create a class called Book with attributes \"book name\" and \"author\". Define a method called \"describe\" that decribes the book."
   ]
  },
  {
   "cell_type": "code",
   "execution_count": 24,
   "id": "5e2d30df-82e5-4b27-8f5d-a4a5aa307ce5",
   "metadata": {},
   "outputs": [],
   "source": [
    "class Book:\n",
    "    def __init__(self,name,author):\n",
    "        self.name = name\n",
    "        self.author = author\n",
    "        \n",
    "    def __str__(self):\n",
    "        #representation = f\"Name: {self.name}, Author: {self.author}\"\n",
    "        return self.name\n",
    "        \n",
    "    def describe(self):\n",
    "        return f\"Name: {self.name}, Author: {self.author}\""
   ]
  },
  {
   "cell_type": "code",
   "execution_count": 16,
   "id": "14cdfd8a-feef-4097-8fb6-7675d6212919",
   "metadata": {},
   "outputs": [
    {
     "name": "stdout",
     "output_type": "stream",
     "text": [
      "Name: ink heart, Author: cornelia funke\n"
     ]
    }
   ],
   "source": [
    "obj = Book(\"ink heart\",\"cornelia funke\")\n",
    "print(obj)"
   ]
  },
  {
   "cell_type": "markdown",
   "id": "596bed09-9b6a-4e5a-87b1-536c369cb368",
   "metadata": {},
   "source": [
    "- Let's use the Node and Stack class we defined before."
   ]
  },
  {
   "cell_type": "code",
   "execution_count": 12,
   "id": "0c5ab596-7a98-49a5-8264-0ed429a837e4",
   "metadata": {},
   "outputs": [],
   "source": [
    "class Node:\n",
    "    def __init__(self, data, link=None):\n",
    "        self.data = data\n",
    "        self.link = link"
   ]
  },
  {
   "cell_type": "code",
   "execution_count": 55,
   "id": "51320c7e-027c-42f5-8b3d-9b6ebe615d64",
   "metadata": {},
   "outputs": [],
   "source": [
    "class Stack:\n",
    "    def __init__(self, data=None):        \n",
    "        self.head = Node(data) if data else None\n",
    "        self.size = 1 if self.head else 0\n",
    "    \n",
    "    def print(self):\n",
    "        temp = self.head\n",
    "        while temp:\n",
    "            print(temp.data, end=\" -> \" if temp.link else \"\\n\")\n",
    "            temp = temp.link\n",
    "    \n",
    "    def __str__(self):\n",
    "        representation = \"[ \"\n",
    "        temp = self.head\n",
    "        while temp:\n",
    "            representation += str(temp.data) + (\" -> \" if temp.link else \"\")\n",
    "            temp = temp.link \n",
    "        representation += \" ]\"\n",
    "        return representation\n",
    "    \n",
    "    def is_empty(self):\n",
    "        return self.size==0\n",
    "    \n",
    "    def peek(self):\n",
    "        if self.is_empty(): \n",
    "            print(\"The stack is empty!\")\n",
    "        else:\n",
    "            return self.head.data\n",
    "    \n",
    "    def push(self, data):\n",
    "        new_node = Node(data, self.head)\n",
    "        self.head = new_node\n",
    "        self.size += 1 \n",
    "        \n",
    "    def pop(self):\n",
    "        if self.is_empty(): \n",
    "            print(\"The stack is empty!\")\n",
    "        else:        \n",
    "            removed_value = self.head.data\n",
    "            self.head = self.head.link\n",
    "            self.size -= 1 \n",
    "            return removed_value\n",
    "    \n",
    "    def clear(self):\n",
    "        self.head = None\n",
    "        self.size = 0\n",
    "        "
   ]
  },
  {
   "cell_type": "code",
   "execution_count": 25,
   "id": "43bd750f-ffe1-427c-bd0c-187b937d1f77",
   "metadata": {},
   "outputs": [
    {
     "name": "stdout",
     "output_type": "stream",
     "text": [
      "[ ink heart ]\n",
      "[ diary of a wimpy kid -> a brief history of time -> atomic habits -> ink heart ]\n"
     ]
    }
   ],
   "source": [
    "books = [Book(\"ink heart\",\"cornelia funke\"),Book(\"atomic habits\",\"james clear\"),Book(\"a brief history of time\",\"hawking\"),Book(\"diary of a wimpy kid\",\"jeff kinney\")]\n",
    "S = Stack()\n",
    "S.push(books[0])\n",
    "print(S)\n",
    "S.push(books[1])\n",
    "S.push(books[2])\n",
    "S.push(books[3])\n",
    "print(S)"
   ]
  },
  {
   "cell_type": "markdown",
   "id": "35e8ce75-877e-41c1-9a33-6eb14093ddfa",
   "metadata": {},
   "source": [
    "- Modify the previous example to simulate a playlist as a stack"
   ]
  },
  {
   "cell_type": "code",
   "execution_count": null,
   "id": "a7d6acb5-e6f6-4841-989d-eb7cdb8ac94d",
   "metadata": {},
   "outputs": [],
   "source": [
    "# class song, playlist [Song()], push all of them "
   ]
  },
  {
   "cell_type": "code",
   "execution_count": 67,
   "id": "d187b048-fb4e-4632-89a1-6f97511d4b2a",
   "metadata": {},
   "outputs": [],
   "source": [
    "class Song:\n",
    "    def __init__(self,title,artist):\n",
    "        self.title = title\n",
    "        self.artist = artist\n",
    "        \n",
    "    def __str__(self):\n",
    "        return self.title"
   ]
  },
  {
   "cell_type": "code",
   "execution_count": 30,
   "id": "b7196650-8a4b-4a9c-9e82-e90f3ac4d155",
   "metadata": {},
   "outputs": [
    {
     "name": "stdout",
     "output_type": "stream",
     "text": [
      "[ hysteria -> 3s and 7s -> marolento -> all too well 10mins version ]\n",
      "hysteria\n"
     ]
    }
   ],
   "source": [
    "playlist = [Song(\"all too well 10mins version\",\"taylor swift\"),Song(\"marolento\",\"puterrier\"),Song(\"3s and 7s\",\"queens of the stone age\"),Song(\"hysteria\",\"muse\")]\n",
    "S = Stack()\n",
    "for song in playlist:\n",
    "    S.push(song)\n",
    "print(S)\n",
    "print(S.pop())"
   ]
  },
  {
   "cell_type": "markdown",
   "id": "e5845653-5b00-4af3-b864-6d0cb7486566",
   "metadata": {},
   "source": [
    "- Create a function that reverses a string using our Stack class. \n",
    "\n",
    "We are going to make use of LIFO policy."
   ]
  },
  {
   "cell_type": "code",
   "execution_count": 38,
   "id": "2f8dd264-c9d4-4353-86c7-3786775fb1b8",
   "metadata": {},
   "outputs": [
    {
     "name": "stdout",
     "output_type": "stream",
     "text": [
      "alo\n"
     ]
    }
   ],
   "source": [
    "def reverse(string):\n",
    "    S = Stack()\n",
    "    for letter in string:\n",
    "        S.push(letter)\n",
    "    rev = \"\"\n",
    "    #while S.is_empty() is False:\n",
    "    for i in range(S.size):   \n",
    "        rev += S.pop()\n",
    "    return rev\n",
    "\n",
    "print(reverse(\"ola\"))"
   ]
  },
  {
   "cell_type": "markdown",
   "id": "e3d930bd-bb90-46c5-af42-956bb7afdc72",
   "metadata": {},
   "source": [
    "A simplified version of stack (not using linked lists)"
   ]
  },
  {
   "cell_type": "code",
   "execution_count": 95,
   "id": "b61e10e7-03be-4628-a4e6-643a8dd1ee58",
   "metadata": {},
   "outputs": [],
   "source": [
    "class StackList:\n",
    "    def __init__(self,data=None):\n",
    "        # the data type of self.stack->list\n",
    "        self.stack = []\n",
    "        self.size = 0\n",
    "        if data:\n",
    "            self.stack.append(data)\n",
    "            self.size = 1\n",
    "            \n",
    "    def __str__(self):\n",
    "        representation = \"[ \"\n",
    "        for i in range(self.size):\n",
    "            representation += str(self.stack[i]) + (\" <- \" if i != (self.size-1) else \"\")\n",
    "        representation += \" ]\"\n",
    "        return representation\n",
    "    \n",
    "    def is_empty(self):\n",
    "        return self.size == 0\n",
    "    \n",
    "    def peek(self):\n",
    "        if self.is_empty():\n",
    "            print(\"nothing to peek\")\n",
    "        else:\n",
    "            return self.stack[-1]\n",
    "    \n",
    "    def push(self,data):\n",
    "        self.stack.append(data)\n",
    "        self.size += 1\n",
    "    \n",
    "    def pop(self):\n",
    "        if self.is_empty():\n",
    "            print(\"nothing to pop\")\n",
    "        else:\n",
    "            self.size -= 1\n",
    "            return self.stack.pop()"
   ]
  },
  {
   "cell_type": "code",
   "execution_count": 97,
   "id": "8ee1c130-a944-4834-81f5-25d135c1952f",
   "metadata": {},
   "outputs": [
    {
     "name": "stdout",
     "output_type": "stream",
     "text": [
      "[ Mon <- Tue <- Wed ]\n",
      "Wed\n",
      "[ Mon <- Tue ]\n"
     ]
    }
   ],
   "source": [
    "S = StackList()\n",
    "S.push(\"Mon\")\n",
    "S.push(\"Tue\")\n",
    "S.push(\"Wed\")\n",
    "print(S)\n",
    "print(S.pop())\n",
    "print(S)"
   ]
  },
  {
   "cell_type": "code",
   "execution_count": 98,
   "id": "c2ffc176-9869-479d-9776-c86a602ef998",
   "metadata": {},
   "outputs": [
    {
     "name": "stdout",
     "output_type": "stream",
     "text": [
      "[ Wed -> Tue -> Mon ]\n",
      "Wed\n",
      "[ Tue -> Mon ]\n"
     ]
    }
   ],
   "source": [
    "S = Stack()\n",
    "S.push(\"Mon\")\n",
    "S.push(\"Tue\")\n",
    "S.push(\"Wed\")\n",
    "print(S)\n",
    "print(S.pop())\n",
    "print(S)"
   ]
  },
  {
   "cell_type": "markdown",
   "id": "a0c48f54-a824-4707-a332-e139dffb2d72",
   "metadata": {},
   "source": [
    "# Queues\n",
    "\n",
    "Data structure where the data elements are\n",
    "arranged in a queue. The items are added\n",
    "at one end but removed form the other end.\n",
    "So it is a First-in-First out method."
   ]
  },
  {
   "cell_type": "markdown",
   "id": "28a6d355-b0c5-45a2-bc6f-0d1206f6b8e4",
   "metadata": {},
   "source": [
    "- Create a class called Person that will queue to enter a concert. Attributes will contain name and age. "
   ]
  },
  {
   "cell_type": "code",
   "execution_count": 62,
   "id": "5b7ddfdd-0eda-4606-b8e0-49458a9fbc96",
   "metadata": {},
   "outputs": [],
   "source": [
    "class Person:\n",
    "    def __init__(self,name,age):\n",
    "        self.name = name\n",
    "        self.age = age\n",
    "    def __str__(self):\n",
    "        return self.name"
   ]
  },
  {
   "cell_type": "code",
   "execution_count": 63,
   "id": "2a4f9562-171c-41b6-aca9-a1aeca7230db",
   "metadata": {},
   "outputs": [
    {
     "name": "stdout",
     "output_type": "stream",
     "text": [
      "berfin\n"
     ]
    }
   ],
   "source": [
    "p = Person(\"berfin\",25)\n",
    "print(p)"
   ]
  },
  {
   "cell_type": "markdown",
   "id": "3c732960-6fa6-4da2-bcba-04fe409ea8f1",
   "metadata": {},
   "source": [
    "- Let's use the Node and Stack class we defined before."
   ]
  },
  {
   "cell_type": "code",
   "execution_count": 13,
   "id": "93946b85-60ee-4720-b930-5ad37619fc14",
   "metadata": {},
   "outputs": [],
   "source": [
    "class Queue:\n",
    "    def __init__(self, data=None):        \n",
    "        self.head = Node(data) if data else None\n",
    "        self.tail = self.head\n",
    "        self.size = 1 if self.head else 0\n",
    "    \n",
    "    def __str__(self):\n",
    "        representation = \"[ \"\n",
    "        temp = self.head\n",
    "        while temp:\n",
    "            representation += str(temp.data) + (\" -> \" if temp.link else \"\")\n",
    "            temp = temp.link \n",
    "        representation += \" ]\"\n",
    "        return representation\n",
    "    \n",
    "    def is_empty(self):\n",
    "        return self.size==0\n",
    "    \n",
    "    def peek(self):\n",
    "        if self.is_empty(): \n",
    "            print(\"The queue is empty!\")\n",
    "        else:\n",
    "            return self.head.data\n",
    "    \n",
    "    def enqueue(self, data):\n",
    "        new_node = Node(data)\n",
    "        if self.tail:\n",
    "            self.tail.link = new_node\n",
    "            self.tail = self.tail.link\n",
    "            self.size += 1 \n",
    "        else:\n",
    "            self.tail = new_node\n",
    "            self.head = self.tail\n",
    "        \n",
    "    def dequeue(self):\n",
    "        if self.is_empty(): \n",
    "            print(\"The queue is empty!\")\n",
    "        else:        \n",
    "            removed_value = self.head.data\n",
    "            self.head = self.head.link\n",
    "            self.size -= 1 \n",
    "            return removed_value"
   ]
  },
  {
   "cell_type": "code",
   "execution_count": 66,
   "id": "3ec5c10e-309a-4e3b-8b1d-56457bfdb717",
   "metadata": {},
   "outputs": [
    {
     "name": "stdout",
     "output_type": "stream",
     "text": [
      "[ berfin -> dulce -> utku ]\n",
      "berfin\n",
      "[ dulce -> utku ]\n"
     ]
    }
   ],
   "source": [
    "people = [Person(\"berfin\",25),Person(\"dulce\",18),Person(\"utku\",32)]\n",
    "Q = Queue()\n",
    "for person in people:\n",
    "    Q.enqueue(person)\n",
    "print(Q)\n",
    "print(Q.dequeue())\n",
    "print(Q)"
   ]
  },
  {
   "cell_type": "code",
   "execution_count": 68,
   "id": "cfac9f25-dfb0-468c-9acc-9209bdd3b6dc",
   "metadata": {},
   "outputs": [
    {
     "name": "stdout",
     "output_type": "stream",
     "text": [
      "[ all too well 10mins version -> marolento -> 3s and 7s -> hysteria ]\n",
      "all too well 10mins version\n"
     ]
    }
   ],
   "source": [
    "playlist = [Song(\"all too well 10mins version\",\"taylor swift\"),Song(\"marolento\",\"puterrier\"),Song(\"3s and 7s\",\"queens of the stone age\"),Song(\"hysteria\",\"muse\")]\n",
    "Q = Queue()\n",
    "for song in playlist:\n",
    "    Q.enqueue(song)\n",
    "print(Q)\n",
    "print(Q.dequeue())"
   ]
  },
  {
   "cell_type": "markdown",
   "id": "593fe445-892d-490e-8f9b-0ac5b8912e7a",
   "metadata": {},
   "source": [
    "A simplified version of queue (not using linked lists)"
   ]
  },
  {
   "cell_type": "code",
   "execution_count": 85,
   "id": "5dc47b2f-7a00-4876-87ed-051d8b9af834",
   "metadata": {},
   "outputs": [],
   "source": [
    "class QueueList:\n",
    "    def __init__(self,data=None):\n",
    "        # the data type of self.queue->list\n",
    "        self.queue = []\n",
    "        self.size = 0\n",
    "        if data:\n",
    "            self.queue.append(data)\n",
    "            self.size = 1\n",
    "            \n",
    "    def __str__(self):\n",
    "        representation = \"[ \"\n",
    "        for i in range(self.size):\n",
    "            representation += str(self.queue[i]) + (\" -> \" if i != (self.size-1) else \"\")\n",
    "        representation += \" ]\"\n",
    "        return representation\n",
    "    \n",
    "    def is_empty(self):\n",
    "        return self.size == 0\n",
    "    \n",
    "    def peek(self):\n",
    "        if self.is_empty():\n",
    "            print(\"nothing to peek\")\n",
    "        else:\n",
    "            return self.queue[0]\n",
    "    \n",
    "    def enqueue(self,data):\n",
    "        self.queue.append(data)\n",
    "        self.size += 1\n",
    "        \n",
    "    def dequeue(self):\n",
    "        if self.is_empty():\n",
    "            print(\"nothing to dequeue\")\n",
    "        else:\n",
    "            self.size -= 1\n",
    "            return self.queue.pop(0)"
   ]
  },
  {
   "cell_type": "code",
   "execution_count": 87,
   "id": "39bdf114-e7c9-4972-a935-d3a5949944a8",
   "metadata": {},
   "outputs": [
    {
     "name": "stdout",
     "output_type": "stream",
     "text": [
      "[ 1 -> 2 -> 3 -> 4 ]\n",
      "1\n",
      "[ 2 -> 3 -> 4 ]\n"
     ]
    }
   ],
   "source": [
    "Q = QueueList()\n",
    "for i in range(1,5):\n",
    "    Q.enqueue(i)\n",
    "print(Q)\n",
    "print(Q.dequeue())\n",
    "print(Q)"
   ]
  },
  {
   "cell_type": "code",
   "execution_count": 88,
   "id": "3def2a84-41a9-4380-9e04-7ca0aea0a6a6",
   "metadata": {},
   "outputs": [
    {
     "name": "stdout",
     "output_type": "stream",
     "text": [
      "[ 1 -> 2 -> 3 -> 4 ]\n",
      "1\n",
      "[ 2 -> 3 -> 4 ]\n"
     ]
    }
   ],
   "source": [
    "Q = Queue()\n",
    "for i in range(1,5):\n",
    "    Q.enqueue(i)\n",
    "print(Q)\n",
    "print(Q.dequeue())\n",
    "print(Q)"
   ]
  }
 ],
 "metadata": {
  "kernelspec": {
   "display_name": "Python 3 (ipykernel)",
   "language": "python",
   "name": "python3"
  },
  "language_info": {
   "codemirror_mode": {
    "name": "ipython",
    "version": 3
   },
   "file_extension": ".py",
   "mimetype": "text/x-python",
   "name": "python",
   "nbconvert_exporter": "python",
   "pygments_lexer": "ipython3",
   "version": "3.9.12"
  }
 },
 "nbformat": 4,
 "nbformat_minor": 5
}
