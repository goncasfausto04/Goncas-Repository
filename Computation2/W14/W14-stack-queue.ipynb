{
 "cells": [
  {
   "cell_type": "markdown",
   "id": "f09657e1-28f7-4bcf-9fb5-cfb80508338e",
   "metadata": {},
   "source": [
    "## __COMPUTATION II: ALGORITHMS & DATA STRUCTURES__\n",
    "\n",
    "## Practical Classes\n",
    "\n",
    "## Week 14: Linked List & Stack & Queues"
   ]
  },
  {
   "cell_type": "markdown",
   "id": "6cddac90-90ec-4938-adc7-64bac1ee0459",
   "metadata": {},
   "source": [
    "# Stacks\n",
    "\n",
    "Data structure where the data elements are\n",
    "arranged in a stack. The items are added\n",
    "at one end and removed form the same end.\n",
    "A stack is called a “LIFO” list,\n",
    "which stands for “Last-In, First-Out.”.\n",
    "\n",
    "Main operations:\n",
    "Push, which adds an element to the collection,\n",
    "Pop, which removes the most recently added element,\n",
    "Peek, which returns/prints the most recently added element"
   ]
  },
  {
   "cell_type": "markdown",
   "id": "9416b423-130b-45ae-b55a-be7e07774121",
   "metadata": {},
   "source": [
    "- Create a class called Book with attributes \"book name\" and \"author\". Define a method called \"describe\" that decribes the book."
   ]
  },
  {
   "cell_type": "code",
   "execution_count": null,
   "id": "5e2d30df-82e5-4b27-8f5d-a4a5aa307ce5",
   "metadata": {},
   "outputs": [],
   "source": []
  },
  {
   "cell_type": "code",
   "execution_count": null,
   "id": "14cdfd8a-feef-4097-8fb6-7675d6212919",
   "metadata": {},
   "outputs": [],
   "source": []
  },
  {
   "cell_type": "markdown",
   "id": "596bed09-9b6a-4e5a-87b1-536c369cb368",
   "metadata": {},
   "source": [
    "- Let's use the Node and Stack class we defined before."
   ]
  },
  {
   "cell_type": "code",
   "execution_count": 51,
   "id": "0c5ab596-7a98-49a5-8264-0ed429a837e4",
   "metadata": {},
   "outputs": [],
   "source": [
    "class Node:\n",
    "    def __init__(self, data, link=None):\n",
    "        self.data = data\n",
    "        self.link = link"
   ]
  },
  {
   "cell_type": "code",
   "execution_count": 60,
   "id": "51320c7e-027c-42f5-8b3d-9b6ebe615d64",
   "metadata": {},
   "outputs": [],
   "source": [
    "class Stack:\n",
    "    def __init__(self, data=None):        \n",
    "        self.head = Node(data) if data else None\n",
    "        self.size = 1 if self.head else 0\n",
    "    \n",
    "    def print(self):\n",
    "        temp = self.head\n",
    "        while temp:\n",
    "            print(temp.data, end=\" -> \" if temp.link else \"\\n\")\n",
    "            temp = temp.link\n",
    "    \n",
    "    def __str__(self):\n",
    "        representation = \"[ \"\n",
    "        temp = self.head\n",
    "        while temp:\n",
    "            representation += str(temp.data) + (\" -> \" if temp.link else \"\")\n",
    "            temp = temp.link \n",
    "        representation += \" ]\"\n",
    "        return representation\n",
    "    \n",
    "    def is_empty(self):\n",
    "        return self.size==0\n",
    "    \n",
    "    def peek(self):\n",
    "        if self.is_empty(): \n",
    "            print(\"The stack is empty!\")\n",
    "        else:\n",
    "            return self.head.data\n",
    "    \n",
    "    def push(self, data):\n",
    "        new_node = Node(data, self.head)\n",
    "        self.head = new_node\n",
    "        self.size += 1 \n",
    "        \n",
    "    def pop(self):\n",
    "        if self.is_empty(): \n",
    "            print(\"The stack is empty!\")\n",
    "        else:        \n",
    "            removed_value = self.head.data\n",
    "            self.head = self.head.link\n",
    "            self.size -= 1 \n",
    "            return removed_value\n",
    "    \n",
    "    def clear(self):\n",
    "        self.head = None\n",
    "        self.size = 0\n",
    "        "
   ]
  },
  {
   "cell_type": "code",
   "execution_count": null,
   "id": "43bd750f-ffe1-427c-bd0c-187b937d1f77",
   "metadata": {},
   "outputs": [],
   "source": []
  },
  {
   "cell_type": "code",
   "execution_count": null,
   "id": "4630075a-7c9a-4891-b987-55f5ea17c8c9",
   "metadata": {},
   "outputs": [],
   "source": []
  },
  {
   "cell_type": "markdown",
   "id": "35e8ce75-877e-41c1-9a33-6eb14093ddfa",
   "metadata": {},
   "source": [
    "- Modify the previous example to simulate a playlist as a stack"
   ]
  },
  {
   "cell_type": "code",
   "execution_count": null,
   "id": "a7d6acb5-e6f6-4841-989d-eb7cdb8ac94d",
   "metadata": {},
   "outputs": [],
   "source": []
  },
  {
   "cell_type": "code",
   "execution_count": null,
   "id": "d187b048-fb4e-4632-89a1-6f97511d4b2a",
   "metadata": {},
   "outputs": [],
   "source": []
  },
  {
   "cell_type": "markdown",
   "id": "e5845653-5b00-4af3-b864-6d0cb7486566",
   "metadata": {},
   "source": [
    "- Create a function that reverses a string using our Stack class. We are going to make use of LIFO policy."
   ]
  },
  {
   "cell_type": "code",
   "execution_count": null,
   "id": "2f8dd264-c9d4-4353-86c7-3786775fb1b8",
   "metadata": {},
   "outputs": [],
   "source": []
  },
  {
   "cell_type": "code",
   "execution_count": null,
   "id": "ea4d8ae6-72d5-47b0-9d95-e0f41986ab8c",
   "metadata": {},
   "outputs": [],
   "source": []
  },
  {
   "cell_type": "markdown",
   "id": "e3d930bd-bb90-46c5-af42-956bb7afdc72",
   "metadata": {},
   "source": [
    "A simplified version of stack (not using linked lists)"
   ]
  },
  {
   "cell_type": "code",
   "execution_count": null,
   "id": "b61e10e7-03be-4628-a4e6-643a8dd1ee58",
   "metadata": {},
   "outputs": [],
   "source": []
  },
  {
   "cell_type": "code",
   "execution_count": null,
   "id": "8ee1c130-a944-4834-81f5-25d135c1952f",
   "metadata": {},
   "outputs": [],
   "source": []
  },
  {
   "cell_type": "markdown",
   "id": "a0c48f54-a824-4707-a332-e139dffb2d72",
   "metadata": {},
   "source": [
    "# Queues\n",
    "\n",
    "Data structure where the data elements are\n",
    "arranged in a queue. The items are added\n",
    "at one end but removed form the other end.\n",
    "So it is a First-in-First out method."
   ]
  },
  {
   "cell_type": "markdown",
   "id": "28a6d355-b0c5-45a2-bc6f-0d1206f6b8e4",
   "metadata": {},
   "source": [
    "- Create a class called Person that will queue to enter a concert. Attributes will contain name and age. "
   ]
  },
  {
   "cell_type": "code",
   "execution_count": null,
   "id": "5b7ddfdd-0eda-4606-b8e0-49458a9fbc96",
   "metadata": {},
   "outputs": [],
   "source": []
  },
  {
   "cell_type": "code",
   "execution_count": null,
   "id": "2a4f9562-171c-41b6-aca9-a1aeca7230db",
   "metadata": {},
   "outputs": [],
   "source": []
  },
  {
   "cell_type": "markdown",
   "id": "3c732960-6fa6-4da2-bcba-04fe409ea8f1",
   "metadata": {},
   "source": [
    "- Let's use the Node and Stack class we defined before."
   ]
  },
  {
   "cell_type": "code",
   "execution_count": 1,
   "id": "93946b85-60ee-4720-b930-5ad37619fc14",
   "metadata": {},
   "outputs": [],
   "source": [
    "class Queue:\n",
    "    def __init__(self, data=None):        \n",
    "        self.head = Node(data) if data else None\n",
    "        self.tail = self.head\n",
    "        self.size = 1 if self.head else 0\n",
    "    \n",
    "    def __str__(self):\n",
    "        representation = \"[ \"\n",
    "        temp = self.head\n",
    "        while temp:\n",
    "            representation += str(temp.data) + (\" -> \" if temp.link else \"\")\n",
    "            temp = temp.link \n",
    "        representation += \" ]\"\n",
    "        return representation\n",
    "    \n",
    "    def is_empty(self):\n",
    "        return self.size==0\n",
    "    \n",
    "    def peek(self):\n",
    "        if self.is_empty(): \n",
    "            print(\"The queue is empty!\")\n",
    "        else:\n",
    "            return self.head.data\n",
    "    \n",
    "    def enqueue(self, data):\n",
    "        new_node = Node(data)\n",
    "        if self.tail:\n",
    "            self.tail.link = new_node\n",
    "            self.tail = self.tail.link\n",
    "            self.size += 1 \n",
    "        else:\n",
    "            self.tail = new_node\n",
    "            self.head = self.tail\n",
    "        \n",
    "    def dequeue(self):\n",
    "        if self.is_empty(): \n",
    "            print(\"The queue is empty!\")\n",
    "        else:        \n",
    "            removed_value = self.head.data\n",
    "            self.head = self.head.link\n",
    "            self.size -= 1 \n",
    "            return removed_value"
   ]
  },
  {
   "cell_type": "code",
   "execution_count": null,
   "id": "3ec5c10e-309a-4e3b-8b1d-56457bfdb717",
   "metadata": {},
   "outputs": [],
   "source": []
  },
  {
   "cell_type": "code",
   "execution_count": null,
   "id": "cfac9f25-dfb0-468c-9acc-9209bdd3b6dc",
   "metadata": {},
   "outputs": [],
   "source": []
  },
  {
   "cell_type": "markdown",
   "id": "593fe445-892d-490e-8f9b-0ac5b8912e7a",
   "metadata": {},
   "source": [
    "A simplified version of queue (not using linked lists)"
   ]
  },
  {
   "cell_type": "code",
   "execution_count": null,
   "id": "5dc47b2f-7a00-4876-87ed-051d8b9af834",
   "metadata": {},
   "outputs": [],
   "source": []
  },
  {
   "cell_type": "code",
   "execution_count": null,
   "id": "39bdf114-e7c9-4972-a935-d3a5949944a8",
   "metadata": {},
   "outputs": [],
   "source": []
  }
 ],
 "metadata": {
  "kernelspec": {
   "display_name": "Python 3 (ipykernel)",
   "language": "python",
   "name": "python3"
  },
  "language_info": {
   "codemirror_mode": {
    "name": "ipython",
    "version": 3
   },
   "file_extension": ".py",
   "mimetype": "text/x-python",
   "name": "python",
   "nbconvert_exporter": "python",
   "pygments_lexer": "ipython3",
   "version": "3.9.12"
  }
 },
 "nbformat": 4,
 "nbformat_minor": 5
}
