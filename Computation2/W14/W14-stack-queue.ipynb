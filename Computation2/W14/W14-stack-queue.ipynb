{
 "cells": [
  {
   "cell_type": "markdown",
   "id": "f09657e1-28f7-4bcf-9fb5-cfb80508338e",
   "metadata": {},
   "source": [
    "## __COMPUTATION II: ALGORITHMS & DATA STRUCTURES__\n",
    "\n",
    "## Practical Classes\n",
    "\n",
    "## Week 14: Linked List & Stack & Queues"
   ]
  },
  {
   "cell_type": "markdown",
   "id": "6cddac90-90ec-4938-adc7-64bac1ee0459",
   "metadata": {},
   "source": [
    "# Stacks\n",
    "\n",
    "Data structure where the data elements are\n",
    "arranged in a stack. The items are added\n",
    "at one end and removed form the same end.\n",
    "A stack is called a “LIFO” list,\n",
    "which stands for “Last-In, First-Out.”.\n",
    "\n",
    "Main operations:\n",
    "Push, which adds an element to the collection,\n",
    "Pop, which removes the most recently added element,\n",
    "Peek, which returns/prints the most recently added element"
   ]
  },
  {
   "cell_type": "markdown",
   "id": "9416b423-130b-45ae-b55a-be7e07774121",
   "metadata": {},
   "source": [
    "- Create a class called Book with attributes \"book name\" and \"author\". Define a method called \"describe\" that decribes the book."
   ]
  },
  {
   "cell_type": "code",
   "execution_count": 3,
   "id": "5e2d30df-82e5-4b27-8f5d-a4a5aa307ce5",
   "metadata": {},
   "outputs": [],
   "source": [
    "class Book:\n",
    "    def __init__(self,book_name,author):\n",
    "        self.book_name = book_name\n",
    "        self.author = author\n",
    "\n",
    "    def describe(self):\n",
    "        print(f\"{self.book_name} by {self.author}\")\n",
    "\n",
    "    def __str__(self):\n",
    "        return self.book_name"
   ]
  },
  {
   "cell_type": "code",
   "execution_count": 4,
   "id": "14cdfd8a-feef-4097-8fb6-7675d6212919",
   "metadata": {},
   "outputs": [],
   "source": [
    "book1 = Book(\"Fada Oriana\",\"Alice Vieira\")\n",
    "book2 = Book(\"Harry Potter\", \"Jk Rowling\")\n",
    "book3 = Book(\"Os Mais\", \"Eça\")\n",
    "book4 = Book(\"Inferno\", \"Dan Brown\")"
   ]
  },
  {
   "cell_type": "markdown",
   "id": "596bed09-9b6a-4e5a-87b1-536c369cb368",
   "metadata": {},
   "source": [
    "- Let's use the Node and Stack class we defined before."
   ]
  },
  {
   "cell_type": "code",
   "execution_count": 5,
   "id": "0c5ab596-7a98-49a5-8264-0ed429a837e4",
   "metadata": {},
   "outputs": [],
   "source": [
    "class Node:\n",
    "    def __init__(self, data, link=None):\n",
    "        self.data = data\n",
    "        self.link = link"
   ]
  },
  {
   "cell_type": "code",
   "execution_count": 6,
   "id": "51320c7e-027c-42f5-8b3d-9b6ebe615d64",
   "metadata": {},
   "outputs": [],
   "source": [
    "class Stack:\n",
    "    def __init__(self, data=None):        \n",
    "        self.head = Node(data) if data else None\n",
    "        self.size = 1 if self.head else 0\n",
    "    \n",
    "    def print(self):\n",
    "        temp = self.head\n",
    "        while temp:\n",
    "            print(temp.data, end=\" -> \" if temp.link else \"\\n\")\n",
    "            temp = temp.link\n",
    "    \n",
    "    def __str__(self):\n",
    "        representation = \"[ \"\n",
    "        temp = self.head\n",
    "        while temp:\n",
    "            representation += str(temp.data) + (\" -> \" if temp.link else \"\")\n",
    "            temp = temp.link \n",
    "        representation += \" ]\"\n",
    "        return representation\n",
    "    \n",
    "    def is_empty(self):\n",
    "        return self.size==0\n",
    "    \n",
    "    def peek(self):\n",
    "        if self.is_empty(): \n",
    "            print(\"The stack is empty!\")\n",
    "        else:\n",
    "            return self.head.data\n",
    "    \n",
    "    def push(self, data):\n",
    "        new_node = Node(data, self.head)\n",
    "        self.head = new_node\n",
    "        self.size += 1 \n",
    "        \n",
    "    def pop(self):\n",
    "        if self.is_empty(): \n",
    "            print(\"The stack is empty!\")\n",
    "        else:        \n",
    "            removed_value = self.head.data\n",
    "            self.head = self.head.link\n",
    "            self.size -= 1 \n",
    "            return removed_value\n",
    "    \n",
    "    def clear(self):\n",
    "        self.head = None\n",
    "        self.size = 0\n",
    "        "
   ]
  },
  {
   "cell_type": "code",
   "execution_count": 7,
   "id": "43bd750f-ffe1-427c-bd0c-187b937d1f77",
   "metadata": {},
   "outputs": [],
   "source": [
    "stack1 = Stack()\n",
    "stack1.push(book1)\n",
    "stack1.push(book2)\n",
    "stack1.push(book3)\n"
   ]
  },
  {
   "cell_type": "code",
   "execution_count": null,
   "id": "4630075a-7c9a-4891-b987-55f5ea17c8c9",
   "metadata": {},
   "outputs": [],
   "source": []
  },
  {
   "cell_type": "markdown",
   "id": "35e8ce75-877e-41c1-9a33-6eb14093ddfa",
   "metadata": {},
   "source": [
    "- Modify the previous example to simulate a playlist as a stack"
   ]
  },
  {
   "cell_type": "code",
   "execution_count": 8,
   "id": "a7d6acb5-e6f6-4841-989d-eb7cdb8ac94d",
   "metadata": {},
   "outputs": [],
   "source": [
    "class Song():\n",
    "    def __init__(self,song_name,artist):\n",
    "        self.song_name = song_name\n",
    "        self.artist = artist\n",
    "    \n",
    "    def __str__(self):\n",
    "        return self.song_name + \" by \" + self.artist\n",
    "    \n",
    "    def describe(self):\n",
    "        return self.__str__()"
   ]
  },
  {
   "cell_type": "code",
   "execution_count": 9,
   "id": "d187b048-fb4e-4632-89a1-6f97511d4b2a",
   "metadata": {},
   "outputs": [
    {
     "name": "stdout",
     "output_type": "stream",
     "text": [
      "[ Querida já não Dá by Dillaz -> A minha Casinha by Xutos e Pontapes -> One by Metallica -> Saudade by Dillaz -> Heavy Dirty Soul by TOP ]\n",
      "[ A minha Casinha by Xutos e Pontapes -> One by Metallica -> Saudade by Dillaz -> Heavy Dirty Soul by TOP ]\n"
     ]
    }
   ],
   "source": [
    "playlist = Stack()\n",
    "\n",
    "song1 = Song(\"Heavy Dirty Soul\",\"TOP\")\n",
    "song2 = Song(\"Saudade\", \"Dillaz\")\n",
    "song3 = Song(\"One\", \"Metallica\")\n",
    "song4 = Song(\"A minha Casinha\", \"Xutos e Pontapes\")\n",
    "song5 = Song(\"Querida já não Dá\", \"Dillaz\")\n",
    "\n",
    "playlist.push(song1)\n",
    "playlist.push(song2)\n",
    "playlist.push(song3)\n",
    "playlist.push(song4)\n",
    "playlist.push(song5)\n",
    "print(playlist)\n",
    "playlist.pop()\n",
    "print(playlist)"
   ]
  },
  {
   "cell_type": "markdown",
   "id": "e5845653-5b00-4af3-b864-6d0cb7486566",
   "metadata": {},
   "source": [
    "- Create a function that reverses a string using our Stack class. We are going to make use of LIFO policy."
   ]
  },
  {
   "cell_type": "code",
   "execution_count": 22,
   "id": "2f8dd264-c9d4-4353-86c7-3786775fb1b8",
   "metadata": {},
   "outputs": [
    {
     "data": {
      "text/plain": [
       "'dneirf ym olleh'"
      ]
     },
     "execution_count": 22,
     "metadata": {},
     "output_type": "execute_result"
    }
   ],
   "source": [
    "example = \"hello my friend\"\n",
    "\n",
    "def reverse(string):\n",
    "    stack3 = Stack()\n",
    "    for char in example:\n",
    "        stack3.push(char)\n",
    "\n",
    "    output = \"\"\n",
    "    curr_node = stack3.head\n",
    "    while curr_node:\n",
    "        output += curr_node.data\n",
    "        curr_node = curr_node.link\n",
    "    \n",
    "    return output\n",
    "\n",
    "\n",
    "\n",
    "reverse(example)"
   ]
  },
  {
   "cell_type": "code",
   "execution_count": null,
   "id": "ea4d8ae6-72d5-47b0-9d95-e0f41986ab8c",
   "metadata": {},
   "outputs": [],
   "source": []
  },
  {
   "cell_type": "markdown",
   "id": "e3d930bd-bb90-46c5-af42-956bb7afdc72",
   "metadata": {},
   "source": [
    "A simplified version of stack (not using linked lists)"
   ]
  },
  {
   "cell_type": "code",
   "execution_count": null,
   "id": "b61e10e7-03be-4628-a4e6-643a8dd1ee58",
   "metadata": {},
   "outputs": [],
   "source": []
  },
  {
   "cell_type": "code",
   "execution_count": null,
   "id": "8ee1c130-a944-4834-81f5-25d135c1952f",
   "metadata": {},
   "outputs": [],
   "source": []
  },
  {
   "cell_type": "markdown",
   "id": "a0c48f54-a824-4707-a332-e139dffb2d72",
   "metadata": {},
   "source": [
    "# Queues\n",
    "\n",
    "Data structure where the data elements are\n",
    "arranged in a queue. The items are added\n",
    "at one end but removed form the other end.\n",
    "So it is a First-in-First out method."
   ]
  },
  {
   "cell_type": "markdown",
   "id": "28a6d355-b0c5-45a2-bc6f-0d1206f6b8e4",
   "metadata": {},
   "source": [
    "- Create a class called Person that will queue to enter a concert. Attributes will contain name and age. "
   ]
  },
  {
   "cell_type": "code",
   "execution_count": 29,
   "id": "5b7ddfdd-0eda-4606-b8e0-49458a9fbc96",
   "metadata": {},
   "outputs": [],
   "source": [
    "class Person():\n",
    "    def __init__(self,name,age):\n",
    "        self.name = name\n",
    "        self.age = age\n",
    "    \n",
    "    def __str__(self):\n",
    "        return self.name\n",
    "        "
   ]
  },
  {
   "cell_type": "code",
   "execution_count": null,
   "id": "2a4f9562-171c-41b6-aca9-a1aeca7230db",
   "metadata": {},
   "outputs": [],
   "source": []
  },
  {
   "cell_type": "markdown",
   "id": "3c732960-6fa6-4da2-bcba-04fe409ea8f1",
   "metadata": {},
   "source": [
    "- Let's use the Node and Stack class we defined before."
   ]
  },
  {
   "cell_type": "code",
   "execution_count": 30,
   "id": "93946b85-60ee-4720-b930-5ad37619fc14",
   "metadata": {},
   "outputs": [],
   "source": [
    "class Queue:\n",
    "    def __init__(self, data=None):        \n",
    "        self.head = Node(data) if data else None\n",
    "        self.tail = self.head\n",
    "        self.size = 1 if self.head else 0\n",
    "    \n",
    "    def __str__(self):\n",
    "        representation = \"[ \"\n",
    "        temp = self.head\n",
    "        while temp:\n",
    "            representation += str(temp.data) + (\" -> \" if temp.link else \"\")\n",
    "            temp = temp.link \n",
    "        representation += \" ]\"\n",
    "        return representation\n",
    "    \n",
    "    def is_empty(self):\n",
    "        return self.size==0\n",
    "    \n",
    "    def peek(self):\n",
    "        if self.is_empty(): \n",
    "            print(\"The queue is empty!\")\n",
    "        else:\n",
    "            return self.head.data\n",
    "    \n",
    "    def enqueue(self, data):\n",
    "        new_node = Node(data)\n",
    "        if self.tail:\n",
    "            self.tail.link = new_node\n",
    "            self.tail = self.tail.link\n",
    "            self.size += 1 \n",
    "        else:\n",
    "            self.tail = new_node\n",
    "            self.head = self.tail\n",
    "        \n",
    "    def dequeue(self):\n",
    "        if self.is_empty(): \n",
    "            print(\"The queue is empty!\")\n",
    "        else:        \n",
    "            removed_value = self.head.data\n",
    "            self.head = self.head.link\n",
    "            self.size -= 1 \n",
    "            return removed_value"
   ]
  },
  {
   "cell_type": "code",
   "execution_count": 36,
   "id": "3ec5c10e-309a-4e3b-8b1d-56457bfdb717",
   "metadata": {},
   "outputs": [
    {
     "name": "stdout",
     "output_type": "stream",
     "text": [
      "[ Joao -> Miguel -> Bernardo -> Henrique -> Manel -> Jeremias ] 5\n"
     ]
    }
   ],
   "source": [
    "queue1 = Queue()\n",
    "person1 = Person(\"Gonçalo\",\"20\")\n",
    "person2 = Person(\"Joao\",\"20\")\n",
    "person3 = Person(\"Miguel\",\"20\")\n",
    "person4 = Person(\"Bernardo\",\"20\")\n",
    "person5 = Person(\"Henrique\",\"20\")\n",
    "person6 = Person(\"Manel\",\"20\")\n",
    "person7 = Person(\"Jeremias\",\"20\")\n",
    "\n",
    "queue1.enqueue(person1)\n",
    "queue1.enqueue(person2)\n",
    "queue1.enqueue(person3)\n",
    "queue1.enqueue(person4)\n",
    "queue1.enqueue(person5)\n",
    "queue1.enqueue(person6)\n",
    "queue1.enqueue(person7)\n",
    "queue1.dequeue()\n",
    "\n",
    "\n",
    "\n",
    "print(queue1, queue1.size)"
   ]
  },
  {
   "cell_type": "code",
   "execution_count": null,
   "id": "cfac9f25-dfb0-468c-9acc-9209bdd3b6dc",
   "metadata": {},
   "outputs": [],
   "source": []
  },
  {
   "cell_type": "markdown",
   "id": "593fe445-892d-490e-8f9b-0ac5b8912e7a",
   "metadata": {},
   "source": [
    "A simplified version of queue (not using linked lists)"
   ]
  },
  {
   "cell_type": "code",
   "execution_count": null,
   "id": "5dc47b2f-7a00-4876-87ed-051d8b9af834",
   "metadata": {},
   "outputs": [],
   "source": []
  },
  {
   "cell_type": "code",
   "execution_count": null,
   "id": "39bdf114-e7c9-4972-a935-d3a5949944a8",
   "metadata": {},
   "outputs": [],
   "source": []
  }
 ],
 "metadata": {
  "kernelspec": {
   "display_name": "Python 3 (ipykernel)",
   "language": "python",
   "name": "python3"
  },
  "language_info": {
   "codemirror_mode": {
    "name": "ipython",
    "version": 3
   },
   "file_extension": ".py",
   "mimetype": "text/x-python",
   "name": "python",
   "nbconvert_exporter": "python",
   "pygments_lexer": "ipython3",
   "version": "3.11.8"
  }
 },
 "nbformat": 4,
 "nbformat_minor": 5
}
