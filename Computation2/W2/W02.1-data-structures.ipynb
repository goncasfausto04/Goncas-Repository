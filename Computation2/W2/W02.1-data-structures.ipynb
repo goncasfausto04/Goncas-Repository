{
 "cells": [
  {
   "cell_type": "markdown",
   "id": "dd19ab55-6362-4bb1-95e0-526d2b67ca71",
   "metadata": {},
   "source": [
    "# **Computation II** <br/>\n",
    "**Bachelor's Degree Programs in Data Science and Information Systems**<br/>\n",
    "**NOVA IMS**<br/>\n",
    "\n",
    "This notebook is a continuation of ``W01.1-getting-started.ipynb``."
   ]
  },
  {
   "cell_type": "markdown",
   "id": "e60b0401-0d8c-4bad-b736-567ddf6ae48c",
   "metadata": {
    "jp-MarkdownHeadingCollapsed": true
   },
   "source": [
    "# 4. Data Structures"
   ]
  },
  {
   "cell_type": "markdown",
   "id": "7aa0ce91-64ba-477d-9a36-92044add1b24",
   "metadata": {},
   "source": [
    "__Data structure__: structure that holds data and has specific operations (or actions) that can be performed on it\n",
    "\n",
    "4 most common data structures:\n",
    "\n",
    "1. Lists\n",
    "1. Dictionaries\n",
    "1. Tuples\n",
    "1. Sets"
   ]
  },
  {
   "cell_type": "markdown",
   "id": "f5b52184-c50a-4402-8db1-10097a411397",
   "metadata": {},
   "source": [
    "### 4.1. Lists\n",
    "\n",
    "Lists can be thought of the most general version of a *sequence* in Python. Unlike strings, they are mutable, meaning the elements inside a list can be changed.\n",
    "\n",
    "In Python, square brackets designate a list. To define a list, you give the name of the list, the equals sign, and the values you want to include in your list within square brackets."
   ]
  },
  {
   "cell_type": "code",
   "execution_count": 75,
   "id": "20b1725b-5bad-48ab-be93-273d7c5251a3",
   "metadata": {},
   "outputs": [],
   "source": [
    "dogs = ['border collie', 'australian cattle dog', 'labrador retriever']\n",
    "\n",
    "weird_list = [\n",
    "    123,\n",
    "    'You can mix data types',\n",
    "    True,\n",
    "    1.5,\n",
    "    None, # this is a NoneType value: it means it is empty\n",
    "    [1, 2, 3], # You can also store lists within lists, or dictionaries within lists, or lists within dictionaries\n",
    "    3\n",
    "]"
   ]
  },
  {
   "cell_type": "markdown",
   "id": "7971898b-b0b7-4528-95bf-e9d0f2c1c8ef",
   "metadata": {
    "id": "93760a82"
   },
   "source": [
    "You can access items in lists:"
   ]
  },
  {
   "cell_type": "code",
   "execution_count": 76,
   "id": "85a64857-1e76-48b2-a861-b42a9991c1b3",
   "metadata": {
    "id": "d45c3178"
   },
   "outputs": [
    {
     "name": "stdout",
     "output_type": "stream",
     "text": [
      "<class 'list'> ['border collie', 'australian cattle dog', 'labrador retriever']\n",
      "border collie\n",
      "Labrador Retriever\n",
      "3\n"
     ]
    }
   ],
   "source": [
    "# Let's see the entire list first\n",
    "print(type(dogs), dogs)\n",
    "\n",
    "# The first dog in the list\n",
    "print(dogs[0])\n",
    "\n",
    "# The last dog in the list. In addition, let's give uppercase letters to the first letter of each word.\n",
    "print(dogs[-1].title())\n",
    "\n",
    "# You can check how many items are in the list\n",
    "print(len(dogs))"
   ]
  },
  {
   "cell_type": "markdown",
   "id": "47128ae0-3994-4322-ba0d-66e2fa43044d",
   "metadata": {
    "id": "e1e502fc"
   },
   "source": [
    "You can also slice the list:"
   ]
  },
  {
   "cell_type": "code",
   "execution_count": 77,
   "id": "86b679c3-9f0c-4355-8579-4dde5ab20d00",
   "metadata": {
    "id": "51d2665a"
   },
   "outputs": [
    {
     "name": "stdout",
     "output_type": "stream",
     "text": [
      "<class 'list'> [123, 'You can mix data types', True, 1.5, None, [1, 2, 3], 3]\n",
      "['You can mix data types', True]\n"
     ]
    }
   ],
   "source": [
    "# Let's see the entire list first\n",
    "print(type(weird_list), weird_list)\n",
    "\n",
    "print(weird_list[1:3])"
   ]
  },
  {
   "cell_type": "markdown",
   "id": "1de91f21-0a8a-4778-bab6-5d1f4e7e30e4",
   "metadata": {
    "id": "dadc8f57"
   },
   "source": [
    "You can add items to the list:"
   ]
  },
  {
   "cell_type": "code",
   "execution_count": 78,
   "id": "039682ab-0366-4b2f-86a3-23f6525bb050",
   "metadata": {
    "id": "6b45169c"
   },
   "outputs": [
    {
     "name": "stdout",
     "output_type": "stream",
     "text": [
      "['border collie', 'australian cattle dog', 'labrador retriever']\n",
      "['border collie', 'basset hound', 'australian cattle dog', 'labrador retriever', 'water spaniel']\n"
     ]
    }
   ],
   "source": [
    "# Let's see the oritinal list once again\n",
    "print(dogs)\n",
    "\n",
    "# You can append to the end of the list\n",
    "dogs.append('water spaniel')\n",
    "\n",
    "# You can also insert them at a specific part of the list\n",
    "dogs.insert(1, 'basset hound')\n",
    "\n",
    "print(dogs)"
   ]
  },
  {
   "cell_type": "markdown",
   "id": "f6ffdc0b-183d-45ec-8c07-9f00c302f8d0",
   "metadata": {
    "id": "a2f7f209"
   },
   "source": [
    "You can remove items from the list:"
   ]
  },
  {
   "cell_type": "code",
   "execution_count": 79,
   "id": "83b4640b-846b-4592-b131-81ec5b3f6b27",
   "metadata": {
    "id": "0203a442"
   },
   "outputs": [
    {
     "name": "stdout",
     "output_type": "stream",
     "text": [
      "['border collie', 'australian cattle dog', 'labrador retriever']\n",
      "basset hound\n"
     ]
    }
   ],
   "source": [
    "dogs.remove('water spaniel')\n",
    "\n",
    "# This is another interesting option. It returns the removed item as well, which we are saving in a variable\n",
    "removed_dog = dogs.pop(1)\n",
    "\n",
    "print(dogs)\n",
    "print(removed_dog)"
   ]
  },
  {
   "cell_type": "markdown",
   "id": "d663af7f-d9b8-43e0-8897-4fff78a24886",
   "metadata": {
    "id": "9008ff5c"
   },
   "source": [
    "You can also concatenate lists:"
   ]
  },
  {
   "cell_type": "code",
   "execution_count": 80,
   "id": "18a5da57-d5ff-41b5-b948-43a49084a9a2",
   "metadata": {
    "id": "35fa6f81"
   },
   "outputs": [
    {
     "data": {
      "text/plain": [
       "['border collie',\n",
       " 'australian cattle dog',\n",
       " 'labrador retriever',\n",
       " 123,\n",
       " 'You can mix data types',\n",
       " True,\n",
       " 1.5,\n",
       " None,\n",
       " [1, 2, 3],\n",
       " 3]"
      ]
     },
     "execution_count": 80,
     "metadata": {},
     "output_type": "execute_result"
    }
   ],
   "source": [
    "dogs + weird_list"
   ]
  },
  {
   "cell_type": "markdown",
   "id": "4fedd627-e359-4db3-acbd-2a79a043dd5d",
   "metadata": {
    "id": "934d3f18"
   },
   "source": [
    "**Bonus:** You can slice strings the same way you slice lists:"
   ]
  },
  {
   "cell_type": "code",
   "execution_count": 89,
   "id": "68262a41-097a-45bc-aa3e-b415b4272360",
   "metadata": {
    "id": "6b839050"
   },
   "outputs": [
    {
     "name": "stdout",
     "output_type": "stream",
     "text": [
      "  jamie jones       \n",
      "Jamie\n",
      "11\n"
     ]
    }
   ],
   "source": [
    "name = \"  jamie jones       \"\n",
    "\n",
    "print(name)\n",
    "print(name.strip().title()[0:-6])\n",
    "\n",
    "# You can also check its length (number of characters)\n",
    "print(len(name.strip()))"
   ]
  },
  {
   "cell_type": "markdown",
   "id": "ebe98cc7-3a75-4c55-9e23-bafffd049c9e",
   "metadata": {
    "id": "da55f2ca"
   },
   "source": [
    "### 4.2. Dictionaries\n",
    "\n",
    "A Python dictionary consists of a key and then an associated value. That value can be almost any Python object.\n",
    "\n",
    "We've been learning about *sequences* in Python but now we're going to learn about *mappings* in Python. If you're familiar with other languages you can think of these Dictionaries as hash tables. \n",
    "So what are mappings? Mappings are a collection of objects that are stored by a *key*, unlike a sequence that store objects by their relative position. This is an important distinction, since mappings won't retain order (their objects are defined by a key)."
   ]
  },
  {
   "cell_type": "code",
   "execution_count": null,
   "id": "72f8464d-3086-4726-8f0d-4e9c527fabe4",
   "metadata": {
    "id": "1be7e4cd"
   },
   "outputs": [],
   "source": [
    "dictionary = {\n",
    "    'key 1': 'value 1',\n",
    "    'key 2': 'value 2',\n",
    "    'key 3': 'value 3',\n",
    "}"
   ]
  },
  {
   "cell_type": "markdown",
   "id": "7dc35392-6032-434b-b39d-a2c7c3d2ff15",
   "metadata": {
    "id": "21bc5524"
   },
   "source": [
    "You can access values from a dictionary using its key:"
   ]
  },
  {
   "cell_type": "code",
   "execution_count": null,
   "id": "cdb09728-4615-497b-b7a5-0541cdc0cea0",
   "metadata": {
    "id": "e7f4c58e"
   },
   "outputs": [],
   "source": [
    "# An example of a list with concept definitions\n",
    "python_words = {\n",
    "    'list': 'A collection of values that are not connected, but have an order.',\n",
    "    'dictionary': 'A collection of key-value pairs.',\n",
    "    'function': 'A named set of instructions that defines a set of actions in Python.',\n",
    "}\n",
    "\n",
    "print(\"List: \" + python_words['list'])\n",
    "print(\"Dictionary: \" + python_words['dictionary'])"
   ]
  },
  {
   "cell_type": "markdown",
   "id": "e999a2aa-e310-4f4b-8a3a-692a1b9c0a7e",
   "metadata": {
    "id": "955a4ae1"
   },
   "source": [
    "You can add a new entry to the dictionary:"
   ]
  },
  {
   "cell_type": "code",
   "execution_count": null,
   "id": "79cf3eda-1688-4ac7-8617-a92c69d466f8",
   "metadata": {
    "id": "7a66fdb0"
   },
   "outputs": [],
   "source": [
    "print(dictionary)\n",
    "\n",
    "dictionary['key 4'] = 'value 4'\n",
    "print(dictionary)"
   ]
  },
  {
   "cell_type": "markdown",
   "id": "2f9f9fe8-2c8a-41d0-8df4-e875d1ce418b",
   "metadata": {},
   "source": [
    "### 4.3. Tuples\n",
    "Tuples are immutable and may contain any type of value. The indexation and membership verification can be equally applied on tuples."
   ]
  },
  {
   "cell_type": "code",
   "execution_count": 90,
   "id": "fedda4be-4741-41e3-9a41-1d176b97b3d2",
   "metadata": {},
   "outputs": [
    {
     "name": "stdout",
     "output_type": "stream",
     "text": [
      "My tuple: (1, 2, 3.01, 'four')\n",
      "Value at index 1: 2\n"
     ]
    },
    {
     "ename": "TypeError",
     "evalue": "'tuple' object does not support item assignment",
     "output_type": "error",
     "traceback": [
      "\u001b[0;31m---------------------------------------------------------------------------\u001b[0m",
      "\u001b[0;31mTypeError\u001b[0m                                 Traceback (most recent call last)",
      "Cell \u001b[0;32mIn[90], line 9\u001b[0m\n\u001b[1;32m      6\u001b[0m \u001b[38;5;28mprint\u001b[39m(\u001b[38;5;124m\"\u001b[39m\u001b[38;5;124mValue at index \u001b[39m\u001b[38;5;132;01m{0}\u001b[39;00m\u001b[38;5;124m: \u001b[39m\u001b[38;5;132;01m{1}\u001b[39;00m\u001b[38;5;124m\"\u001b[39m\u001b[38;5;241m.\u001b[39mformat(a, t[a]))\n\u001b[1;32m      8\u001b[0m \u001b[38;5;66;03m# Tuples are immutable\u001b[39;00m\n\u001b[0;32m----> 9\u001b[0m \u001b[43mt\u001b[49m\u001b[43m[\u001b[49m\u001b[43ma\u001b[49m\u001b[43m]\u001b[49m \u001b[38;5;241m=\u001b[39m \u001b[38;5;241m0\u001b[39m\n",
      "\u001b[0;31mTypeError\u001b[0m: 'tuple' object does not support item assignment"
     ]
    }
   ],
   "source": [
    "t = (1, 2, 3.01, \"four\")\n",
    "print(\"My tuple:\", t)\n",
    "\n",
    "# Indexing\n",
    "a = 1\n",
    "print(\"Value at index {0}: {1}\".format(a, t[a]))\n",
    "\n",
    "# Tuples are immutable\n",
    "t[a] = 0"
   ]
  },
  {
   "cell_type": "markdown",
   "id": "1d278fc1-6381-4733-b9b9-2998a1093ae1",
   "metadata": {},
   "source": [
    "### 4.4. Sets.\n",
    "A set in Python is a collection of unique elements which are unordered (therefore unindexed). Although one can add and remove elements using proper method, one cannot change its values. Moreover, sets do not allow duplicates."
   ]
  },
  {
   "cell_type": "code",
   "execution_count": 14,
   "id": "c216a92a-2206-4f40-b4b7-3f06166b307e",
   "metadata": {},
   "outputs": [
    {
     "name": "stdout",
     "output_type": "stream",
     "text": [
      "My set: {'a', 'b', 'c'}\n"
     ]
    }
   ],
   "source": [
    "# Declare a set with duplicates\n",
    "my_set = {\"a\", \"b\", \"c\", \"c\"}\n",
    "print(\"My set: {}\".format(my_set))"
   ]
  },
  {
   "cell_type": "markdown",
   "id": "0a25e11a-feab-48a5-b7e5-8da95d3d7ce6",
   "metadata": {},
   "source": [
    "Trying to index a set."
   ]
  },
  {
   "cell_type": "code",
   "execution_count": 204,
   "id": "e5e454ed-ad38-4cb4-a90a-ae01066d3c0d",
   "metadata": {},
   "outputs": [
    {
     "ename": "TypeError",
     "evalue": "'set' object is not subscriptable",
     "output_type": "error",
     "traceback": [
      "\u001b[1;31m---------------------------------------------------------------------------\u001b[0m",
      "\u001b[1;31mTypeError\u001b[0m                                 Traceback (most recent call last)",
      "Input \u001b[1;32mIn [204]\u001b[0m, in \u001b[0;36m<cell line: 1>\u001b[1;34m()\u001b[0m\n\u001b[1;32m----> 1\u001b[0m \u001b[43mmy_set\u001b[49m\u001b[43m[\u001b[49m\u001b[38;5;241;43m0\u001b[39;49m\u001b[43m]\u001b[49m\n",
      "\u001b[1;31mTypeError\u001b[0m: 'set' object is not subscriptable"
     ]
    }
   ],
   "source": [
    "my_set[0]"
   ]
  },
  {
   "cell_type": "markdown",
   "id": "14b06f61-9ce9-427b-a16e-f6d1f39acf72",
   "metadata": {},
   "source": [
    "One can add and remove items using the ``add``, ``update``, ``union``, ``pop`` and ``remove``. Consult [this](https://www.w3schools.com/python/python_ref_set.asp) page to discover many other methods."
   ]
  },
  {
   "cell_type": "code",
   "execution_count": 95,
   "id": "7d8eeef1-c74c-4723-9d52-c8566b5a8589",
   "metadata": {},
   "outputs": [
    {
     "name": "stdout",
     "output_type": "stream",
     "text": [
      "My set: {'c', 'a', 'b'}\n",
      "My set after appending a value: {'c', 'a', 0.001, 'b'}\n",
      "My set after updating with another set: {True, 'c', 'a', 'lly', 'fill', 'b', 0.001}\n",
      "My set after updating with another set: {False, True, 2, 'c', 'Python', 'a', 'lly', 'fill', 'b', 0.001}\n"
     ]
    }
   ],
   "source": [
    "my_set1 = {\"a\", \"b\", \"c\", \"c\"}\n",
    "print(\"My set:\", my_set1)\n",
    "\n",
    "# Adds an element \n",
    "my_set1.add(0.001)\n",
    "print(\"My set after appending a value:\", my_set1)\n",
    "\n",
    "# Updates the set with elements of another iterable \n",
    "my_tuple = (True, \"lly\", \"fill\", \"a\", \"a\")\n",
    "my_set1.update(my_tuple)\n",
    "print(\"My set after updating with another set:\", my_set1)\n",
    "\n",
    "# Use union\n",
    "my_set2 = {False, 0, 1, 2, \"Python\"}\n",
    "my_set3 = my_set1.union(my_set2)\n",
    "print(\"My set after updating with another set:\", my_set3)"
   ]
  },
  {
   "cell_type": "markdown",
   "id": "ceeb5fb9-cd74-4870-91ac-797e9eb0101d",
   "metadata": {},
   "source": [
    "One can easily obtain intersection and difference between two sets using ``intersection`` and ``difference``, respectively."
   ]
  },
  {
   "cell_type": "code",
   "execution_count": 96,
   "id": "a60e32f1-db42-4c72-a995-5a145aaaad48",
   "metadata": {},
   "outputs": [
    {
     "name": "stdout",
     "output_type": "stream",
     "text": [
      "Intersection between two sets: {0, 'd', 'a'}\n",
      "What is different in set 1 from set 2? {'c', 'b'}\n",
      "What is different in set 2 from set 1? {'_', 1}\n"
     ]
    }
   ],
   "source": [
    "my_set1, my_set2 = {\"a\", \"b\", \"c\", \"d\", False}, {\"a\", 0, 1, \"d\", \"_\"}\n",
    "\n",
    "print(\"Intersection between two sets:\", my_set1.intersection(my_set2))\n",
    "print(\"What is different in set 1 from set 2?\", my_set1.difference(my_set2))\n",
    "print(\"What is different in set 2 from set 1?\", my_set2.difference(my_set1))"
   ]
  },
  {
   "cell_type": "markdown",
   "id": "6369249e-2f61-450a-af7f-90d213a020cb",
   "metadata": {
    "id": "81e8134b"
   },
   "source": [
    "### Immutability and mutability of objects\n",
    "\n",
    "In general, data types in Python can be distinguished based on whether objects of the type are mutable or immutable. The content of objects of immutable types cannot be changed after they are created.\n",
    "\n",
    "**Immutable types**: numbers, str, tuple, ...\n",
    "\n",
    "**Mutable types**: list, set, dict, ... \n",
    "\n",
    "Only mutable objects support methods that change the object in place, such as reassignment of a sequence slice, which will work for lists, but raise an error for tuples and strings."
   ]
  },
  {
   "cell_type": "markdown",
   "id": "8c9da7ce-a5d2-4c2b-8b59-0f3f954dd001",
   "metadata": {
    "jp-MarkdownHeadingCollapsed": true
   },
   "source": [
    "# 5. if, elif, else statements"
   ]
  },
  {
   "cell_type": "markdown",
   "id": "22e9a7d7-36c2-4982-a4c4-ff589f994754",
   "metadata": {},
   "source": [
    "An *if* statement tests for a condition, and then responds to that condition. If the condition is true, then whatever action is listed next gets carried out. You can test for multiple conditions at the same time, and respond appropriately to each condition.\n",
    "\n",
    "Here's an example of a simple ``if`` statement:\n",
    "\n",
    "```python\n",
    "if a > b:\n",
    "    print(\"a is larger than b\")\n",
    "```\n",
    "\n",
    "Let's see a more complex example."
   ]
  },
  {
   "cell_type": "code",
   "execution_count": 1,
   "id": "d3125178-5b55-48bf-b084-4980ac386b95",
   "metadata": {},
   "outputs": [
    {
     "name": "stdout",
     "output_type": "stream",
     "text": [
      "That's right! Pastel de nata is my favorite dessert!\n"
     ]
    }
   ],
   "source": [
    "# A list of desserts I like.\n",
    "desserts = ['ice cream', 'pastel de nata', 'cookies']\n",
    "favorite_dessert = 'pastel de nata'\n",
    "\n",
    "if desserts[0] == favorite_dessert:\n",
    "    print(\"That's right! \" + desserts[0].capitalize() + \" is my favorite dessert!\")\n",
    "elif desserts[1] == favorite_dessert:\n",
    "    print(\"That's right! \" + desserts[1].capitalize() + \" is my favorite dessert!\")\n",
    "else:\n",
    "    print(\"That's right! \" + desserts[2].capitalize() + \" is my favorite dessert!\")"
   ]
  },
  {
   "cell_type": "markdown",
   "id": "9c426a13-5f6a-439a-9d7e-cf23f6fd65af",
   "metadata": {},
   "source": [
    "**What's happenning in this program?**\n",
    "\n",
    "- The program starts out with a list of desserts, and one dessert is identified as a favorite.\n",
    "- We test the three options available: we check if the first option (index 0) is my favorite dessert\n",
    "- It is not: ``desserts[0] == favorite_dessert`` is False. So we move to the next test.\n",
    "- ``elif`` stands for ``else, if``. I.e., we check if the second option (index 1) is my favorite dessert.\n",
    "- It is! ``desserts[1] == favorite_dessert`` is True. So we run the commands listed under that statement.\n",
    "- Since the previous test was True, we do not run the code in the ``else`` statement."
   ]
  },
  {
   "cell_type": "markdown",
   "id": "dcaace66-4b30-42f2-b509-f9c8c718e509",
   "metadata": {},
   "source": [
    "You can pass multiple \"independent\" ``if`` statements in a row, or pass one inline:"
   ]
  },
  {
   "cell_type": "code",
   "execution_count": 2,
   "id": "686d8c31-895a-4adb-ae78-a187f468f931",
   "metadata": {},
   "outputs": [
    {
     "name": "stdout",
     "output_type": "stream",
     "text": [
      "['ice cream', 'pastel de nata', 'cookies']\n",
      "There is ice cream!\n",
      "pastel de nata is located on index 1 of this list!\n",
      "cookies is not an empty value.\n",
      "Yes!\n"
     ]
    }
   ],
   "source": [
    "print(desserts)\n",
    "\n",
    "if \"ice cream\" in desserts:\n",
    "    print(\"There is ice cream!\")\n",
    "if \"pastel de nata\" == desserts[1]:\n",
    "    print(\"pastel de nata is located on index 1 of this list!\")\n",
    "if desserts[-1] is not None:\n",
    "    print(desserts[-1]+\" is not an empty value.\")\n",
    "\n",
    "favorite_dessert_exists = \"Yes!\" if \"pastel de nata\" in desserts else \"No!\"\n",
    "print(favorite_dessert_exists)"
   ]
  },
  {
   "cell_type": "markdown",
   "id": "69131b51-117b-4cff-8587-a9d0836e8a6d",
   "metadata": {
    "jp-MarkdownHeadingCollapsed": true
   },
   "source": [
    "# 6. Loops"
   ]
  },
  {
   "cell_type": "markdown",
   "id": "f15d1a43-09de-4a57-a4aa-9b9792ff49cb",
   "metadata": {},
   "source": [
    "### 6.1. ``for`` loops"
   ]
  },
  {
   "cell_type": "markdown",
   "id": "3cb0a113-f6ba-445a-9479-1bbc06e3f8e7",
   "metadata": {},
   "source": [
    "A ``for`` loop acts as an iterator in Python; it goes through items that are in a *sequence* or any other iterable item. Objects that we've learned about that we can iterate over include strings, lists, tuples, and even built-in iterables for dictionaries, such as keys or values.\n",
    "\n",
    "Here's the general format of a ``for`` loop:\n",
    "\n",
    "```python\n",
    "for item in object:\n",
    "    statements to do stuff\n",
    "```\n",
    "\n",
    "We can iterate through lists, tuples, strings, etc.\n",
    "\n",
    "Let's see an example."
   ]
  },
  {
   "cell_type": "code",
   "execution_count": 3,
   "id": "a762eda0-478e-47e1-ad30-6b71b6c02a26",
   "metadata": {},
   "outputs": [
    {
     "name": "stdout",
     "output_type": "stream",
     "text": [
      "I like ice cream.\n",
      "Pastel de nata is my favorite dessert!\n",
      "I like cookies.\n"
     ]
    }
   ],
   "source": [
    "# Let's use the desserts example we used before\n",
    "\n",
    "# A list of desserts I like.\n",
    "desserts = ['ice cream', 'pastel de nata', 'cookies']\n",
    "favorite_dessert = 'pastel de nata'\n",
    "\n",
    "# Print the desserts out, but let everyone know my favorite dessert.\n",
    "for dessert in desserts:\n",
    "    if dessert == favorite_dessert:\n",
    "        # This dessert is my favorite, let's let everyone know!\n",
    "        print(\"%s is my favorite dessert!\" % dessert.capitalize())\n",
    "    else:\n",
    "        # I like these desserts, but they are not my favorite.\n",
    "        print(\"I like %s.\" % dessert)"
   ]
  },
  {
   "cell_type": "markdown",
   "id": "27dd0824-31f6-4948-8b3d-8dc9ef8771d4",
   "metadata": {},
   "source": [
    "### 6.2. ``while`` loops"
   ]
  },
  {
   "cell_type": "markdown",
   "id": "57d42475-9188-4c35-b5e5-86899d87f2d1",
   "metadata": {},
   "source": [
    "A while loop tests an initial condition. If that condition is true, the loop starts executing. Every time the loop finishes, the condition is reevaluated. As long as the condition remains true, the loop keeps executing. As soon as the condition becomes false, the loop stops executing.\n",
    "\n",
    "Here's the general format of a ``while`` loop:\n",
    "\n",
    "```python\n",
    "# Set an initial condition.\n",
    "game_active = True\n",
    "\n",
    "# Set up the while loop.\n",
    "while game_active:\n",
    "    # Run the game.\n",
    "    # At some point, the game ends and game_active will be set to False.\n",
    "    #   When that happens, the loop will stop executing.\n",
    "    \n",
    "# Do anything else you want done after the loop runs.\n",
    "```"
   ]
  },
  {
   "cell_type": "markdown",
   "id": "3f625e70-3ff2-465f-a253-8768677c7646",
   "metadata": {
    "id": "d8a5cd92"
   },
   "source": [
    "Here is a simple example, showing how a game will stay active as long as the player has enough power."
   ]
  },
  {
   "cell_type": "code",
   "execution_count": 4,
   "id": "bc9c15ad-6cee-449c-9e9f-b1f6ecd8d1f8",
   "metadata": {
    "id": "cf7f3781"
   },
   "outputs": [
    {
     "name": "stdout",
     "output_type": "stream",
     "text": [
      "You are still playing, because your power is 5.\n",
      "You are still playing, because your power is 4.\n",
      "You are still playing, because your power is 3.\n",
      "You are still playing, because your power is 2.\n",
      "You are still playing, because your power is 1.\n",
      "\n",
      "Oh no, your power dropped to 0! Game Over.\n"
     ]
    }
   ],
   "source": [
    "# The player's power starts out at 5.\n",
    "power = 5\n",
    "\n",
    "# The player is allowed to keep playing as long as their power is over 0.\n",
    "while power > 0:\n",
    "    print(\"You are still playing, because your power is %d.\" % power)\n",
    "    # Your game code would go here, which includes challenges that make it\n",
    "    #   possible to lose power.\n",
    "    # We can represent that by just taking away from the power.\n",
    "    power = power - 1\n",
    "    \n",
    "print(\"\\nOh no, your power dropped to 0! Game Over.\")"
   ]
  },
  {
   "cell_type": "markdown",
   "id": "dd758fcd-d557-45f4-8728-be1255bff96e",
   "metadata": {
    "id": "39a878f3"
   },
   "source": [
    "However, watch out for infinite loops. The following example has to be manually interrupted, otherwise it will never stop:"
   ]
  },
  {
   "cell_type": "code",
   "execution_count": 5,
   "id": "dea5b055-7ba4-4c34-b03b-9515a955256a",
   "metadata": {
    "id": "bf1b3c3a"
   },
   "outputs": [
    {
     "name": "stdout",
     "output_type": "stream",
     "text": [
      "Look, it's a ghost! \n",
      "AAAAAAAAAAAAAAAAAAAAAAAAAAAAAAAAAAAAAAAAAAAAAAAAAAA"
     ]
    },
    {
     "ename": "KeyboardInterrupt",
     "evalue": "",
     "output_type": "error",
     "traceback": [
      "\u001b[0;31m---------------------------------------------------------------------------\u001b[0m",
      "\u001b[0;31mKeyboardInterrupt\u001b[0m                         Traceback (most recent call last)",
      "Cell \u001b[0;32mIn[5], line 10\u001b[0m\n\u001b[1;32m      7\u001b[0m \u001b[38;5;28mprint\u001b[39m(\u001b[38;5;124m\"\u001b[39m\u001b[38;5;124mA\u001b[39m\u001b[38;5;124m\"\u001b[39m, end\u001b[38;5;241m=\u001b[39m\u001b[38;5;124m'\u001b[39m\u001b[38;5;124m'\u001b[39m) \u001b[38;5;66;03m# The ``end`` argument here is used to indicate we don't want a new \u001b[39;00m\n\u001b[1;32m      8\u001b[0m                    \u001b[38;5;66;03m# line after each print.\u001b[39;00m\n\u001b[0;32m---> 10\u001b[0m sleep(\u001b[38;5;241m.3\u001b[39m)          \u001b[38;5;66;03m# The ``sleep`` function simply halts the program from running for \u001b[39;00m\n\u001b[1;32m     11\u001b[0m                    \u001b[38;5;66;03m# N seconds. This helps us visualize the problem better. Try \u001b[39;00m\n\u001b[1;32m     12\u001b[0m                    \u001b[38;5;66;03m# running this cell without it to see what happens!\u001b[39;00m\n",
      "\u001b[0;31mKeyboardInterrupt\u001b[0m: "
     ]
    }
   ],
   "source": [
    "# What's this below?\n",
    "from time import sleep\n",
    "\n",
    "print(\"Look, it's a ghost! \")\n",
    "# This loop will never stop unless we manually interrupt it. How can we fix this?\n",
    "while True:\n",
    "    print(\"A\", end='') # The ``end`` argument here is used to indicate we don't want a new \n",
    "                       # line after each print.\n",
    "    \n",
    "    sleep(.3)          # The ``sleep`` function simply halts the program from running for \n",
    "                       # N seconds. This helps us visualize the problem better. Try \n",
    "                       # running this cell without it to see what happens!"
   ]
  },
  {
   "cell_type": "markdown",
   "id": "de033499-67eb-4586-9cdc-6b6828b756f5",
   "metadata": {
    "jp-MarkdownHeadingCollapsed": true
   },
   "source": [
    "# 7. Functions"
   ]
  },
  {
   "cell_type": "markdown",
   "id": "01d93569-8003-4680-b060-690464e273d8",
   "metadata": {},
   "source": [
    "Functions are a very useful device that groups together a set of statements allowing us to not have to repeatedly write the same code again and again.\n",
    "\n",
    "Let's see how to build out a function's syntax in Python:\n",
    "\n",
    "```Python\n",
    "def name_of_function(arg1,arg2):\n",
    "    '''\n",
    "    This is where the function's Document String (docstring) goes\n",
    "    '''\n",
    "    # Do stuff here\n",
    "    # Return desired result\n",
    "```\n",
    "\n",
    "We begin with ``def`` then a space followed by the name of the function. Try to keep names relevant, for example ``len()`` is a good name for a length() function. However, be careful with names, you wouldn't want to call a function the same name as a [built-in function in Python](https://docs.python.org/2/library/functions.html) (such as ``len``).\n",
    "\n",
    "Next come a pair of parentheses with a number of arguments separated by a comma. These arguments are the inputs for your function. You'll be able to use these inputs in your function and reference them. After this you put a colon.\n",
    "\n",
    "Now here is the important step, you must indent to begin the code inside your function correctly. Python makes use of *whitespace* to organize code. Lots of other programing languages do not do this, so keep that in mind.\n",
    "\n",
    "Next you'll see the docstring, this is where you write a basic description of the function. It's always good practice to put them in so you or other people can easily understand the code you write.\n",
    "\n",
    "After all this you begin writing the code you wish to execute.\n",
    "\n",
    "Below we have some examples that relate back to the various objects and data structures we saw before:"
   ]
  },
  {
   "cell_type": "code",
   "execution_count": 6,
   "id": "16db041e-c1b6-47f6-b9a9-77b648d89223",
   "metadata": {
    "id": "loDPZl8BiBm-"
   },
   "outputs": [],
   "source": [
    "# Define a simple function that prints hello\n",
    "def say_hello():\n",
    "    print('hello')"
   ]
  },
  {
   "cell_type": "code",
   "execution_count": 7,
   "id": "feb5e504-f4f6-4c15-856e-e3679b26cade",
   "metadata": {
    "id": "0T0vO3whiBcn"
   },
   "outputs": [
    {
     "name": "stdout",
     "output_type": "stream",
     "text": [
      "hello\n"
     ]
    }
   ],
   "source": [
    "# Call the function\n",
    "say_hello()"
   ]
  },
  {
   "cell_type": "code",
   "execution_count": 8,
   "id": "ebff1804-dded-47ba-8223-f593f64eb515",
   "metadata": {
    "id": "lR6jW-I6iBUC"
   },
   "outputs": [],
   "source": [
    "# Define a function that greets people with their name\n",
    "def greeting(name):\n",
    "    print('Hello %s' %(name))"
   ]
  },
  {
   "cell_type": "code",
   "execution_count": 9,
   "id": "b8c3043b-771f-42db-9e0f-3cc3a363c91a",
   "metadata": {
    "id": "XwdrW8oTiozR"
   },
   "outputs": [
    {
     "name": "stdout",
     "output_type": "stream",
     "text": [
      "Hello John\n"
     ]
    }
   ],
   "source": [
    "# Use the function combined with an inputed variable\n",
    "greeting(\"John\")"
   ]
  },
  {
   "cell_type": "markdown",
   "id": "9c614376-958a-4a66-ad33-88d2286310e2",
   "metadata": {
    "id": "PkzduzeQisOa"
   },
   "source": [
    "### Using return\n",
    "Let's see an example that uses a <code>return</code> statement. <code>return</code> allows a function to *return* a result that can then be stored as a variable, or used in whatever manner a user wants."
   ]
  },
  {
   "cell_type": "code",
   "execution_count": 10,
   "id": "b78646d4-d5c3-4a4d-b4ac-c20c5a3f3401",
   "metadata": {
    "id": "RnoNhPDUiuDU"
   },
   "outputs": [],
   "source": [
    "# Define a function to add two elements\n",
    "def add_num(num1,num2):\n",
    "    return num1+num2"
   ]
  },
  {
   "cell_type": "code",
   "execution_count": 11,
   "id": "da506eb4-887a-406d-9260-33933a725c8e",
   "metadata": {
    "id": "WJk_0ptoiv4Y"
   },
   "outputs": [
    {
     "data": {
      "text/plain": [
       "9"
      ]
     },
     "execution_count": 11,
     "metadata": {},
     "output_type": "execute_result"
    }
   ],
   "source": [
    "# Call the function\n",
    "add_num(4,5)"
   ]
  },
  {
   "cell_type": "code",
   "execution_count": 12,
   "id": "0dedd222-9a2d-4752-9b91-a268062a9f1b",
   "metadata": {
    "id": "5-X7WfHXivw1"
   },
   "outputs": [
    {
     "data": {
      "text/plain": [
       "9"
      ]
     },
     "execution_count": 12,
     "metadata": {},
     "output_type": "execute_result"
    }
   ],
   "source": [
    "# The result can also be saved as variable due to the use of return\n",
    "result = add_num(4,5)\n",
    "result"
   ]
  },
  {
   "cell_type": "code",
   "execution_count": 13,
   "id": "c74eeadf-c1d8-4ca9-9376-17a7e2ed608c",
   "metadata": {
    "id": "vFkxHCr3ivlY"
   },
   "outputs": [
    {
     "data": {
      "text/plain": [
       "'onetwo'"
      ]
     },
     "execution_count": 13,
     "metadata": {},
     "output_type": "execute_result"
    }
   ],
   "source": [
    "# Because of the way the function was defined we can also concatenate strings\n",
    "add_num('one','two')"
   ]
  },
  {
   "cell_type": "markdown",
   "id": "0c905e85-2bf6-4f44-879a-16cccd216a51",
   "metadata": {},
   "source": [
    "### Exercise 1"
   ]
  },
  {
   "cell_type": "markdown",
   "id": "7e537b2f-198d-4c7a-8e61-0a1777fa4d38",
   "metadata": {},
   "source": [
    "Define a function that returns all the even numbers in a list of numbers."
   ]
  },
  {
   "cell_type": "code",
   "execution_count": 14,
   "id": "55773a41-af66-4e1b-b38e-56246faab381",
   "metadata": {},
   "outputs": [],
   "source": [
    "# Write and test the function here"
   ]
  },
  {
   "cell_type": "markdown",
   "id": "fa8b9697-b7d5-4af8-bdc9-890b3a57fd83",
   "metadata": {},
   "source": [
    "### Exercise 2\n",
    "\n",
    "Let's define a function which takes a dictionary of municipalities and the respective population. The function must return three values: the total population of dictionary's municipalities, the largest and the smallest municipalities, respectively. You can use only Python base."
   ]
  },
  {
   "cell_type": "code",
   "execution_count": 16,
   "id": "530725b3-af59-40a5-bbb8-2a4feef2dac3",
   "metadata": {},
   "outputs": [],
   "source": [
    "municipalities = {\"Lagos\": 33514, \"Tondela\": 25939, \"Lisboa\": 544851, \"Sintra\": 385954, \n",
    "                  \"Beja\": 33401, \"Coimbra\": 140796, \"Vidigueira\": 5177, \"Faro\": 67566, \"Aveiro\": 80880}"
   ]
  },
  {
   "cell_type": "markdown",
   "id": "6722985d-e99e-4203-8dbd-ee3cc3120d55",
   "metadata": {},
   "source": [
    "Write your solution below."
   ]
  },
  {
   "cell_type": "code",
   "execution_count": 15,
   "id": "f5757338-fbbe-488e-a046-117646de8884",
   "metadata": {},
   "outputs": [],
   "source": [
    "# Expected output:\n",
    "# There are 1318078 inhabitants. The largest and the smallest municipalities are Lisboa and Vidigueira, respectively\n",
    "\n",
    "# Write and test the function here"
   ]
  },
  {
   "cell_type": "markdown",
   "id": "e5c69958-0b9b-4355-99c9-1570d514f904",
   "metadata": {
    "jp-MarkdownHeadingCollapsed": true
   },
   "source": [
    "# 8. Namespaces"
   ]
  },
  {
   "cell_type": "markdown",
   "id": "74ded221-3d74-4625-bba3-d6337a2bf60e",
   "metadata": {},
   "source": [
    "In the context of programming this can be thought as *the space where a given variable name exists*. A namespace can be tought as a dictionary where each key-value pair maps a variable name to its corresponding object."
   ]
  },
  {
   "cell_type": "markdown",
   "id": "63e26da3-3fa4-4571-b188-50149ea955f1",
   "metadata": {},
   "source": [
    "## 8.1. Global namespaces."
   ]
  },
  {
   "cell_type": "markdown",
   "id": "2c65185e-6a40-4af3-82cf-9884a70e2b62",
   "metadata": {},
   "source": [
    "Let's recall the example of ``get_even``. In our *program*, at this moment, the object``lst1`` relates to the **global namespace** because it was defined at the level of the **main program**. It will remain in computer's memory until the interpreter terminates (or untill explicitly deleted). The object ``get_even`` also relates to the global namespace. "
   ]
  },
  {
   "cell_type": "code",
   "execution_count": 37,
   "id": "c6c92e54-9e3d-4c8b-9ea8-d988612e7bbd",
   "metadata": {},
   "outputs": [
    {
     "name": "stdout",
     "output_type": "stream",
     "text": [
      "Even numbers in ['A', False, True, 1, 2, 3, 4, 'B', 5.5, 10.0, 10]: \n",
      " > [2, 4, 10]\n"
     ]
    }
   ],
   "source": [
    "def get_even(collection):\n",
    "    even_numbers = [i for i in collection if not isinstance(i, bool) and isinstance(i, int) and i%2==0] \n",
    "    return even_numbers\n",
    "\n",
    "lst1 = [\"A\", False, True, 1, 2, 3, 4, \"B\", 5.5, 10.0, 10]\n",
    "print(\"Even numbers in {}: \\n >\".format(lst1), get_even(lst1))"
   ]
  },
  {
   "cell_type": "markdown",
   "id": "d9af3e0c-b08d-4ca9-a9f6-16dcf452748b",
   "metadata": {},
   "source": [
    "You can access the global namespace for the current program using ``globals`` built-in function. It returns a dictionary where each key-value pair maps a variable name to its corresponding object.\n",
    "\n",
    "Let's check whether ``lst1`` and ``get_even`` are in the global namespace using the function ``globals``."
   ]
  },
  {
   "cell_type": "code",
   "execution_count": 39,
   "id": "d420b328-2174-4c2b-94cf-a08e478ebbff",
   "metadata": {
    "tags": []
   },
   "outputs": [
    {
     "name": "stdout",
     "output_type": "stream",
     "text": [
      "Is lst1 in the global namespace? \t R: True\n",
      "Is get_even in the global namespace? \t R: True\n"
     ]
    }
   ],
   "source": [
    "# Stores the dictionary\n",
    "global_namespace_dict = globals()\n",
    "\n",
    "# Verifies whether global namespace contains specific names\n",
    "print(\"Is lst1 in the global namespace? \\t R:\", \"lst1\" in globals())\n",
    "print(\"Is get_even in the global namespace? \\t R:\", \"get_even\" in globals())"
   ]
  },
  {
   "cell_type": "markdown",
   "id": "4d6bceab-8a06-453b-bd78-1c0d46f3e563",
   "metadata": {},
   "source": [
    "Let's print the actual values for some keys."
   ]
  },
  {
   "cell_type": "code",
   "execution_count": 42,
   "id": "5e0642ff-4a6e-4538-9754-e909cd819f29",
   "metadata": {},
   "outputs": [
    {
     "name": "stdout",
     "output_type": "stream",
     "text": [
      "Value of \"lst1\" in globals: ['A', False, True, 1, 2, 3, 4, 'B', 5.5, 10.0, 10]\n",
      "Value of \"get_even\" in globals: <function get_even at 0x00000237606A7820>\n",
      "Value of \"k\" in globals: k\n",
      "Value of \"get_k_central_moments\" in globals: <function get_k_central_moments at 0x0000023760733280>\n"
     ]
    }
   ],
   "source": [
    "# Prints some key-value pairs\n",
    "keys = [\"lst1\", \"get_even\", \"k\", \"get_k_central_moments\"]\n",
    "\n",
    "for k in keys:\n",
    "    print(\"Value of \\\"{}\\\" in globals:\".format(k), global_namespace_dict[k])"
   ]
  },
  {
   "cell_type": "markdown",
   "id": "f1a4381c-a273-41d4-aad8-a85ebc63a066",
   "metadata": {
    "tags": []
   },
   "source": [
    "## 8.2. Local namespaces.\n",
    "\n",
    "**When a function is executed**, Python interpreter creates a new namespace for it. That namespace is local to the function and **remains in existence from the moment the function is called until the moment it terminates.**"
   ]
  },
  {
   "cell_type": "markdown",
   "id": "efe21e0a-97c6-41a5-b3e0-79e87d466c8b",
   "metadata": {},
   "source": [
    "Let's recall ``get_even``. The function is defined in the global namespace. Whereas ``collection`` and ``even_numbers`` are defined in the local namespace. The latter can be accessed via ``locals`` built-in function."
   ]
  },
  {
   "cell_type": "code",
   "execution_count": 44,
   "id": "a7b3fdf6-c56e-4fdc-9aab-86b2214cbf3d",
   "metadata": {},
   "outputs": [
    {
     "name": "stdout",
     "output_type": "stream",
     "text": [
      "Is collection in the global namespace? \t R: False\n",
      "Is even_numbers in the global namespace? \t R: False\n",
      "Is collection in the local namespace? \t R: False\n",
      "Is even_numbers in the local namespace? \t R: False\n"
     ]
    }
   ],
   "source": [
    "def get_even(collection):\n",
    "    even_numbers = [i for i in collection if not isinstance(i, bool) and isinstance(i, int) and i%2==0] \n",
    "    return even_numbers\n",
    "\n",
    "name = \"collection\"\n",
    "print(\"Is {} in the global namespace? \\t R:\".format(name), name in globals())\n",
    "name = \"even_numbers\"\n",
    "print(\"Is {} in the global namespace? \\t R:\".format(name), name in globals())\n",
    "\n",
    "name = \"collection\"\n",
    "print(\"Is {} in the local namespace? \\t R:\".format(name), name in locals())\n",
    "name = \"even_numbers\"\n",
    "print(\"Is {} in the local namespace? \\t R:\".format(name), name in locals())"
   ]
  },
  {
   "cell_type": "markdown",
   "id": "83b2a2e5-77c0-4b02-80de-563c974858bd",
   "metadata": {},
   "source": [
    "The variables ``collection`` and ``even_numbers`` can be accessed via ``locals`` only within the local namespace created for ``get_even``. That is, only inside function's body."
   ]
  },
  {
   "cell_type": "code",
   "execution_count": 47,
   "id": "2bae2f91-6088-4d73-8523-ce3aa7a9efae",
   "metadata": {},
   "outputs": [
    {
     "name": "stdout",
     "output_type": "stream",
     "text": [
      "Is collection in the local namespace of get_even? \t R: True\n",
      "Is collection in the global namespace? \t R: False\n",
      "Is even_numbers in the local namespace of get_even? \t R: True\n",
      "Is even_numbers in the global namespace? \t R: False\n",
      "Even numbers in ['A', False, True, 1, 2, 3, 4, 'B', 5.5, 10.0, 10]: \n",
      " > [2, 4, 10]\n"
     ]
    }
   ],
   "source": [
    "def get_even(collection):\n",
    "    even_numbers = [i for i in collection if not isinstance(i, bool) and isinstance(i, int) and i%2==0] \n",
    "    \n",
    "    name = \"collection\"\n",
    "    print(\"Is {} in the local namespace of get_even? \\t R:\".format(name), name in locals())\n",
    "    print(\"Is {} in the global namespace? \\t R:\".format(name), name in globals())\n",
    "    name = \"even_numbers\"\n",
    "    print(\"Is {} in the local namespace of get_even? \\t R:\".format(name), name in locals())\n",
    "    print(\"Is {} in the global namespace? \\t R:\".format(name), name in globals())\n",
    "    \n",
    "    return even_numbers\n",
    "\n",
    "# Calls get_even\n",
    "print(\"Even numbers in {}: \\n >\".format(lst1), get_even(lst1))"
   ]
  },
  {
   "cell_type": "markdown",
   "id": "95831c1a-8cd2-4b63-9a54-f9eb500b66ce",
   "metadata": {},
   "source": [
    "The variable ``lst1`` regards the global namespace. That is, it does not belong to the local namespace of ``get_even``."
   ]
  },
  {
   "cell_type": "code",
   "execution_count": 48,
   "id": "7d8f9c61-006a-4ab4-bf8c-5dce994f3bb5",
   "metadata": {},
   "outputs": [
    {
     "name": "stdout",
     "output_type": "stream",
     "text": [
      "Is lst1 in the local namespace of get_even? \t R: False\n",
      "Even numbers in ['A', False, True, 1, 2, 3, 4, 'B', 5.5, 10.0, 10]: \n",
      " > [2, 4, 10]\n"
     ]
    }
   ],
   "source": [
    "def get_even(collection):\n",
    "    even_numbers = [i for i in collection if not isinstance(i, bool) and isinstance(i, int) and i%2==0] \n",
    "\n",
    "    name = \"lst1\"\n",
    "    print(\"Is {} in the local namespace of get_even? \\t R:\".format(name), name in locals())\n",
    "    \n",
    "    return even_numbers\n",
    "\n",
    "print(\"Even numbers in {}: \\n >\".format(lst1), get_even(lst1))"
   ]
  },
  {
   "cell_type": "markdown",
   "id": "8425459a-5dc9-4c74-9f44-21e8b50e3d28",
   "metadata": {},
   "source": [
    "This means that one can declare any variable in the local namespace of a given function that has the same name as any other variable in the global namespace this function belongs and they will point to different objects. The function ``get_alphabet_chars`` returns all the characters that are alphabet letters in a string."
   ]
  },
  {
   "cell_type": "code",
   "execution_count": 29,
   "id": "c564ebf3-4a65-483d-8ac9-4eb97cc24bff",
   "metadata": {},
   "outputs": [
    {
     "name": "stdout",
     "output_type": "stream",
     "text": [
      "The value returned by remove_char(my_str):  ['a', 'b', 'r', 'a', 'C', 'A', 'D', 'A', 'B', 'R', 'A']\n",
      "The value of my_str after remove_char(my_str):  !=:abraCADABRA123\n"
     ]
    }
   ],
   "source": [
    "def get_alphabet_chars(my_str):\n",
    "    my_str = [c for c in my_str if c.isalpha()]\n",
    "    return my_str\n",
    "\n",
    "# Declares a string variable\n",
    "my_str = \"!=:abraCADABRA123\"\n",
    "# Calls remove_char on my_str\n",
    "my_str_letters = get_alphabet_chars(my_str)\n",
    "# \n",
    "print(\"The value returned by remove_char(my_str): \", my_str_letters)\n",
    "print(\"The value of my_str after remove_char(my_str): \", my_str)"
   ]
  }
 ],
 "metadata": {
  "kernelspec": {
   "display_name": "Python 3 (ipykernel)",
   "language": "python",
   "name": "python3"
  },
  "language_info": {
   "codemirror_mode": {
    "name": "ipython",
    "version": 3
   },
   "file_extension": ".py",
   "mimetype": "text/x-python",
   "name": "python",
   "nbconvert_exporter": "python",
   "pygments_lexer": "ipython3",
   "version": "3.12.0"
  }
 },
 "nbformat": 4,
 "nbformat_minor": 5
}
