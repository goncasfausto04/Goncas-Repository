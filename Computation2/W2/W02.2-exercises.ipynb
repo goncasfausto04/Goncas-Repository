{
 "cells": [
  {
   "cell_type": "markdown",
   "id": "a8cfa654-7c14-4069-b17c-4187a017521f",
   "metadata": {},
   "source": [
    "# **Computation II** <br/>\n",
    "**Bachelor's Degree Programs in Data Science and Information Systems**<br/>\n",
    "**NOVA IMS**<br/>"
   ]
  },
  {
   "cell_type": "markdown",
   "id": "b2d332ae-72e1-451f-ae4c-a2fe8515b529",
   "metadata": {},
   "source": [
    "# Exercises"
   ]
  },
  {
   "cell_type": "markdown",
   "id": "961e4fed-8146-4859-81c0-bc92064968ea",
   "metadata": {},
   "source": [
    "**Exercise 8** : First List\n",
    "\n",
    "Create your first list called fruits with the following values: apple, orange, strawberry.\n",
    "Print the second item in the fruits list."
   ]
  },
  {
   "cell_type": "code",
   "execution_count": null,
   "id": "34503913-deac-4a29-9e2f-1f43f84c3ef7",
   "metadata": {},
   "outputs": [],
   "source": [
    "# Write your solution here"
   ]
  },
  {
   "cell_type": "markdown",
   "id": "d6d9768e-7abe-467d-90bb-80e892f44bab",
   "metadata": {},
   "source": [
    "**Exercise 9** : Change a list\n",
    "\n",
    "Change the value from \"apple\" to \"kiwi\" in the fruits list."
   ]
  },
  {
   "cell_type": "code",
   "execution_count": null,
   "id": "a63b719c-f1f2-4cfd-8748-9a43724f012c",
   "metadata": {},
   "outputs": [],
   "source": [
    "# Write your solution here"
   ]
  },
  {
   "cell_type": "markdown",
   "id": "4c8025ad-a67b-4513-9d1a-661c25427d38",
   "metadata": {},
   "source": [
    "**Exercise 10** : First If\n",
    "\n",
    "Print ``\"Hello World\"`` if ``a`` is greater than ``b``."
   ]
  },
  {
   "cell_type": "code",
   "execution_count": null,
   "id": "974e992f-a8a1-4405-9e41-6d5289d6e349",
   "metadata": {},
   "outputs": [],
   "source": [
    "# Write your solution here"
   ]
  },
  {
   "cell_type": "markdown",
   "id": "5abd5854-fde0-4b6d-b0b8-6ea089e224bb",
   "metadata": {},
   "source": [
    "**Exercise 11** : Three is a Crowd\n",
    "\n",
    "- Make a list of names that includes at least four people.\n",
    "- Write an if test that prints a message about the room being crowded, if there are more than three people in your list.\n",
    "- Modify your list so that there are only two people in it. Use one of the methods for removing people from the list, don't just redefine the list.\n",
    "- Run your if test again. There should be no output this time, because there are less than three people in the list."
   ]
  },
  {
   "cell_type": "code",
   "execution_count": null,
   "id": "cb36bdb4-afba-4955-b9cf-70eedd1ba895",
   "metadata": {},
   "outputs": [],
   "source": [
    "# Write your solution here"
   ]
  },
  {
   "cell_type": "markdown",
   "id": "33554989-a5d5-4e54-b187-9d06d4024be6",
   "metadata": {},
   "source": [
    "**Exercise 12** : First Loop\n",
    "\n",
    "Use a for loop to print all the elements in a supermarket list."
   ]
  },
  {
   "cell_type": "code",
   "execution_count": null,
   "id": "371dce98-86a1-4d23-b883-42b3ddab2798",
   "metadata": {},
   "outputs": [],
   "source": [
    "# Write your solution here"
   ]
  },
  {
   "cell_type": "markdown",
   "id": "cf9a328c-9162-43ae-baa4-9f78d6c7b8ce",
   "metadata": {},
   "source": [
    "**Exercise 13** : Break Loop\n",
    "\n",
    "Create the same loop but exit it when it is going to print \"banana\"."
   ]
  },
  {
   "cell_type": "code",
   "execution_count": null,
   "id": "8137c4b6-065f-460a-857e-95f785ab345f",
   "metadata": {},
   "outputs": [],
   "source": [
    "# Write your solution here"
   ]
  },
  {
   "cell_type": "markdown",
   "id": "93ea0b3b-1b18-45d0-90de-f89ad9e923d0",
   "metadata": {},
   "source": [
    "**Exercise 14** : Growing Strength\n",
    "\n",
    "- Make a variable called strength, and set its initial value to 5.\n",
    "- Print a message reporting the player's strength.\n",
    "- Set up a while loop that runs until the player's strength increases to a value such as 10.\n",
    "- Inside the while loop, print a message that reports the player's current strength.\n",
    "- Inside the while loop, write a statement that increases the player's strength.\n",
    "- Outside the while loop, print a message reporting that the player has grown too strong, and that they have moved up to a new level of the game.\n",
    "- Bonus: Play around with different cutoff levels for the value of strength, and play around with different ways to increase the strength value within the while loop."
   ]
  },
  {
   "cell_type": "code",
   "execution_count": null,
   "id": "8a1f9980-ca32-4128-9ded-88d9a9ae43b1",
   "metadata": {},
   "outputs": [],
   "source": [
    "# Write your solution here"
   ]
  },
  {
   "cell_type": "markdown",
   "id": "bbe68c59-3571-4f48-9bcd-e9f04a102c78",
   "metadata": {},
   "source": [
    "**Exercise 15** : Full Names\n",
    "\n",
    "Write a function that takes in a first name and a last name, and prints out a nicely formatted full name, in a sentence. Your sentence could be as simple as, \"Hello, full_name.\"\n",
    "\n",
    "Call your function three times, with a different name each time."
   ]
  },
  {
   "cell_type": "code",
   "execution_count": null,
   "id": "c249a131-7b3a-4c2d-a4cc-772b5c95e85d",
   "metadata": {},
   "outputs": [],
   "source": [
    "# Write your solution here"
   ]
  },
  {
   "cell_type": "markdown",
   "id": "f15b86d5-25ac-4db8-9774-2d3dcf75627f",
   "metadata": {},
   "source": [
    "**Exercise 16:** Average Grades\n",
    "\n",
    "The following list contains the grades of a student. Calculate the mean of the list, and print it. If the result is greater than 50 print \"Student passed!\", if it is less print \"Student failed :(\". <br>\n",
    "<br>\n",
    "grades = [10,30,40,100,20]\n",
    "<br>\n",
    "<br>\n",
    "<code>Expected Output:</code><br>\n",
    "Average = 40<br>\n",
    "Student failed :(  "
   ]
  },
  {
   "cell_type": "code",
   "execution_count": null,
   "id": "9a8d8505-8b54-404f-95b0-d0cf02572e47",
   "metadata": {},
   "outputs": [],
   "source": [
    "# Write your solution here"
   ]
  },
  {
   "cell_type": "markdown",
   "id": "6e7cc936-2630-437a-95b4-5bfbeb4d046f",
   "metadata": {},
   "source": [
    "**Exercise 17:** Dictionaries \n",
    "\n",
    "Considering the given dictionary, calculate the average grade of Diane. Add a \"scholarship:True\" pair to the dictionary."
   ]
  },
  {
   "cell_type": "code",
   "execution_count": null,
   "id": "f5d1a448-fb5e-4e9f-ba7c-665cca57d923",
   "metadata": {},
   "outputs": [],
   "source": [
    "student1 = { \"name\": \"Diane Nguyen\",\n",
    "\"course\": \"Data Science\",\n",
    "\"classes\": [\"Computation I\", \"Statistics\", \"Algebra\", \"Information Systems\"],\n",
    "\"grades\": [20, 18, 16, 14],\n",
    "\"student number\": 20236624}\n",
    "\n",
    "# Write your solution here"
   ]
  },
  {
   "cell_type": "markdown",
   "id": "a4d83f3d-0392-454e-8469-9a34ef2cad09",
   "metadata": {},
   "source": [
    "**Exercise 18:** Guess the Number Game\n",
    "\n",
    "Write a game to guess a random number between 1 and 100.\n",
    "\n",
    "- Use the function ``randint`` to generate random numbers;\n",
    "    - If necessary, try to access the function's documentation to understand how to use it;\n",
    "- Define a function to call the game;\n",
    "- The game should prompt the user with an input (use the function ``input``);\n",
    "- If the guess is correct, print \"You guessed the number after ? tries! The number was ?\" and the game ends;\n",
    "- If the guess is incorrect:\n",
    "    - Print whether the correct number is lower of higher than the guessed one\n",
    "    - Allow the user to try guessing again"
   ]
  },
  {
   "cell_type": "code",
   "execution_count": null,
   "id": "ec15bf98-1a46-4541-add1-48434bf8ff7e",
   "metadata": {},
   "outputs": [],
   "source": [
    "from random import randint\n",
    "\n",
    "# Write your solution here"
   ]
  },
  {
   "cell_type": "markdown",
   "id": "5b00b63e-d662-455d-9025-6aa28dc1831d",
   "metadata": {},
   "source": [
    "**Exercise 19:** Rock, paper, scissors\n",
    "\n",
    "Use ``random.choice()``, if statements, and user input to build a rock paper scissors game.\n",
    "\n",
    "- At each round, print the number of times the user won, tied and lost against the computer.\n",
    "- The user is expected to pass only the initials of option passed: [r]ock, [p]aper, [s]cissors\n",
    "- After each round ask the user if it's time to quit"
   ]
  },
  {
   "cell_type": "code",
   "execution_count": null,
   "id": "dfbedacc-fbfc-4ede-a0fc-4bbd0c27e276",
   "metadata": {},
   "outputs": [],
   "source": [
    "# Write your solution here"
   ]
  },
  {
   "cell_type": "markdown",
   "id": "4c700ebe-9dfd-4f7e-8057-cde59ff62b99",
   "metadata": {},
   "source": [
    "**Exercise 20:** Word-guessing game\n",
    "\n",
    "Use the word list retrieved below to create word-guessing game with the following features:\n",
    "- Word to guess should be randomly chosen from `word_list`.\n",
    "- Number of attempts should be tracked.\n",
    "- Letters that haven't been guessed yet should be represented with an underscore (\"_\").\n",
    "- User has the option to guess single letters.\n",
    "- If user passes more than one letter, it should be treated as a full-word guess.\n",
    "- **Bonus:** Add an option to pass the size of the word before the guessing game begins."
   ]
  },
  {
   "cell_type": "code",
   "execution_count": 1,
   "id": "ade8ed44-e120-4f52-8df6-e5e4af5bae09",
   "metadata": {
    "ExecuteTime": {
     "end_time": "2024-03-06T10:02:57.222705Z",
     "start_time": "2024-03-06T10:02:56.749988Z"
    }
   },
   "outputs": [
    {
     "name": "stdout",
     "output_type": "stream",
     "text": [
      "irs\n"
     ]
    }
   ],
   "source": [
    "from urllib.request import urlopen\n",
    "import random\n",
    "\n",
    "word_site = \"https://www.mit.edu/~ecprice/wordlist.10000\"\n",
    "\n",
    "response = urlopen(word_site)\n",
    "txt = response.read()\n",
    "word_list = txt.splitlines()\n",
    "guess = random.choice(word_list)\n",
    "guess = guess.decode('utf-8')        \n",
    "print(guess)\n"
   ]
  }
 ],
 "metadata": {
  "kernelspec": {
   "display_name": "Python 3 (ipykernel)",
   "language": "python",
   "name": "python3"
  },
  "language_info": {
   "codemirror_mode": {
    "name": "ipython",
    "version": 3
   },
   "file_extension": ".py",
   "mimetype": "text/x-python",
   "name": "python",
   "nbconvert_exporter": "python",
   "pygments_lexer": "ipython3",
   "version": "3.11.8"
  }
 },
 "nbformat": 4,
 "nbformat_minor": 5
}
