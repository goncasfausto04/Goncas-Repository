{
 "cells": [
  {
   "cell_type": "markdown",
   "id": "f1e84ad4-4cbf-4436-83bf-d454f94fbf46",
   "metadata": {},
   "source": [
    "# **Computation II** <br/>\n",
    "**Bachelor's Degree Programs in Data Science and Information Systems**<br/>\n",
    "**NOVA IMS**<br/>\n",
    "\n",
    "**NOTE:** Some of the practical class materials were adapted from Prof. Dr. Illya Bakurov's class materials."
   ]
  },
  {
   "cell_type": "markdown",
   "id": "3ac75ca8-b089-430d-8e12-dd1b9394f479",
   "metadata": {},
   "source": [
    "## Numpy"
   ]
  },
  {
   "cell_type": "code",
   "execution_count": 1,
   "id": "d4df942c-76dd-4b62-a61c-843dbc7b9de5",
   "metadata": {},
   "outputs": [],
   "source": [
    "import numpy as np"
   ]
  },
  {
   "cell_type": "markdown",
   "id": "bae72b17-90e4-49d8-9710-ef91afadbace",
   "metadata": {},
   "source": [
    "#### Let's define a numpy array and print its length, shape, type and the type of the elements in the array."
   ]
  },
  {
   "cell_type": "code",
   "execution_count": null,
   "id": "e2b189f4-10be-4eeb-bf47-480b07600841",
   "metadata": {},
   "outputs": [],
   "source": []
  },
  {
   "cell_type": "markdown",
   "id": "5a249ed8-e5c9-40db-9ccd-493802634b95",
   "metadata": {},
   "source": [
    "#### Indexing"
   ]
  },
  {
   "cell_type": "code",
   "execution_count": null,
   "id": "6f4255c9-f208-43aa-881a-1e0af34340c2",
   "metadata": {},
   "outputs": [],
   "source": []
  },
  {
   "cell_type": "markdown",
   "id": "a4932cf5-a31c-4512-94fe-1be3fbfccb29",
   "metadata": {},
   "source": [
    "#### Question: Create a one dimensional numpy array and print only the values higher than the average"
   ]
  },
  {
   "cell_type": "code",
   "execution_count": null,
   "id": "bb0e3f46-48e5-4af4-baca-1aacd4793011",
   "metadata": {},
   "outputs": [],
   "source": []
  },
  {
   "cell_type": "markdown",
   "id": "ea1aeafc-4be6-41eb-a77d-50c4392693dd",
   "metadata": {},
   "source": [
    "#### More on One Dimensional Arrays"
   ]
  },
  {
   "cell_type": "code",
   "execution_count": 2,
   "id": "7f372e42-3789-4909-ba90-846176d759ab",
   "metadata": {},
   "outputs": [
    {
     "data": {
      "text/plain": [
       "array([1., 1., 1., 1., 1., 1., 1., 1., 1., 1.])"
      ]
     },
     "execution_count": 2,
     "metadata": {},
     "output_type": "execute_result"
    }
   ],
   "source": [
    "np.ones(10)"
   ]
  },
  {
   "cell_type": "code",
   "execution_count": 3,
   "id": "db67960c-d28e-4c0a-b572-66d905ff7b92",
   "metadata": {},
   "outputs": [
    {
     "data": {
      "text/plain": [
       "array([1, 1, 1, 1, 1, 1, 1, 1, 1, 1])"
      ]
     },
     "execution_count": 3,
     "metadata": {},
     "output_type": "execute_result"
    }
   ],
   "source": [
    "np.ones(10, dtype='int')"
   ]
  },
  {
   "cell_type": "code",
   "execution_count": 4,
   "id": "36690953-efa5-4861-81b6-3791f4a7b2e8",
   "metadata": {},
   "outputs": [
    {
     "data": {
      "text/plain": [
       "array([0.24011797, 0.57407184, 0.16918588, 0.44738231, 0.06086805,\n",
       "       0.48915014, 0.03230793, 0.24635409, 0.72640075, 0.06622954])"
      ]
     },
     "execution_count": 4,
     "metadata": {},
     "output_type": "execute_result"
    }
   ],
   "source": [
    "np.random.random(10)"
   ]
  },
  {
   "cell_type": "code",
   "execution_count": 5,
   "id": "5951680f-70c7-4a80-a1c3-e0b5fae7b386",
   "metadata": {},
   "outputs": [],
   "source": [
    "first = np.ones(5)\n",
    "second = np.ones(5)"
   ]
  },
  {
   "cell_type": "code",
   "execution_count": null,
   "id": "6d958a1c-51ff-4a76-a93b-f83d73929609",
   "metadata": {},
   "outputs": [],
   "source": []
  },
  {
   "cell_type": "code",
   "execution_count": null,
   "id": "321d583b-8901-4096-843e-ea1ed46be9b1",
   "metadata": {},
   "outputs": [],
   "source": []
  },
  {
   "cell_type": "code",
   "execution_count": null,
   "id": "8f546af4-b0b7-4346-98cc-666c8975429c",
   "metadata": {},
   "outputs": [],
   "source": []
  },
  {
   "cell_type": "markdown",
   "id": "61bf05f4-ec15-4189-9df6-1950caae5a77",
   "metadata": {},
   "source": [
    "#### Two Dimensional Arrays"
   ]
  },
  {
   "cell_type": "code",
   "execution_count": 6,
   "id": "bebba61a-788d-4b9d-8d43-61db3196a3d6",
   "metadata": {},
   "outputs": [
    {
     "data": {
      "text/plain": [
       "array([[ 1,  2,  3,  4],\n",
       "       [ 5,  6,  7,  8],\n",
       "       [ 9, 10, 11, 12]])"
      ]
     },
     "execution_count": 6,
     "metadata": {},
     "output_type": "execute_result"
    }
   ],
   "source": [
    "my_array2d = np.array([ [1, 2, 3, 4], [5, 6, 7, 8], [9, 10, 11, 12]])\n",
    "my_array2d"
   ]
  },
  {
   "cell_type": "code",
   "execution_count": 7,
   "id": "ea33eff5-0ccf-4dfb-8f42-5cbd45d5c863",
   "metadata": {},
   "outputs": [],
   "source": [
    "# 3 x 4 array of ones\n"
   ]
  },
  {
   "cell_type": "code",
   "execution_count": 8,
   "id": "e65aa636-6c72-4c8f-860a-cad07db58fee",
   "metadata": {},
   "outputs": [],
   "source": [
    "# 3 x 3 identity matrix\n"
   ]
  },
  {
   "cell_type": "markdown",
   "id": "360a5b70-8eb4-48db-a8a1-9e537519cd85",
   "metadata": {},
   "source": [
    "#### Indexing"
   ]
  },
  {
   "cell_type": "code",
   "execution_count": null,
   "id": "f8d45d38-e3c1-4cea-b098-f6726608a32c",
   "metadata": {},
   "outputs": [],
   "source": []
  },
  {
   "cell_type": "markdown",
   "id": "85779075-b770-4a34-96f3-2b2300b8a30f",
   "metadata": {},
   "source": [
    "#### More on two dimensional arrays"
   ]
  },
  {
   "cell_type": "code",
   "execution_count": 9,
   "id": "7eedff47-51ad-4bc7-8165-57eb5ccd7ba0",
   "metadata": {},
   "outputs": [
    {
     "data": {
      "text/plain": [
       "array([[1., 1., 1., 1.],\n",
       "       [1., 1., 1., 1.],\n",
       "       [1., 1., 1., 1.]])"
      ]
     },
     "execution_count": 9,
     "metadata": {},
     "output_type": "execute_result"
    }
   ],
   "source": [
    "onesarray = np.ones([3,4])\n",
    "onesarray"
   ]
  },
  {
   "cell_type": "code",
   "execution_count": null,
   "id": "988fdb1e-12f3-4a32-8409-2127dd132958",
   "metadata": {},
   "outputs": [],
   "source": []
  },
  {
   "cell_type": "code",
   "execution_count": 10,
   "id": "3591ffd8-fadf-47dc-b5e8-c43bfa55a3af",
   "metadata": {},
   "outputs": [],
   "source": [
    "# Transpose of an array\n"
   ]
  },
  {
   "cell_type": "code",
   "execution_count": null,
   "id": "2558ce7c-c693-4975-9fe3-3cd252bb138e",
   "metadata": {},
   "outputs": [],
   "source": []
  },
  {
   "cell_type": "code",
   "execution_count": 11,
   "id": "87be2bd2-eeef-4c1f-b7f9-f56534e33866",
   "metadata": {},
   "outputs": [
    {
     "data": {
      "text/plain": [
       "array([[0., 0.],\n",
       "       [0., 0.],\n",
       "       [0., 0.],\n",
       "       [0., 0.],\n",
       "       [0., 0.]])"
      ]
     },
     "execution_count": 11,
     "metadata": {},
     "output_type": "execute_result"
    }
   ],
   "source": [
    "twod = np.zeros((5, 2))\n",
    "twod"
   ]
  },
  {
   "cell_type": "code",
   "execution_count": 12,
   "id": "613e1c70-555f-47a6-9549-0884b7c76018",
   "metadata": {},
   "outputs": [
    {
     "data": {
      "text/plain": [
       "array([[0.74210656, 0.25692961],\n",
       "       [0.23879203, 0.99182724],\n",
       "       [0.98002732, 0.82396525],\n",
       "       [0.01041626, 0.40262249],\n",
       "       [0.38171384, 0.71529051]])"
      ]
     },
     "execution_count": 12,
     "metadata": {},
     "output_type": "execute_result"
    }
   ],
   "source": [
    "for i in range(twod.shape[0]):\n",
    "    twod[i, :] = np.random.random(2)\n",
    "twod"
   ]
  },
  {
   "cell_type": "code",
   "execution_count": 13,
   "id": "42a2141e-6ad9-4999-8aba-9f7f438012bb",
   "metadata": {},
   "outputs": [
    {
     "data": {
      "text/plain": [
       "array([[0.51874395, 0.28249702],\n",
       "       [0.82752771, 0.82126997],\n",
       "       [0.91954686, 0.30850221],\n",
       "       [0.52638103, 0.97672581],\n",
       "       [0.20986261, 0.93587354]])"
      ]
     },
     "execution_count": 13,
     "metadata": {},
     "output_type": "execute_result"
    }
   ],
   "source": [
    "twod = np.random.random(size=(5,2))\n",
    "twod"
   ]
  },
  {
   "cell_type": "markdown",
   "id": "b7b29896-e6f3-47ed-a34a-0309f03e7fe2",
   "metadata": {},
   "source": [
    "#### Arange and Reshape"
   ]
  },
  {
   "cell_type": "code",
   "execution_count": null,
   "id": "3f1d3afb-1c97-4390-8097-2cbf016ed5be",
   "metadata": {},
   "outputs": [],
   "source": []
  },
  {
   "cell_type": "code",
   "execution_count": null,
   "id": "0a40fc26-372d-4dcf-93e3-184d3f840a28",
   "metadata": {},
   "outputs": [],
   "source": []
  },
  {
   "cell_type": "code",
   "execution_count": null,
   "id": "20fb22c3-3867-412b-9c56-427fac521434",
   "metadata": {},
   "outputs": [],
   "source": []
  },
  {
   "cell_type": "markdown",
   "id": "d4d948a7-19a7-4866-930b-b184ff2b7c9e",
   "metadata": {},
   "source": [
    "#### Indexing"
   ]
  },
  {
   "cell_type": "code",
   "execution_count": null,
   "id": "ee4a6119-f61d-429c-a1d1-33448404418a",
   "metadata": {},
   "outputs": [],
   "source": []
  },
  {
   "cell_type": "code",
   "execution_count": null,
   "id": "f17a8fc2-a308-4d21-9621-732f474f387e",
   "metadata": {},
   "outputs": [],
   "source": []
  },
  {
   "cell_type": "code",
   "execution_count": null,
   "id": "4364f9f3-d71d-4467-bc02-5fd5bd6012fa",
   "metadata": {},
   "outputs": [],
   "source": []
  },
  {
   "cell_type": "code",
   "execution_count": null,
   "id": "06a28ddd-918a-49d4-a1ac-796f24ac1328",
   "metadata": {},
   "outputs": [],
   "source": []
  },
  {
   "cell_type": "markdown",
   "id": "4b67b34e-0446-4759-83bb-0c0f777ab9ce",
   "metadata": {},
   "source": [
    "#### More"
   ]
  },
  {
   "cell_type": "code",
   "execution_count": null,
   "id": "ae6b4f94-a784-4330-80e2-5400e6b29f75",
   "metadata": {},
   "outputs": [],
   "source": []
  },
  {
   "cell_type": "code",
   "execution_count": 14,
   "id": "7dfcfbd5-8c01-4586-a733-e3d6ce5c8b3d",
   "metadata": {},
   "outputs": [],
   "source": [
    "# unique, flip, where"
   ]
  }
 ],
 "metadata": {
  "kernelspec": {
   "display_name": "Python 3 (ipykernel)",
   "language": "python",
   "name": "python3"
  },
  "language_info": {
   "codemirror_mode": {
    "name": "ipython",
    "version": 3
   },
   "file_extension": ".py",
   "mimetype": "text/x-python",
   "name": "python",
   "nbconvert_exporter": "python",
   "pygments_lexer": "ipython3",
   "version": "3.12.0"
  }
 },
 "nbformat": 4,
 "nbformat_minor": 5
}
