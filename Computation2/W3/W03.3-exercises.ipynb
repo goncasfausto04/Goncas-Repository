{
 "cells": [
  {
   "cell_type": "markdown",
   "id": "a8cfa654-7c14-4069-b17c-4187a017521f",
   "metadata": {},
   "source": [
    "# **Computation II** <br/>\n",
    "**Bachelor's Degree Programs in Data Science and Information Systems**<br/>\n",
    "**NOVA IMS**<br/>"
   ]
  },
  {
   "cell_type": "markdown",
   "id": "b2d332ae-72e1-451f-ae4c-a2fe8515b529",
   "metadata": {},
   "source": [
    "# Exercises"
   ]
  },
  {
   "cell_type": "markdown",
   "id": "5b00b63e-d662-455d-9025-6aa28dc1831d",
   "metadata": {},
   "source": [
    "**Exercise 21**: Numpy version\n",
    "\n",
    "Import numpy as ``np`` and print the version number."
   ]
  },
  {
   "cell_type": "code",
   "execution_count": 3,
   "id": "dfbedacc-fbfc-4ede-a0fc-4bbd0c27e276",
   "metadata": {
    "ExecuteTime": {
     "end_time": "2024-03-06T10:15:37.756952Z",
     "start_time": "2024-03-06T10:15:37.751506Z"
    }
   },
   "outputs": [
    {
     "data": {
      "text/plain": "'1.26.4'"
     },
     "execution_count": 3,
     "metadata": {},
     "output_type": "execute_result"
    }
   ],
   "source": [
    "import numpy as np\n",
    "np.__version__"
   ]
  },
  {
   "cell_type": "markdown",
   "id": "dd20f1c0-44ff-4a09-b79a-a9f0b460d024",
   "metadata": {},
   "source": [
    "**Exercise 22**: Simple array\n",
    "\n",
    "Create a 1D array of numbers from 0 to 9"
   ]
  },
  {
   "cell_type": "code",
   "execution_count": 2,
   "id": "1446e6fe-a11e-42ff-8b53-fcb47700b8a2",
   "metadata": {
    "ExecuteTime": {
     "end_time": "2024-03-12T12:08:03.523044Z",
     "start_time": "2024-03-12T12:08:03.503146Z"
    }
   },
   "outputs": [
    {
     "data": {
      "text/plain": "[0, 1, 2, 3, 4, 5, 6, 7, 8, 9]"
     },
     "execution_count": 2,
     "metadata": {},
     "output_type": "execute_result"
    }
   ],
   "source": [
    "# Write your solution here\n",
    "\n",
    "arr1 = [i for i in range(11)]\n"
   ]
  },
  {
   "cell_type": "markdown",
   "id": "21463e73-556e-4aa6-a77b-f293ca52f5e3",
   "metadata": {},
   "source": [
    "**Exercise 23**: 2D array\n",
    "\n",
    "Create a 3×3 numpy array of all True’s"
   ]
  },
  {
   "cell_type": "code",
   "execution_count": null,
   "id": "c64c2398-d9c1-473e-846f-edc05fd627fe",
   "metadata": {},
   "outputs": [],
   "source": [
    "# Write your solution here"
   ]
  },
  {
   "cell_type": "markdown",
   "id": "b40695f1-7dbd-425d-ad95-738bb65c8309",
   "metadata": {},
   "source": [
    "**Exercise 24**: Odd numbers\n",
    "\n",
    "Extract all odd numbers from `arr`"
   ]
  },
  {
   "cell_type": "code",
   "execution_count": null,
   "id": "5fb3b511-800f-4b67-a26f-92f5f5a003c7",
   "metadata": {},
   "outputs": [],
   "source": [
    "arr = np.array([0, 1, 2, 3, 4, 5, 6, 7, 8, 9])\n",
    "\n",
    "# Write your solution here"
   ]
  },
  {
   "cell_type": "markdown",
   "id": "83a43895-f9a6-4bc1-a26a-d6b354c33275",
   "metadata": {},
   "source": [
    "**Exercise 25**: Replace numbers\n",
    "\n",
    "1. Replace all odd numbers in `arr` with `-1`\n",
    "2. Repeat the exercise, this time without modifying `arr` (and do not store the modified version into any variable)"
   ]
  },
  {
   "cell_type": "code",
   "execution_count": null,
   "id": "b9a0d9fb-82bb-47e6-8188-a9f955b513e3",
   "metadata": {},
   "outputs": [],
   "source": [
    "arr = np.array([0, 1, 2, 3, 4, 5, 6, 7, 8, 9])\n",
    "\n",
    "# Write your solution here"
   ]
  },
  {
   "cell_type": "markdown",
   "id": "48567309-1323-4503-ab24-82b46b1e8950",
   "metadata": {},
   "source": [
    "**Exercise 26**: Reshape and stack\n",
    "\n",
    "1. Convert arrays `a` and `b` from 1D array to a 2D array with 2 rows\n",
    "2. Stack the reshaped arrays `a` and `b` vertically\n",
    "3. Stack the reshaped arrays `a` and `b` horizontally"
   ]
  },
  {
   "cell_type": "code",
   "execution_count": null,
   "id": "0b2faa9d-89a3-4547-9644-6311da40575d",
   "metadata": {},
   "outputs": [],
   "source": [
    "a = np.arange(10)\n",
    "b = np.repeat(1, 10)\n",
    "\n",
    "# Write your solution here"
   ]
  },
  {
   "cell_type": "markdown",
   "id": "d7012352-6bb4-4ac7-a607-129d6eff6799",
   "metadata": {},
   "source": [
    "**Exercise 27**: Common items\n",
    "\n",
    "1. Get the common items between `a` and `b` and print them.\n",
    "2. Get the positions where elements of `a` and `b` match and print them."
   ]
  },
  {
   "cell_type": "code",
   "execution_count": null,
   "id": "989873d6-dc63-49c4-b694-1508d300ac9b",
   "metadata": {},
   "outputs": [],
   "source": [
    "a = np.array([1,2,3,2,3,4,3,4,5,6])\n",
    "b = np.array([7,2,10,2,7,4,9,4,9,8])\n",
    "\n",
    "# Write your solution here"
   ]
  },
  {
   "cell_type": "markdown",
   "id": "4322b07a-997d-4c76-9a4e-af71c385ac89",
   "metadata": {},
   "source": [
    "**Exercise 28**: Maximum\n",
    "\n",
    "Convert the function `maximum` that works on two scalars, to work on two arrays."
   ]
  },
  {
   "cell_type": "code",
   "execution_count": null,
   "id": "7a5bcd7f-e176-401b-b5cf-1f12ab752b88",
   "metadata": {},
   "outputs": [],
   "source": [
    "def maximum(x, y):\n",
    "    \"\"\"Get the maximum of two items\"\"\"\n",
    "    if x >= y:\n",
    "        return x\n",
    "    else:\n",
    "        return y\n",
    "\n",
    "# Comment or delete this line to check after modifying the function\n",
    "print(maximum(1, 5))\n",
    "\n",
    "# Example array inputs\n",
    "a = np.array([5, 7, 9, 8, 6, 4, 5])\n",
    "b = np.array([6, 3, 4, 8, 9, 7, 1])\n",
    "\n",
    "# Write your solution here"
   ]
  },
  {
   "cell_type": "markdown",
   "id": "a567707f-c4d2-47ad-bbcb-ae612d281216",
   "metadata": {},
   "source": [
    "**Exercise 29**: Swap\n",
    "\n",
    "1. Swap columns 1 and 2 in the array `arr`.\n",
    "2. Swap rows 1 and 2 in the array `arr`.\n",
    "3. Reshape `arr` to a single dimensional array.\n",
    "4. Reverse the order in arr.\n",
    "5. **Bonus:** Reverse the order of the rows and columns of `arr` before reshaping."
   ]
  },
  {
   "cell_type": "code",
   "execution_count": null,
   "id": "b303b215-4b16-482c-8ee7-003104af2289",
   "metadata": {},
   "outputs": [],
   "source": [
    "arr = np.arange(9).reshape(3,3)\n",
    "\n",
    "# Write your solution here"
   ]
  },
  {
   "cell_type": "markdown",
   "id": "59b9b758-0c3a-4503-a724-fcc26287fbb6",
   "metadata": {},
   "source": [
    "**Exercise 30**: Random numbers\n",
    "\n",
    "Create a 2D array of shape 5x3 to contain random decimal numbers between 5 and 10."
   ]
  },
  {
   "cell_type": "code",
   "execution_count": null,
   "id": "eb35b668-e890-412a-ada8-1f13d0b9e38e",
   "metadata": {},
   "outputs": [],
   "source": [
    "# Write your solution here"
   ]
  },
  {
   "cell_type": "markdown",
   "id": "f4054f2f-3072-4dda-83db-013fbecf1bba",
   "metadata": {},
   "source": [
    "**Exercise 31**: Working with a toy dataset\n",
    "\n",
    "1. Extract the column `sepalwidth` from the iris dataset.\n",
    "2. Find the mean, median, standard deviation of that column using built-in numpy functions.\n",
    "3. Repeat step 2, without using built-in numpy functions (i.e., use loops and basic math operators).\n",
    "4. Create a normalized form of `sepalwidth` whose values range exactly between 0 and 1 so that the minimum has value 0 and maximum has value 1."
   ]
  },
  {
   "cell_type": "code",
   "execution_count": null,
   "id": "d36721d9-0664-46ea-b621-f6a3934d4577",
   "metadata": {},
   "outputs": [],
   "source": [
    "url = 'https://archive.ics.uci.edu/ml/machine-learning-databases/iris/iris.data'\n",
    "iris = np.genfromtxt(url, delimiter=',', dtype='object')\n",
    "column_names = ('sepallength', 'sepalwidth', 'petallength', 'petalwidth', 'species')\n",
    "\n",
    "# Write your solution here"
   ]
  },
  {
   "cell_type": "markdown",
   "id": "8c3eb481-6fdc-47f3-8980-852c91a11505",
   "metadata": {},
   "source": [
    "**Exercise 32**: More work with a toy dataset\n",
    "\n",
    "1. Extract the column `sepallength` from the iris dataset.\n",
    "2. Find the 5th and 95th percentile of iris's `sepallength`.\n",
    "3. Insert `np.nan` values at 20 random positions in the `iris` dataset.\n",
    "4. Find the number and position of missing values in `iris`' `sepallength`.\n",
    "5. Get the rows that have `petallength` (3rd column) > 1.5 and `sepallength` (1st column) < 5.0\n",
    "6. Find the unique values and the count of unique values in `iris`' `species` column"
   ]
  },
  {
   "cell_type": "code",
   "execution_count": null,
   "id": "31a1e8f6-3587-4767-83e2-a6ebb1a208c2",
   "metadata": {},
   "outputs": [],
   "source": [
    "url = 'https://archive.ics.uci.edu/ml/machine-learning-databases/iris/iris.data'\n",
    "iris = np.genfromtxt(url, delimiter=',', dtype='object')\n",
    "column_names = ('sepallength', 'sepalwidth', 'petallength', 'petalwidth', 'species')\n",
    "\n",
    "# Write your solution here"
   ]
  },
  {
   "cell_type": "markdown",
   "id": "e2aff59e-c518-4c82-af93-48685988645a",
   "metadata": {},
   "source": [
    "**Exercise 33**: Binning\n",
    "\n",
    "Bin the petal length (3rd) column of iris to form a text array, such that if petal length is:\n",
    "\n",
    "- Less than 3 --> 'small'\n",
    "- 3-5 --> 'medium'\n",
    "- '>=5 --> 'large'"
   ]
  },
  {
   "cell_type": "code",
   "execution_count": null,
   "id": "155ba2c8-7de4-4903-8126-1ac47600defe",
   "metadata": {},
   "outputs": [],
   "source": [
    "url = 'https://archive.ics.uci.edu/ml/machine-learning-databases/iris/iris.data'\n",
    "iris = np.genfromtxt(url, delimiter=',', dtype='object')\n",
    "names = ('sepallength', 'sepalwidth', 'petallength', 'petalwidth', 'species')\n",
    "\n",
    "# Write your solution here"
   ]
  },
  {
   "cell_type": "markdown",
   "id": "df25da7c-a36e-4f45-81c1-960f9027c0d8",
   "metadata": {},
   "source": [
    "**Exercise 34**: Counts\n",
    "\n",
    "Compute the counts of unique values row-wise."
   ]
  },
  {
   "cell_type": "code",
   "execution_count": null,
   "id": "87ecc073-aaec-4320-be9d-e4156bb32e02",
   "metadata": {},
   "outputs": [],
   "source": [
    "np.random.seed(42)\n",
    "arr = np.random.randint(1,11,size=(6, 10))\n",
    "\n",
    "# Write your solution here"
   ]
  },
  {
   "cell_type": "markdown",
   "id": "2b352108-8faf-40df-868f-08c31172244a",
   "metadata": {},
   "source": [
    "**Exercise 35**: \n",
    "\n",
    "Find the mean of `petalwidth` grouped by `species` in the iris dataset."
   ]
  },
  {
   "cell_type": "code",
   "execution_count": 4,
   "id": "63bb4eeb-f3dc-47ab-af27-d5698d3bfcfa",
   "metadata": {
    "ExecuteTime": {
     "end_time": "2024-03-06T10:16:23.304443Z",
     "start_time": "2024-03-06T10:16:21.837720Z"
    }
   },
   "outputs": [],
   "source": [
    "url = 'https://archive.ics.uci.edu/ml/machine-learning-databases/iris/iris.data'\n",
    "iris = np.genfromtxt(url, delimiter=',', dtype='object')\n",
    "names = ('sepallength', 'sepalwidth', 'petallength', 'petalwidth', 'species')\n",
    "\n",
    "# Write your solution here"
   ]
  },
  {
   "cell_type": "code",
   "outputs": [],
   "source": [],
   "metadata": {
    "collapsed": false
   },
   "id": "aa261a4c459e39fb"
  }
 ],
 "metadata": {
  "kernelspec": {
   "display_name": "Python 3 (ipykernel)",
   "language": "python",
   "name": "python3"
  },
  "language_info": {
   "codemirror_mode": {
    "name": "ipython",
    "version": 3
   },
   "file_extension": ".py",
   "mimetype": "text/x-python",
   "name": "python",
   "nbconvert_exporter": "python",
   "pygments_lexer": "ipython3",
   "version": "3.12.0"
  }
 },
 "nbformat": 4,
 "nbformat_minor": 5
}
