{
 "cells": [
  {
   "cell_type": "markdown",
   "id": "0ed4c4f4-827e-4e5d-92ae-badc0b2fd4e1",
   "metadata": {},
   "source": [
    "# **Computation II** <br/>\n",
    "**Bachelor's Degree Programs in Data Science and Information Systems**<br/>\n",
    "**NOVA IMS**<br/>"
   ]
  },
  {
   "cell_type": "markdown",
   "id": "255db27f-be01-4673-a160-b5130c8beff7",
   "metadata": {},
   "source": [
    "## Week 4: Matplotlib"
   ]
  },
  {
   "cell_type": "markdown",
   "id": "d8828eda-ecd5-4790-b56a-6e02c9cb4548",
   "metadata": {
    "tags": []
   },
   "source": [
    "### Exercise:\n",
    "\n",
    "Based on the grades of individual students and their respective groups:\n",
    "\n",
    "Compute the mean of all grades across the faculty (i.e., across all groups).\n",
    "\n",
    "Identify and display the names of the student groups whose average grade is \n",
    "higher than the overall faculty average."
   ]
  },
  {
   "cell_type": "code",
   "execution_count": 21,
   "id": "5c3ad92c-2c06-4c13-be50-16f8623543f5",
   "metadata": {
    "ExecuteTime": {
     "end_time": "2024-03-15T08:50:46.904093Z",
     "start_time": "2024-03-15T08:50:46.898281Z"
    }
   },
   "outputs": [],
   "source": [
    "import numpy as np"
   ]
  },
  {
   "cell_type": "code",
   "execution_count": 22,
   "id": "2e123acd-87b8-4883-9c73-c6ba7a62e3cd",
   "metadata": {
    "ExecuteTime": {
     "end_time": "2024-03-15T08:50:47.031309Z",
     "start_time": "2024-03-15T08:50:47.023840Z"
    }
   },
   "outputs": [],
   "source": [
    "grades = {\"P1\":np.array([17,19,20,18,18,15]),   \n",
    "          \"P2\":np.array([15,10,20,17,18,12]), \n",
    "          \"P3\":np.array([16,17,18,16,19,20]),\n",
    "          \"P4\":np.array([19,20,20,18,19,18])}"
   ]
  },
  {
   "cell_type": "code",
   "execution_count": 35,
   "id": "09339237-5d50-479a-ad24-3c7172c16c13",
   "metadata": {
    "ExecuteTime": {
     "end_time": "2024-03-15T08:56:11.985651Z",
     "start_time": "2024-03-15T08:56:11.976370Z"
    }
   },
   "outputs": [
    {
     "name": "stdout",
     "output_type": "stream",
     "text": [
      "{'P1': 17.833333333333332, 'P2': 15.333333333333334, 'P3': 17.666666666666668, 'P4': 19.0}\n",
      "P4\n"
     ]
    }
   ],
   "source": [
    "grademean = {}\n",
    "\n",
    "for grade in grades:\n",
    "    grademean[grade] =  grades[grade].mean()\n",
    "    \n",
    "print(grademean)\n",
    "maxgrade = (max(grademean))\n",
    "print(maxgrade)\n"
   ]
  },
  {
   "cell_type": "markdown",
   "id": "62f4105e-63e8-4b31-ab6c-247d6833faa2",
   "metadata": {},
   "source": [
    "# Matplotlib"
   ]
  },
  {
   "cell_type": "code",
   "execution_count": 10,
   "id": "343f76f8-1c00-4662-a9f5-66d5539bea9d",
   "metadata": {
    "ExecuteTime": {
     "end_time": "2024-03-15T08:43:32.955576Z",
     "start_time": "2024-03-15T08:43:31.505810Z"
    }
   },
   "outputs": [],
   "source": [
    "from matplotlib import pyplot as plt"
   ]
  },
  {
   "cell_type": "markdown",
   "id": "a4cc0bb6-b4fc-4dd1-805a-ac4d10f446a6",
   "metadata": {},
   "source": [
    "# Line Plot"
   ]
  },
  {
   "cell_type": "code",
   "execution_count": 16,
   "id": "68963b3f-eafd-4d6b-9fc9-13b61c99cccf",
   "metadata": {
    "ExecuteTime": {
     "end_time": "2024-03-15T08:46:48.921699Z",
     "start_time": "2024-03-15T08:46:48.914986Z"
    }
   },
   "outputs": [],
   "source": [
    "x = [1,2,3]\n",
    "y = [2,8,6]"
   ]
  },
  {
   "cell_type": "markdown",
   "id": "58089964-9197-45db-a866-c3a9b6214a8e",
   "metadata": {},
   "source": [
    "### Exercise:\n",
    "    \n",
    "Can you plot the graph you are seeing on the board right now? (i'm drawing!!)"
   ]
  },
  {
   "cell_type": "code",
   "execution_count": 36,
   "id": "bdc1cf4c-0a8e-4161-8464-dcad443737e9",
   "metadata": {
    "ExecuteTime": {
     "end_time": "2024-03-15T09:17:48.671436Z",
     "start_time": "2024-03-15T09:17:48.144100Z"
    }
   },
   "outputs": [
    {
     "data": {
      "text/plain": "[<matplotlib.lines.Line2D at 0x217a075f050>]"
     },
     "execution_count": 36,
     "metadata": {},
     "output_type": "execute_result"
    },
    {
     "data": {
      "text/plain": "<Figure size 640x480 with 1 Axes>",
      "image/png": "[encoded data removed]"
     },
     "metadata": {},
     "output_type": "display_data"
    }
   ],
   "source": [
    "plt.plot(x, y)"
   ]
  },
  {
   "cell_type": "markdown",
   "id": "c7f3af53-f608-4af5-9ea8-996d8891f7ae",
   "metadata": {},
   "source": [
    "# Bar Plot"
   ]
  },
  {
   "cell_type": "code",
   "execution_count": 38,
   "id": "bc3982c2-721e-4362-babc-a182b5997e8f",
   "metadata": {
    "ExecuteTime": {
     "end_time": "2024-03-15T09:23:02.531133Z",
     "start_time": "2024-03-15T09:23:02.521614Z"
    }
   },
   "outputs": [],
   "source": [
    "places = [\"Lisbon\",\"Caparica\",\"Cascais\",\"Leiria\"]\n",
    "num_of_people = [20,10,5,1]"
   ]
  },
  {
   "cell_type": "code",
   "execution_count": 40,
   "id": "5134b281-2aee-4569-ad61-02e489b6596e",
   "metadata": {
    "ExecuteTime": {
     "end_time": "2024-03-15T09:23:24.523083Z",
     "start_time": "2024-03-15T09:23:24.024515Z"
    }
   },
   "outputs": [
    {
     "data": {
      "text/plain": "<BarContainer object of 4 artists>"
     },
     "execution_count": 40,
     "metadata": {},
     "output_type": "execute_result"
    },
    {
     "data": {
      "text/plain": "<Figure size 500x200 with 1 Axes>",
      "image/png": "[encoded data removed]"
     },
     "metadata": {},
     "output_type": "display_data"
    }
   ],
   "source": [
    "\n",
    "fig, ax = plt.subplots(figsize=(5,2))\n",
    "plt.bar(places, num_of_people)"
   ]
  },
  {
   "cell_type": "markdown",
   "id": "cf8cfb88-4367-4f69-b7df-13554b57a2b4",
   "metadata": {},
   "source": [
    "### Exercise:\n",
    "\n",
    "Given the dictionary below, plot a bar plot of students enrolled in different\n",
    "\n",
    "courses where x-axis is the course names and y-axis is the number of students enrolled.\n",
    "\n",
    "Can you give a label and title to it and change the color to a wonderful, beautiful color? "
   ]
  },
  {
   "cell_type": "code",
   "execution_count": null,
   "id": "8c658be5-441b-41e0-830a-6b6a7281d584",
   "metadata": {},
   "outputs": [],
   "source": [
    "# students enrolled in different courses are given below\n",
    "data = {'Computation II':20, 'Statistics':15, 'Math Analysis':30, 'AI':35}"
   ]
  },
  {
   "cell_type": "code",
   "execution_count": null,
   "id": "623e531a-8cc5-4189-9afa-e20eebbb4f6d",
   "metadata": {},
   "outputs": [],
   "source": []
  },
  {
   "cell_type": "code",
   "outputs": [],
   "source": [],
   "metadata": {
    "collapsed": false
   },
   "id": "c88de425-2c4e-4890-9d6b-803409eb0e66",
   "execution_count": 0
  },
  {
   "cell_type": "markdown",
   "source": [
    "# Histogram"
   ],
   "metadata": {
    "collapsed": false
   },
   "id": "a9e84487-a033-438c-9a12-36e275034ea0"
  },
  {
   "cell_type": "code",
   "outputs": [],
   "source": [
    "# Let's plot the histogram of our numpy array\n",
    "my_data = np.array([22,87,5,43,56,73,55,54,11,20,51,5,79,31,27])"
   ],
   "metadata": {
    "collapsed": false
   },
   "id": "2bde1ba8-3f00-4e35-b033-65cff8c12c14",
   "execution_count": 0
  },
  {
   "cell_type": "code",
   "execution_count": null,
   "id": "f2c5c15f-af63-4805-8476-f638c47427d1",
   "metadata": {},
   "outputs": [],
   "source": []
  },
  {
   "cell_type": "markdown",
   "id": "fb4b3f6c-63a2-413f-83ed-e9577ec07f81",
   "metadata": {},
   "source": [
    "### Exercise:\n",
    "\n",
    "Generate a numpy array containing 20,000 integers ranging from 0 to 100.\n",
    "\n",
    "Visualize the distribution of the array by plotting its histogram. Can you \n",
    "\n",
    "identify any number that appears to be favored by the 'random' function?"
   ]
  },
  {
   "cell_type": "code",
   "execution_count": null,
   "id": "57fe45d9-8336-4526-91fb-90b9c44660e2",
   "metadata": {},
   "outputs": [],
   "source": []
  },
  {
   "cell_type": "markdown",
   "id": "f829a313-59af-4ca3-9b01-0100878421fd",
   "metadata": {},
   "source": [
    "# Scatterplot"
   ]
  },
  {
   "cell_type": "code",
   "execution_count": null,
   "id": "93703507-c50f-4fa7-b173-cba000caae2f",
   "metadata": {},
   "outputs": [],
   "source": [
    "# first data point\n",
    "x = [1, 2, 3, 4]\n",
    "y = [4, 1, 3, 6]\n",
    " \n",
    "# second data point\n",
    "x = [5, 6, 7, 8]\n",
    "y = [1, 3, 5, 2]\n"
   ]
  },
  {
   "cell_type": "code",
   "execution_count": 43,
   "id": "8227d362-582f-42ab-a1ab-4f5a432d5b8a",
   "metadata": {
    "ExecuteTime": {
     "end_time": "2024-03-15T09:43:57.996175Z",
     "start_time": "2024-03-15T09:43:57.703833Z"
    }
   },
   "outputs": [
    {
     "data": {
      "text/plain": "<matplotlib.collections.PathCollection at 0x217a2b7a210>"
     },
     "execution_count": 43,
     "metadata": {},
     "output_type": "execute_result"
    },
    {
     "data": {
      "text/plain": "<Figure size 640x480 with 1 Axes>",
      "image/png": "[encoded data removed]"
     },
     "metadata": {},
     "output_type": "display_data"
    }
   ],
   "source": [
    "plt.scatter(x,y,color = \"y\")"
   ]
  },
  {
   "cell_type": "markdown",
   "id": "dde7d404-7414-481b-af23-ee2d5fb38917",
   "metadata": {},
   "source": [
    "## Exercise:\n",
    "\n",
    "The given data represent the age of users and the average age of their preferred partners on a dating app. \n",
    "\n",
    "Plot a scatter plot to visualize this information by using different colors based on gender. \n"
   ]
  },
  {
   "cell_type": "code",
   "execution_count": null,
   "id": "f85a11e3-78f9-4a65-8784-b11350306d14",
   "metadata": {},
   "outputs": [],
   "source": [
    "men_age = np.arange(20,51)\n",
    "men_preference = np.array([20,20,21,21,21,21,22,21,20,20,20,20,20,20,20,20,20,22,20,20,21,21,20,23,21,24,20,20,23,20,22])\n",
    "\n",
    "women_age = np.arange(20,51)\n",
    "women_preference = np.array([23,23,24,25,25,26,27,28,29,29,30,31,31,32,32,34,35,36,37,38,38,38,39,39,39,40,38,39,40,45,46])"
   ]
  },
  {
   "cell_type": "code",
   "execution_count": null,
   "id": "bdf9f651-90aa-4fd1-97fc-fec5fb4c293c",
   "metadata": {},
   "outputs": [],
   "source": []
  },
  {
   "cell_type": "markdown",
   "id": "d3eb5316-b242-4c9b-9159-84f7eb5be8f2",
   "metadata": {},
   "source": [
    "## Exercise \n",
    "\n",
    "Can you visualize the information given below with a suitable chart?\n",
    "\n",
    "\" Looking at the top 10 best selling cars in Portugal in January 2023, the Peugeot 2008 maintains \n",
    "\n",
    "1st position in the rankings with 464 new sales. In 2nd ranks the Renault Clio with 453 sales, followed by the \n",
    "\n",
    "Fiat 500 at 447 and the Opel corsa in 4th with 397 sales. The Mercedes A Class rises into 5th, reporting 370 sales.\"\n"
   ]
  },
  {
   "cell_type": "code",
   "execution_count": null,
   "id": "8024be66-11ac-4238-8114-f2122c2142b8",
   "metadata": {},
   "outputs": [],
   "source": []
  },
  {
   "cell_type": "markdown",
   "id": "fee20081-53a1-4b8b-aa61-40dcab723f21",
   "metadata": {},
   "source": [
    "## Exercise\n",
    "\n",
    "Create a program that prompts the user to input a custom equation (e.g. x*2+6), \n",
    "\n",
    "along with the lower and upper bounds of the x-axis (excluding the upper bound) (e.g. 1 and 11)\n",
    "\n",
    "The program should then generate a graph of the equation based on the user's input. (e.g. y=x*2+6)\n",
    "\n",
    "We will trust that the user is giving us everything in correct format <3 \n"
   ]
  },
  {
   "cell_type": "code",
   "execution_count": null,
   "id": "d957187c-f4ac-4197-8ffb-28ffce026ee4",
   "metadata": {},
   "outputs": [],
   "source": []
  },
  {
   "cell_type": "markdown",
   "id": "0c0ebfc7-4142-40b5-91c9-6211427a6eef",
   "metadata": {},
   "source": [
    "## Exercise:\n",
    "\n",
    "The given dictionary contains data on the employees of a company, where the keys represent the employees' anonym names and the values are lists \n",
    "\n",
    "comprising of [years of experience, salary, gender]\n",
    "\n",
    "- Create a scatter plot using years of experience as the x-axis and salary as the y-axis. Is there any correlation?\n",
    "\n",
    "- Next, generate another scatter plot with the same x and y axes, but this time, use different colors for data points based on gender.\n",
    "\n",
    "What conclusions can be drawn regarding the salary policy of this company based on the above scatter plots?"
   ]
  },
  {
   "cell_type": "code",
   "execution_count": null,
   "id": "3eba13bb-ec57-45bb-982c-5dd9c640b6dc",
   "metadata": {},
   "outputs": [],
   "source": [
    "employees = {\"p1\":[1,1300,\"M\"],\"p2\":[1,1400,\"M\"],\"p3\":[3,1500,\"M\"],\"p4\":[4,1600,\"M\"],\"p5\":[4,1600,\"M\"],\n",
    "             \"p6\":[5,1700,\"M\"],\"p7\":[6,1900,\"M\"],\"p8\":[7,2000,\"M\"],\"p9\":[7,2500,\"M\"],\"p10\":[8,2700,\"M\"],\n",
    "             \"p11\":[1,1200,\"F\"],\"p12\":[2,1250,\"F\"],\"p13\":[2,1500,\"F\"],\"p14\":[3,1400,\"F\"],\"p15\":[5,1450,\"F\"],\n",
    "             \"p16\":[5,1550,\"F\"],\"p17\":[6,1800,\"F\"],\"p18\":[7,1900,\"F\"],\"p19\":[8,2300,\"F\"],\"p20\":[8,2500,\"F\"]}"
   ]
  }
 ],
 "metadata": {
  "kernelspec": {
   "display_name": "Python 3 (ipykernel)",
   "language": "python",
   "name": "python3"
  },
  "language_info": {
   "codemirror_mode": {
    "name": "ipython",
    "version": 3
   },
   "file_extension": ".py",
   "mimetype": "text/x-python",
   "name": "python",
   "nbconvert_exporter": "python",
   "pygments_lexer": "ipython3",
   "version": "3.12.0"
  }
 },
 "nbformat": 4,
 "nbformat_minor": 5
}
