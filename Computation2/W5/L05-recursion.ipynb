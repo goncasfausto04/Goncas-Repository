{
 "cells": [
  {
   "cell_type": "markdown",
   "id": "d1530648-ce8e-44a7-8763-20051ccb330d",
   "metadata": {},
   "source": [
    "# **Computação II** <br/>\n",
    "**Bachelor's Degree Programs in Data Science and Information Systems**<br/>\n",
    "**NOVA IMS**<br/>\n",
    "\n",
    "**NOTE:** Some of these contents were adapted from Prof. Dr. Illya Bakurov's class materials.\n",
    "\n",
    "## References\n",
    "1. Data Structures and Algorithms with Python, by Kent D. Lee and Steve Hubbard Springer (2015)"
   ]
  },
  {
   "cell_type": "markdown",
   "id": "7a8fd743-f489-4dd3-9242-080c41849f08",
   "metadata": {},
   "source": [
    "# 1. Sum of the first $N$ natural numbers"
   ]
  },
  {
   "cell_type": "markdown",
   "id": "3d8ff67f-174d-4652-947c-e32bff55e37d",
   "metadata": {},
   "source": [
    "For any positive natural number $N$, the sum of the first $N$ natural numbers is: \n",
    "\n",
    "$$\\sum_{i=1}^{N}i$$"
   ]
  },
  {
   "cell_type": "markdown",
   "id": "74321eb7-d4a1-4d6c-8fad-707c74bf5238",
   "metadata": {},
   "source": [
    "## 1.1. Closed form"
   ]
  },
  {
   "cell_type": "markdown",
   "id": "a189543e-263c-45bf-a2bd-4fb5ff1063c9",
   "metadata": {},
   "source": [
    "Defines a function to compute the sum of the first $N$ natural numbers using a closed form. "
   ]
  },
  {
   "cell_type": "code",
   "execution_count": 64,
   "id": "6b263031-7a13-41f6-8925-476be489a761",
   "metadata": {},
   "outputs": [],
   "source": [
    "def sum_first_closed(n):\n",
    "    result = (n*(n+1))/2\n",
    "    return result"
   ]
  },
  {
   "cell_type": "markdown",
   "id": "50d5f055-7630-4f0f-a619-2691f6680361",
   "metadata": {},
   "source": [
    "Tests the code."
   ]
  },
  {
   "cell_type": "code",
   "execution_count": 65,
   "id": "4f568d64-609f-44d8-89c8-f02fa1189c83",
   "metadata": {},
   "outputs": [
    {
     "data": {
      "text/plain": [
       "15.0"
      ]
     },
     "execution_count": 65,
     "metadata": {},
     "output_type": "execute_result"
    }
   ],
   "source": [
    "n = 5\n",
    "sum_first_closed(n)"
   ]
  },
  {
   "cell_type": "markdown",
   "id": "898834d3-0efb-45fc-be90-bf8069c4cfc2",
   "metadata": {},
   "source": [
    "## 1.2. ``for`` loop"
   ]
  },
  {
   "cell_type": "markdown",
   "id": "8fb1c503-cf0a-430b-8dd0-8b6d5b666e3e",
   "metadata": {},
   "source": [
    "Defines a function to compute the sum of the first $N$ natural numbers using a ``for`` loop."
   ]
  },
  {
   "cell_type": "code",
   "execution_count": 66,
   "id": "36ebd2d7-b38a-43ed-96c6-c6f36c3e235a",
   "metadata": {},
   "outputs": [],
   "source": [
    "def sum_first_for(n):    \n",
    "    result = 0\n",
    "    for i in range(1, n + 1):\n",
    "        result += i\n",
    "    return result"
   ]
  },
  {
   "cell_type": "markdown",
   "id": "8f24a1d4-c2a5-4440-90e8-9ff649c7f8a5",
   "metadata": {},
   "source": [
    "Tests the code."
   ]
  },
  {
   "cell_type": "code",
   "execution_count": 67,
   "id": "0e221c15-73b2-4615-b0e9-f04a9c83361c",
   "metadata": {},
   "outputs": [
    {
     "data": {
      "text/plain": [
       "15"
      ]
     },
     "execution_count": 67,
     "metadata": {},
     "output_type": "execute_result"
    }
   ],
   "source": [
    "n = 5\n",
    "sum_first_for(n)"
   ]
  },
  {
   "cell_type": "markdown",
   "id": "a33720e0-d632-4182-8eda-1a7ba7fc5258",
   "metadata": {},
   "source": [
    "## 1.3. Recursion\n",
    "Define the recursive algorithm $\\sum_{i=1}^{N}i$:\n",
    "1. base case: if $N$ equals 1, then the result is equal to 1\n",
    "2. recursive case: the result equals $N + \\sum_{i=1}^{N-1}i$\n",
    "\n",
    "Note that the recursive case does not need to be in an ``else`` branch when all base cases result in a ``return``."
   ]
  },
  {
   "cell_type": "code",
   "execution_count": 68,
   "id": "7f2b889b-9377-4de4-ad53-257622c8e96c",
   "metadata": {},
   "outputs": [],
   "source": [
    "def sum_first_recursion(n):\n",
    "    if n==1:\n",
    "        return 1\n",
    "    \n",
    "    return n + sum_first_recursion(n-1)"
   ]
  },
  {
   "cell_type": "markdown",
   "id": "19348f15-16e5-48d6-ab46-9bcbde4e3f20",
   "metadata": {},
   "source": [
    "Tests the code."
   ]
  },
  {
   "cell_type": "code",
   "execution_count": 69,
   "id": "d513dffb-f236-4f62-8c67-173b7b910b22",
   "metadata": {},
   "outputs": [
    {
     "name": "stdout",
     "output_type": "stream",
     "text": [
      "Sum up to 5 using for loop: 15\n",
      "Sum up to 5 using closed form: 15.0\n",
      "Sum up to 5 using recursion: 15\n",
      "\n",
      "Sum up to 6 using for loop: 21\n",
      "Sum up to 6 using closed form: 21.0\n",
      "Sum up to 6 using recursion: 21\n",
      "\n",
      "Sum up to 7 using for loop: 28\n",
      "Sum up to 7 using closed form: 28.0\n",
      "Sum up to 7 using recursion: 28\n",
      "\n",
      "Sum up to 8 using for loop: 36\n",
      "Sum up to 8 using closed form: 36.0\n",
      "Sum up to 8 using recursion: 36\n",
      "\n",
      "Sum up to 9 using for loop: 45\n",
      "Sum up to 9 using closed form: 45.0\n",
      "Sum up to 9 using recursion: 45\n"
     ]
    }
   ],
   "source": [
    "for n in range(5, 10):\n",
    "    print(\"Sum up to {} using for loop: {}\".format(n, sum_first_for(n)))\n",
    "    print(\"Sum up to {} using closed form: {}\".format(n, sum_first_closed(n)))\n",
    "    print(\"Sum up to {} using recursion: {}\".format(n, sum_first_recursion(n)), end=\"\\n\\n\")"
   ]
  },
  {
   "cell_type": "markdown",
   "id": "62070e6d-bc54-441d-967f-7c4a882efa11",
   "metadata": {},
   "source": [
    "## HOMEWORK\n",
    "Repeat the exercise using $\\sum_{i=1}^{N}2^i$"
   ]
  },
  {
   "cell_type": "markdown",
   "id": "53455aab-5556-425b-adaf-1db1a4026320",
   "metadata": {
    "tags": []
   },
   "source": [
    "# 2 Factorial\n",
    "The factorial of any positive natural number $N$ is: \n",
    "\n",
    "$$n! = n * (n-1) * (n-2) * (n-2) * (n-3) *\\ ... *\\ 1$$"
   ]
  },
  {
   "cell_type": "markdown",
   "id": "7aec010e-e6f8-4d59-8e00-87afdaa5be26",
   "metadata": {},
   "source": [
    "## 2.1. ``for`` loop"
   ]
  },
  {
   "cell_type": "markdown",
   "id": "ce04a349-e95f-4f42-9b1b-6c00b9815f59",
   "metadata": {},
   "source": [
    "Defines a function to compute the factorial of $N$ using a ``for`` loop."
   ]
  },
  {
   "cell_type": "code",
   "execution_count": 83,
   "id": "22aa06e7-8ac8-446a-9ed7-4959950b7cb2",
   "metadata": {},
   "outputs": [],
   "source": [
    "def factorial_for(n):    \n",
    "    result = n\n",
    "    for i in range(n-1, 1, -1):\n",
    "        result *= i\n",
    "    return result"
   ]
  },
  {
   "cell_type": "markdown",
   "id": "5d5211e1-eba9-4ff9-9658-9c1d274977c3",
   "metadata": {},
   "source": [
    "Test code."
   ]
  },
  {
   "cell_type": "code",
   "execution_count": 84,
   "id": "7a91d5cc-23d4-4962-a97d-6a5a1821c8ef",
   "metadata": {},
   "outputs": [
    {
     "data": {
      "text/plain": [
       "720"
      ]
     },
     "execution_count": 84,
     "metadata": {},
     "output_type": "execute_result"
    }
   ],
   "source": [
    "n=6\n",
    "factorial_for(6)"
   ]
  },
  {
   "cell_type": "markdown",
   "id": "318f14be-8877-4264-982c-3a00ad233933",
   "metadata": {},
   "source": [
    "## 2.2. Recursion\n",
    "Define the recursive algorithm $\\sum_{i=1}^{N}i$:\n",
    "1. base case: if $N$ equals 1, then the result is equal to 1 \n",
    "2. recursive case: the result equals $N * (N-1)!$\n",
    "\n",
    "Note that the recursive case does not need to be in an ``else`` branch when all base cases result in a ``return``."
   ]
  },
  {
   "cell_type": "code",
   "execution_count": 1,
   "id": "6c1a03d0-b455-4c86-ad1b-372275101b30",
   "metadata": {
    "ExecuteTime": {
     "end_time": "2024-04-01T10:16:41.490186Z",
     "start_time": "2024-04-01T10:16:41.468637Z"
    }
   },
   "outputs": [],
   "source": [
    "def factorial_recursion(n):    \n",
    "    if n==1:\n",
    "        return 1\n",
    "    elif n==2:\n",
    "        return 2  \n",
    "    \n",
    "    return n*factorial_recursion(n-1)"
   ]
  },
  {
   "cell_type": "markdown",
   "id": "4645f22e-d03c-4cc1-b1fd-217338869386",
   "metadata": {},
   "source": [
    "Tests the code."
   ]
  },
  {
   "cell_type": "code",
   "execution_count": 2,
   "id": "321d8bcb-9066-44c4-acb5-b0ae19cfe2b9",
   "metadata": {
    "ExecuteTime": {
     "end_time": "2024-04-01T10:16:41.522457Z",
     "start_time": "2024-04-01T10:16:41.496212Z"
    }
   },
   "outputs": [
    {
     "data": {
      "text/plain": "720"
     },
     "execution_count": 2,
     "metadata": {},
     "output_type": "execute_result"
    }
   ],
   "source": [
    "n=6\n",
    "factorial_recursion(n)"
   ]
  },
  {
   "cell_type": "markdown",
   "id": "20f881a1-124e-4c93-912a-51d1b38f3e66",
   "metadata": {},
   "source": [
    "# 3. Towers of Hanoi\n",
    "The *towers of Hanoi* puzzle begins with three poles and $n$ rings, where all rings start on the leftmost pole (labeled pole $A$). The rings each have a different size, and are stacked in order of decreasing size with the largest ring at the bottom. The problem is to move the rings from the leftmost pole to the rightmost pole (labeled Pole $C$) in a series of steps. At each step the top ring on some pole is moved to another pole. There is one limitation on where rings may be moved: **a ring can never be moved on top of a smaller ring.**\n",
    "\n",
    "<center>\n",
    "<img src=\"https://craftofcoding.files.wordpress.com/2020/06/towershanoialg.jpg\" width=400/></center>"
   ]
  },
  {
   "cell_type": "code",
   "execution_count": null,
   "id": "3c6c364b-23e5-4355-b02c-854666e287e5",
   "metadata": {},
   "outputs": [],
   "source": []
  },
  {
   "cell_type": "markdown",
   "id": "2561fa4b-8f5f-4a91-9f8c-baa3804e633d",
   "metadata": {},
   "source": [
    "Tests the code."
   ]
  },
  {
   "cell_type": "code",
   "execution_count": null,
   "id": "43360fb6-58fa-4b7b-af62-ba257e223772",
   "metadata": {},
   "outputs": [],
   "source": []
  }
 ],
 "metadata": {
  "kernelspec": {
   "display_name": "Python 3 (ipykernel)",
   "language": "python",
   "name": "python3"
  },
  "language_info": {
   "codemirror_mode": {
    "name": "ipython",
    "version": 3
   },
   "file_extension": ".py",
   "mimetype": "text/x-python",
   "name": "python",
   "nbconvert_exporter": "python",
   "pygments_lexer": "ipython3",
   "version": "3.12.0"
  }
 },
 "nbformat": 4,
 "nbformat_minor": 5
}
