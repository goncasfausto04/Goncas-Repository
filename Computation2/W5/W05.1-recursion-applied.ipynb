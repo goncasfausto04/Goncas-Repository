{
 "cells": [
  {
   "cell_type": "markdown",
   "id": "62b45b3f-b575-4a6c-8bb0-f262be3eefe8",
   "metadata": {},
   "source": [
    "# **Computation II** <br/>\n",
    "**Bachelor's Degree Programs in Data Science and Information Systems**<br/>\n",
    "**NOVA IMS**<br/>"
   ]
  },
  {
   "cell_type": "markdown",
   "id": "ebb98668-7aa1-4dc6-9a06-f42cea38c5aa",
   "metadata": {},
   "source": [
    "## Week 5: Recursion"
   ]
  },
  {
   "cell_type": "markdown",
   "id": "6d6624b5-f410-480f-8a2c-ac6dc21f0aa3",
   "metadata": {},
   "source": [
    "Why? - Design solutions to problems by divide and conquer: reduce a problem to simpler versions of the same problem.\n",
    "What does it mean for us? - A function calls itself."
   ]
  },
  {
   "cell_type": "markdown",
   "id": "f64719a4-8036-4a3a-92e7-b1c0484e63b6",
   "metadata": {},
   "source": [
    "base case + recursive step"
   ]
  },
  {
   "cell_type": "markdown",
   "id": "f00d81a0-7615-47b9-a7b6-dec5fdfb5ce9",
   "metadata": {},
   "source": [
    "## Multiplication"
   ]
  },
  {
   "cell_type": "markdown",
   "id": "ca8bb968-f7cb-4dae-a214-70dea1d7499b",
   "metadata": {},
   "source": [
    "- Create a function that takes a and b as inputs and returns the multiplication of these numbers.\n",
    "\n",
    "You are not allowed to use multiplication operation ( * ). \n",
    "\n",
    "ITERATIVE METHOD"
   ]
  },
  {
   "cell_type": "code",
   "execution_count": 12,
   "id": "05f34924-567c-465c-aafe-7aec7fa8345c",
   "metadata": {
    "ExecuteTime": {
     "end_time": "2024-03-20T10:30:42.248584Z",
     "start_time": "2024-03-20T10:30:42.241631Z"
    }
   },
   "outputs": [],
   "source": [
    "def multiply(a,b):\n",
    "    result = 0\n",
    "    for i in range(b):\n",
    "        result += a\n",
    "    return result\n",
    "        "
   ]
  },
  {
   "cell_type": "code",
   "outputs": [
    {
     "name": "stdout",
     "output_type": "stream",
     "text": [
      "(10, 20) 200\n",
      "(2, 1) 2\n",
      "(3, 4) 12\n"
     ]
    }
   ],
   "source": [
    "listtest = [(10,20),(2,1),(3,4)]\n",
    "\n",
    "for i in listtest:\n",
    "    print(i, multiply(i[0],i[1]))"
   ],
   "metadata": {
    "collapsed": false,
    "ExecuteTime": {
     "end_time": "2024-03-20T10:30:42.416958Z",
     "start_time": "2024-03-20T10:30:42.408238Z"
    }
   },
   "id": "507b180874dea3ec",
   "execution_count": 13
  },
  {
   "cell_type": "markdown",
   "id": "a9771a5d-7b56-4989-a628-bf11fd3d5fce",
   "metadata": {},
   "source": [
    "RECURSION\n",
    "\n",
    "base case + recursive step\n",
    "        \n",
    "       a + a * (b-1)"
   ]
  },
  {
   "cell_type": "code",
   "execution_count": 25,
   "id": "9ad828b8-f712-4000-bd6b-5a7795d9cc55",
   "metadata": {
    "ExecuteTime": {
     "end_time": "2024-03-20T10:51:22.409105Z",
     "start_time": "2024-03-20T10:51:22.398900Z"
    }
   },
   "outputs": [
    {
     "name": "stdout",
     "output_type": "stream",
     "text": [
      "(10, 20) : 200\n",
      "(2, 1) : 2\n",
      "(3, 4) : 12\n"
     ]
    }
   ],
   "source": [
    "\"\"\"\n",
    "This function, recursive_multiply, takes two integers, 'a' and 'b', as input parameters.\n",
    "It computes the product of 'a' and 'b' recursively using addition.\n",
    "\n",
    "Parameters:\n",
    "    a (int): The first operand.\n",
    "    b (int): The second operand.\n",
    "\n",
    "Returns:\n",
    "    int: The product of 'a' and 'b'.\n",
    "\n",
    "The function first checks if 'b' is equal to 1, in which case it returns 'a'.\n",
    "If 'b' is not 1, the function recursively calls itself with 'a' and 'b-1' and adds 'a' to the result.\n",
    "This process repeats until 'b' becomes 1.\n",
    "\n",
    "Example:\n",
    "    recursive_multiply(10, 5) returns 50 since 10 * 5 = 50.\n",
    "\"\"\"\n",
    "\n",
    "def recursive_multiply(a,b):\n",
    "    if b == 1:\n",
    "        return a\n",
    "    else:\n",
    "        return a + recursive_multiply(a,b-1)\n",
    "    \n",
    "\n",
    "listtest = [(10,20),(2,1),(3,4)]\n",
    "\n",
    "for i in listtest:\n",
    "    print(i,\":\", recursive_multiply(i[0],i[1]))\n",
    "    "
   ]
  },
  {
   "cell_type": "markdown",
   "source": [],
   "metadata": {
    "collapsed": false
   },
   "id": "494a4d841f082fd6"
  },
  {
   "cell_type": "markdown",
   "id": "9e07c0f8-3d65-446e-9d60-a6cb3ec0f319",
   "metadata": {},
   "source": [
    "## Countdown"
   ]
  },
  {
   "cell_type": "markdown",
   "id": "4e067a4c-f3ae-44e4-a91c-7da082e86466",
   "metadata": {},
   "source": [
    "- Define a function that takes n as input and prints a countdown from that number to 0. (both included)\n",
    "\n",
    "ITERATIVE METHOD"
   ]
  },
  {
   "cell_type": "code",
   "execution_count": 67,
   "id": "0a244822-72ce-4f0f-9067-b76cf851c7d2",
   "metadata": {
    "ExecuteTime": {
     "end_time": "2024-03-20T11:12:20.438697Z",
     "start_time": "2024-03-20T11:12:20.431622Z"
    }
   },
   "outputs": [],
   "source": [
    "def count_iterative(a):\n",
    "    for i in range(a+1):\n",
    "        print(a)\n",
    "        a -= 1"
   ]
  },
  {
   "cell_type": "code",
   "outputs": [
    {
     "name": "stdout",
     "output_type": "stream",
     "text": [
      "5\n",
      "4\n",
      "3\n",
      "2\n",
      "1\n",
      "0\n"
     ]
    }
   ],
   "source": [
    "count_iterative(5)"
   ],
   "metadata": {
    "collapsed": false,
    "ExecuteTime": {
     "end_time": "2024-03-20T11:12:20.579021Z",
     "start_time": "2024-03-20T11:12:20.572351Z"
    }
   },
   "id": "fabbaad36e734612",
   "execution_count": 68
  },
  {
   "cell_type": "markdown",
   "id": "cc0ec2ba-63d1-43ae-9ef4-a8bf26c94f20",
   "metadata": {},
   "source": [
    "RECURSION"
   ]
  },
  {
   "cell_type": "code",
   "execution_count": 66,
   "id": "7784805b-8131-4783-bf0c-411737e9fdb7",
   "metadata": {
    "ExecuteTime": {
     "end_time": "2024-03-20T11:12:04.871869Z",
     "start_time": "2024-03-20T11:12:04.862452Z"
    }
   },
   "outputs": [
    {
     "name": "stdout",
     "output_type": "stream",
     "text": [
      "5\n",
      "4\n",
      "3\n",
      "2\n",
      "1\n",
      "0\n",
      "None\n"
     ]
    }
   ],
   "source": [
    "def count_recursive(a):\n",
    "    print(a)\n",
    "    if a == 0:\n",
    "        return\n",
    "    else:\n",
    "        return count_recursive(a-1)\n",
    "        \n",
    "print(count_recursive(5))\n",
    "        \n",
    "    "
   ]
  },
  {
   "cell_type": "markdown",
   "id": "b482fe88-de40-42a0-be01-8dc3c0b68a5a",
   "metadata": {},
   "source": [
    "## Summation"
   ]
  },
  {
   "cell_type": "markdown",
   "id": "8bf6bd1c-bdf8-4f3a-9855-37109b717af1",
   "metadata": {},
   "source": [
    "- Define a function that returns the sum of all POSITIVE integers from 1 to n (included).\n",
    "\n",
    "ITERATION\n"
   ]
  },
  {
   "cell_type": "code",
   "outputs": [],
   "source": [
    "def sum_iterative(n):\n",
    "    sum = 0\n",
    "    for i in range(1,n+1):\n",
    "        sum += i\n",
    "    return sum\n",
    "        "
   ],
   "metadata": {
    "collapsed": false,
    "ExecuteTime": {
     "end_time": "2024-03-20T11:16:18.560254Z",
     "start_time": "2024-03-20T11:16:18.553802Z"
    }
   },
   "id": "5dba809a1666e460",
   "execution_count": 71
  },
  {
   "cell_type": "code",
   "execution_count": 72,
   "id": "dff222c6-0c42-4bcb-87af-4d30360e9b41",
   "metadata": {
    "ExecuteTime": {
     "end_time": "2024-03-20T11:16:18.682748Z",
     "start_time": "2024-03-20T11:16:18.673803Z"
    }
   },
   "outputs": [
    {
     "data": {
      "text/plain": "28"
     },
     "execution_count": 72,
     "metadata": {},
     "output_type": "execute_result"
    }
   ],
   "source": [
    "sum_iterative(7)"
   ]
  },
  {
   "cell_type": "markdown",
   "id": "a7bbe0ca-e274-4206-b00a-38261d4ad887",
   "metadata": {},
   "source": [
    "RECURSION"
   ]
  },
  {
   "cell_type": "code",
   "execution_count": 3,
   "id": "7f8c9335-19ee-4115-8aa1-b0901a943e2f",
   "metadata": {
    "ExecuteTime": {
     "end_time": "2024-03-22T08:41:05.375647Z",
     "start_time": "2024-03-22T08:41:05.369719Z"
    }
   },
   "outputs": [
    {
     "data": {
      "text/plain": "28"
     },
     "execution_count": 3,
     "metadata": {},
     "output_type": "execute_result"
    }
   ],
   "source": [
    "def  sum_recursive(n):\n",
    "    if n == 0:\n",
    "        return 0\n",
    "    else:\n",
    "        return n + sum_recursive(n-1)\n",
    "    \n",
    "sum_recursive(7)"
   ]
  },
  {
   "cell_type": "markdown",
   "id": "bea8285f-f062-437e-8d29-8a87ae1d55f5",
   "metadata": {},
   "source": [
    "## Factorial"
   ]
  },
  {
   "cell_type": "markdown",
   "id": "bb2cc9f5-5797-499a-9329-2e309e2dd90f",
   "metadata": {},
   "source": [
    "- Define a function that returns the factorial of a given number"
   ]
  },
  {
   "cell_type": "markdown",
   "id": "c3da6957-ffad-4fe2-a3c1-f314b458dbf0",
   "metadata": {},
   "source": [
    "ITERATION"
   ]
  },
  {
   "cell_type": "code",
   "execution_count": 17,
   "id": "c59b8e42-1d16-4085-8efb-8a6472c93322",
   "metadata": {
    "ExecuteTime": {
     "end_time": "2024-03-22T08:59:11.258069Z",
     "start_time": "2024-03-22T08:59:11.252118Z"
    }
   },
   "outputs": [
    {
     "data": {
      "text/plain": "24"
     },
     "execution_count": 17,
     "metadata": {},
     "output_type": "execute_result"
    }
   ],
   "source": [
    "def factorial_iterative(n):\n",
    "    result = 1\n",
    "    for i in range(1, n+1):\n",
    "        result = result * i\n",
    "    return result\n",
    "\n",
    "factorial_iterative(4)\n",
    "    "
   ]
  },
  {
   "cell_type": "markdown",
   "id": "ae490462-7f8b-448a-a16d-3a2be2987e74",
   "metadata": {},
   "source": [
    "RECURSION"
   ]
  },
  {
   "cell_type": "code",
   "execution_count": 20,
   "id": "1f7e2965-b55d-43b9-9ca0-4704f3c13667",
   "metadata": {
    "ExecuteTime": {
     "end_time": "2024-03-22T09:00:47.559263Z",
     "start_time": "2024-03-22T09:00:47.552693Z"
    }
   },
   "outputs": [
    {
     "data": {
      "text/plain": "40320"
     },
     "execution_count": 20,
     "metadata": {},
     "output_type": "execute_result"
    }
   ],
   "source": [
    "def factorial_recursive(n):\n",
    "    if n == 1:\n",
    "        return 1\n",
    "    else:\n",
    "        return n * factorial_recursive(n-1)\n",
    "    \n",
    "factorial_recursive(8)"
   ]
  },
  {
   "cell_type": "markdown",
   "id": "0e7556f7-2407-475a-a5ae-0ac33a4a66d1",
   "metadata": {},
   "source": [
    "How do I know when the recursion will end?"
   ]
  },
  {
   "cell_type": "markdown",
   "id": "65847a6e-6a3a-4f15-b06a-4b6999d3ec4a",
   "metadata": {},
   "source": [
    "## Sum of a List "
   ]
  },
  {
   "cell_type": "markdown",
   "id": "099c9d1e-9461-4677-a7fe-3b244ea398d5",
   "metadata": {},
   "source": [
    "- Define a recursive function that returns the sum of all the integers in a list."
   ]
  },
  {
   "cell_type": "markdown",
   "id": "53551fe7-55a4-47e7-aaab-667a193b3f0b",
   "metadata": {},
   "source": [
    "ITERATION"
   ]
  },
  {
   "cell_type": "code",
   "execution_count": null,
   "id": "55e280b5-6d33-48af-98ca-ef7db442a36f",
   "metadata": {},
   "outputs": [],
   "source": []
  },
  {
   "cell_type": "markdown",
   "id": "3f378fc1-f74d-4cc3-811c-72cdbded8e03",
   "metadata": {},
   "source": [
    "RECURSION"
   ]
  },
  {
   "cell_type": "code",
   "execution_count": 29,
   "id": "36d946e8-d9e5-4680-bb68-26ecd8b4005f",
   "metadata": {
    "ExecuteTime": {
     "end_time": "2024-03-22T09:13:31.788609Z",
     "start_time": "2024-03-22T09:13:31.781343Z"
    }
   },
   "outputs": [
    {
     "data": {
      "text/plain": "15"
     },
     "execution_count": 29,
     "metadata": {},
     "output_type": "execute_result"
    }
   ],
   "source": [
    "list = [1,2,3,4,5]\n",
    "\n",
    "def sum_recursivel(n):\n",
    "    if len(n) == 1:\n",
    "        return n[0]\n",
    "    else:\n",
    "        return n[0] + sum_recursivel(n[1::])\n",
    "    \n",
    "sum_recursivel(list)"
   ]
  },
  {
   "cell_type": "markdown",
   "id": "f8978e4b-608c-4c1f-a41b-c793d8b88ffc",
   "metadata": {},
   "source": [
    "## Tower of Hanoi"
   ]
  },
  {
   "cell_type": "markdown",
   "id": "49b4c1d2-4e70-431c-a96f-a2d3179a1f16",
   "metadata": {},
   "source": [
    "- Let's investigate the problem again."
   ]
  },
  {
   "cell_type": "code",
   "execution_count": null,
   "id": "9474ddd3-9345-4bf2-a812-c81bd783a018",
   "metadata": {},
   "outputs": [],
   "source": []
  },
  {
   "cell_type": "code",
   "execution_count": null,
   "id": "025acbe6-2cb6-4c0c-a939-b03344d62f1a",
   "metadata": {},
   "outputs": [],
   "source": []
  },
  {
   "cell_type": "code",
   "execution_count": null,
   "id": "53aff45f-7835-4911-a30c-b3b7927705b5",
   "metadata": {},
   "outputs": [],
   "source": []
  },
  {
   "cell_type": "markdown",
   "id": "b52e41b6-acc9-4681-961b-7494aebb65ef",
   "metadata": {},
   "source": [
    "A visual explanation on the recursive algorithms on Towers of Hanoi: https://www.youtube.com/watch?v=rf6uf3jNjbo"
   ]
  },
  {
   "cell_type": "markdown",
   "id": "22c125e4-9a7e-4af3-95c5-35a32febcb88",
   "metadata": {},
   "source": [
    "To play Towers of Hanoi: https://www.mathsisfun.com/games/towerofhanoi.html"
   ]
  },
  {
   "cell_type": "markdown",
   "id": "088a99e6-6e7d-4fb5-a44b-140b850ff916",
   "metadata": {},
   "source": [
    "## Fibonacci"
   ]
  },
  {
   "cell_type": "markdown",
   "id": "dc12ee47-ffea-431f-b265-874c4bcd0f5a",
   "metadata": {},
   "source": [
    "- Create a function to return the xth Fibonacci number with a given x with RECURSION."
   ]
  },
  {
   "cell_type": "code",
   "execution_count": 34,
   "id": "65aecc27-43c6-4ef4-834e-6ea102de643b",
   "metadata": {
    "ExecuteTime": {
     "end_time": "2024-03-22T09:29:53.265072Z",
     "start_time": "2024-03-22T09:29:53.258863Z"
    }
   },
   "outputs": [
    {
     "data": {
      "text/plain": "13"
     },
     "execution_count": 34,
     "metadata": {},
     "output_type": "execute_result"
    }
   ],
   "source": [
    "def fibon(n):\n",
    "    if n ==1 or n == 2:\n",
    "        return 1\n",
    "    else:\n",
    "        return fibon(n-1) + fibon(n-2)\n",
    "    \n",
    "fibon(7)\n"
   ]
  },
  {
   "cell_type": "markdown",
   "id": "1a308a13-f2d8-4795-835c-508f99331eb5",
   "metadata": {},
   "source": [
    "- How about we mix dictionaries with recursive functions?"
   ]
  },
  {
   "cell_type": "code",
   "execution_count": null,
   "id": "c2b96602-a7ba-41e6-81cc-ac18abb4fddd",
   "metadata": {},
   "outputs": [],
   "source": []
  },
  {
   "cell_type": "code",
   "execution_count": null,
   "id": "94d3bde9-2681-4949-9f4e-b68106f047ee",
   "metadata": {},
   "outputs": [],
   "source": []
  },
  {
   "cell_type": "code",
   "execution_count": null,
   "id": "295f97ff-a2a0-4ca6-996e-830ac8cd2e38",
   "metadata": {},
   "outputs": [],
   "source": []
  },
  {
   "cell_type": "markdown",
   "id": "50debc0a-88fd-4e55-8cab-fe46172f2685",
   "metadata": {},
   "source": [
    "## Reverse a string"
   ]
  },
  {
   "cell_type": "markdown",
   "id": "0265a4f1-b025-4943-8e2a-3760999709df",
   "metadata": {},
   "source": [
    "- Define a function that takes a string as input and returns the reverse of the string.\n",
    "\n",
    "RECURSION"
   ]
  },
  {
   "cell_type": "code",
   "execution_count": null,
   "id": "c7130c59-795b-4d76-8593-00a1de121358",
   "metadata": {},
   "outputs": [],
   "source": []
  },
  {
   "cell_type": "code",
   "execution_count": null,
   "id": "1b594002-7ae2-4919-99d3-3284a2a22251",
   "metadata": {},
   "outputs": [],
   "source": []
  },
  {
   "cell_type": "markdown",
   "id": "115e3168-8d53-45c7-a826-c2c5435b95a2",
   "metadata": {},
   "source": [
    "## Palindrome"
   ]
  },
  {
   "cell_type": "markdown",
   "id": "840eb471-e6c7-447d-9c0a-ee659d0d4417",
   "metadata": {},
   "source": [
    "- Define a function that takes a string as input and checks if the given string is palindrome or not.\n",
    "\n",
    "RECURSION"
   ]
  },
  {
   "cell_type": "code",
   "execution_count": null,
   "id": "d7a33fa5-5bb8-4c6e-9fc2-2e7ffe2255a6",
   "metadata": {},
   "outputs": [],
   "source": []
  },
  {
   "cell_type": "markdown",
   "id": "608e8162-cc12-42dc-8c35-30f4b46aac83",
   "metadata": {},
   "source": [
    "Base case: A string of a len 0 or 1 is a palindrome\n",
    "\n",
    "Recursive case: if the first char matches the last, it is palindrome if middle section is palindrome"
   ]
  },
  {
   "cell_type": "code",
   "execution_count": null,
   "id": "7a73db69-8aa0-4fc6-9a0b-1304a93ad039",
   "metadata": {},
   "outputs": [],
   "source": []
  },
  {
   "cell_type": "code",
   "execution_count": null,
   "id": "b468763f-e04c-4dca-b5b9-1ed8dc1dbb5b",
   "metadata": {},
   "outputs": [],
   "source": []
  },
  {
   "cell_type": "markdown",
   "id": "ca558cd7-419b-4bc9-b7de-e63e0e693909",
   "metadata": {},
   "source": [
    "MIT OpenCourseWare on Recursion: https://youtu.be/WPSeyjX1-4s"
   ]
  }
 ],
 "metadata": {
  "kernelspec": {
   "display_name": "Python 3 (ipykernel)",
   "language": "python",
   "name": "python3"
  },
  "language_info": {
   "codemirror_mode": {
    "name": "ipython",
    "version": 3
   },
   "file_extension": ".py",
   "mimetype": "text/x-python",
   "name": "python",
   "nbconvert_exporter": "python",
   "pygments_lexer": "ipython3",
   "version": "3.12.0"
  }
 },
 "nbformat": 4,
 "nbformat_minor": 5
}
