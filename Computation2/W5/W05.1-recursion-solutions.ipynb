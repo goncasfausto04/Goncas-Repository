{
 "cells": [
  {
   "cell_type": "markdown",
   "id": "4d2321b7-30ed-4cf7-80cf-a30c88d4cf10",
   "metadata": {},
   "source": [
    "# **Computation II** <br/>\n",
    "**Bachelor's Degree Programs in Data Science and Information Systems**<br/>\n",
    "**NOVA IMS**<br/>"
   ]
  },
  {
   "cell_type": "markdown",
   "id": "54fede44-e807-4dd0-9339-67bfcc3ee335",
   "metadata": {},
   "source": [
    "## Week 5: Recursion"
   ]
  },
  {
   "cell_type": "markdown",
   "id": "6d6624b5-f410-480f-8a2c-ac6dc21f0aa3",
   "metadata": {},
   "source": [
    "Why? - Design solutions to problems by divide and conquer: reduce a problem to simpler versions of the same problem.\n",
    "What does it mean for us? - A function calls itself."
   ]
  },
  {
   "cell_type": "markdown",
   "id": "f64719a4-8036-4a3a-92e7-b1c0484e63b6",
   "metadata": {},
   "source": [
    "base case + recursive step"
   ]
  },
  {
   "cell_type": "markdown",
   "id": "f00d81a0-7615-47b9-a7b6-dec5fdfb5ce9",
   "metadata": {},
   "source": [
    "## Multiplication"
   ]
  },
  {
   "cell_type": "markdown",
   "id": "ca8bb968-f7cb-4dae-a214-70dea1d7499b",
   "metadata": {},
   "source": [
    "- Create a function that takes a and b as inputs and returns the multiplication of these numbers.\n",
    "\n",
    "You are not allowed to use multiplication operation ( * ). \n",
    "\n",
    "ITERATIVE METHOD"
   ]
  },
  {
   "cell_type": "code",
   "execution_count": 1,
   "id": "05f34924-567c-465c-aafe-7aec7fa8345c",
   "metadata": {},
   "outputs": [
    {
     "data": {
      "text/plain": [
       "8"
      ]
     },
     "execution_count": 1,
     "metadata": {},
     "output_type": "execute_result"
    }
   ],
   "source": [
    "def mult_iter(a,b):\n",
    "    result = 0\n",
    "    for i in range(b):\n",
    "        result += a\n",
    "    return result\n",
    "\n",
    "mult_iter(2,4)"
   ]
  },
  {
   "cell_type": "markdown",
   "id": "a9771a5d-7b56-4989-a628-bf11fd3d5fce",
   "metadata": {},
   "source": [
    "RECURSION\n",
    "\n",
    "base case + recursive step\n",
    "        \n",
    "       a + a * (b-1)"
   ]
  },
  {
   "cell_type": "code",
   "execution_count": 2,
   "id": "9ad828b8-f712-4000-bd6b-5a7795d9cc55",
   "metadata": {},
   "outputs": [
    {
     "data": {
      "text/plain": [
       "8"
      ]
     },
     "execution_count": 2,
     "metadata": {},
     "output_type": "execute_result"
    }
   ],
   "source": [
    "def mul(a,b):\n",
    "    # base case\n",
    "    if b == 1:\n",
    "        return a \n",
    "    # recursive step\n",
    "    else:\n",
    "        return a + mul(a,b-1)\n",
    "    \n",
    "mul(2,4)"
   ]
  },
  {
   "cell_type": "markdown",
   "id": "9e07c0f8-3d65-446e-9d60-a6cb3ec0f319",
   "metadata": {},
   "source": [
    "## Countdown"
   ]
  },
  {
   "cell_type": "markdown",
   "id": "4e067a4c-f3ae-44e4-a91c-7da082e86466",
   "metadata": {},
   "source": [
    "- Define a function that takes n as input and prints a countdown from that number to 0. (both included)\n",
    "\n",
    "ITERATIVE METHOD"
   ]
  },
  {
   "cell_type": "code",
   "execution_count": 20,
   "id": "b821ff08-995e-4855-a37e-26253a72fdc9",
   "metadata": {},
   "outputs": [
    {
     "name": "stdout",
     "output_type": "stream",
     "text": [
      "3\n",
      "2\n",
      "1\n",
      "0\n",
      "Done!\n"
     ]
    }
   ],
   "source": [
    "def countdown_iter(n):\n",
    "    for i in range(n,-1,-1):\n",
    "        print(i)\n",
    "    print(\"Done!\")\n",
    "    \n",
    "countdown_iter(3)"
   ]
  },
  {
   "cell_type": "markdown",
   "id": "cc0ec2ba-63d1-43ae-9ef4-a8bf26c94f20",
   "metadata": {},
   "source": [
    "RECURSION"
   ]
  },
  {
   "cell_type": "code",
   "execution_count": 21,
   "id": "8d559a5d-8201-4ce2-9ff5-8b691f6dcb1d",
   "metadata": {},
   "outputs": [
    {
     "name": "stdout",
     "output_type": "stream",
     "text": [
      "3\n",
      "2\n",
      "1\n",
      "0\n",
      "Done!\n"
     ]
    }
   ],
   "source": [
    "def countdown_rec(n):\n",
    "    print(n)\n",
    "    if n == 0:\n",
    "        print(\"Done!\")\n",
    "    else:\n",
    "        countdown_rec(n-1)\n",
    "\n",
    "countdown_rec(3)"
   ]
  },
  {
   "cell_type": "markdown",
   "id": "b482fe88-de40-42a0-be01-8dc3c0b68a5a",
   "metadata": {},
   "source": [
    "## Summation"
   ]
  },
  {
   "cell_type": "markdown",
   "id": "8bf6bd1c-bdf8-4f3a-9855-37109b717af1",
   "metadata": {},
   "source": [
    "- Define a function that returns the sum of all EVEN integers from 2 to n (included).\n",
    "\n",
    "- With the assumption of n being EVEN !\n",
    "\n",
    "ITERATION\n"
   ]
  },
  {
   "cell_type": "code",
   "execution_count": 24,
   "id": "dff222c6-0c42-4bcb-87af-4d30360e9b41",
   "metadata": {},
   "outputs": [
    {
     "data": {
      "text/plain": [
       "12"
      ]
     },
     "execution_count": 24,
     "metadata": {},
     "output_type": "execute_result"
    }
   ],
   "source": [
    "def even_iter(n):\n",
    "    res = 0 \n",
    "    for i in range(0,n+1,2):\n",
    "        res += i\n",
    "    return res\n",
    "\n",
    "even_iter(6)"
   ]
  },
  {
   "cell_type": "markdown",
   "id": "a7bbe0ca-e274-4206-b00a-38261d4ad887",
   "metadata": {},
   "source": [
    "RECURSION"
   ]
  },
  {
   "cell_type": "code",
   "execution_count": 23,
   "id": "7f8c9335-19ee-4115-8aa1-b0901a943e2f",
   "metadata": {},
   "outputs": [
    {
     "data": {
      "text/plain": [
       "12"
      ]
     },
     "execution_count": 23,
     "metadata": {},
     "output_type": "execute_result"
    }
   ],
   "source": [
    "def even_rec(n):\n",
    "    if n == 2:\n",
    "        return 2\n",
    "    else:\n",
    "        return n + even_rec(n-2)\n",
    "    \n",
    "even_rec(6)"
   ]
  },
  {
   "cell_type": "markdown",
   "id": "bea8285f-f062-437e-8d29-8a87ae1d55f5",
   "metadata": {},
   "source": [
    "## Factorial"
   ]
  },
  {
   "cell_type": "markdown",
   "id": "bb2cc9f5-5797-499a-9329-2e309e2dd90f",
   "metadata": {},
   "source": [
    "- Define a function that returns the factorial of a given number"
   ]
  },
  {
   "cell_type": "markdown",
   "id": "c3da6957-ffad-4fe2-a3c1-f314b458dbf0",
   "metadata": {},
   "source": [
    "ITERATION"
   ]
  },
  {
   "cell_type": "code",
   "execution_count": 27,
   "id": "c59b8e42-1d16-4085-8efb-8a6472c93322",
   "metadata": {},
   "outputs": [
    {
     "data": {
      "text/plain": [
       "24"
      ]
     },
     "execution_count": 27,
     "metadata": {},
     "output_type": "execute_result"
    }
   ],
   "source": [
    "def fact_iter(n):\n",
    "    res = 1\n",
    "    for i in range(1,n+1):\n",
    "        res *= i\n",
    "    return res\n",
    "\n",
    "fact_iter(4)"
   ]
  },
  {
   "cell_type": "markdown",
   "id": "ae490462-7f8b-448a-a16d-3a2be2987e74",
   "metadata": {},
   "source": [
    "RECURSION"
   ]
  },
  {
   "cell_type": "code",
   "execution_count": 28,
   "id": "1f7e2965-b55d-43b9-9ca0-4704f3c13667",
   "metadata": {},
   "outputs": [
    {
     "data": {
      "text/plain": [
       "24"
      ]
     },
     "execution_count": 28,
     "metadata": {},
     "output_type": "execute_result"
    }
   ],
   "source": [
    "def fact_rec(n):\n",
    "    if n == 0:\n",
    "        return 1\n",
    "    else:\n",
    "        return n * fact_rec(n-1)\n",
    "    \n",
    "fact_rec(4)"
   ]
  },
  {
   "cell_type": "markdown",
   "id": "0e7556f7-2407-475a-a5ae-0ac33a4a66d1",
   "metadata": {},
   "source": [
    "How do I know when the recursion will end?: Base Case!"
   ]
  },
  {
   "cell_type": "markdown",
   "id": "65847a6e-6a3a-4f15-b06a-4b6999d3ec4a",
   "metadata": {},
   "source": [
    "## Sum of a List "
   ]
  },
  {
   "cell_type": "markdown",
   "id": "099c9d1e-9461-4677-a7fe-3b244ea398d5",
   "metadata": {},
   "source": [
    "- Define a recursive function that returns the sum of all the integers in a list."
   ]
  },
  {
   "cell_type": "markdown",
   "id": "53551fe7-55a4-47e7-aaab-667a193b3f0b",
   "metadata": {},
   "source": [
    "ITERATION"
   ]
  },
  {
   "cell_type": "code",
   "execution_count": 5,
   "id": "55e280b5-6d33-48af-98ca-ef7db442a36f",
   "metadata": {},
   "outputs": [
    {
     "data": {
      "text/plain": [
       "6"
      ]
     },
     "execution_count": 5,
     "metadata": {},
     "output_type": "execute_result"
    }
   ],
   "source": [
    "def sum_list_iter(a_list):\n",
    "    result = 0\n",
    "    for i in a_list:\n",
    "        result += i\n",
    "    return result\n",
    "\n",
    "sum_list_iter([1,2,3])"
   ]
  },
  {
   "cell_type": "markdown",
   "id": "3f378fc1-f74d-4cc3-811c-72cdbded8e03",
   "metadata": {},
   "source": [
    "RECURSION"
   ]
  },
  {
   "cell_type": "code",
   "execution_count": 11,
   "id": "36d946e8-d9e5-4680-bb68-26ecd8b4005f",
   "metadata": {},
   "outputs": [
    {
     "data": {
      "text/plain": [
       "6"
      ]
     },
     "execution_count": 11,
     "metadata": {},
     "output_type": "execute_result"
    }
   ],
   "source": [
    "def sum_list_rec(a_list):\n",
    "    if len(a_list)==0:\n",
    "        return 0\n",
    "    else:\n",
    "        return a_list[0] + sum_list_rec(a_list[1:])\n",
    "    \n",
    "sum_list_rec([1,2,3])"
   ]
  },
  {
   "cell_type": "markdown",
   "id": "afe5798e-dd28-4f99-81f5-ade596644ca6",
   "metadata": {},
   "source": [
    "2nd Solution:"
   ]
  },
  {
   "cell_type": "code",
   "execution_count": 29,
   "id": "4eb79b3c-1082-45db-8b88-7dec1783725a",
   "metadata": {},
   "outputs": [
    {
     "data": {
      "text/plain": [
       "6"
      ]
     },
     "execution_count": 29,
     "metadata": {},
     "output_type": "execute_result"
    }
   ],
   "source": [
    "def sum_recursive(nums):\n",
    "    if len(nums) == 0:\n",
    "        return 0\n",
    "    last_num = nums.pop()\n",
    "    return last_num + sum_recursive(nums)\n",
    "\n",
    "sum_recursive([1,2,3])"
   ]
  },
  {
   "cell_type": "markdown",
   "id": "088a99e6-6e7d-4fb5-a44b-140b850ff916",
   "metadata": {},
   "source": [
    "## Fibonacci"
   ]
  },
  {
   "cell_type": "markdown",
   "id": "dc12ee47-ffea-431f-b265-874c4bcd0f5a",
   "metadata": {},
   "source": [
    "- Create a function to return the xth Fibonacci number with a given x with RECURSION."
   ]
  },
  {
   "cell_type": "code",
   "execution_count": 30,
   "id": "65aecc27-43c6-4ef4-834e-6ea102de643b",
   "metadata": {},
   "outputs": [
    {
     "data": {
      "text/plain": [
       "13"
      ]
     },
     "execution_count": 30,
     "metadata": {},
     "output_type": "execute_result"
    }
   ],
   "source": [
    "def fib(n):\n",
    "    if n == 0:\n",
    "        return 0\n",
    "    elif n == 1:\n",
    "        return 1\n",
    "    else:\n",
    "        return fib(n-1) + fib(n-2)\n",
    "    \n",
    "fib(7)"
   ]
  },
  {
   "cell_type": "markdown",
   "id": "1a308a13-f2d8-4795-835c-508f99331eb5",
   "metadata": {},
   "source": [
    "- How about we mix dictionaries with recursive functions?"
   ]
  },
  {
   "cell_type": "code",
   "execution_count": 32,
   "id": "10146139-25ed-4f95-b739-630376db232c",
   "metadata": {},
   "outputs": [
    {
     "name": "stdout",
     "output_type": "stream",
     "text": [
      "13\n"
     ]
    }
   ],
   "source": [
    "def fib_efficient(n,d):\n",
    "    if n in d:\n",
    "        return d[n]\n",
    "    else:\n",
    "        ans = fib_efficient(n-1,d) + fib_efficient(n-2,d)\n",
    "        d[n] = ans\n",
    "        return ans\n",
    "\n",
    "d = {1:1, 2:1}\n",
    "print(fib_efficient(7,d))"
   ]
  },
  {
   "cell_type": "markdown",
   "id": "50debc0a-88fd-4e55-8cab-fe46172f2685",
   "metadata": {},
   "source": [
    "## Reverse a string"
   ]
  },
  {
   "cell_type": "markdown",
   "id": "0265a4f1-b025-4943-8e2a-3760999709df",
   "metadata": {},
   "source": [
    "- Define a function that takes a string as input and returns the reverse of the string.\n",
    "\n",
    "RECURSION"
   ]
  },
  {
   "cell_type": "code",
   "execution_count": 33,
   "id": "2114ee96-2600-4473-ac16-a01194d82833",
   "metadata": {},
   "outputs": [
    {
     "data": {
      "text/plain": [
       "'alo'"
      ]
     },
     "execution_count": 33,
     "metadata": {},
     "output_type": "execute_result"
    }
   ],
   "source": [
    "def reverse(text):\n",
    "    if len(text) == 0:\n",
    "        return text\n",
    "    else:\n",
    "        return text[-1] + reverse(text[0:-1])\n",
    "    \n",
    "reverse(\"ola\")"
   ]
  },
  {
   "cell_type": "markdown",
   "id": "32113064-d216-4706-b2cd-65b78e60e3c1",
   "metadata": {},
   "source": [
    "2nd Solution:"
   ]
  },
  {
   "cell_type": "code",
   "execution_count": 34,
   "id": "3fc73f37-82ca-485e-8dfd-61f6b95c694e",
   "metadata": {},
   "outputs": [
    {
     "data": {
      "text/plain": [
       "'alo'"
      ]
     },
     "execution_count": 34,
     "metadata": {},
     "output_type": "execute_result"
    }
   ],
   "source": [
    "def reverse(text):\n",
    "    if text == \"\":\n",
    "        return \"\"\n",
    "    else:\n",
    "        return text[-1] + reverse(text[0:-1])\n",
    "    \n",
    "reverse(\"ola\")"
   ]
  },
  {
   "cell_type": "markdown",
   "id": "115e3168-8d53-45c7-a826-c2c5435b95a2",
   "metadata": {},
   "source": [
    "## Palindrome"
   ]
  },
  {
   "cell_type": "markdown",
   "id": "840eb471-e6c7-447d-9c0a-ee659d0d4417",
   "metadata": {},
   "source": [
    "- Define a function that takes a string as input and checks if the given string is palindrome or not.\n",
    "\n",
    "RECURSION"
   ]
  },
  {
   "cell_type": "code",
   "execution_count": null,
   "id": "d7a33fa5-5bb8-4c6e-9fc2-2e7ffe2255a6",
   "metadata": {},
   "outputs": [],
   "source": []
  },
  {
   "cell_type": "code",
   "execution_count": null,
   "id": "b468763f-e04c-4dca-b5b9-1ed8dc1dbb5b",
   "metadata": {},
   "outputs": [],
   "source": []
  },
  {
   "cell_type": "markdown",
   "id": "e414df96-54f2-49ef-89a3-da3591b0275b",
   "metadata": {},
   "source": [
    "## Tower of Hanoi"
   ]
  },
  {
   "cell_type": "markdown",
   "id": "dfc16b58-02dc-4c78-9021-ac8dd2e999b4",
   "metadata": {},
   "source": [
    "- Let's investigate the problem"
   ]
  },
  {
   "cell_type": "code",
   "execution_count": null,
   "id": "4e05ea40-3d0a-4cdd-98cf-4bd03131cd92",
   "metadata": {},
   "outputs": [],
   "source": []
  },
  {
   "cell_type": "code",
   "execution_count": null,
   "id": "99d9f38f-8a7e-48f3-9e8d-0f77255da4b4",
   "metadata": {},
   "outputs": [],
   "source": []
  },
  {
   "cell_type": "markdown",
   "id": "ce3ac877-edf3-4b71-842b-c07b8bc284e5",
   "metadata": {},
   "source": [
    "A visual explanation on the recursive algorithms on Towers of Hanoi: https://www.youtube.com/watch?v=rf6uf3jNjbo"
   ]
  },
  {
   "cell_type": "markdown",
   "id": "1d65ffa1-9b1d-4e41-afab-b85119bdbe65",
   "metadata": {},
   "source": [
    "To play Towers of Hanoi: https://www.mathsisfun.com/games/towerofhanoi.html"
   ]
  },
  {
   "cell_type": "code",
   "execution_count": null,
   "id": "f7e06b28-727c-49c6-a322-7987953183b7",
   "metadata": {},
   "outputs": [],
   "source": []
  },
  {
   "cell_type": "code",
   "execution_count": null,
   "id": "b9a47157-2679-4aa7-a293-34e621f07afe",
   "metadata": {},
   "outputs": [],
   "source": []
  },
  {
   "cell_type": "markdown",
   "id": "ca558cd7-419b-4bc9-b7de-e63e0e693909",
   "metadata": {},
   "source": [
    "MIT OpenCourseWare on Recursion: https://youtu.be/WPSeyjX1-4s"
   ]
  }
 ],
 "metadata": {
  "kernelspec": {
   "display_name": "Python 3 (ipykernel)",
   "language": "python",
   "name": "python3"
  },
  "language_info": {
   "codemirror_mode": {
    "name": "ipython",
    "version": 3
   },
   "file_extension": ".py",
   "mimetype": "text/x-python",
   "name": "python",
   "nbconvert_exporter": "python",
   "pygments_lexer": "ipython3",
   "version": "3.12.0"
  }
 },
 "nbformat": 4,
 "nbformat_minor": 5
}
