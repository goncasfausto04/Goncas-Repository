{
 "cells": [
  {
   "cell_type": "markdown",
   "source": [
    "# **Computação II** <br/>\n",
    "**Bachelor's Degree Programs in Data Science and Information Systems**<br/>\n",
    "**NOVA IMS**<br/>\n",
    "\n",
    "**NOTE:** Some of these contents were adapted from Prof. Dr. Illya Bakurov's class materials.\n",
    "\n",
    "## References\n",
    "1. [Python ``time`` module, official documentation](https://docs.python.org/3/library/time.html)\n",
    "2. [Python ``timeit`` module, official documentation](https://docs.python.org/3/library/timeit.html)"
   ],
   "metadata": {
    "collapsed": false
   },
   "id": "da913b8d4bd9ee9e"
  },
  {
   "cell_type": "markdown",
   "id": "a2b94aba-13a0-4bfd-9d82-0c63e4f31d8b",
   "metadata": {},
   "source": [
    "# 1. Recursion: Collatz sequence\n",
    "Collatz sequence is a sequence of positive integers starting from start and ending with 1 where each successive value is obtained in the following way:\n",
    "1. $n_{t+1} = \\frac{n_t}{2}$, if $n_t$ is even\n",
    "2. $n_{t+1} = 3n_t + 1$, if $n_t$ is odd\n",
    "\n",
    "For $n_0$ = 13, $13 → 40 → 20 → 10 → 5 → 16 → 8 → 4 → 2 → 1$."
   ]
  },
  {
   "cell_type": "markdown",
   "id": "d9c7a15b-30d3-46c0-a4d9-8e7320255190",
   "metadata": {},
   "source": [
    "Defines a recursive function that prints Collatz sequence for a given integer $n$.\n",
    "1. base case: if $n$ equals 1, then the result is equal to 1\n",
    "2. recursive case: \n",
    "    1. the result equals $n_{t+1} = \\frac{n_t}{2}$, if $n_t$ is even\n",
    "    2. the result equals $n_{t+1} = 3n_t + 1$, if $n_t$ is odd\n",
    "\n"
   ]
  },
  {
   "cell_type": "code",
   "execution_count": 19,
   "id": "4b351541-1460-40f1-9890-0e0265f18a77",
   "metadata": {
    "ExecuteTime": {
     "end_time": "2024-04-05T07:45:15.367635Z",
     "start_time": "2024-04-05T07:45:15.359042Z"
    }
   },
   "outputs": [
    {
     "name": "stdout",
     "output_type": "stream",
     "text": [
      "11 34 17.0 52.0 26.0 13.0 40.0 20.0 10.0 5.0 16.0 8.0 4.0 2.0 1.0 "
     ]
    },
    {
     "data": {
      "text/plain": "[11, 34, 17.0, 52.0, 26.0, 13.0, 40.0, 20.0, 10.0, 5.0, 16.0, 8.0, 4.0, 2.0, 1]"
     },
     "execution_count": 19,
     "metadata": {},
     "output_type": "execute_result"
    }
   ],
   "source": [
    "def collatz(n):\n",
    "    print(n, end=\" \")\n",
    "    if n == 1:\n",
    "        return [1]\n",
    "    else:\n",
    "        if n % 2 == 0:\n",
    "            return [n,*collatz(n/2)] \n",
    "        else:\n",
    "            return [n,*collatz(3*n+1)]  \n",
    "\n",
    "collatz(11)"
   ]
  },
  {
   "cell_type": "markdown",
   "id": "d4afe975-c13f-46a4-8742-6c78d040d27a",
   "metadata": {},
   "source": [
    "Tests the function ``collatz()``.\n"
   ]
  },
  {
   "cell_type": "code",
   "execution_count": null,
   "id": "00a8af25-fe31-43d0-834a-c2c4c58db6b0",
   "metadata": {
    "ExecuteTime": {
     "start_time": "2024-04-05T07:38:33.444474Z"
    }
   },
   "outputs": [],
   "source": [
    "n=13\n",
    "collatz(n)"
   ]
  },
  {
   "cell_type": "code",
   "outputs": [
    {
     "name": "stdout",
     "output_type": "stream",
     "text": [
      "10 5.0 16.0 8.0 4.0 2.0 1.0 "
     ]
    }
   ],
   "source": [
    "def collatz_ite(n):\n",
    "    print(n, end=\" \")\n",
    "    while n != 1:\n",
    "        if n % 2 == 0:\n",
    "            n = n/2 \n",
    "        else:\n",
    "            n = 3*n+1\n",
    "        print(n, end=\" \")\n",
    "\n",
    "collatz_ite(10)"
   ],
   "metadata": {
    "collapsed": false,
    "ExecuteTime": {
     "end_time": "2024-04-05T07:44:00.773278Z",
     "start_time": "2024-04-05T07:44:00.768237Z"
    }
   },
   "id": "a965a32a153c2d69",
   "execution_count": 15
  },
  {
   "cell_type": "markdown",
   "id": "7bef9a24-93ed-4327-9005-0c4904cae91c",
   "metadata": {},
   "source": [
    "**HOMEWORK**\n",
    "\n",
    "Try to solve this exercise without using recursion."
   ]
  },
  {
   "cell_type": "markdown",
   "id": "02c4ed4f-f028-49af-b7bb-2cd34a4c99d8",
   "metadata": {},
   "source": [
    "# 2. Comparing algorithms' efficiency"
   ]
  },
  {
   "cell_type": "markdown",
   "id": "16c48d4a-b44a-45ea-9760-f2270185186a",
   "metadata": {},
   "source": [
    "Consider two functions that compute the primary or secondary diagonal of a squared matrix using Python base.\n",
    "\n",
    "<center><img src=\"https://assets.leetcode.com/uploads/2020/08/14/sample_1911.png\" width=300/></center>"
   ]
  },
  {
   "cell_type": "markdown",
   "id": "ff43a500-5a52-4c09-8316-f68d8cbfecbb",
   "metadata": {},
   "source": [
    "Imports ``time`` and ``timeit`` modules to keep track of runtime. Also, imports ``numpy`` to generate random values, and ``matplotlib`` to draw plots."
   ]
  },
  {
   "cell_type": "code",
   "execution_count": 56,
   "id": "f13a2871-0b25-4b8d-b7ac-9d15831d8657",
   "metadata": {
    "ExecuteTime": {
     "end_time": "2024-04-03T09:43:39.900881Z",
     "start_time": "2024-04-03T09:43:38.826687Z"
    }
   },
   "outputs": [],
   "source": [
    "import time \n",
    "import timeit\n",
    "import numpy as np\n",
    "import matplotlib.pyplot as plt\n",
    "\n"
   ]
  },
  {
   "cell_type": "markdown",
   "source": [],
   "metadata": {
    "collapsed": false
   },
   "id": "de0b54f8ced605d0"
  },
  {
   "cell_type": "markdown",
   "id": "f7371efe-1007-43a6-b114-6c3efecefff8",
   "metadata": {},
   "source": [
    "Creates an arbitrary matrix and computes the two diagonals using ``numpy``."
   ]
  },
  {
   "cell_type": "code",
   "execution_count": 57,
   "id": "43a1d94c-9e86-483c-9d10-1175b801697e",
   "metadata": {
    "ExecuteTime": {
     "end_time": "2024-04-03T09:43:47.569037Z",
     "start_time": "2024-04-03T09:43:47.558381Z"
    }
   },
   "outputs": [
    {
     "name": "stdout",
     "output_type": "stream",
     "text": [
      "Matrix:\n",
      " [[1, 2, 3], [4, 5, 6], [7, 8, 9]]\n",
      "Primary diagonal using NumPy: \n",
      "Secondary diagonal using NumPy: \n"
     ]
    }
   ],
   "source": [
    "matrix = [[1, 2, 3], [4, 5, 6], [7, 8, 9]]\n",
    "print(\"Matrix:\\n\", matrix)\n",
    "print(\"Primary diagonal using NumPy: \", )\n",
    "print(\"Secondary diagonal using NumPy: \", )"
   ]
  },
  {
   "cell_type": "code",
   "outputs": [
    {
     "data": {
      "text/plain": "array([[ 3,  2, 19],\n       [11,  1,  7],\n       [ 6, 10, 14]])"
     },
     "execution_count": 60,
     "metadata": {},
     "output_type": "execute_result"
    }
   ],
   "source": [
    "matrix = np.random.randint(0,20,(3,3))\n",
    "matrix"
   ],
   "metadata": {
    "collapsed": false,
    "ExecuteTime": {
     "end_time": "2024-04-03T09:44:12.822685Z",
     "start_time": "2024-04-03T09:44:12.811827Z"
    }
   },
   "id": "13eb69fb0ea8aa06",
   "execution_count": 60
  },
  {
   "cell_type": "markdown",
   "id": "5a086032-9904-45c6-a799-a9f8d7602140",
   "metadata": {},
   "source": [
    "## 2.1. Naive approach"
   ]
  },
  {
   "cell_type": "code",
   "outputs": [
    {
     "name": "stdout",
     "output_type": "stream",
     "text": [
      "3.5 µs ± 688 ns per loop (mean ± std. dev. of 7 runs, 100,000 loops each)\n"
     ]
    }
   ],
   "source": [
    "def diagonal(matrix):\n",
    "    counter = 0\n",
    "    for i in range(len(matrix)):\n",
    "        counter += matrix[i][i]\n",
    "    return counter\n",
    "    \n",
    "diagonal(matrix)\n",
    "%timeit diagonal(matrix)"
   ],
   "metadata": {
    "collapsed": false,
    "ExecuteTime": {
     "end_time": "2024-04-03T10:00:22.548434Z",
     "start_time": "2024-04-03T10:00:19.702493Z"
    }
   },
   "id": "dc9a466a66b4ab38",
   "execution_count": 73
  },
  {
   "cell_type": "code",
   "execution_count": 74,
   "id": "cc451b7b-2d50-4803-8eb2-27c3883d4e82",
   "metadata": {
    "ExecuteTime": {
     "end_time": "2024-04-03T10:00:22.603473Z",
     "start_time": "2024-04-03T10:00:22.558437Z"
    }
   },
   "outputs": [
    {
     "ename": "NameError",
     "evalue": "name 'end' is not defined",
     "output_type": "error",
     "traceback": [
      "\u001B[1;31m---------------------------------------------------------------------------\u001B[0m",
      "\u001B[1;31mNameError\u001B[0m                                 Traceback (most recent call last)",
      "Cell \u001B[1;32mIn[74], line 1\u001B[0m\n\u001B[1;32m----> 1\u001B[0m \u001B[38;5;28mprint\u001B[39m(\u001B[38;5;124m\"\u001B[39m\u001B[38;5;124mR: \u001B[39m\u001B[38;5;132;01m{}\u001B[39;00m\u001B[38;5;124m. The algorithm took \u001B[39m\u001B[38;5;132;01m{}\u001B[39;00m\u001B[38;5;124m seconds\u001B[39m\u001B[38;5;124m\"\u001B[39m\u001B[38;5;241m.\u001B[39mformat(result, \u001B[43mend\u001B[49m))\n",
      "\u001B[1;31mNameError\u001B[0m: name 'end' is not defined"
     ]
    }
   ],
   "source": [
    "print(\"R: {}. The algorithm took {} seconds\".format(result, end))"
   ]
  },
  {
   "cell_type": "code",
   "execution_count": null,
   "id": "8e6d1353-74fe-468c-aaf5-20f398d88a7e",
   "metadata": {},
   "outputs": [],
   "source": [
    "print(\"R: {}. The algorithm took {} seconds\".format(result, end))"
   ]
  },
  {
   "cell_type": "markdown",
   "id": "19406ab6-aeac-4b1a-8c21-398f6484acb1",
   "metadata": {},
   "source": [
    "## 2.2. The ``timeit`` module\n",
    "\n",
    "The ``timeit`` module is an effective tool to measure the run time of **small** code snippets. It avoids a number of common issues for measuring execution times. \n",
    "\n",
    "Simply saving the time before and after the execution of the code snippet is not precise as there might be a background process momentarily running which can cause significant variations in the running time of small code snippets.\n",
    "\n",
    "The ``timeit`` module allows you to run your snippet *many** times (default value is 1000000) so that you get the *expected* runtime (and other relevant measures).  \n",
    "\n",
    "Visit the official documentation [2] for more details."
   ]
  },
  {
   "cell_type": "markdown",
   "id": "e32f25e8-42b3-417f-af0f-e2d3f64e2a7f",
   "metadata": {},
   "source": [
    "Tests ``sum_diagonal_1()``."
   ]
  },
  {
   "cell_type": "code",
   "execution_count": 144,
   "id": "7fea4bef-60c3-4ec1-a90e-6b090d569713",
   "metadata": {},
   "outputs": [
    {
     "name": "stdout",
     "output_type": "stream",
     "text": [
      "The snippet \n",
      "\n",
      "\"\"\"sum_diagonal_1(matrix, False)\"\"\"\n",
      "\n",
      "took 1.607 seconds to execute\n"
     ]
    }
   ],
   "source": [
    "# Code snippet to be executed only once\n",
    "\n",
    "# Code snippet whose execution time is to be measured\n",
    "\n",
    "# The timeit statement\n",
    "print(\"The snippet \\n\\n\\\"\\\"\\\"{}\\\"\\\"\\\"\\n\\ntook {:.3f} seconds to execute\".format(snippet1, secs1))"
   ]
  },
  {
   "cell_type": "markdown",
   "id": "7e600049-8958-4522-a3b0-211a7861dd2c",
   "metadata": {},
   "source": [
    "Tests ``sum_diagonal_2()``."
   ]
  },
  {
   "cell_type": "code",
   "execution_count": 145,
   "id": "36c585f8-5371-4b7f-aa7b-377c0b4885dd",
   "metadata": {},
   "outputs": [
    {
     "name": "stdout",
     "output_type": "stream",
     "text": [
      "The snippet \n",
      "\n",
      "\"\"\"sum_diagonal_2(matrix, False)\"\"\"\n",
      "\n",
      "took 0.041 seconds to execute\n"
     ]
    }
   ],
   "source": [
    "# Code snippet to be executed only once\n",
    "\n",
    "# Code snippet whose execution time is to be measured\n",
    "\n",
    "# The timeit statement\n",
    "print(\"The snippet \\n\\n\\\"\\\"\\\"{}\\\"\\\"\\\"\\n\\ntook {:.3f} seconds to execute\".format(snippet2, secs2))"
   ]
  }
 ],
 "metadata": {
  "kernelspec": {
   "display_name": "Python 3 (ipykernel)",
   "language": "python",
   "name": "python3"
  },
  "language_info": {
   "codemirror_mode": {
    "name": "ipython",
    "version": 3
   },
   "file_extension": ".py",
   "mimetype": "text/x-python",
   "name": "python",
   "nbconvert_exporter": "python",
   "pygments_lexer": "ipython3",
   "version": "3.12.0"
  }
 },
 "nbformat": 4,
 "nbformat_minor": 5
}
