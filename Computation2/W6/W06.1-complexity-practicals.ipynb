{
 "cells": [
  {
   "cell_type": "markdown",
   "id": "6779414d-e8ee-4e0e-97b3-2ec638ee171d",
   "metadata": {},
   "source": [
    "# **Computation II: Algorithms & Data Structures** <br/>\n",
    "**Bachelor's Degree Programs in Data Science and Information Systems**<br/>\n",
    "**NOVA IMS**<br/>"
   ]
  },
  {
   "cell_type": "markdown",
   "id": "2308e33a-e096-4e84-877e-e180e405ef64",
   "metadata": {},
   "source": [
    "## Week 6: Computational Complexity"
   ]
  },
  {
   "cell_type": "markdown",
   "id": "e839da0b-62c0-4a25-84dc-a715104ed36e",
   "metadata": {},
   "source": [
    "But first!\n",
    "\n",
    "### Recursion: Collatz sequence\n",
    "Collatz sequence is a sequence of positive integers starting from start and ending with 1 where each successive value is obtained in the following way:\n",
    "1. $n_{t+1} = \\frac{n_t}{2}$, if $n_t$ is even\n",
    "2. $n_{t+1} = 3n_t + 1$, if $n_t$ is odd\n",
    "\n",
    "For $n_0$ = 13, $13 → 40 → 20 → 10 → 5 → 16 → 8 → 4 → 2 → 1$."
   ]
  },
  {
   "cell_type": "markdown",
   "id": "5cb7348c-597c-4b13-84c5-72511ae050bb",
   "metadata": {},
   "source": [
    "Defines a recursive function that **prints** the Collatz sequence for a given integer $n$.\n",
    "1. base case: if $n$ equals 1, then the result is equal to 1\n",
    "2. recursive case: \n",
    "    1. the result equals $n_{t+1} = \\frac{n_t}{2}$, if $n_t$ is even\n",
    "    2. the result equals $n_{t+1} = 3n_t + 1$, if $n_t$ is odd\n",
    "\n"
   ]
  },
  {
   "cell_type": "code",
   "execution_count": 1,
   "id": "abb29fd6-e1d7-4c24-a642-9b56440e1225",
   "metadata": {
    "ExecuteTime": {
     "end_time": "2024-04-05T07:48:46.309970Z",
     "start_time": "2024-04-05T07:48:46.292612Z"
    }
   },
   "outputs": [
    {
     "name": "stdout",
     "output_type": "stream",
     "text": [
      "11 34 17.0 52.0 26.0 13.0 40.0 20.0 10.0 5.0 16.0 8.0 4.0 2.0 1.0 "
     ]
    },
    {
     "data": {
      "text/plain": "[11, 34, 17.0, 52.0, 26.0, 13.0, 40.0, 20.0, 10.0, 5.0, 16.0, 8.0, 4.0, 2.0, 1]"
     },
     "execution_count": 1,
     "metadata": {},
     "output_type": "execute_result"
    }
   ],
   "source": [
    "def collatz(n):\n",
    "    print(n, end=\" \")\n",
    "    if n == 1:\n",
    "        return [1]\n",
    "    else:\n",
    "        if n % 2 == 0:\n",
    "            return [n,*collatz(n/2)] \n",
    "        else:\n",
    "            return [n,*collatz(3*n+1)]  \n",
    "\n",
    "collatz(11)"
   ]
  },
  {
   "cell_type": "markdown",
   "id": "e3d9a7fd-d468-4740-b9c7-2ff6e022799f",
   "metadata": {},
   "source": [
    "Tests the function ``collatz()``."
   ]
  },
  {
   "cell_type": "code",
   "execution_count": 2,
   "id": "8890bd13-f157-4046-b140-f747fb460940",
   "metadata": {
    "ExecuteTime": {
     "end_time": "2024-04-05T07:48:48.849717Z",
     "start_time": "2024-04-05T07:48:48.843077Z"
    }
   },
   "outputs": [
    {
     "name": "stdout",
     "output_type": "stream",
     "text": [
      "13 40 20.0 10.0 5.0 16.0 8.0 4.0 2.0 1.0 "
     ]
    },
    {
     "data": {
      "text/plain": "[13, 40, 20.0, 10.0, 5.0, 16.0, 8.0, 4.0, 2.0, 1]"
     },
     "execution_count": 2,
     "metadata": {},
     "output_type": "execute_result"
    }
   ],
   "source": [
    "n=13\n",
    "collatz(n)"
   ]
  },
  {
   "cell_type": "markdown",
   "id": "b54c4247-4d64-42e5-8f27-917938d5d58a",
   "metadata": {},
   "source": [
    "Hw: Now, try to solve this exercise without using recursion."
   ]
  },
  {
   "cell_type": "markdown",
   "id": "ac79e98a-e8eb-4a58-a731-213d5a435659",
   "metadata": {},
   "source": [
    "# Constant Time (1)"
   ]
  },
  {
   "cell_type": "markdown",
   "id": "3079c26a-efc3-465a-98a4-624721626739",
   "metadata": {},
   "source": [
    "#### An algorithm whose time complexity doesn't change with input size. (It is not dependent on the input data (n))"
   ]
  },
  {
   "cell_type": "markdown",
   "id": "8efc9d2e-b009-43a9-a41a-5bc7042bad06",
   "metadata": {},
   "source": [
    "- Define a function that takes a list as an input and returns the first element of the list."
   ]
  },
  {
   "cell_type": "code",
   "execution_count": 3,
   "id": "d96e1e32-2c84-4162-8761-ed98939218d3",
   "metadata": {
    "ExecuteTime": {
     "end_time": "2024-04-05T07:50:02.246947Z",
     "start_time": "2024-04-05T07:50:02.243037Z"
    }
   },
   "outputs": [],
   "source": [
    "def firstelement(l):\n",
    "    return l[0]"
   ]
  },
  {
   "cell_type": "code",
   "execution_count": 7,
   "id": "240ed8d1-739d-497c-a031-6f07a855357e",
   "metadata": {
    "ExecuteTime": {
     "end_time": "2024-04-05T07:52:08.829449Z",
     "start_time": "2024-04-05T07:52:08.491222Z"
    }
   },
   "outputs": [],
   "source": [
    "import numpy as np"
   ]
  },
  {
   "cell_type": "code",
   "execution_count": 41,
   "id": "a327c888-8b31-4bd7-8103-10eab21c710a",
   "metadata": {
    "ExecuteTime": {
     "end_time": "2024-04-05T08:11:55.475423Z",
     "start_time": "2024-04-05T08:11:55.461796Z"
    }
   },
   "outputs": [
    {
     "name": "stdout",
     "output_type": "stream",
     "text": [
      "[29 85 94 93  8]\n"
     ]
    }
   ],
   "source": [
    "vectorsmall = np.random.randint(0,100, (5,))\n",
    "vectorbig = np.random.randint(0,100, (1000000,))\n",
    "\n",
    "print(vectorsmall)\n"
   ]
  },
  {
   "cell_type": "markdown",
   "id": "508726e2-b40a-4d44-8218-8feb5d4ac2a8",
   "metadata": {},
   "source": [
    "# Linear Time (n)"
   ]
  },
  {
   "cell_type": "markdown",
   "id": "3b3d069e-6be9-445b-a5d1-d2c68c9ad8d4",
   "metadata": {},
   "source": [
    "#### An algorithm is said to have a linear time complexity when the running time increases linearly with the size of the input data. \n",
    "(When the algorithm must examine all values in the input data.)"
   ]
  },
  {
   "cell_type": "markdown",
   "id": "f46141f8-db06-4d0e-96d8-11cb72473622",
   "metadata": {},
   "source": [
    "- Define a function that takes a list as an input and prints all the element in the list."
   ]
  },
  {
   "cell_type": "code",
   "execution_count": 50,
   "id": "05bfe6fe-efa5-47c2-98d5-f3ffe8354b9a",
   "metadata": {
    "ExecuteTime": {
     "end_time": "2024-04-05T08:17:09.750887Z",
     "start_time": "2024-04-05T08:17:09.635315Z"
    }
   },
   "outputs": [
    {
     "data": {
      "text/plain": "49489698"
     },
     "execution_count": 50,
     "metadata": {},
     "output_type": "execute_result"
    }
   ],
   "source": [
    "def listsum(l):\n",
    "    count = 0\n",
    "    for i in l:\n",
    "        count += i\n",
    "    return count\n",
    "\n",
    "listsum(vectorsmall)\n",
    "listsum(vectorbig)"
   ]
  },
  {
   "cell_type": "code",
   "outputs": [
    {
     "name": "stdout",
     "output_type": "stream",
     "text": [
      "1.19 µs ± 8.49 ns per loop (mean ± std. dev. of 7 runs, 1,000,000 loops each)\n"
     ]
    }
   ],
   "source": [
    "%timeit listsum(vectorsmall)"
   ],
   "metadata": {
    "collapsed": false,
    "ExecuteTime": {
     "end_time": "2024-04-05T08:15:28.031901Z",
     "start_time": "2024-04-05T08:15:18.279527Z"
    }
   },
   "id": "af55eca101a59e32",
   "execution_count": 47
  },
  {
   "cell_type": "code",
   "outputs": [
    {
     "name": "stdout",
     "output_type": "stream",
     "text": [
      "105 ms ± 887 µs per loop (mean ± std. dev. of 7 runs, 10 loops each)\n"
     ]
    }
   ],
   "source": [
    "%timeit listsum(vectorbig)"
   ],
   "metadata": {
    "collapsed": false,
    "ExecuteTime": {
     "end_time": "2024-04-05T08:17:35.173846Z",
     "start_time": "2024-04-05T08:17:26.638201Z"
    }
   },
   "id": "1c2d2001af0f1fbb",
   "execution_count": 51
  },
  {
   "cell_type": "markdown",
   "id": "dba42387-dde0-4404-8bcf-05bc33f1851c",
   "metadata": {},
   "source": [
    "# Quadratic Time (n^2)"
   ]
  },
  {
   "cell_type": "markdown",
   "id": "8ed71039-7c02-4438-affb-5a86645c858f",
   "metadata": {},
   "source": [
    "An algorithm is said to have a quadratic time complexity when it needs to perform a linear time operation for each value in the input data."
   ]
  },
  {
   "cell_type": "markdown",
   "id": "7d7343ce-3387-44f5-a4d2-6979362f012b",
   "metadata": {},
   "source": [
    "- Define a function that takes a 2D list and calculates the sum of all the elements."
   ]
  },
  {
   "cell_type": "code",
   "execution_count": 60,
   "id": "f756026a-dd16-478b-94b1-7775649b8133",
   "metadata": {
    "ExecuteTime": {
     "end_time": "2024-04-05T08:22:25.118053Z",
     "start_time": "2024-04-05T08:22:25.108881Z"
    }
   },
   "outputs": [
    {
     "name": "stdout",
     "output_type": "stream",
     "text": [
      "[ 951 1294 1398 1208 1429]\n",
      "495542\n"
     ]
    }
   ],
   "source": [
    "arrsmall = np.random.randint(0,100,(5,5))\n",
    "arrbig = np.random.randint(0,100,(100,100))\n",
    "\n",
    "def arrsum(arr):\n",
    "    count = 0\n",
    "    for i in arr:\n",
    "        for j in i:\n",
    "            count += j\n",
    "    return count\n",
    "\n",
    "print(arrsum(arrsmall))\n",
    "print(arrsum(arrbig))"
   ]
  },
  {
   "cell_type": "code",
   "outputs": [
    {
     "name": "stdout",
     "output_type": "stream",
     "text": [
      "6.58 µs ± 40.7 ns per loop (mean ± std. dev. of 7 runs, 100,000 loops each)\n"
     ]
    }
   ],
   "source": [
    "%timeit arrsum(arrsmall)"
   ],
   "metadata": {
    "collapsed": false,
    "ExecuteTime": {
     "end_time": "2024-04-05T08:21:49.872902Z",
     "start_time": "2024-04-05T08:21:44.534968Z"
    }
   },
   "id": "e3a5f79dfc8d93f3",
   "execution_count": 59
  },
  {
   "cell_type": "code",
   "outputs": [
    {
     "name": "stdout",
     "output_type": "stream",
     "text": [
      "1.11 ms ± 25.2 µs per loop (mean ± std. dev. of 7 runs, 1,000 loops each)\n"
     ]
    }
   ],
   "source": [
    "%timeit arrsum(arrbig)"
   ],
   "metadata": {
    "collapsed": false,
    "ExecuteTime": {
     "end_time": "2024-04-05T08:21:44.533950Z",
     "start_time": "2024-04-05T08:21:35.431713Z"
    }
   },
   "id": "b2af9b9ca890e340",
   "execution_count": 58
  },
  {
   "cell_type": "markdown",
   "id": "d02513fa-b57c-4aac-bc17-cdd623a1276a",
   "metadata": {},
   "source": [
    "# Exponential Time (2^n)"
   ]
  },
  {
   "cell_type": "markdown",
   "id": "e2223768-c787-4256-be88-c72296867973",
   "metadata": {},
   "source": [
    "The runtime grows exponentially with the size of the input."
   ]
  },
  {
   "cell_type": "markdown",
   "id": "249dc1fd-6e58-46d4-b9f1-407df9de7ed5",
   "metadata": {},
   "source": [
    "- Do you remember the fibonacci solution with recursion?"
   ]
  },
  {
   "cell_type": "code",
   "execution_count": 69,
   "id": "f6f83725-2bcf-4add-95b9-d27edaabc03b",
   "metadata": {
    "ExecuteTime": {
     "end_time": "2024-04-05T08:28:31.733078Z",
     "start_time": "2024-04-05T08:28:31.728747Z"
    }
   },
   "outputs": [],
   "source": [
    "def fibonnacci(n):\n",
    "    if n <= 2:\n",
    "        return 1\n",
    "    else:\n",
    "        return fibonnacci(n-1) + fibonnacci(n-2)"
   ]
  },
  {
   "cell_type": "code",
   "outputs": [
    {
     "data": {
      "text/plain": "1"
     },
     "execution_count": 70,
     "metadata": {},
     "output_type": "execute_result"
    }
   ],
   "source": [
    "fibonnacci(2)"
   ],
   "metadata": {
    "collapsed": false,
    "ExecuteTime": {
     "end_time": "2024-04-05T08:28:31.838789Z",
     "start_time": "2024-04-05T08:28:31.834213Z"
    }
   },
   "id": "8c394c9e7d3dfe6c",
   "execution_count": 70
  },
  {
   "cell_type": "markdown",
   "id": "d4e38072-7e9d-433a-be6b-d3ac740d4c0b",
   "metadata": {},
   "source": [
    "# Logarithmic Time (logn)"
   ]
  },
  {
   "cell_type": "markdown",
   "id": "e05086e6-45c6-46f8-8ee3-d3a99872f9bb",
   "metadata": {},
   "source": [
    "Running time grows in proportion to the logarithm of the input."
   ]
  },
  {
   "cell_type": "code",
   "execution_count": 73,
   "id": "379ec089-95e0-40c9-9ff2-a38e6e7407c5",
   "metadata": {
    "ExecuteTime": {
     "end_time": "2024-04-05T08:38:17.369226Z",
     "start_time": "2024-04-05T08:38:17.365187Z"
    }
   },
   "outputs": [],
   "source": [
    "def number_div(n):\n",
    "    count = 0\n",
    "    while n != 1:\n",
    "        n //= 2\n",
    "        count += 1\n",
    "    return count"
   ]
  },
  {
   "cell_type": "code",
   "execution_count": 85,
   "id": "3a7e71d3-cc05-40b2-aa44-e1e1c4c827c4",
   "metadata": {
    "ExecuteTime": {
     "end_time": "2024-04-05T08:40:14.779314Z",
     "start_time": "2024-04-05T08:40:14.773791Z"
    }
   },
   "outputs": [
    {
     "data": {
      "text/plain": "2"
     },
     "execution_count": 85,
     "metadata": {},
     "output_type": "execute_result"
    }
   ],
   "source": [
    "number_div(5)"
   ]
  },
  {
   "cell_type": "markdown",
   "id": "e48d31f8-dafb-433c-a72f-db1d0b75da35",
   "metadata": {},
   "source": [
    "Others: \n",
    "    \n",
    "Quasilinear Time — O(n log n)\n",
    "\n",
    "Factorial — O(n!)\n"
   ]
  },
  {
   "cell_type": "code",
   "execution_count": null,
   "id": "13c539ec-d0d2-4362-898a-7264149ff282",
   "metadata": {},
   "outputs": [],
   "source": []
  },
  {
   "cell_type": "markdown",
   "id": "f20e3d74-6830-4259-919d-c774315b1e95",
   "metadata": {},
   "source": [
    "### Examples:"
   ]
  },
  {
   "cell_type": "markdown",
   "id": "c1106a9e-9208-4116-a31e-efd2be35d9f6",
   "metadata": {},
   "source": [
    "- Define a function that takes a list as an input and returns the maximum value in the list. \n",
    "\n",
    "What do you think about the time complexity? "
   ]
  },
  {
   "cell_type": "code",
   "execution_count": null,
   "id": "59828897-0cc5-46c8-af96-5509c83db709",
   "metadata": {},
   "outputs": [],
   "source": []
  },
  {
   "cell_type": "code",
   "execution_count": null,
   "id": "b949446f-f398-4732-9434-260138b9393b",
   "metadata": {},
   "outputs": [],
   "source": []
  },
  {
   "cell_type": "markdown",
   "id": "5bc85689-f7ee-4ce1-9a9e-ebc6cde7f88c",
   "metadata": {},
   "source": [
    "- Define a function that takes a list and an integer as \n",
    "\n",
    "an input and returns True if the integer exists in the list. What do you \n",
    "\n",
    "think about the time complexity?"
   ]
  },
  {
   "cell_type": "code",
   "execution_count": null,
   "id": "2d5bdf10-b556-45f0-aeb2-e73aa994612c",
   "metadata": {},
   "outputs": [],
   "source": []
  },
  {
   "cell_type": "code",
   "execution_count": null,
   "id": "4d4af62d-83d1-4738-8d61-2732bcfd67ce",
   "metadata": {},
   "outputs": [],
   "source": []
  },
  {
   "cell_type": "markdown",
   "id": "40d53f16-3bd8-42af-874d-a4afa36fe45b",
   "metadata": {},
   "source": [
    "# Let's plot our own complexity graph."
   ]
  },
  {
   "cell_type": "code",
   "execution_count": null,
   "id": "0911521c-f1d7-4292-abce-4530f8da6949",
   "metadata": {},
   "outputs": [],
   "source": []
  },
  {
   "cell_type": "code",
   "execution_count": null,
   "id": "ff764f24-c42f-4571-bbb6-fc9b98a7132b",
   "metadata": {},
   "outputs": [],
   "source": []
  },
  {
   "cell_type": "code",
   "execution_count": null,
   "id": "10854e5a-c2c7-4dfa-a9aa-a9b1c2622d98",
   "metadata": {},
   "outputs": [],
   "source": []
  }
 ],
 "metadata": {
  "kernelspec": {
   "display_name": "Python 3 (ipykernel)",
   "language": "python",
   "name": "python3"
  },
  "language_info": {
   "codemirror_mode": {
    "name": "ipython",
    "version": 3
   },
   "file_extension": ".py",
   "mimetype": "text/x-python",
   "name": "python",
   "nbconvert_exporter": "python",
   "pygments_lexer": "ipython3",
   "version": "3.12.0"
  }
 },
 "nbformat": 4,
 "nbformat_minor": 5
}
