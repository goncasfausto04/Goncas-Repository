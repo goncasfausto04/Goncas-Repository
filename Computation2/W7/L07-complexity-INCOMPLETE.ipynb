{
 "cells": [
  {
   "cell_type": "markdown",
   "id": "7c2562ee-8187-40c5-a7ba-9e9fbc41be78",
   "metadata": {
    "tags": []
   },
   "source": [
    "# **Computação II** <br/>\n",
    "**Bachelor's Degree Programs in Data Science and Information Systems**<br/>\n",
    "**NOVA IMS**<br/>\n",
    "\n",
    "**NOTE:** Adapted from Prof. Dr. Illya Bakurov's class materials.\n",
    "\n",
    "## References\n",
    "1. [Python ``time`` module, official documentation](https://docs.python.org/3/library/time.html)\n",
    "2. [Python ``timeit`` module, official documentation](https://docs.python.org/3/library/timeit.html)"
   ]
  },
  {
   "cell_type": "markdown",
   "id": "02c4ed4f-f028-49af-b7bb-2cd34a4c99d8",
   "metadata": {},
   "source": [
    "# 1. Comparing algorithms' efficiency"
   ]
  },
  {
   "cell_type": "markdown",
   "id": "16c48d4a-b44a-45ea-9760-f2270185186a",
   "metadata": {},
   "source": [
    "Consider two functions that compute the primary or secondary diagonal of a squared matrix using Python base.\n",
    "\n",
    "<center><img src=\"https://assets.leetcode.com/uploads/2020/08/14/sample_1911.png\" width=300/></center>"
   ]
  },
  {
   "cell_type": "markdown",
   "id": "ff43a500-5a52-4c09-8316-f68d8cbfecbb",
   "metadata": {},
   "source": [
    "Imports ``time`` and ``timeit`` modules to keep track of runtime. Also, imports ``numpy`` to generate random values, and ``matplotlib`` to draw plots."
   ]
  },
  {
   "cell_type": "code",
   "id": "f13a2871-0b25-4b8d-b7ac-9d15831d8657",
   "metadata": {
    "ExecuteTime": {
     "end_time": "2024-04-10T09:35:48.961010Z",
     "start_time": "2024-04-10T09:35:48.956478Z"
    }
   },
   "source": [
    "import time \n",
    "import timeit\n",
    "import numpy as np\n",
    "import matplotlib.pyplot as plt"
   ],
   "outputs": [],
   "execution_count": 42
  },
  {
   "cell_type": "markdown",
   "id": "f7371efe-1007-43a6-b114-6c3efecefff8",
   "metadata": {},
   "source": [
    "Creates an arbitrary matrix and computes the two diagonals using ``numpy``."
   ]
  },
  {
   "cell_type": "code",
   "source": [
    "matrix1 = np.random.randint(1,20,(4,4))\n",
    "print(matrix1)\n",
    "print()\n",
    "print(np.diag(matrix1).sum())\n",
    "print(np.diag(np.fliplr(matrix1)).sum())"
   ],
   "metadata": {
    "collapsed": false,
    "ExecuteTime": {
     "end_time": "2024-04-10T09:35:50.171130Z",
     "start_time": "2024-04-10T09:35:50.165207Z"
    }
   },
   "id": "238b8a7a5e8abfa7",
   "outputs": [
    {
     "name": "stdout",
     "output_type": "stream",
     "text": [
      "[[17  7  9 15]\n",
      " [ 5 16  5  5]\n",
      " [19  7 16 16]\n",
      " [ 5 11  2 16]]\n",
      "\n",
      "65\n",
      "32\n"
     ]
    }
   ],
   "execution_count": 43
  },
  {
   "cell_type": "markdown",
   "id": "5a086032-9904-45c6-a799-a9f8d7602140",
   "metadata": {},
   "source": [
    "## 1.1. Naive approach"
   ]
  },
  {
   "cell_type": "code",
   "id": "cc451b7b-2d50-4803-8eb2-27c3883d4e82",
   "metadata": {
    "ExecuteTime": {
     "end_time": "2024-04-10T09:59:10.133878Z",
     "start_time": "2024-04-10T09:59:10.121978Z"
    }
   },
   "source": [
    "#matrix = [[1, 2, 3], [4, 5, 6], [7, 8, 9]]\n",
    "matrix1 = np.random.randint(1,20,(4,4))\n",
    "print(matrix1)\n",
    "\n",
    "def primcalc(mat,prim = True):\n",
    "    sum = 0\n",
    "    if prim == True:\n",
    "        for i in range(len(mat)):\n",
    "            sum += mat[i][i]\n",
    "    else:\n",
    "        for i in range(len(mat)):\n",
    "            sum += mat[i][len(mat) - i - 1]\n",
    "    return sum\n",
    "\n",
    "primcalc(matrix1,False)    \n"
   ],
   "outputs": [
    {
     "name": "stdout",
     "output_type": "stream",
     "text": [
      "[[ 1  3 15 17]\n",
      " [14 10  1 13]\n",
      " [10 12  5 19]\n",
      " [ 3  6  5 16]]\n"
     ]
    },
    {
     "data": {
      "text/plain": [
       "33"
      ]
     },
     "execution_count": 90,
     "metadata": {},
     "output_type": "execute_result"
    }
   ],
   "execution_count": 90
  },
  {
   "cell_type": "markdown",
   "id": "86171988-ad2b-49b4-90d9-3066f99f8304",
   "metadata": {},
   "source": [
    "Tests ``sum_diagonal_1()``."
   ]
  },
  {
   "cell_type": "code",
   "id": "ea6ad817-462c-4403-a9ac-d92b2e165ae6",
   "metadata": {
    "ExecuteTime": {
     "end_time": "2024-04-10T10:10:29.177680Z",
     "start_time": "2024-04-10T10:10:29.169667Z"
    }
   },
   "source": "timeit.timeit(lambda : primcalc(matrix1,False), number=100)",
   "outputs": [
    {
     "data": {
      "text/plain": [
       "0.0002109999768435955"
      ]
     },
     "execution_count": 118,
     "metadata": {},
     "output_type": "execute_result"
    }
   ],
   "execution_count": 118
  },
  {
   "cell_type": "markdown",
   "id": "684ca258-d4c0-4d10-9149-22a0cc822043",
   "metadata": {},
   "source": [
    "## 1.2. A more efficient approach"
   ]
  },
  {
   "cell_type": "code",
   "execution_count": null,
   "id": "8e6d1353-74fe-468c-aaf5-20f398d88a7e",
   "metadata": {},
   "outputs": [],
   "source": []
  },
  {
   "cell_type": "markdown",
   "id": "88c49639-68cf-47fa-bfaf-1c41d31bee4e",
   "metadata": {},
   "source": [
    "Tests ``sum_diagonal_2()``."
   ]
  },
  {
   "cell_type": "code",
   "execution_count": null,
   "id": "cab216fc-2f2d-4c46-a609-93adf9a10e40",
   "metadata": {},
   "outputs": [],
   "source": []
  },
  {
   "cell_type": "markdown",
   "id": "19406ab6-aeac-4b1a-8c21-398f6484acb1",
   "metadata": {},
   "source": [
    "## 2. The ``timeit`` module\n",
    "\n",
    "The ``timeit`` module is an effective tool to measure the run time of **small** code snippets. It avoids a number of common issues for measuring execution times. \n",
    "\n",
    "Simply saving the time before and after the execution of the code snippet is not precise as there might be a background process momentarily running which can cause significant variations in the running time of small code snippets.\n",
    "\n",
    "The ``timeit`` module allows you to run your snippet *many* times (default value is 1000000) so that you get the *expected* runtime (and other relevant measures). Visit the official documentation [2] for more details."
   ]
  },
  {
   "cell_type": "markdown",
   "id": "e32f25e8-42b3-417f-af0f-e2d3f64e2a7f",
   "metadata": {},
   "source": [
    "Tests ``sum_diagonal_1()``."
   ]
  },
  {
   "cell_type": "code",
   "execution_count": null,
   "id": "7fea4bef-60c3-4ec1-a90e-6b090d569713",
   "metadata": {},
   "outputs": [],
   "source": []
  },
  {
   "cell_type": "markdown",
   "id": "7e600049-8958-4522-a3b0-211a7861dd2c",
   "metadata": {},
   "source": [
    "Tests ``sum_diagonal_2()``."
   ]
  },
  {
   "cell_type": "code",
   "execution_count": null,
   "id": "36c585f8-5371-4b7f-aa7b-377c0b4885dd",
   "metadata": {},
   "outputs": [],
   "source": []
  }
 ],
 "metadata": {
  "kernelspec": {
   "display_name": "Python 3 (ipykernel)",
   "language": "python",
   "name": "python3"
  },
  "language_info": {
   "codemirror_mode": {
    "name": "ipython",
    "version": 3
   },
   "file_extension": ".py",
   "mimetype": "text/x-python",
   "name": "python",
   "nbconvert_exporter": "python",
   "pygments_lexer": "ipython3",
   "version": "3.12.0"
  }
 },
 "nbformat": 4,
 "nbformat_minor": 5
}
