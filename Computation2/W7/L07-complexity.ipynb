{
 "cells": [
  {
   "cell_type": "markdown",
   "id": "7c2562ee-8187-40c5-a7ba-9e9fbc41be78",
   "metadata": {
    "tags": []
   },
   "source": [
    "# **Computação II** <br/>\n",
    "**Bachelor's Degree Programs in Data Science and Information Systems**<br/>\n",
    "**NOVA IMS**<br/>\n",
    "\n",
    "**NOTE:** Adapted from Prof. Dr. Illya Bakurov's class materials.\n",
    "\n",
    "## References\n",
    "1. [Python ``time`` module, official documentation](https://docs.python.org/3/library/time.html)\n",
    "2. [Python ``timeit`` module, official documentation](https://docs.python.org/3/library/timeit.html)"
   ]
  },
  {
   "cell_type": "markdown",
   "id": "02c4ed4f-f028-49af-b7bb-2cd34a4c99d8",
   "metadata": {},
   "source": [
    "# 1. Comparing algorithms' efficiency"
   ]
  },
  {
   "cell_type": "markdown",
   "id": "16c48d4a-b44a-45ea-9760-f2270185186a",
   "metadata": {},
   "source": [
    "Consider two functions that compute the primary or secondary diagonal of a squared matrix using Python base.\n",
    "\n",
    "<center><img src=\"https://assets.leetcode.com/uploads/2020/08/14/sample_1911.png\" width=300/></center>"
   ]
  },
  {
   "cell_type": "markdown",
   "id": "ff43a500-5a52-4c09-8316-f68d8cbfecbb",
   "metadata": {},
   "source": [
    "Imports ``time`` and ``timeit`` modules to keep track of runtime. Also, imports ``numpy`` to generate random values, and ``matplotlib`` to draw plots."
   ]
  },
  {
   "cell_type": "code",
   "id": "f13a2871-0b25-4b8d-b7ac-9d15831d8657",
   "metadata": {
    "ExecuteTime": {
     "end_time": "2024-04-10T09:11:42.404124Z",
     "start_time": "2024-04-10T09:11:41.529986Z"
    }
   },
   "source": [
    "import time \n",
    "import timeit\n",
    "import numpy as np\n",
    "import matplotlib.pyplot as plt"
   ],
   "outputs": [],
   "execution_count": 2
  },
  {
   "cell_type": "markdown",
   "id": "f7371efe-1007-43a6-b114-6c3efecefff8",
   "metadata": {},
   "source": [
    "Creates an arbitrary matrix and computes the two diagonals using ``numpy``."
   ]
  },
  {
   "cell_type": "code",
   "id": "43a1d94c-9e86-483c-9d10-1175b801697e",
   "metadata": {
    "ExecuteTime": {
     "end_time": "2024-04-10T09:11:42.415107Z",
     "start_time": "2024-04-10T09:11:42.406495Z"
    }
   },
   "source": [
    "#matrix = np.array([[1, 2, 3], [4, 5, 6], [7, 8, 9]])\n",
    "matrix = np.random.randint(0, 20, size=(3, 3))\n",
    "print(\"Matrix:\\n\", matrix)\n",
    "print(\"Primary diagonal using NumPy: \", np.diag(matrix).sum())\n",
    "print(\"Secondary diagonal using NumPy: \", np.diag(np.fliplr(matrix)).sum())"
   ],
   "outputs": [
    {
     "name": "stdout",
     "output_type": "stream",
     "text": [
      "Matrix:\n",
      " [[17  9 19]\n",
      " [ 8  8 18]\n",
      " [ 8  2 14]]\n",
      "Primary diagonal using NumPy:  39\n",
      "Secondary diagonal using NumPy:  35\n"
     ]
    }
   ],
   "execution_count": 3
  },
  {
   "cell_type": "markdown",
   "id": "a351aa35-d620-41ea-9afb-317400a0170c",
   "metadata": {},
   "source": [
    "**The purpose of this exercise is to manually implement an efficient and effective function to compute the diagonal of a given squared matrix. Assume that the user can specify which diagonal he/she wants to compute with a parameter of the function.**"
   ]
  },
  {
   "cell_type": "markdown",
   "id": "5a086032-9904-45c6-a799-a9f8d7602140",
   "metadata": {},
   "source": [
    "## 1.1. Naive approach\n",
    "1. In order to iterate over the values of a $n \\times n$ matrix, one needs to use nested for loops: \n",
    "    1. one to iterate over the rows (let $r$ represent the index of a row)\n",
    "    2. another to iterate over the columns (let $c$ represent the index of a column)\n",
    "2. The values on the primary diagonal correspond to the case when $r$ equals $c$\n",
    "3. The values on the secondary diagonal correspond to the case when $r$ equals $n - 1 - c$\n",
    "\n",
    "The time complexity for this algorithm can be defined as $T(n) = cn^2$."
   ]
  },
  {
   "cell_type": "code",
   "execution_count": 53,
   "id": "cc451b7b-2d50-4803-8eb2-27c3883d4e82",
   "metadata": {},
   "outputs": [],
   "source": [
    "def sum_diagonal_1(matrix, primary=True):\n",
    "    diagonal_sum = 0\n",
    "    # For each row \n",
    "    for r, row in enumerate(matrix):\n",
    "        # For each column value at a given row \n",
    "        for c, col_value in enumerate(row):\n",
    "            if primary:\n",
    "                if r == c:\n",
    "                    diagonal_sum += col_value\n",
    "            elif r == len(row)-c-1: \n",
    "                diagonal_sum += col_value\n",
    "    return diagonal_sum"
   ]
  },
  {
   "cell_type": "markdown",
   "id": "86171988-ad2b-49b4-90d9-3066f99f8304",
   "metadata": {},
   "source": [
    "Tests ``sum_diagonal_1()``."
   ]
  },
  {
   "cell_type": "code",
   "execution_count": 48,
   "id": "ea6ad817-462c-4403-a9ac-d92b2e165ae6",
   "metadata": {},
   "outputs": [
    {
     "name": "stdout",
     "output_type": "stream",
     "text": [
      "R: 32. The algorithm took 0.0 seconds\n"
     ]
    }
   ],
   "source": [
    "start = time.time()\n",
    "result = sum_diagonal_1(matrix, False)\n",
    "end = time.time()-start\n",
    "print(\"R: {}. The algorithm took {} seconds\".format(result, end))"
   ]
  },
  {
   "cell_type": "markdown",
   "id": "684ca258-d4c0-4d10-9149-22a0cc822043",
   "metadata": {},
   "source": [
    "## 1.2. A more efficient approach\n",
    "Actually, one can avoid using the inner loop to iterate over every single entry of a matrix. One can simply come up with an expression that is equivalent to $n - 1 - c$ using the row index $r$ alone. \n",
    "\n",
    "1. Iterate over the rows of a $n \\times n$ matrix (let $r$ represent the index of a row)    \n",
    "2. The values on the primary diagonal correspond to the case when $r$ equals $c$\n",
    "3. The values on the secondary diagonal correspond to the case when $r$ equals $n - 1 - r$\n",
    "\n",
    "Time complexity for this algorithm can be defined as $T(n) = cn$."
   ]
  },
  {
   "cell_type": "code",
   "execution_count": 54,
   "id": "8e6d1353-74fe-468c-aaf5-20f398d88a7e",
   "metadata": {},
   "outputs": [],
   "source": [
    "def sum_diagonal_2(matrix, primary=True):\n",
    "    diagonal_sum = 0\n",
    "    for r, row in enumerate(matrix):\n",
    "        if primary:\n",
    "            diagonal_sum += row[r]\n",
    "        else:\n",
    "            diagonal_sum += row[len(row)-1-r]\n",
    "    return diagonal_sum"
   ]
  },
  {
   "cell_type": "markdown",
   "id": "88c49639-68cf-47fa-bfaf-1c41d31bee4e",
   "metadata": {},
   "source": [
    "Tests ``sum_diagonal_2()``."
   ]
  },
  {
   "cell_type": "code",
   "execution_count": 52,
   "id": "cab216fc-2f2d-4c46-a609-93adf9a10e40",
   "metadata": {},
   "outputs": [
    {
     "name": "stdout",
     "output_type": "stream",
     "text": [
      "R: 32. The algorithm took 0.0 seconds\n"
     ]
    }
   ],
   "source": [
    "start = time.time()\n",
    "result = sum_diagonal_2(matrix, False)\n",
    "end = time.time()-start\n",
    "print(\"R: {}. The algorithm took {} seconds\".format(result, end))"
   ]
  },
  {
   "cell_type": "markdown",
   "id": "19406ab6-aeac-4b1a-8c21-398f6484acb1",
   "metadata": {},
   "source": [
    "## 2. The ``timeit`` module\n",
    "\n",
    "The ``timeit`` module is an effective tool to measure the run time of **small** code snippets. It avoids a number of common issues for measuring execution times. \n",
    "\n",
    "Simply saving the time before and after the execution of the code snippet is not precise as there might be a background process momentarily running which can cause significant variations in the running time of small code snippets.\n",
    "\n",
    "The ``timeit`` module allows you to run your snippet *many* times (default value is 1000000) so that you get the *expected* runtime (and other relevant measures). Visit the official documentation [2] for more details."
   ]
  },
  {
   "cell_type": "markdown",
   "id": "e32f25e8-42b3-417f-af0f-e2d3f64e2a7f",
   "metadata": {},
   "source": [
    "Tests ``sum_diagonal_1()``."
   ]
  },
  {
   "cell_type": "code",
   "execution_count": 55,
   "id": "7fea4bef-60c3-4ec1-a90e-6b090d569713",
   "metadata": {},
   "outputs": [
    {
     "name": "stdout",
     "output_type": "stream",
     "text": [
      "The snippet \n",
      "\n",
      "\"\"\"sum_diagonal_1(matrix, False)\"\"\"\n",
      "\n",
      "took 1.689 seconds to execute\n"
     ]
    }
   ],
   "source": [
    "# Code snippet to be executed only once\n",
    "setup1 = '''\n",
    "import numpy as np\n",
    "\n",
    "matrix = np.random.randint(0, 20, size=(100, 100))\n",
    "\n",
    "def sum_diagonal_1(matrix, primary=True):\n",
    "    diagonal_sum = 0\n",
    "    for r, row in enumerate(matrix):\n",
    "        for c, value in enumerate(row):\n",
    "            if primary:\n",
    "                if r == c:\n",
    "                    diagonal_sum += value\n",
    "            elif r == len(row)-1-c:\n",
    "                diagonal_sum += value\n",
    "    return diagonal_sum\n",
    "'''\n",
    "\n",
    "# Code snippet whose execution time is to be measured\n",
    "snippet1 = '''sum_diagonal_1(matrix, False)'''\n",
    "\n",
    "# The timeit statement\n",
    "secs1 = timeit.timeit(setup=setup1, stmt=snippet1, number=1000)\n",
    "print(\"The snippet \\n\\n\\\"\\\"\\\"{}\\\"\\\"\\\"\\n\\ntook {:.3f} seconds to execute\".format(snippet1, secs1))"
   ]
  },
  {
   "cell_type": "markdown",
   "id": "7e600049-8958-4522-a3b0-211a7861dd2c",
   "metadata": {},
   "source": [
    "Tests ``sum_diagonal_2()``."
   ]
  },
  {
   "cell_type": "code",
   "execution_count": 56,
   "id": "36c585f8-5371-4b7f-aa7b-377c0b4885dd",
   "metadata": {},
   "outputs": [
    {
     "name": "stdout",
     "output_type": "stream",
     "text": [
      "The snippet \n",
      "\n",
      "\"\"\"sum_diagonal_2(matrix, False)\"\"\"\n",
      "\n",
      "took 0.036 seconds to execute\n"
     ]
    }
   ],
   "source": [
    "# Code snippet to be executed only once\n",
    "setup2 = '''\n",
    "import numpy as np\n",
    "\n",
    "matrix = np.random.randint(0, 20, size=(100, 100))\n",
    "\n",
    "def sum_diagonal_2(matrix, primary=True):\n",
    "    diagonal_sum = 0\n",
    "    for r, row in enumerate(matrix):\n",
    "        if primary:\n",
    "            diagonal_sum += row[r]\n",
    "        else:\n",
    "            diagonal_sum += row[len(row)-1-r]\n",
    "    return diagonal_sum\n",
    "'''\n",
    "\n",
    "# Code snippet whose execution time is to be measured\n",
    "snippet2 = '''sum_diagonal_2(matrix, False)'''\n",
    "\n",
    "# The timeit statement\n",
    "secs2 = timeit.timeit(setup=setup2, stmt=snippet2, number=1000)\n",
    "print(\"The snippet \\n\\n\\\"\\\"\\\"{}\\\"\\\"\\\"\\n\\ntook {:.3f} seconds to execute\".format(snippet2, secs2))"
   ]
  }
 ],
 "metadata": {
  "kernelspec": {
   "display_name": "Python 3 (ipykernel)",
   "language": "python",
   "name": "python3"
  },
  "language_info": {
   "codemirror_mode": {
    "name": "ipython",
    "version": 3
   },
   "file_extension": ".py",
   "mimetype": "text/x-python",
   "name": "python",
   "nbconvert_exporter": "python",
   "pygments_lexer": "ipython3",
   "version": "3.12.0"
  }
 },
 "nbformat": 4,
 "nbformat_minor": 5
}
