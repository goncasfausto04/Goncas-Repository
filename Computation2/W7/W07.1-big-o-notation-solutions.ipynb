{
 "cells": [
  {
   "cell_type": "markdown",
   "id": "b5ef8ce5-86d1-4a33-bf7e-ac65c2f258b0",
   "metadata": {},
   "source": [
    "# **Computation II: Algorithms & Data Structures** <br/>\n",
    "**Bachelor's Degree Programs in Data Science and Information Systems**<br/>\n",
    "**NOVA IMS**<br/>\n",
    "\n",
    "## Week 7: Big - O Notation"
   ]
  },
  {
   "cell_type": "markdown",
   "id": "b743e330-7e08-4482-8bee-f22026ea4be3",
   "metadata": {},
   "source": [
    "# Time Complexity\n",
    "\n",
    "O(N): When you arrive at a party, you have to shake everyone's hand.\n",
    "\n",
    "O(N^2): Everyone meets everyone else. \n",
    "\n",
    "O(N^3): You have to meet everyone else and, during each meeting, you must talk about everyone else in the room.\n",
    "\n",
    "O(1): The host wants to announce something.\n",
    "\n",
    "O(logN): The host has laid everyone out at the table in alphabetical order. Where is Dan?\n",
    "\n"
   ]
  },
  {
   "cell_type": "code",
   "execution_count": 1,
   "id": "4d4e97b3-aa19-4d72-a53a-a32ece5c870e",
   "metadata": {},
   "outputs": [
    {
     "data": {
      "text/plain": [
       "Text(0, 0.5, 'Runtime')"
      ]
     },
     "execution_count": 1,
     "metadata": {},
     "output_type": "execute_result"
    },
    {
     "data": {
      "image/png": "[encoded data removed]",
      "text/plain": [
       "<Figure size 432x288 with 1 Axes>"
      ]
     },
     "metadata": {
      "needs_background": "light"
     },
     "output_type": "display_data"
    }
   ],
   "source": [
    "import numpy as np\n",
    "from matplotlib import pyplot as plt\n",
    "\n",
    "n = np.arange(1,11,0.1)\n",
    "my_dictionary = {\"constant\":np.ones(len(n)),\"linear\":n,\"quadratic\":n**2,\n",
    "                 \"exponential\":2**n,\"logarithmic\":np.log(n)}\n",
    "plt.ylim(0,100)\n",
    "for key in my_dictionary:\n",
    "    plt.plot(n, my_dictionary[key], label=key)\n",
    "plt.legend()\n",
    "plt.xlabel(\"Input Size\")\n",
    "plt.ylabel(\"Runtime\")"
   ]
  },
  {
   "cell_type": "markdown",
   "id": "f116f244-2954-47a4-904c-66f3dcc9e989",
   "metadata": {},
   "source": [
    "- Define a function that takes a list as an input and returns the maximum value in the list. \n",
    "What do you think about the time complexity? "
   ]
  },
  {
   "cell_type": "code",
   "execution_count": 2,
   "id": "476bcf81-e256-4bc6-a95a-1807629a9775",
   "metadata": {},
   "outputs": [
    {
     "data": {
      "text/plain": [
       "7"
      ]
     },
     "execution_count": 2,
     "metadata": {},
     "output_type": "execute_result"
    }
   ],
   "source": [
    "def maxx(lt):\n",
    "    max_num = lt[0]\n",
    "    for element in lt:\n",
    "        if element > max_num:\n",
    "            max_num = element\n",
    "    return max_num\n",
    "maxx([1,2,3,4,5,6,7])\n",
    "\n",
    "# O(N)"
   ]
  },
  {
   "cell_type": "markdown",
   "id": "1d4f4a12-2469-4f1e-98ca-e43c6ab8957e",
   "metadata": {},
   "source": [
    "- Define a function that takes a list and an integer as \n",
    "an input and returns True if the integer exists in the list. What do you \n",
    "think about the time complexity?"
   ]
  },
  {
   "cell_type": "code",
   "execution_count": 3,
   "id": "bc685e50-1f95-4883-89c1-958bfe01e88a",
   "metadata": {},
   "outputs": [
    {
     "data": {
      "text/plain": [
       "True"
      ]
     },
     "execution_count": 3,
     "metadata": {},
     "output_type": "execute_result"
    }
   ],
   "source": [
    "def find(lt,num):\n",
    "    for element in lt:\n",
    "        if element == num:\n",
    "            return True\n",
    "    return False\n",
    "\n",
    "find([1,2,3,4,5],3)\n",
    "\n",
    "# O(N)"
   ]
  },
  {
   "cell_type": "markdown",
   "id": "6abe0b17-f712-4bc3-a9bd-423bf9e226f1",
   "metadata": {
    "tags": []
   },
   "source": [
    "# Ground rules while calculating the Big O:\n",
    "Drop the constant values\n",
    "\n",
    "Drop the non-dominant terms"
   ]
  },
  {
   "cell_type": "markdown",
   "id": "a1505f01-9cb0-42f2-a224-67ee632e1637",
   "metadata": {},
   "source": [
    "O(1) < O(log N) < O(N) < O(N^2) < O(N^3) < O(k^n)"
   ]
  },
  {
   "cell_type": "markdown",
   "id": "0a6a45f2-f66b-4a9d-a88a-eb7b7e87348f",
   "metadata": {},
   "source": [
    "- Let's simplify these notations"
   ]
  },
  {
   "cell_type": "raw",
   "id": "7d44e2ac-5650-4b65-accf-3b00332ee0f7",
   "metadata": {},
   "source": [
    "O(10000) = O(1)\n",
    "\n",
    "O(n + 1000000) = O(N)\n",
    "\n",
    "O(33n + log(n)) = O(N)\n",
    "\n",
    "O(n² + n) = O(N^2)\n",
    "\n",
    "O(1000n² + 1000n + 999) = O(N^2)\n",
    "\n",
    "O(0.000000001n³ + 4n² + 100000n + 999) = O(N^3)\n",
    "\n",
    "O(10 * n³ + 33n) = O(N^3)\n",
    "\n",
    "O(n³ + 50n2 + 10000) = O(N^3)\n",
    "\n",
    "O((n + 30) * (n + 5)) = O(N^2)"
   ]
  },
  {
   "cell_type": "markdown",
   "id": "0b6b09f8-9c07-4854-9a02-0d876f9c013b",
   "metadata": {},
   "source": [
    "- What do you think about the complexity of the code below?"
   ]
  },
  {
   "cell_type": "code",
   "execution_count": 4,
   "id": "cbb2a621-7edc-46e9-a031-853a68f4e4e6",
   "metadata": {},
   "outputs": [],
   "source": [
    "def is_prime(n): \n",
    "    for i in range(2,n):   \n",
    "        if n % i == 0:       \n",
    "            return False   \n",
    "    return True            "
   ]
  },
  {
   "cell_type": "markdown",
   "id": "8201d467-94ce-4840-9ca0-ca3d28b4f7b6",
   "metadata": {},
   "source": [
    "O(N)"
   ]
  },
  {
   "cell_type": "markdown",
   "id": "d572a943-ee45-4a60-b3f8-e81d52bb7e14",
   "metadata": {},
   "source": [
    "- Let's calculate the complexity of the code below."
   ]
  },
  {
   "cell_type": "code",
   "execution_count": 5,
   "id": "97eccec3-6cdc-42d6-b486-048780f7e120",
   "metadata": {},
   "outputs": [],
   "source": [
    "N = 3\n",
    "count = 0\n",
    "for i in range(N):\n",
    "    count += 1\n",
    "for i in range(N,0,-1):\n",
    "    count += 1"
   ]
  },
  {
   "cell_type": "markdown",
   "id": "765bb243-ea3f-4490-a655-de0daf7f7a12",
   "metadata": {},
   "source": [
    "1 + 1 + N*1 + N*1 = 2N + 2 = O(N)"
   ]
  },
  {
   "cell_type": "markdown",
   "id": "eacec184-ee89-4758-a907-3caebd907914",
   "metadata": {},
   "source": [
    "- Let's calculate the complexity of the code below."
   ]
  },
  {
   "cell_type": "code",
   "execution_count": 6,
   "id": "d5608583-5d16-47ae-a6d3-60a95b93c3cb",
   "metadata": {},
   "outputs": [],
   "source": [
    "count = 0\n",
    "N = 3\n",
    "for i in range(N):\n",
    "    for j in range(5):\n",
    "        count += 1"
   ]
  },
  {
   "cell_type": "markdown",
   "id": "831ef5ff-9c53-4281-966f-cf69db7b50e1",
   "metadata": {},
   "source": [
    "1 + 1 + N*5*1 = 5N + 2 = O(N)"
   ]
  },
  {
   "cell_type": "markdown",
   "id": "ffc83b9f-591f-48f1-ad4e-0204b589fd9a",
   "metadata": {},
   "source": [
    "- Another one"
   ]
  },
  {
   "cell_type": "code",
   "execution_count": 7,
   "id": "73344213-8290-44f9-9759-f63787e4ffb4",
   "metadata": {},
   "outputs": [],
   "source": [
    "n = 5\n",
    "\n",
    "a=5\n",
    "b=6\n",
    "c=10\n",
    "for i in range(n):\n",
    "    for j in range(n):\n",
    "        x = i * i   \n",
    "        y = j * j     \n",
    "        z = i * j    \n",
    "for k in range(n):\n",
    "    w = a*k + 45    \n",
    "    v = b*b        \n",
    "d = 33"
   ]
  },
  {
   "cell_type": "markdown",
   "id": "3747a37d-e887-4b95-b50c-52fb109942c0",
   "metadata": {},
   "source": [
    "3 + N*N*3 + N*2 + 1 = 3N^2 + 2N + 4 = O(N^2)"
   ]
  },
  {
   "cell_type": "markdown",
   "id": "77102f32-d338-44b6-a5f6-39375e922f48",
   "metadata": {},
   "source": [
    "- Another one"
   ]
  },
  {
   "cell_type": "code",
   "execution_count": 8,
   "id": "272c8972-f371-49f6-bf77-0caabedb3643",
   "metadata": {
    "tags": []
   },
   "outputs": [],
   "source": [
    "def first(n):\n",
    "    i = 1     \n",
    "    sum = 0 \n",
    "    while i <= n:\n",
    "        sum += second(n)  \n",
    "        i += 1\n",
    "    return sum\n",
    "\n",
    "def second(n):\n",
    "    i = 1  \n",
    "    sum = 0 \n",
    "    while i <= n: \n",
    "        sum += i**3\n",
    "        i += 1\n",
    "    return sum"
   ]
  },
  {
   "cell_type": "markdown",
   "id": "aaf3493b-16a7-4239-9184-9317837109c8",
   "metadata": {},
   "source": [
    "2 + N*(O(second)+1)\n",
    "\n",
    "O(second) = 2 + N*2 = 2N + 2\n",
    "\n",
    "2 + N*(O(second)+1) = 2 + N*(2N + 2 +1) = 2N^2 + 3N + 2 = O(N^2)\n"
   ]
  },
  {
   "cell_type": "markdown",
   "id": "0fe3f40d-8631-46f0-b1f5-a4158cdf5308",
   "metadata": {},
   "source": [
    "- Well, you know the deal"
   ]
  },
  {
   "cell_type": "code",
   "execution_count": 9,
   "id": "f56ffcd9-de62-4157-ab8c-7dbc9542eda3",
   "metadata": {},
   "outputs": [
    {
     "name": "stdout",
     "output_type": "stream",
     "text": [
      "iter\n",
      "iter\n",
      "iter\n"
     ]
    },
    {
     "data": {
      "text/plain": [
       "14.0"
      ]
     },
     "execution_count": 9,
     "metadata": {},
     "output_type": "execute_result"
    }
   ],
   "source": [
    "def a_random_function(n):\n",
    "    sum = 0\n",
    "    while n >= 2:\n",
    "        sum += n\n",
    "        print(\"iter\")\n",
    "        n = n / 2\n",
    "    return sum\n",
    "\n",
    "a_random_function(8)"
   ]
  },
  {
   "cell_type": "markdown",
   "id": "27925bc4-f785-46d6-b937-7320189679ef",
   "metadata": {},
   "source": [
    "size = 8, number of iters = 3\n",
    "\n",
    "O(logN)"
   ]
  },
  {
   "cell_type": "markdown",
   "id": "a5a13986-d634-4bbc-8fbb-60bd296ebd0a",
   "metadata": {},
   "source": [
    "- Same"
   ]
  },
  {
   "cell_type": "code",
   "execution_count": 11,
   "id": "1164c8a0-23e5-416b-bd21-d9e0cd6e2e1f",
   "metadata": {
    "tags": []
   },
   "outputs": [
    {
     "name": "stdout",
     "output_type": "stream",
     "text": [
      "Python is awesome\n",
      "Python is awesome\n",
      "Python is awesome\n",
      "Python is awesome\n",
      "Python is awesome\n",
      "4\n",
      "5\n",
      "6\n",
      "8\n",
      "4\n",
      "5\n",
      "6\n",
      "8\n",
      "Big O\n",
      "Big O\n",
      "Big O\n"
     ]
    }
   ],
   "source": [
    "def complex_algo(items):\n",
    "\n",
    "    for i in range(5):\n",
    "        print(\"Python is awesome\")\n",
    "\n",
    "    for item in items:\n",
    "        print(item) \n",
    "\n",
    "    for item in items:\n",
    "        print(item)   \n",
    "\n",
    "    print(\"Big O\") \n",
    "    print(\"Big O\") \n",
    "    print(\"Big O\") \n",
    "\n",
    "complex_algo([4, 5, 6, 8])"
   ]
  },
  {
   "cell_type": "markdown",
   "id": "002cf4a9-8ecb-4a8a-bc6a-56d64d65bb25",
   "metadata": {},
   "source": [
    "O( 5*1  + N*1  + N*1  + 3) = O(2N + 8) = O(N)"
   ]
  },
  {
   "cell_type": "markdown",
   "id": "738e9ca3-23eb-4fd3-a953-84f46dd14d5c",
   "metadata": {},
   "source": [
    "- Yet another one"
   ]
  },
  {
   "cell_type": "code",
   "execution_count": 12,
   "id": "9cebb322-4fac-4f11-af94-3987ea043002",
   "metadata": {},
   "outputs": [
    {
     "name": "stdout",
     "output_type": "stream",
     "text": [
      "12\n"
     ]
    }
   ],
   "source": [
    "def nonsense(n):\n",
    "    x = 0    \n",
    "    for i in n:\n",
    "        y = 2*i   \n",
    "        x += y    \n",
    "    return x\n",
    "\n",
    "print(nonsense([1,2,3]))"
   ]
  },
  {
   "cell_type": "markdown",
   "id": "f7a4da5e-e0b4-4495-8a2f-2b0d1ae40f0b",
   "metadata": {},
   "source": [
    "O ( 1 + N*2 ) = O(N)"
   ]
  },
  {
   "cell_type": "markdown",
   "id": "57c0750e-a699-41b7-9c2f-bbe362687c2a",
   "metadata": {},
   "source": [
    "- I should have given numbers for the exercises"
   ]
  },
  {
   "cell_type": "code",
   "execution_count": 14,
   "id": "f67917b9-d21d-4c9e-85ef-b740e54894e4",
   "metadata": {},
   "outputs": [
    {
     "name": "stdout",
     "output_type": "stream",
     "text": [
      "0 0\n",
      "0 1\n",
      "0 2\n",
      "1 0\n",
      "1 1\n",
      "1 2\n",
      "2 0\n",
      "2 1\n",
      "2 2\n",
      "0\n",
      "1\n",
      "2\n"
     ]
    }
   ],
   "source": [
    "def print_coord(n):\n",
    "\n",
    "    for i in range(n):\n",
    "        for j in range(n):\n",
    "            print(i,j)\n",
    "\n",
    "    for i in range(n):\n",
    "        print(i)\n",
    "\n",
    "print_coord(3)"
   ]
  },
  {
   "cell_type": "markdown",
   "id": "cba85c00-fe97-4c63-b2e7-e4b88aafa3f2",
   "metadata": {},
   "source": [
    "O( N*N*1 + N*1 ) = O(N^2 + N) = O(N^2)"
   ]
  },
  {
   "cell_type": "markdown",
   "id": "ffa22e02-6b70-4ca8-a159-4ec17dc7a3ea",
   "metadata": {},
   "source": [
    "- Exercise 1"
   ]
  },
  {
   "cell_type": "code",
   "execution_count": null,
   "id": "1239a152-3f94-422a-8c41-ba2354a0dac4",
   "metadata": {},
   "outputs": [],
   "source": [
    "def foo(lst):\n",
    "    mid = len(lst) // 2\n",
    "    if len(lst) <= 1:\n",
    "        return lst\n",
    "    else:\n",
    "        print(\"calling\")\n",
    "        return foo(lst[:mid])\n",
    "\n",
    "foo(\"1234123412341234\")"
   ]
  },
  {
   "cell_type": "markdown",
   "id": "a2a87d07-560e-4e46-8e51-c1a9a5c49f0e",
   "metadata": {},
   "source": [
    "# getting the half each time\n",
    "O(logN)"
   ]
  },
  {
   "cell_type": "markdown",
   "id": "c015d745-8125-4cd7-b053-6a968baf5914",
   "metadata": {},
   "source": [
    "- Exercise 2"
   ]
  },
  {
   "cell_type": "code",
   "execution_count": null,
   "id": "f5d3a22b-52d9-48e0-9d5f-0b93a154eca1",
   "metadata": {},
   "outputs": [],
   "source": [
    "def weird_function(lt):\n",
    "    print(f\"First element is lt[0]\")\n",
    "    for i in range(len(lt)/2):\n",
    "        print(lt[i])\n",
    "    for i in range(10):\n",
    "        print(\"Hi!\")"
   ]
  },
  {
   "cell_type": "markdown",
   "id": "e678792b-5e54-4b33-a37b-f20bc1cff115",
   "metadata": {},
   "source": [
    "O(1 + N/2*1 + 10*1) = O(N/2 + 11) = O(N)"
   ]
  },
  {
   "cell_type": "markdown",
   "id": "c1a64a51-db9a-4a30-a27c-215f02719e68",
   "metadata": {},
   "source": [
    "# Let's measure the time!"
   ]
  },
  {
   "cell_type": "code",
   "execution_count": null,
   "id": "51f980f3-0006-4c40-b058-c6fa9eb1e881",
   "metadata": {},
   "outputs": [],
   "source": [
    "import timeit\n",
    "import matplotlib.pyplot as plt"
   ]
  },
  {
   "cell_type": "code",
   "execution_count": null,
   "id": "055e3e24-429d-43d4-a2ea-9ef42286cac6",
   "metadata": {},
   "outputs": [],
   "source": [
    "def my_func():\n",
    "    return 1+1\n",
    "\n",
    "time_taken = timeit.timeit(my_func, number=100)\n",
    "\n",
    "print(f\"Time taken is {time_taken} seconds\")"
   ]
  },
  {
   "cell_type": "code",
   "execution_count": null,
   "id": "11be4632-4eb2-4109-b920-baa9636c37db",
   "metadata": {},
   "outputs": [],
   "source": [
    "def my_func(a,b):\n",
    "    return a+b\n",
    "\n",
    "time_taken = timeit.timeit(lambda:my_func(2,3), number=100)\n",
    "\n",
    "print(f\"Time taken is {time_taken} seconds\")"
   ]
  },
  {
   "cell_type": "code",
   "execution_count": null,
   "id": "f9509f8f-b83f-4e81-9e6f-4db91f754017",
   "metadata": {},
   "outputs": [],
   "source": [
    "%timeit x = 1+1"
   ]
  },
  {
   "cell_type": "code",
   "execution_count": null,
   "id": "9e01825a-4b5e-41fb-bc99-ec83d15b7b08",
   "metadata": {},
   "outputs": [],
   "source": [
    "def my_func(a,b):\n",
    "    result = a+b\n",
    "    return result\n",
    "\n",
    "%timeit my_func(3,2)"
   ]
  },
  {
   "cell_type": "code",
   "execution_count": null,
   "id": "91424db6-917b-42f3-b9aa-ea9871b2d6da",
   "metadata": {},
   "outputs": [],
   "source": [
    "import random\n",
    "\n",
    "# a linear function\n",
    "def sum_list(lst):\n",
    "    total = 0\n",
    "    for element in lst:\n",
    "        total += element\n",
    "    return total\n",
    "\n",
    "# creating data with lists of different sizes\n",
    "data = []\n",
    "for size in range(1,11):\n",
    "    lst = [random.randint(1,5) for i in range(size)]\n",
    "    data.append(lst)\n",
    "\n",
    "# y axis\n",
    "execution_time = []\n",
    "\n",
    "# calling the function with a different list each time\n",
    "for lst in data:\n",
    "    time = %timeit -r 1 -o sum_list(lst)\n",
    "    execution_time.append(time.best)\n",
    "    \n",
    "# plot(x,y)\n",
    "plt.plot(range(1,11),execution_time)"
   ]
  },
  {
   "cell_type": "code",
   "execution_count": null,
   "id": "9fecb461-a997-46c9-a892-31e6ecd2862a",
   "metadata": {},
   "outputs": [],
   "source": []
  },
  {
   "cell_type": "code",
   "execution_count": null,
   "id": "587fdfff-ff5c-45ec-a67f-4641a89c5582",
   "metadata": {},
   "outputs": [],
   "source": []
  }
 ],
 "metadata": {
  "kernelspec": {
   "display_name": "Python 3 (ipykernel)",
   "language": "python",
   "name": "python3"
  },
  "language_info": {
   "codemirror_mode": {
    "name": "ipython",
    "version": 3
   },
   "file_extension": ".py",
   "mimetype": "text/x-python",
   "name": "python",
   "nbconvert_exporter": "python",
   "pygments_lexer": "ipython3",
   "version": "3.12.0"
  }
 },
 "nbformat": 4,
 "nbformat_minor": 5
}
