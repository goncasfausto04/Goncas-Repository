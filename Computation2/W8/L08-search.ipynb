{
 "cells": [
  {
   "cell_type": "markdown",
   "id": "7c2562ee-8187-40c5-a7ba-9e9fbc41be78",
   "metadata": {
    "tags": []
   },
   "source": [
    "# **Computação II** <br/>\n",
    "**Bachelor's Degree Programs in Data Science and Information Systems**<br/>\n",
    "**NOVA IMS**<br/>\n",
    "\n",
    "**NOTE:** Adapted from Prof. Dr. Illya Bakurov's class materials.\n",
    "\n",
    "## References\n",
    "1. [Python ``timeit`` module, official documentation](https://docs.python.org/3/library/timeit.html)"
   ]
  },
  {
   "cell_type": "markdown",
   "id": "02c4ed4f-f028-49af-b7bb-2cd34a4c99d8",
   "metadata": {},
   "source": [
    "# 1. Search for a specific value in an sequence."
   ]
  },
  {
   "cell_type": "markdown",
   "id": "16c48d4a-b44a-45ea-9760-f2270185186a",
   "metadata": {},
   "source": [
    "Consider two approaches that find a given value in an array (vector).\n",
    "\n",
    "<center><img src=\"https://www.w3resource.com/w3r_images/numpy-basic-image-exercise-15.png\" width=400/></center>"
   ]
  },
  {
   "cell_type": "markdown",
   "id": "ff43a500-5a52-4c09-8316-f68d8cbfecbb",
   "metadata": {},
   "source": [
    "Imports ``timeit`` modules to keep track of the runtime. Also, imports ``numpy`` to generate random values, and ``matplotlib`` to draw plots."
   ]
  },
  {
   "cell_type": "code",
   "execution_count": 1,
   "id": "f13a2871-0b25-4b8d-b7ac-9d15831d8657",
   "metadata": {},
   "outputs": [],
   "source": [
    "import time \n",
    "import timeit\n",
    "import numpy as np\n",
    "import matplotlib.pyplot as plt"
   ]
  },
  {
   "cell_type": "markdown",
   "id": "f7371efe-1007-43a6-b114-6c3efecefff8",
   "metadata": {},
   "source": [
    "Creates a vector of integer values using ``numpy``."
   ]
  },
  {
   "cell_type": "code",
   "execution_count": 2,
   "id": "43a1d94c-9e86-483c-9d10-1175b801697e",
   "metadata": {},
   "outputs": [
    {
     "name": "stdout",
     "output_type": "stream",
     "text": [
      "Vector: [30 32 34 36 38 40 42 44 46 48] of length 10\n"
     ]
    }
   ],
   "source": [
    "vec = np.arange(30, 50, 2) \n",
    "n = len(vec)\n",
    "print(\"Vector: {} of length {}\".format(vec, n))"
   ]
  },
  {
   "cell_type": "markdown",
   "id": "a351aa35-d620-41ea-9afb-317400a0170c",
   "metadata": {},
   "source": [
    "**The purpose of this exercise is to manually implement an efficient and effective function to return the position (index) of a user-specified value in a vector.** For the sake of simplicity, if the value is repeated, return the index of the first-found value."
   ]
  },
  {
   "cell_type": "markdown",
   "id": "5a086032-9904-45c6-a799-a9f8d7602140",
   "metadata": {},
   "source": [
    "## 1.1. Linear search\n",
    "Find the index of a user-specified value $val$:\n",
    "1. Iterate over every single position $i$ in the vector $vec$, starting from $i=0$\n",
    "    1. If the value at $i$ equals $val$, return $i$\n",
    "    2. Alternatively, move to $i+1$\n",
    "2. If the value was not found, return -1\n",
    "\n",
    "The time complexity for this algorithm can be defined as $O(n)$."
   ]
  },
  {
   "cell_type": "code",
   "execution_count": 7,
   "id": "cc451b7b-2d50-4803-8eb2-27c3883d4e82",
   "metadata": {},
   "outputs": [],
   "source": [
    "def search_linear(vec, val):    \n",
    "    for i, val_i in enumerate(vec):\n",
    "        if val_i==val:\n",
    "            return i\n",
    "    return -1 "
   ]
  },
  {
   "cell_type": "markdown",
   "id": "86171988-ad2b-49b4-90d9-3066f99f8304",
   "metadata": {},
   "source": [
    "Tests ``search_linear()``."
   ]
  },
  {
   "cell_type": "code",
   "execution_count": 8,
   "id": "ea6ad817-462c-4403-a9ac-d92b2e165ae6",
   "metadata": {},
   "outputs": [
    {
     "name": "stdout",
     "output_type": "stream",
     "text": [
      "Vector: [30 32 34 36 38 40 42 44 46 48] of length 10\n",
      "The value 29 can be found at index -1\n",
      "The value 30 can be found at index 0\n",
      "The value 33 can be found at index -1\n",
      "The value 34 can be found at index 2\n",
      "The value 42 can be found at index 6\n",
      "The value 48 can be found at index 9\n",
      "The value 50 can be found at index -1\n"
     ]
    }
   ],
   "source": [
    "print(\"Vector: {} of length {}\".format(vec, n))\n",
    "vals = [29, 30, 33, 34, 42, 48, 50]\n",
    "for val in vals:\n",
    "    idx = search_linear(vec, val)\n",
    "    print(\"The value {} can be found at index {}\".format(val, idx))"
   ]
  },
  {
   "cell_type": "markdown",
   "id": "684ca258-d4c0-4d10-9149-22a0cc822043",
   "metadata": {},
   "source": [
    "## 1.2. A more efficient approach: binary search\n",
    "Binary search can be particularly useful when searching for a value in a sorted vector. Consider the following visualization:\n",
    "\n",
    "<center><img src=\"https://jojozhuang.github.io/assets/images/algorithm/1211/binarysearch.png\" width=400/></center>\n",
    "\n",
    "**Given a sorted vector** $vec$, to find the index $i$ of a user-specified value $val$:\n",
    "1. Compare $val$ with the value at the index representing one-half of $vec$ (i.e., the middle value)\n",
    "2. If $val$ equals the middle value, return its index $i$\n",
    "3. If $val$ is smaller than the middle value, then your problem gets logically reduced to finding $val$ in the first half of $vec$\n",
    "3. If $val$ is larger than the middle value, then your problem gets logically reduced to finding $val$ in the second half of $vec$\n",
    "\n",
    "The time complexity for this algorithm is:\n",
    "- definitely below $O(n)$, since not all the values in $vec$ will be compared to $val$ (in the worst case)\n",
    "- definitely larger than $O(1)$, since more than one basic operation has to be performed, and it is always a function of $n$\n",
    "- therefore, between $O(1)$ and $O(n)$: $O(log(n))$. In the next class, we will see precisely why $log(n)$ is being used."
   ]
  },
  {
   "cell_type": "markdown",
   "id": "15865b2d-525c-4e53-9d60-1fbe81e48d2d",
   "metadata": {},
   "source": [
    "First attempt (blindly following the pseudo-code) using recursion. Recall that:\n",
    "\n",
    "\"*A recurrence relation defines a function by means of an expression that includes one or more (smaller) instances of itself.*\"\n",
    "\n",
    "From the mechanics of binary search and the pseudo-code, we can clearly see that every recurrent call of the function implies a reduction of the search space by a factor of two (roughly). In this sense, the parameters ``idx_start`` and ``idx_end`` are necessary to reference the starting and the ending indices of the vector $vec$ throughout the recursive calls."
   ]
  },
  {
   "cell_type": "code",
   "execution_count": 10,
   "id": "5dd0251d-c976-4723-9a61-30ddf66a0d91",
   "metadata": {},
   "outputs": [],
   "source": [
    "def search_binary(vec, val, idx_start, idx_end):\n",
    "    # 1 and 2\n",
    "    idx_half = (idx_start + idx_end) // 2    \n",
    "    if val==vec[idx_half]:\n",
    "        return idx_half\n",
    "    # 3.\n",
    "    elif val > vec[idx_half]:\n",
    "        return search_binary(vec, val, idx_half + 1, idx_end)    \n",
    "    # 4.    \n",
    "    else:  #elif val < vec[idx_half]:\n",
    "        return search_binary(vec, val, idx_start, idx_half - 1)    "
   ]
  },
  {
   "cell_type": "markdown",
   "id": "0794879b-936e-4763-8bc6-4e1dc0694eb3",
   "metadata": {},
   "source": [
    "Tests ``search_binary()`` using some values that are present in the vector."
   ]
  },
  {
   "cell_type": "code",
   "execution_count": 11,
   "id": "9cef9c6e-daa8-4a2d-8963-08583b61d071",
   "metadata": {},
   "outputs": [
    {
     "name": "stdout",
     "output_type": "stream",
     "text": [
      "Vector: [30 32 34 36 38 40 42 44 46 48] of length 10\n",
      "The value 30 can be found at index 0\n",
      "The value 34 can be found at index 2\n",
      "The value 42 can be found at index 6\n",
      "The value 48 can be found at index 9\n"
     ]
    }
   ],
   "source": [
    "print(\"Vector: {} of length {}\".format(vec, n))\n",
    "vals = [30, 34, 42, 48]\n",
    "for val in vals:\n",
    "    idx = search_binary(vec, val, 0, len(vec)-1)\n",
    "    print(\"The value {} can be found at index {}\".format(val, idx))"
   ]
  },
  {
   "cell_type": "markdown",
   "id": "a672d91e-aadf-4f52-9cb9-2805da93e24e",
   "metadata": {},
   "source": [
    "Tests ``search_binary()`` with a value that is not in the vector. **Note that you might need to restart your kernel and re-run the code-cells above after running the code cell below.**"
   ]
  },
  {
   "cell_type": "code",
   "execution_count": null,
   "id": "99db8059-6765-48a1-acc1-a68656592560",
   "metadata": {},
   "outputs": [],
   "source": [
    "val = 33\n",
    "idx = search_binary(vec, val, 0, len(vec)-1)\n",
    "print(\"The value {} can be found at index {}\".format(val, idx))"
   ]
  },
  {
   "cell_type": "markdown",
   "id": "f324e1c4-6d30-4ede-ae51-f8778a11ea92",
   "metadata": {},
   "source": [
    "It seems like the function ``search_binary()`` does not take into account the case when the value $val$ is not present in the vector... this can be formalized a pair of additional termination conditions (in bold):\n",
    "\n",
    "1. **If $vec$ has only one value:**\n",
    "    1. **return the index of the value in $vec$, if it is equal to $val$**\n",
    "    2. **return -1**\n",
    "2. **If $vec$ has only two values:**\n",
    "    1. **return the index of the first value in $vec$, if it is equal to $val$**\n",
    "    2. **return the index of the second value in $vec$, if it is equal to $val$**\n",
    "    3. **return -1**\n",
    "3. Compare $val$ with the value at the index representing one-half of $vec$ (i.e., the middle value)\n",
    "4. If $val$ equals the middle value, return its index $i$\n",
    "5. If $val$ is smaller than the middle value, then your problem gets logically reduced to finding $val$ in the first half of $vec$\n",
    "6. If $val$ is larger than the middle value, then your problem gets logically reduced to finding $val$ in the second half of $vec$\n",
    "\n",
    "Consider a second (debugged) attempt."
   ]
  },
  {
   "cell_type": "code",
   "execution_count": 4,
   "id": "43e875e4-54a7-465c-b931-fb1e0b661a36",
   "metadata": {},
   "outputs": [],
   "source": [
    "def search_binary(vec, val, idx_start, idx_end):\n",
    "    # Stopping condition 1: case when only one value is in the vector\n",
    "    if idx_end==idx_start:\n",
    "        if vec[idx_end] == val:\n",
    "            return idx_end\n",
    "        else:\n",
    "            return - 1\n",
    "    # Stopping condition 2: case when only two values are in the vector\n",
    "    if idx_end - idx_start == 1:\n",
    "        if vec[idx_start]==val:\n",
    "            return idx_start\n",
    "        elif vec[idx_end] == val:\n",
    "            return idx_end\n",
    "        else:\n",
    "            return - 1    \n",
    "    else:\n",
    "        idx_half = (idx_start + idx_end) // 2    \n",
    "        # Stopping condition 3: case when the value is in the middle position\n",
    "        if val==vec[idx_half]:\n",
    "            return idx_half\n",
    "        # Recurrent call: the value might be in the second half\n",
    "        elif val > vec[idx_half]:\n",
    "            return search_binary(vec, val, idx_half + 1, idx_end)    \n",
    "        # Recurrent call: the value might be in the first half\n",
    "        else:  \n",
    "            return search_binary(vec, val, idx_start, idx_half - 1)    "
   ]
  },
  {
   "cell_type": "markdown",
   "id": "ebf01c6e-6dee-4c95-9bfb-acdc03c577c1",
   "metadata": {},
   "source": [
    "Tests ``search_binary()``."
   ]
  },
  {
   "cell_type": "code",
   "execution_count": 5,
   "id": "c3e98d90-f7c0-4d41-9cf9-33c1ddafef74",
   "metadata": {},
   "outputs": [
    {
     "name": "stdout",
     "output_type": "stream",
     "text": [
      "Vector: [30 32 34 36 38 40 42 44 46 48] of length 10\n",
      "The value 1 can be found at index -1\n",
      "The value 29 can be found at index -1\n",
      "The value 30 can be found at index 0\n",
      "The value 31 can be found at index -1\n",
      "The value 32 can be found at index 1\n",
      "The value 33 can be found at index -1\n",
      "The value 34 can be found at index 2\n",
      "The value 47 can be found at index -1\n",
      "The value 48 can be found at index 9\n",
      "The value 49 can be found at index -1\n",
      "The value 52 can be found at index -1\n",
      "The value 100 can be found at index -1\n"
     ]
    }
   ],
   "source": [
    "print(\"Vector: {} of length {}\".format(vec, n))\n",
    "vals = [1, 29, 30, 31, 32, 33, 34, 47, 48, 49, 52, 100]\n",
    "for val in vals:\n",
    "    idx = search_binary(vec, val, 0, len(vec)-1)\n",
    "    print(\"The value {} can be found at index {}\".format(val, idx))"
   ]
  },
  {
   "cell_type": "markdown",
   "id": "c0644214-3cbc-431f-af6a-b85dd83f7b4c",
   "metadata": {},
   "source": [
    "However, the function definition provided above can be simplified. In particular, the two termination conditions that regard the case when a value is not present in the vector can be defined by  ``idx_start > idx_end`. This is plausible because:\n",
    "- each recursive call makes ``idx_start`` increase by some quantity. From the code: ``idx_start = idx_half + 1``\n",
    "- alternatively, each recursive call makes ``idx_end`` decrease by some quantity. From the code: ``idx_end = idx_half - 1``\n",
    "- in this sense, the search can be stopped when any of the indices representing smaller instances of the vector $vec$ assume invalid quantities: either the starting index is increased until it is larger than the ending index, either the ending index is decreased until it gets smaller than the starting index.\n",
    "- in any *invalid* case, this would mean that the vector $vec$ does not contain $val$: **the algorithm has exhausted smaller instances of the vector $vec$**"
   ]
  },
  {
   "cell_type": "code",
   "execution_count": 6,
   "id": "78a8686d-5c4d-47ca-8448-36c1f6ea25ca",
   "metadata": {},
   "outputs": [],
   "source": [
    "def search_binary(vec, val, idx_start, idx_end):\n",
    "    if idx_start > idx_end:\n",
    "        return - 1\n",
    "    else:        \n",
    "        idx_half = (idx_start + idx_end) // 2            \n",
    "        if val==vec[idx_half]:\n",
    "            return idx_half\n",
    "        elif val > vec[idx_half]:\n",
    "            return search_binary(vec, val, idx_start = idx_half + 1, idx_end = idx_end)    \n",
    "        else:  \n",
    "            return search_binary(vec, val, idx_start = idx_start, idx_end = idx_half - 1)    "
   ]
  },
  {
   "cell_type": "markdown",
   "id": "120db720-c353-4fa1-b433-8efcf59c6bf5",
   "metadata": {},
   "source": [
    "Tests ``search_binary()``."
   ]
  },
  {
   "cell_type": "code",
   "execution_count": 7,
   "id": "de2637a1-3663-4a04-b2fd-eca7ab0fed10",
   "metadata": {},
   "outputs": [
    {
     "name": "stdout",
     "output_type": "stream",
     "text": [
      "Vector: [30 32 34 36 38 40 42 44 46 48] of length 10\n",
      "The user-specified value 0 can be found at index -1\n",
      "The user-specified value 1 can be found at index -1\n",
      "The user-specified value 29 can be found at index -1\n",
      "The user-specified value 30 can be found at index 0\n",
      "The user-specified value 31 can be found at index -1\n",
      "The user-specified value 34 can be found at index 2\n",
      "The user-specified value 42 can be found at index 6\n",
      "The user-specified value 48 can be found at index 9\n",
      "The user-specified value 49 can be found at index -1\n",
      "The user-specified value 100 can be found at index -1\n"
     ]
    }
   ],
   "source": [
    "print(\"Vector: {} of length {}\".format(vec, n))\n",
    "vals = [0, 1, 29, 30, 31, 34, 42, 48, 49, 100]\n",
    "for val in vals:\n",
    "    idx = search_binary(vec, val, 0, len(vec)-1)\n",
    "    print(\"The user-specified value {} can be found at index {}\".format(val, idx))"
   ]
  },
  {
   "cell_type": "markdown",
   "id": "e5f4d16b-edf8-4ade-83bd-aa874b4e1210",
   "metadata": {
    "tags": []
   },
   "source": [
    "## 1.3. Binary search without recursion"
   ]
  },
  {
   "cell_type": "markdown",
   "id": "19406ab6-aeac-4b1a-8c21-398f6484acb1",
   "metadata": {
    "tags": []
   },
   "source": [
    "## 2. The ``timeit`` module\n",
    "Assess the runtime of both algorithms using the ``timeit`` module."
   ]
  }
 ],
 "metadata": {
  "kernelspec": {
   "display_name": "Python 3 (ipykernel)",
   "language": "python",
   "name": "python3"
  },
  "language_info": {
   "codemirror_mode": {
    "name": "ipython",
    "version": 3
   },
   "file_extension": ".py",
   "mimetype": "text/x-python",
   "name": "python",
   "nbconvert_exporter": "python",
   "pygments_lexer": "ipython3",
   "version": "3.12.0"
  }
 },
 "nbformat": 4,
 "nbformat_minor": 5
}
