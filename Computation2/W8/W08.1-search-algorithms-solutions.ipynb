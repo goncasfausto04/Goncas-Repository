{
 "cells": [
  {
   "cell_type": "markdown",
   "id": "0acd764a-e830-487c-a0a7-36092a4a5e22",
   "metadata": {},
   "source": [
    "# **Computation II: Algorithms & Data Structures** <br/>\n",
    "**Bachelor's Degree Programs in Data Science and Information Systems**<br/>\n",
    "**NOVA IMS**<br/>\n",
    "\n",
    "## Week 8: Searching Algorithms & Exercises"
   ]
  },
  {
   "cell_type": "markdown",
   "id": "06a7543f-2837-4027-b690-c1eec671a3ee",
   "metadata": {},
   "source": [
    "# Search"
   ]
  },
  {
   "cell_type": "code",
   "execution_count": 1,
   "id": "a0ca44e8-7512-4e53-b920-60fe0e03ab2c",
   "metadata": {},
   "outputs": [],
   "source": [
    "my_list = [0, 1, 1, 2, 3, 5, 8, 13, 21, 34, 55, 89, 144, 233, 377, 610]"
   ]
  },
  {
   "cell_type": "markdown",
   "id": "cec2aa96-7935-4aa4-b845-20d7c5ef168b",
   "metadata": {},
   "source": [
    "Let's write the code to search the number 55 using the steps below:"
   ]
  },
  {
   "cell_type": "markdown",
   "id": "adbe9c82-29ea-4abe-a328-3bfbfed0bb73",
   "metadata": {},
   "source": [
    "Start with index 0. 0 is smaller than 55, \n",
    "\n",
    "Go to index 4. \n",
    "\n",
    "3 is still smaller than 55,\n",
    "\n",
    "Go to index 8.\n",
    "\n",
    "21 is still smaller than 55,\n",
    "\n",
    "Go to index 12. \n",
    "\n",
    "144 is greater. \n",
    "\n",
    "Do a linear search between 34 and 89."
   ]
  },
  {
   "cell_type": "code",
   "execution_count": 2,
   "id": "45bc5855-ec36-422e-80fd-864d2e090818",
   "metadata": {},
   "outputs": [
    {
     "data": {
      "text/plain": [
       "10"
      ]
     },
     "execution_count": 2,
     "metadata": {},
     "output_type": "execute_result"
    }
   ],
   "source": [
    "my_list = [0, 1, 1, 2, 3, 5, 8, 13, 21, 34, 55, 89, 144, 233, 377, 610]\n",
    "\n",
    "def jump_search(my_list,number):\n",
    "    step = int(len(my_list)**0.5)\n",
    "    i = 0\n",
    "    \n",
    "    # just in case we are looking for the first number\n",
    "    if my_list[i] == number:\n",
    "        return i\n",
    "    \n",
    "    # jumping\n",
    "    while my_list[i] < number:\n",
    "        i += step\n",
    "        \n",
    "        # to avoid jumping out of index\n",
    "        if i > len(my_list)-1:\n",
    "            i = len(my_list)-1\n",
    "            # if the number is greater than the max number in the list and doesn't exist\n",
    "            break\n",
    "        \n",
    "    # linear/sequential search    \n",
    "    for index in range(i-step+1,i+1):\n",
    "        if my_list[index]==number:\n",
    "            return index\n",
    "        \n",
    "    return -1\n",
    "        \n",
    "jump_search(my_list,55)"
   ]
  },
  {
   "cell_type": "markdown",
   "id": "b7e11db4-37fb-4a9c-8ff8-86411f83a71c",
   "metadata": {},
   "source": [
    "What do you think about its time complexity?"
   ]
  },
  {
   "cell_type": "markdown",
   "id": "32880f5f-37ef-4fc1-9f65-4707df1ed05f",
   "metadata": {},
   "source": [
    "O(sqrt(N))"
   ]
  },
  {
   "cell_type": "markdown",
   "id": "587e2254-0596-4de2-97b7-42432141dac1",
   "metadata": {},
   "source": [
    "# Exercise"
   ]
  },
  {
   "cell_type": "markdown",
   "id": "09b61b39-5f90-4eda-a3d5-90e3f605da8d",
   "metadata": {},
   "source": [
    "Given an array V of N elements, calculate:"
   ]
  },
  {
   "cell_type": "markdown",
   "id": "21fe45bb-09d6-4fcc-a7dd-06f163826664",
   "metadata": {},
   "source": [
    "$$\n",
    "  12 * (\\sum_{i=0}^{N-1} v[i])^2 + 6*(\\sum_{i=0}^{N-1} v[i]) + 5\n",
    "$$"
   ]
  },
  {
   "cell_type": "code",
   "execution_count": 3,
   "id": "5486d916-2524-4629-837f-d5f80f5b8455",
   "metadata": {},
   "outputs": [
    {
     "name": "stdout",
     "output_type": "stream",
     "text": [
      "1265\n"
     ]
    }
   ],
   "source": [
    "v = [1,2,3,4]\n",
    "my_sum = 0\n",
    "for i in range(0,len(v)):\n",
    "    my_sum += v[i]\n",
    "print(12*my_sum*my_sum+6*my_sum+5)"
   ]
  },
  {
   "cell_type": "markdown",
   "id": "4db457ae-5f36-4a66-ab04-73ac22af3212",
   "metadata": {},
   "source": [
    "What do you think about its time complexity?"
   ]
  },
  {
   "cell_type": "markdown",
   "id": "61b890e4-06e7-458b-9e5d-17d55663cc66",
   "metadata": {},
   "source": [
    "O(N)"
   ]
  },
  {
   "cell_type": "markdown",
   "id": "134535c7-fdba-47a8-85a0-c554d8c69403",
   "metadata": {},
   "source": [
    "# Exercise"
   ]
  },
  {
   "cell_type": "markdown",
   "id": "ee7fef4c-ace4-43ec-9849-40bfe87025ca",
   "metadata": {},
   "source": [
    "Given a positive integer number N that is a power of 2, \n",
    "\n",
    "calculate the sum of all the powers of 2 that are <= N. \n",
    "\n",
    "For instance, if N = 64, calculate:\n",
    "    \n",
    "2+4+8+16+32+64"
   ]
  },
  {
   "cell_type": "code",
   "execution_count": 4,
   "id": "9c4085a7-8f8f-4ef5-8494-e1239243ce31",
   "metadata": {},
   "outputs": [
    {
     "name": "stdout",
     "output_type": "stream",
     "text": [
      "126\n"
     ]
    }
   ],
   "source": [
    "N = 64\n",
    "exponent = 1 \n",
    "sum_ = 0 \n",
    "while 2**exponent <= N:\n",
    "    sum_ += 2**exponent\n",
    "    exponent += 1\n",
    "print(sum_)"
   ]
  },
  {
   "cell_type": "markdown",
   "id": "c5c7aa73-47f2-40b0-9b48-34ba4e99c9f4",
   "metadata": {},
   "source": [
    "What do you think about its time complexity?"
   ]
  },
  {
   "cell_type": "markdown",
   "id": "0c621073-9a46-4e22-ae6f-37ce0ef7960e",
   "metadata": {},
   "source": [
    "O(logN)"
   ]
  },
  {
   "cell_type": "markdown",
   "id": "848729d5-c551-4c7e-a57d-15c31b258344",
   "metadata": {},
   "source": [
    "# Exercise"
   ]
  },
  {
   "cell_type": "markdown",
   "id": "6130675c-5c38-4711-b8a8-f35d28532d74",
   "metadata": {},
   "source": [
    "Given a square matix N of dimension N x N, return True if it is upper triangular and False otherwise.\n",
    "\n",
    "For a matrix to be upper triangular, all elements below the main diagonal must be 0."
   ]
  },
  {
   "cell_type": "code",
   "execution_count": 5,
   "id": "f7a58745-be68-421c-8322-71d58736aa3b",
   "metadata": {},
   "outputs": [],
   "source": [
    "N = [[1,5,7,2,3],[0,6,1,4,8],[0,0,3,9,6],[0,0,0,2,4],[0,0,0,0,7]]"
   ]
  },
  {
   "cell_type": "code",
   "execution_count": null,
   "id": "37b1daad-9a64-4635-9444-beb12827bc74",
   "metadata": {},
   "outputs": [],
   "source": []
  },
  {
   "cell_type": "markdown",
   "id": "01daa70d-2eec-4bef-97a6-6bceed52af9f",
   "metadata": {},
   "source": [
    "What do you think about its time complexity?"
   ]
  },
  {
   "cell_type": "code",
   "execution_count": null,
   "id": "6c4fcce0-5f18-4480-a6b8-64e9c7fd273e",
   "metadata": {},
   "outputs": [],
   "source": []
  }
 ],
 "metadata": {
  "kernelspec": {
   "display_name": "Python 3 (ipykernel)",
   "language": "python",
   "name": "python3"
  },
  "language_info": {
   "codemirror_mode": {
    "name": "ipython",
    "version": 3
   },
   "file_extension": ".py",
   "mimetype": "text/x-python",
   "name": "python",
   "nbconvert_exporter": "python",
   "pygments_lexer": "ipython3",
   "version": "3.12.0"
  }
 },
 "nbformat": 4,
 "nbformat_minor": 5
}
