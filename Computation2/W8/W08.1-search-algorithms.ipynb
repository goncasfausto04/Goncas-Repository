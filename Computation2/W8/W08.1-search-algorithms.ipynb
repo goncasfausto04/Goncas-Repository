{
 "cells": [
  {
   "cell_type": "markdown",
   "id": "0acd764a-e830-487c-a0a7-36092a4a5e22",
   "metadata": {},
   "source": [
    "# **Computation II: Algorithms & Data Structures** <br/>\n",
    "**Bachelor's Degree Programs in Data Science and Information Systems**<br/>\n",
    "**NOVA IMS**<br/>\n",
    "\n",
    "## Week 8: Searching Algorithms & Exercises"
   ]
  },
  {
   "cell_type": "markdown",
   "id": "06a7543f-2837-4027-b690-c1eec671a3ee",
   "metadata": {},
   "source": [
    "# Search"
   ]
  },
  {
   "cell_type": "code",
   "id": "a0ca44e8-7512-4e53-b920-60fe0e03ab2c",
   "metadata": {
    "ExecuteTime": {
     "end_time": "2024-04-19T08:22:40.613651Z",
     "start_time": "2024-04-19T08:22:40.606445Z"
    }
   },
   "source": [
    "import numpy as np\n",
    "\n",
    "my_list = [0, 1, 1, 2, 3, 5, 8, 13, 21, 34, 55, 89, 144, 233, 377, 610]"
   ],
   "outputs": [],
   "execution_count": 137
  },
  {
   "cell_type": "markdown",
   "id": "cec2aa96-7935-4aa4-b845-20d7c5ef168b",
   "metadata": {},
   "source": [
    "Let's write the code to search the number 55 using the steps below:"
   ]
  },
  {
   "cell_type": "markdown",
   "id": "adbe9c82-29ea-4abe-a328-3bfbfed0bb73",
   "metadata": {},
   "source": [
    "Start with index 0. 0 is smaller than 55, \n",
    "\n",
    "Go to index 4. \n",
    "\n",
    "3 is still smaller than 55,\n",
    "\n",
    "Go to index 8.\n",
    "\n",
    "21 is still smaller than 55,\n",
    "\n",
    "Go to index 12. \n",
    "\n",
    "144 is greater. \n",
    "\n",
    "Do a linear search between 34 and 89."
   ]
  },
  {
   "cell_type": "code",
   "id": "94dc2cad-e8c9-4e4c-8967-b05048833dde",
   "metadata": {
    "ExecuteTime": {
     "end_time": "2024-04-19T08:22:41.210337Z",
     "start_time": "2024-04-19T08:22:41.200439Z"
    }
   },
   "source": [
    "#step será a raiz quadrada do len, neste caso 4\n",
    "#raiz de n é a complexidade\n",
    "\n",
    "def jump_search(seq, value):\n",
    "    step = int(len(seq)**0.5)\n",
    "    i = 0\n",
    "    #jumping through the sequence\n",
    "    while i < len(seq) and seq[i] <= value:\n",
    "        if seq[i] == value:\n",
    "            return i\n",
    "        else:\n",
    "            i += step\n",
    "    \n",
    "    if i > len(seq)-1:\n",
    "        i = len(seq)\n",
    "    \n",
    "    #linear search\n",
    "    for i in range(i-step+1, i):\n",
    "        if seq[i] == value:\n",
    "            return i\n",
    "    return -1\n"
   ],
   "outputs": [],
   "execution_count": 138
  },
  {
   "cell_type": "code",
   "id": "fb325b6c-6a3a-40b3-aabf-a9a4ceeef824",
   "metadata": {
    "ExecuteTime": {
     "end_time": "2024-04-19T08:22:41.416090Z",
     "start_time": "2024-04-19T08:22:41.404656Z"
    }
   },
   "source": "print(jump_search(my_list,54))",
   "outputs": [
    {
     "name": "stdout",
     "output_type": "stream",
     "text": [
      "-1\n"
     ]
    }
   ],
   "execution_count": 139
  },
  {
   "cell_type": "markdown",
   "id": "b7e11db4-37fb-4a9c-8ff8-86411f83a71c",
   "metadata": {},
   "source": [
    "What do you think about its time complexity?"
   ]
  },
  {
   "cell_type": "code",
   "id": "e0cfc212-a8b1-4a3e-93ad-aba8556b7c1e",
   "metadata": {
    "ExecuteTime": {
     "end_time": "2024-04-19T08:22:41.716699Z",
     "start_time": "2024-04-19T08:22:41.707332Z"
    }
   },
   "source": "#square root of n",
   "outputs": [],
   "execution_count": 140
  },
  {
   "cell_type": "markdown",
   "id": "587e2254-0596-4de2-97b7-42432141dac1",
   "metadata": {},
   "source": [
    "# Exercise"
   ]
  },
  {
   "cell_type": "markdown",
   "id": "09b61b39-5f90-4eda-a3d5-90e3f605da8d",
   "metadata": {},
   "source": [
    "Given an array V of N elements, calculate:"
   ]
  },
  {
   "cell_type": "markdown",
   "id": "21fe45bb-09d6-4fcc-a7dd-06f163826664",
   "metadata": {},
   "source": [
    "$$\n",
    "  12 * (\\sum_{i=0}^{n-1} v[i])^2 + 6*(\\sum_{i=0}^{n-1} v[i]) + 5\n",
    "$$"
   ]
  },
  {
   "cell_type": "code",
   "id": "3e910687-7193-4bd0-af67-53ae4595cae5",
   "metadata": {
    "ExecuteTime": {
     "end_time": "2024-04-19T08:33:41.076947Z",
     "start_time": "2024-04-19T08:33:41.066126Z"
    }
   },
   "source": [
    "list = [1,2,3,4,5]\n",
    "soma = sum(list)\n",
    "\n",
    "12*(soma**2) + 6*soma + 5"
   ],
   "outputs": [
    {
     "data": {
      "text/plain": [
       "2795"
      ]
     },
     "execution_count": 148,
     "metadata": {},
     "output_type": "execute_result"
    }
   ],
   "execution_count": 148
  },
  {
   "cell_type": "markdown",
   "id": "4db457ae-5f36-4a66-ab04-73ac22af3212",
   "metadata": {},
   "source": [
    "What do you think about its time complexity?"
   ]
  },
  {
   "cell_type": "code",
   "id": "c8064f87-5e6c-4068-a9ad-cd0ab80810b5",
   "metadata": {
    "ExecuteTime": {
     "end_time": "2024-04-19T08:22:42.775948Z",
     "start_time": "2024-04-19T08:22:42.766547Z"
    }
   },
   "source": [],
   "outputs": [],
   "execution_count": 140
  },
  {
   "cell_type": "code",
   "id": "8b530bb9-8127-423c-a9e8-49c14651578b",
   "metadata": {
    "ExecuteTime": {
     "end_time": "2024-04-19T08:22:42.973118Z",
     "start_time": "2024-04-19T08:22:42.961962Z"
    }
   },
   "source": [],
   "outputs": [],
   "execution_count": 140
  },
  {
   "cell_type": "markdown",
   "id": "134535c7-fdba-47a8-85a0-c554d8c69403",
   "metadata": {},
   "source": [
    "# Exercise"
   ]
  },
  {
   "cell_type": "markdown",
   "id": "ee7fef4c-ace4-43ec-9849-40bfe87025ca",
   "metadata": {},
   "source": [
    "Given a positive integer number N that is a power of 2, calculate the sum of all the powers of 2 that are <= N. \n",
    "\n",
    "For instance, if N = 64, calculate:\n",
    "    \n",
    "2+4+8+16+32+64"
   ]
  },
  {
   "cell_type": "code",
   "id": "9c4085a7-8f8f-4ef5-8494-e1239243ce31",
   "metadata": {
    "ExecuteTime": {
     "end_time": "2024-04-19T08:22:43.565389Z",
     "start_time": "2024-04-19T08:22:43.561490Z"
    }
   },
   "source": [],
   "outputs": [],
   "execution_count": 140
  },
  {
   "cell_type": "markdown",
   "id": "c5c7aa73-47f2-40b0-9b48-34ba4e99c9f4",
   "metadata": {},
   "source": [
    "What do you think about its time complexity?"
   ]
  },
  {
   "cell_type": "code",
   "id": "c75ede64-7d83-452e-bc96-792ee77432c7",
   "metadata": {
    "ExecuteTime": {
     "end_time": "2024-04-19T08:22:43.908884Z",
     "start_time": "2024-04-19T08:22:43.903933Z"
    }
   },
   "source": "#log n",
   "outputs": [],
   "execution_count": 140
  },
  {
   "cell_type": "markdown",
   "id": "848729d5-c551-4c7e-a57d-15c31b258344",
   "metadata": {},
   "source": [
    "# Exercise"
   ]
  },
  {
   "cell_type": "code",
   "id": "f7a58745-be68-421c-8322-71d58736aa3b",
   "metadata": {
    "ExecuteTime": {
     "end_time": "2024-04-19T08:40:11.823925Z",
     "start_time": "2024-04-19T08:40:11.816336Z"
    }
   },
   "source": [
    "N = [[1,5,7,2,3],[0,6,1,4,8],[0,0,3,9,6],[0,0,0,2,4],[0,0,0,0,7]]"
   ],
   "outputs": [],
   "execution_count": 151
  },
  {
   "cell_type": "code",
   "id": "37b1daad-9a64-4635-9444-beb12827bc74",
   "metadata": {
    "ExecuteTime": {
     "end_time": "2024-04-19T08:40:11.955117Z",
     "start_time": "2024-04-19T08:40:11.943114Z"
    }
   },
   "source": [
    "def sum_all_values(matrix):\n",
    "    soma = 0\n",
    "    for row in matrix:\n",
    "        for value in row:\n",
    "            soma += value\n",
    "    return soma     \n",
    "\n",
    "sum_all_values(N)\n",
    "            "
   ],
   "outputs": [
    {
     "data": {
      "text/plain": [
       "68"
      ]
     },
     "execution_count": 152,
     "metadata": {},
     "output_type": "execute_result"
    }
   ],
   "execution_count": 152
  },
  {
   "metadata": {},
   "cell_type": "markdown",
   "source": "What do you think about its time complexity?",
   "id": "01daa70d-2eec-4bef-97a6-6bceed52af9f"
  },
  {
   "metadata": {},
   "cell_type": "code",
   "outputs": [],
   "execution_count": null,
   "source": "#nm",
   "id": "a76c8f0ed88624bf"
  },
  {
   "metadata": {},
   "cell_type": "markdown",
   "source": [
    "Given a square matix N of dimension N x N, return True if it is upper triangular and False otherwise.\n",
    "\n",
    "For a matrix to be upper triangular, all elements below the main diagonal must be 0."
   ],
   "id": "6130675c-5c38-4711-b8a8-f35d28532d74"
  },
  {
   "metadata": {},
   "cell_type": "markdown",
   "source": "# Exercise",
   "id": "ac3937af31f1388e"
  },
  {
   "metadata": {
    "ExecuteTime": {
     "end_time": "2024-04-19T08:45:25.138500Z",
     "start_time": "2024-04-19T08:45:25.125490Z"
    }
   },
   "cell_type": "code",
   "source": [
    "import numpy as np\n",
    "\n",
    "N = [[1,5,7,2,3],[0,6,1,4,8],[0,0,3,9,6],[0,0,0,2,4],[0,0,0,0,7]]\n",
    "\n",
    "np.matrix(N)"
   ],
   "id": "edc7dd1b645f0ac4",
   "outputs": [
    {
     "data": {
      "text/plain": [
       "matrix([[1, 5, 7, 2, 3],\n",
       "        [0, 6, 1, 4, 8],\n",
       "        [0, 0, 3, 9, 6],\n",
       "        [0, 0, 0, 2, 4],\n",
       "        [0, 0, 0, 0, 7]])"
      ]
     },
     "execution_count": 173,
     "metadata": {},
     "output_type": "execute_result"
    }
   ],
   "execution_count": 173
  },
  {
   "metadata": {
    "ExecuteTime": {
     "end_time": "2024-04-19T08:45:20.936080Z",
     "start_time": "2024-04-19T08:45:20.922232Z"
    }
   },
   "cell_type": "code",
   "source": [
    "def is_upper_triangular(matrix):\n",
    "    for i in range(len(matrix)):\n",
    "        for j in range(i):\n",
    "            if matrix[i][j] != 0:\n",
    "                return False\n",
    "    return True\n",
    "\n",
    "is_upper_triangular(N)"
   ],
   "id": "923dd28394b64c72",
   "outputs": [
    {
     "data": {
      "text/plain": [
       "False"
      ]
     },
     "execution_count": 172,
     "metadata": {},
     "output_type": "execute_result"
    }
   ],
   "execution_count": 172
  },
  {
   "metadata": {},
   "cell_type": "code",
   "outputs": [],
   "execution_count": null,
   "source": "#n^2",
   "id": "ccc96ac91af5fc28"
  }
 ],
 "metadata": {
  "kernelspec": {
   "display_name": "Python 3 (ipykernel)",
   "language": "python",
   "name": "python3"
  },
  "language_info": {
   "codemirror_mode": {
    "name": "ipython",
    "version": 3
   },
   "file_extension": ".py",
   "mimetype": "text/x-python",
   "name": "python",
   "nbconvert_exporter": "python",
   "pygments_lexer": "ipython3",
   "version": "3.12.0"
  }
 },
 "nbformat": 4,
 "nbformat_minor": 5
}
