{
 "cells": [
  {
   "cell_type": "markdown",
   "id": "2a6ae99c-94a0-4c44-8716-579ffb05a958",
   "metadata": {},
   "source": [
    "# **Computation II: Algorithms & Data Structures** <br/>\n",
    "**Bachelor's Degree Programs in Data Science and Information Systems**<br/>\n",
    "**NOVA IMS**<br/>\n",
    "\n",
    "## Week 9: Exercises"
   ]
  },
  {
   "cell_type": "markdown",
   "id": "7e27bb5c-33ad-4306-a90c-0bcbbdad6f6b",
   "metadata": {},
   "source": [
    "### Exercise: Write an algorithm that calculates the variance of the elements of an array and estimate its computational complexity using the Big O notation.\n"
   ]
  },
  {
   "cell_type": "code",
   "execution_count": 1,
   "id": "f1adf21e-f9c1-4590-b48b-d6cf71e2169f",
   "metadata": {},
   "outputs": [
    {
     "data": {
      "text/plain": [
       "1.0"
      ]
     },
     "execution_count": 1,
     "metadata": {},
     "output_type": "execute_result"
    }
   ],
   "source": [
    "v = [1,2,3]\n",
    "average = 0\n",
    "for element in v:\n",
    "    average += element\n",
    "average = average/len(v)\n",
    "variance = 0\n",
    "for element in v:\n",
    "    variance += (element-average)**2\n",
    "variance = variance/(len(v)-1)\n",
    "variance"
   ]
  },
  {
   "cell_type": "markdown",
   "id": "0380af2f-f21d-4382-809d-f7a687942c84",
   "metadata": {},
   "source": [
    "O(N)"
   ]
  },
  {
   "cell_type": "markdown",
   "id": "07f32c7b-26d3-410f-b1c6-aa9be70554c2",
   "metadata": {},
   "source": [
    "### Exercise: Write an algorithm that calculates the binary representation of an integer positive number and estimate its computational complexity using the Big O notation.\n"
   ]
  },
  {
   "cell_type": "code",
   "execution_count": 2,
   "id": "4e4c4928-0f54-487b-a9b9-f58e8f6c80a2",
   "metadata": {},
   "outputs": [
    {
     "data": {
      "text/plain": [
       "'101'"
      ]
     },
     "execution_count": 2,
     "metadata": {},
     "output_type": "execute_result"
    }
   ],
   "source": [
    "def int_to_bin(n):\n",
    "    \n",
    "    binary = \"\"\n",
    "    while n>0:\n",
    "        remainder = n%2\n",
    "        binary = str(remainder) + binary\n",
    "        n = n//2\n",
    "    return binary\n",
    "\n",
    "int_to_bin(5)"
   ]
  },
  {
   "cell_type": "markdown",
   "id": "85e54cd5-8e86-4b18-9b84-fd29747e26c3",
   "metadata": {},
   "source": [
    "O(logN)"
   ]
  },
  {
   "cell_type": "markdown",
   "id": "70b32a2d-8aa3-491a-a9e8-4d76358d19fd",
   "metadata": {},
   "source": [
    "### Exercise: Write an algorithm that calculates the multiplication of two matrices n x n  and estimate its computational complexity using the Big O notation.\n"
   ]
  },
  {
   "cell_type": "code",
   "execution_count": 3,
   "id": "51401eb4-c97a-454b-8a92-7423d5cf3458",
   "metadata": {},
   "outputs": [
    {
     "data": {
      "text/plain": [
       "[[58, 64], [139, 154]]"
      ]
     },
     "execution_count": 3,
     "metadata": {},
     "output_type": "execute_result"
    }
   ],
   "source": [
    "A = [[1,2,3],[4,5,6]]\n",
    "B = [[7,8],[9,10],[11,12]]\n",
    "C = [[0 for i in range(len(B[0]))] for j in range(len(A))]\n",
    "\n",
    "# iterate rows of A\n",
    "for i in range(len(A)):\n",
    "    #iterate columns of B\n",
    "    for j in range(len(B[0])):\n",
    "        # iterate rows of B\n",
    "        for k in range(len(B)):\n",
    "            C[i][j] += A[i][k]*B[k][j]\n",
    "C"
   ]
  },
  {
   "cell_type": "markdown",
   "id": "34d72e4e-4163-41cf-a5d1-febc95bc9afb",
   "metadata": {},
   "source": [
    "O(N^3)"
   ]
  }
 ],
 "metadata": {
  "kernelspec": {
   "display_name": "Python 3 (ipykernel)",
   "language": "python",
   "name": "python3"
  },
  "language_info": {
   "codemirror_mode": {
    "name": "ipython",
    "version": 3
   },
   "file_extension": ".py",
   "mimetype": "text/x-python",
   "name": "python",
   "nbconvert_exporter": "python",
   "pygments_lexer": "ipython3",
   "version": "3.12.0"
  }
 },
 "nbformat": 4,
 "nbformat_minor": 5
}
