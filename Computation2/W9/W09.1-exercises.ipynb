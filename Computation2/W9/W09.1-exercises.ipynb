{
 "cells": [
  {
   "cell_type": "markdown",
   "id": "2a6ae99c-94a0-4c44-8716-579ffb05a958",
   "metadata": {},
   "source": [
    "# **Computation II: Algorithms & Data Structures** <br/>\n",
    "**Bachelor's Degree Programs in Data Science and Information Systems**<br/>\n",
    "**NOVA IMS**<br/>\n",
    "\n",
    "## Week 9: Exercises"
   ]
  },
  {
   "cell_type": "markdown",
   "id": "7e27bb5c-33ad-4306-a90c-0bcbbdad6f6b",
   "metadata": {},
   "source": [
    "### Exercise: Write an algorithm that calculates the variance of the elements of an array and estimate its computational complexity using the Big O notation.\n"
   ]
  },
  {
   "metadata": {
    "ExecuteTime": {
     "end_time": "2024-04-24T10:51:34.839059Z",
     "start_time": "2024-04-24T10:51:34.830837Z"
    }
   },
   "cell_type": "code",
   "source": "lista = [1,3,5,10,15,20,35]",
   "id": "58c93e148efd5e41",
   "outputs": [],
   "execution_count": 29
  },
  {
   "cell_type": "code",
   "id": "b14a7a96-dbac-4a7e-9368-7c5e08ab45e2",
   "metadata": {
    "ExecuteTime": {
     "end_time": "2024-04-24T11:12:35.367512Z",
     "start_time": "2024-04-24T11:12:34.839966Z"
    }
   },
   "source": [
    "import numpy as np\n",
    "\n",
    "def variance1(lst):\n",
    "    n = len(lst)\n",
    "    mean = sum(lst)/n\n",
    "    result = 0\n",
    "    for i in lst:\n",
    "        result += ((i - mean)**2)\n",
    "    result = result/n\n",
    "    return result\n",
    "\n",
    "def variance2(lst):\n",
    "    n = len(lst)\n",
    "    mean = sum(lst)/n\n",
    "    var = sum((i - mean)**2 for i in lst)/n\n",
    "    return var\n",
    "\n",
    "#complexity O(n)\n",
    "\n",
    "np.var(lista)\n",
    "        "
   ],
   "outputs": [
    {
     "data": {
      "text/plain": [
       "121.91836734693877"
      ]
     },
     "execution_count": 38,
     "metadata": {},
     "output_type": "execute_result"
    }
   ],
   "execution_count": 38
  },
  {
   "metadata": {
    "ExecuteTime": {
     "end_time": "2024-04-24T11:12:37.301920Z",
     "start_time": "2024-04-24T11:12:37.294398Z"
    }
   },
   "cell_type": "code",
   "source": [
    "print(variance1(lista))\n",
    "print(variance2(lista))"
   ],
   "id": "42ea1d10d642d12c",
   "outputs": [
    {
     "name": "stdout",
     "output_type": "stream",
     "text": [
      "121.91836734693877\n",
      "121.91836734693877\n"
     ]
    }
   ],
   "execution_count": 39
  },
  {
   "cell_type": "markdown",
   "id": "07f32c7b-26d3-410f-b1c6-aa9be70554c2",
   "metadata": {},
   "source": "### Exercise: Write the algorithm that calculates the binary representation of an integer positive number and estimate its computational complexity using the Big O notation.\n"
  },
  {
   "metadata": {
    "ExecuteTime": {
     "end_time": "2024-04-24T11:28:02.266860Z",
     "start_time": "2024-04-24T11:28:02.255412Z"
    }
   },
   "cell_type": "code",
   "source": [
    "def binary(n):\n",
    "    result = ''\n",
    "    while n>0:\n",
    "        i = n % 2\n",
    "        result = str(i) + result\n",
    "        n //= 2\n",
    "    return result"
   ],
   "id": "52fa20cab696bb0b",
   "outputs": [],
   "execution_count": 40
  },
  {
   "cell_type": "code",
   "id": "4e4c4928-0f54-487b-a9b9-f58e8f6c80a2",
   "metadata": {
    "ExecuteTime": {
     "end_time": "2024-04-24T11:28:05.626477Z",
     "start_time": "2024-04-24T11:28:05.617094Z"
    }
   },
   "source": "binary(3)",
   "outputs": [
    {
     "data": {
      "text/plain": [
       "'11'"
      ]
     },
     "execution_count": 41,
     "metadata": {},
     "output_type": "execute_result"
    }
   ],
   "execution_count": 41
  },
  {
   "cell_type": "code",
   "execution_count": null,
   "id": "f632f0cd-f109-43dd-b088-aadb785086d9",
   "metadata": {},
   "outputs": [],
   "source": ""
  },
  {
   "cell_type": "markdown",
   "id": "70b32a2d-8aa3-491a-a9e8-4d76358d19fd",
   "metadata": {},
   "source": [
    "### Exercise: Write the algorithm that calculates the multiplication of two matrices n x n  and estimate its computational complexity using the Big O notation.\n"
   ]
  },
  {
   "cell_type": "code",
   "id": "51401eb4-c97a-454b-8a92-7423d5cf3458",
   "metadata": {
    "ExecuteTime": {
     "end_time": "2024-04-24T11:42:31.152422Z",
     "start_time": "2024-04-24T11:42:31.132787Z"
    }
   },
   "source": [
    "matrix1 = np.random.randint(0,10,size=(4,2))\n",
    "matrix2 =np.random.randint(0,10,size=(2,2))\n",
    "\n",
    "def dot_product(m1,m2):\n",
    "    result = [[0 for i in range(m2.shape[1])] for j in range(m1.shape[0])]\n",
    "    for i in range(m1.shape[0]):\n",
    "        for j in range(m2.shape[1]):\n",
    "            for val1,val2 in zip(m1[i],m2[:,j]):\n",
    "                result[i][j] += val1*val2\n",
    "    return result\n",
    "dot_product(matrix1,matrix2)"
   ],
   "outputs": [
    {
     "data": {
      "text/plain": [
       "[[9, 72], [11, 27], [8, 45], [14, 54]]"
      ]
     },
     "execution_count": 65,
     "metadata": {},
     "output_type": "execute_result"
    }
   ],
   "execution_count": 65
  },
  {
   "cell_type": "code",
   "id": "8190c530-6ec9-4c23-b0b3-03462966feb8",
   "metadata": {
    "ExecuteTime": {
     "end_time": "2024-04-24T11:42:31.362088Z",
     "start_time": "2024-04-24T11:42:31.350309Z"
    }
   },
   "source": "matrix1 , matrix2",
   "outputs": [
    {
     "data": {
      "text/plain": [
       "(array([[8, 1],\n",
       "        [3, 8],\n",
       "        [5, 3],\n",
       "        [6, 8]]),\n",
       " array([[1, 9],\n",
       "        [1, 0]]))"
      ]
     },
     "execution_count": 66,
     "metadata": {},
     "output_type": "execute_result"
    }
   ],
   "execution_count": 66
  },
  {
   "cell_type": "code",
   "execution_count": null,
   "id": "c9151fcc-b633-4744-b73f-eb1e5deed879",
   "metadata": {},
   "outputs": [],
   "source": []
  }
 ],
 "metadata": {
  "kernelspec": {
   "display_name": "Python 3 (ipykernel)",
   "language": "python",
   "name": "python3"
  },
  "language_info": {
   "codemirror_mode": {
    "name": "ipython",
    "version": 3
   },
   "file_extension": ".py",
   "mimetype": "text/x-python",
   "name": "python",
   "nbconvert_exporter": "python",
   "pygments_lexer": "ipython3",
   "version": "3.12.0"
  }
 },
 "nbformat": 4,
 "nbformat_minor": 5
}
