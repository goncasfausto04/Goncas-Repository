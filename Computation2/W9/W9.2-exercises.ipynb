{
 "cells": [
  {
   "cell_type": "markdown",
   "id": "1372a7a3-32ec-4649-9ea2-591a8a960c7e",
   "metadata": {},
   "source": [
    "# **Computation II: Algorithms & Data Structures** <br/>\n",
    "**Bachelor's Degree Programs in Data Science and Information Systems**<br/>\n",
    "**NOVA IMS**<br/>\n",
    "\n",
    "## Week 9: More Exercises\n",
    "\n",
    "1. Revisit some of the exercises we've done previously and estimate their computational complexities.\n",
    "2. Implement search algorithms and analyze their computational complexity."
   ]
  },
  {
   "cell_type": "markdown",
   "id": "6849543c-d024-4f09-a476-4300e255d7c7",
   "metadata": {},
   "source": [
    "## Multiplication\n",
    "\n",
    "- Create a function that takes a and b as inputs and returns the multiplication of these numbers.\n",
    "\n",
    "You are not allowed to use multiplication operation ( * )."
   ]
  },
  {
   "cell_type": "code",
   "execution_count": null,
   "id": "5e812604-355a-4598-8c53-484667a21736",
   "metadata": {},
   "outputs": [],
   "source": []
  },
  {
   "cell_type": "raw",
   "id": "3f222443-9255-401b-91b7-672075b0ce87",
   "metadata": {},
   "source": [
    "What is the computational complexity of this algorithm?"
   ]
  },
  {
   "cell_type": "markdown",
   "id": "bb4684e1-7671-4821-aaa3-8d55c3cdff31",
   "metadata": {},
   "source": [
    "## Factorial"
   ]
  },
  {
   "cell_type": "markdown",
   "id": "d22b564f-eb43-4a51-8847-10f902e29557",
   "metadata": {},
   "source": [
    "- Define a function that returns the factorial of a given number"
   ]
  },
  {
   "cell_type": "code",
   "execution_count": null,
   "id": "ae0ef3a2-9259-4a8c-a13d-b7361d4d9b47",
   "metadata": {},
   "outputs": [],
   "source": []
  },
  {
   "cell_type": "raw",
   "id": "65684d97-5e51-45a4-8407-f0a2688a5287",
   "metadata": {},
   "source": [
    "What is the computational complexity of this algorithm?"
   ]
  },
  {
   "cell_type": "markdown",
   "id": "ab56d597-5ad3-4929-bb3c-7257bcf8744c",
   "metadata": {},
   "source": [
    "## Linear Search for Unsorted Sequences"
   ]
  },
  {
   "cell_type": "markdown",
   "id": "015fd504-d6f3-4092-b383-2f4a6f25f55b",
   "metadata": {},
   "source": [
    "- Implement the linear search algorithm for **unsorted sequences** and analyze its computational complexity."
   ]
  },
  {
   "cell_type": "code",
   "execution_count": null,
   "id": "35995880-9a7a-4372-a6c2-1a90a89f6c65",
   "metadata": {},
   "outputs": [],
   "source": []
  },
  {
   "cell_type": "raw",
   "id": "2543409e-e07d-4dad-aa2d-a720851f625f",
   "metadata": {},
   "source": [
    "What is the computational complexity of this algorithm?"
   ]
  },
  {
   "cell_type": "markdown",
   "id": "11e50157-fc2f-4f5a-898c-5801e383fcc0",
   "metadata": {},
   "source": [
    "## Linear Search for Sorted Sequences"
   ]
  },
  {
   "cell_type": "markdown",
   "id": "ced059f1-9279-4dda-aa0d-e21cd240156b",
   "metadata": {},
   "source": [
    "- Implement the linear search algorithm for **sorted sequences** and analyze its computational complexity."
   ]
  },
  {
   "cell_type": "code",
   "execution_count": null,
   "id": "4835d671-70c1-4004-b46e-2e361bff2c32",
   "metadata": {},
   "outputs": [],
   "source": []
  },
  {
   "cell_type": "raw",
   "id": "cfafd09f-43d4-445c-a55b-f705c38e155e",
   "metadata": {},
   "source": [
    "What is the computational complexity of this algorithm?"
   ]
  },
  {
   "cell_type": "markdown",
   "id": "ff2da088-0d13-49e0-b5d2-f84c1063cb74",
   "metadata": {},
   "source": [
    "## Binary Search"
   ]
  },
  {
   "cell_type": "markdown",
   "id": "99b3c645-e50a-4730-830b-4dbc0cddabe9",
   "metadata": {},
   "source": [
    "- Implement the binary search algorithm and analyze its computational complexity.\n",
    "- Note that this search algorithm is designed for sorted sequences."
   ]
  },
  {
   "cell_type": "code",
   "execution_count": null,
   "id": "2dad2f26-0a41-43a8-9654-e61814ec58fa",
   "metadata": {},
   "outputs": [],
   "source": []
  },
  {
   "cell_type": "raw",
   "id": "683f38a0-6bde-423e-9bff-3af6c740b35d",
   "metadata": {},
   "source": [
    "What is the computational complexity of this algorithm?"
   ]
  },
  {
   "cell_type": "markdown",
   "id": "eb3aab42-9d0c-4007-af6f-95feb35d8b0b",
   "metadata": {},
   "source": [
    "## Fibonacci"
   ]
  },
  {
   "cell_type": "markdown",
   "id": "40567b3c-d76c-40d2-b1e0-ca5392853cab",
   "metadata": {},
   "source": [
    "- Create a function to return the xth Fibonacci number with a given x with RECURSION."
   ]
  },
  {
   "cell_type": "code",
   "execution_count": null,
   "id": "fb831f6d-460c-403e-8666-1383bb5b41eb",
   "metadata": {},
   "outputs": [],
   "source": []
  },
  {
   "cell_type": "raw",
   "id": "e16b90cd-09de-463e-a48e-33da0ddd7d69",
   "metadata": {},
   "source": [
    "What is the computational complexity of this algorithm?"
   ]
  },
  {
   "cell_type": "markdown",
   "id": "337b9e42-72d2-4320-991e-c31ffbbea7e5",
   "metadata": {},
   "source": [
    "- Implement the function above with an iterative approach. Is this more efficient?"
   ]
  },
  {
   "cell_type": "code",
   "execution_count": null,
   "id": "37d1d8c6-b629-49a6-8a8a-74c6601e6a53",
   "metadata": {},
   "outputs": [],
   "source": []
  },
  {
   "cell_type": "markdown",
   "id": "13a039cb-4160-41c8-a059-29f960fd195e",
   "metadata": {},
   "source": [
    "**Note:** [See explanation here](https://www.baeldung.com/cs/fibonacci-computational-complexity)"
   ]
  }
 ],
 "metadata": {
  "kernelspec": {
   "display_name": "Python 3 (ipykernel)",
   "language": "python",
   "name": "python3"
  },
  "language_info": {
   "codemirror_mode": {
    "name": "ipython",
    "version": 3
   },
   "file_extension": ".py",
   "mimetype": "text/x-python",
   "name": "python",
   "nbconvert_exporter": "python",
   "pygments_lexer": "ipython3",
   "version": "3.12.0"
  }
 },
 "nbformat": 4,
 "nbformat_minor": 5
}
